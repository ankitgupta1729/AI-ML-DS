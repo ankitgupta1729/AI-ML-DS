{
 "cells": [
  {
   "cell_type": "markdown",
   "id": "cf952d14",
   "metadata": {},
   "source": [
    "**Advanced SQL**"
   ]
  },
  {
   "cell_type": "markdown",
   "id": "71ea87dc",
   "metadata": {},
   "source": []
  }
 ],
 "metadata": {
  "language_info": {
   "name": "python"
  }
 },
 "nbformat": 4,
 "nbformat_minor": 5
}
