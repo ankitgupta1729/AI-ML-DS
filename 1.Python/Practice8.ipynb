{
 "cells": [
  {
   "cell_type": "markdown",
   "id": "db68da18",
   "metadata": {},
   "source": [
    "**String Manipulation**"
   ]
  },
  {
   "cell_type": "code",
   "execution_count": 16,
   "id": "6a0485de",
   "metadata": {},
   "outputs": [
    {
     "data": {
      "text/plain": [
       "['ankit ', '   kiio ', '  summi']"
      ]
     },
     "execution_count": 16,
     "metadata": {},
     "output_type": "execute_result"
    }
   ],
   "source": [
    "lst='ankit ,   kiio ,  summi'.split(',')\n",
    "lst"
   ]
  },
  {
   "cell_type": "code",
   "execution_count": 17,
   "id": "8f958f92",
   "metadata": {},
   "outputs": [
    {
     "data": {
      "text/plain": [
       "['ankit', 'kiio', 'summi']"
      ]
     },
     "execution_count": 17,
     "metadata": {},
     "output_type": "execute_result"
    }
   ],
   "source": [
    "lst1=[s.strip() for s  in lst]\n",
    "lst1"
   ]
  },
  {
   "cell_type": "code",
   "execution_count": 18,
   "id": "214847be",
   "metadata": {},
   "outputs": [
    {
     "data": {
      "text/plain": [
       "'ankit@kiio@summi'"
      ]
     },
     "execution_count": 18,
     "metadata": {},
     "output_type": "execute_result"
    }
   ],
   "source": [
    "s=\"@\".join(lst1)\n",
    "s"
   ]
  },
  {
   "cell_type": "code",
   "execution_count": 19,
   "id": "c9942a1c",
   "metadata": {},
   "outputs": [
    {
     "data": {
      "text/plain": [
       "2"
      ]
     },
     "execution_count": 19,
     "metadata": {},
     "output_type": "execute_result"
    }
   ],
   "source": [
    "[1,2,3].index(3)"
   ]
  },
  {
   "cell_type": "code",
   "execution_count": 20,
   "id": "defd648f",
   "metadata": {},
   "outputs": [
    {
     "data": {
      "text/plain": [
       "2"
      ]
     },
     "execution_count": 20,
     "metadata": {},
     "output_type": "execute_result"
    }
   ],
   "source": [
    "\"ankit\".index('k')"
   ]
  },
  {
   "cell_type": "code",
   "execution_count": 21,
   "id": "adba937c",
   "metadata": {},
   "outputs": [
    {
     "data": {
      "text/plain": [
       "5"
      ]
     },
     "execution_count": 21,
     "metadata": {},
     "output_type": "execute_result"
    }
   ],
   "source": [
    "s.find('@')"
   ]
  },
  {
   "cell_type": "code",
   "execution_count": 22,
   "id": "233a4960",
   "metadata": {},
   "outputs": [
    {
     "data": {
      "text/plain": [
       "-1"
      ]
     },
     "execution_count": 22,
     "metadata": {},
     "output_type": "execute_result"
    }
   ],
   "source": [
    "s.find('@@')"
   ]
  },
  {
   "cell_type": "markdown",
   "id": "1e38092e",
   "metadata": {},
   "source": [
    "Note the difference between find and index is that index raises an exception if the string isn’t found (versus returning –1)"
   ]
  },
  {
   "cell_type": "code",
   "execution_count": 23,
   "id": "b1ac95a5",
   "metadata": {},
   "outputs": [
    {
     "data": {
      "text/plain": [
       "2"
      ]
     },
     "execution_count": 23,
     "metadata": {},
     "output_type": "execute_result"
    }
   ],
   "source": [
    "s.count('@')"
   ]
  },
  {
   "cell_type": "code",
   "execution_count": 24,
   "id": "b392c7a2",
   "metadata": {},
   "outputs": [
    {
     "data": {
      "text/plain": [
       "'ankit#kiio#summi'"
      ]
     },
     "execution_count": 24,
     "metadata": {},
     "output_type": "execute_result"
    }
   ],
   "source": [
    "s=s.replace('@','#')\n",
    "s"
   ]
  },
  {
   "cell_type": "markdown",
   "id": "08591e08",
   "metadata": {},
   "source": [
    "**Argument --> Description**     \n",
    "\n",
    "count --> Return the number of non-overlapping occurrences of substring in the string.       \n",
    "\n",
    "endswith --> Returns True if string ends with suffix.      \n",
    "\n",
    "startswith --> Returns True if string starts with prefix.      \n",
    "\n",
    "join --> Use string as delimiter for concatenating a sequence of other strings.     \n",
    "\n",
    "index --> Return position of first character in substring if found in the string; raises ValueError if not found.    \n",
    "\n",
    "find --> Return position of first character of rst occurrence of substring in the string; like index, but returns –1 if not found.       \n",
    "\n",
    "rfind --> Return position of first character of last occurrence of substring in the string; returns –1 if not found.      \n",
    "\n",
    "replace --> Replace occurrences of string with another string.      \n",
    "\n",
    "strip,rstrip,lstrip --> Trim whitespace, including newlines; equivalent to x.strip() (and rstrip, lstrip, respectively) for each element.      \n",
    "\n",
    "split --> Break string into list of substrings using passed delimiter.      \n",
    "\n",
    "lower --> Convert alphabet characters to lowercase.     \n",
    "\n",
    "upper --> Convert alphabet characters to uppercase.      \n",
    "\n",
    "casefold --> Convert characters to lowercase, and convert any region-specific variable character combinations to a common comparable form.        \n",
    "\n",
    "ljust,rjust --> Left justify or right justify, respectively; pad opposite side of string with spaces (or some other fill character) to return a string with a minimum width.     "
   ]
  },
  {
   "cell_type": "code",
   "execution_count": 25,
   "id": "a1d095e1",
   "metadata": {},
   "outputs": [
    {
     "data": {
      "text/plain": [
       "1"
      ]
     },
     "execution_count": 25,
     "metadata": {},
     "output_type": "execute_result"
    }
   ],
   "source": [
    "'ankit'.count('nk')"
   ]
  },
  {
   "cell_type": "code",
   "execution_count": 26,
   "id": "a5f2f7c9",
   "metadata": {},
   "outputs": [
    {
     "data": {
      "text/plain": [
       "3"
      ]
     },
     "execution_count": 26,
     "metadata": {},
     "output_type": "execute_result"
    }
   ],
   "source": [
    "'xyxyxxxyy'.count('xy')"
   ]
  },
  {
   "cell_type": "code",
   "execution_count": 27,
   "id": "58424657",
   "metadata": {},
   "outputs": [
    {
     "data": {
      "text/plain": [
       "'ankit#kiio#summi'"
      ]
     },
     "execution_count": 27,
     "metadata": {},
     "output_type": "execute_result"
    }
   ],
   "source": [
    "s"
   ]
  },
  {
   "cell_type": "code",
   "execution_count": 28,
   "id": "e8e42899",
   "metadata": {},
   "outputs": [
    {
     "data": {
      "text/plain": [
       "True"
      ]
     },
     "execution_count": 28,
     "metadata": {},
     "output_type": "execute_result"
    }
   ],
   "source": [
    "s.endswith('summi')"
   ]
  },
  {
   "cell_type": "code",
   "execution_count": 29,
   "id": "20af2871",
   "metadata": {},
   "outputs": [
    {
     "data": {
      "text/plain": [
       "True"
      ]
     },
     "execution_count": 29,
     "metadata": {},
     "output_type": "execute_result"
    }
   ],
   "source": [
    "s.endswith('mmi')"
   ]
  },
  {
   "cell_type": "code",
   "execution_count": 30,
   "id": "cbf20ace",
   "metadata": {},
   "outputs": [
    {
     "data": {
      "text/plain": [
       "False"
      ]
     },
     "execution_count": 30,
     "metadata": {},
     "output_type": "execute_result"
    }
   ],
   "source": [
    "s.endswith('me')"
   ]
  },
  {
   "cell_type": "code",
   "execution_count": 31,
   "id": "3cd13cec",
   "metadata": {},
   "outputs": [
    {
     "data": {
      "text/plain": [
       "True"
      ]
     },
     "execution_count": 31,
     "metadata": {},
     "output_type": "execute_result"
    }
   ],
   "source": [
    "s.startswith('an')"
   ]
  },
  {
   "cell_type": "code",
   "execution_count": 32,
   "id": "86c580a2",
   "metadata": {},
   "outputs": [
    {
     "data": {
      "text/plain": [
       "False"
      ]
     },
     "execution_count": 32,
     "metadata": {},
     "output_type": "execute_result"
    }
   ],
   "source": [
    "s.startswith('pp')"
   ]
  },
  {
   "cell_type": "code",
   "execution_count": 34,
   "id": "ffaef3fe",
   "metadata": {},
   "outputs": [
    {
     "data": {
      "text/plain": [
       "6"
      ]
     },
     "execution_count": 34,
     "metadata": {},
     "output_type": "execute_result"
    }
   ],
   "source": [
    "s.rfind('k')"
   ]
  },
  {
   "cell_type": "code",
   "execution_count": 35,
   "id": "6548d2eb",
   "metadata": {},
   "outputs": [
    {
     "data": {
      "text/plain": [
       "'    ankit'"
      ]
     },
     "execution_count": 35,
     "metadata": {},
     "output_type": "execute_result"
    }
   ],
   "source": [
    "'    ankit       '.rstrip()"
   ]
  },
  {
   "cell_type": "code",
   "execution_count": 36,
   "id": "94de8e1c",
   "metadata": {},
   "outputs": [
    {
     "data": {
      "text/plain": [
       "'ankit       '"
      ]
     },
     "execution_count": 36,
     "metadata": {},
     "output_type": "execute_result"
    }
   ],
   "source": [
    "'    ankit       '.lstrip()"
   ]
  },
  {
   "cell_type": "code",
   "execution_count": 37,
   "id": "50af75f1",
   "metadata": {},
   "outputs": [
    {
     "data": {
      "text/plain": [
       "'ANKIT'"
      ]
     },
     "execution_count": 37,
     "metadata": {},
     "output_type": "execute_result"
    }
   ],
   "source": [
    "'ankit'.upper()"
   ]
  },
  {
   "cell_type": "code",
   "execution_count": 38,
   "id": "909712e0",
   "metadata": {},
   "outputs": [
    {
     "data": {
      "text/plain": [
       "'ankit'"
      ]
     },
     "execution_count": 38,
     "metadata": {},
     "output_type": "execute_result"
    }
   ],
   "source": [
    "'ANkit'.lower()"
   ]
  },
  {
   "cell_type": "code",
   "execution_count": 39,
   "id": "76c28276",
   "metadata": {},
   "outputs": [
    {
     "data": {
      "text/plain": [
       "' ankit'"
      ]
     },
     "execution_count": 39,
     "metadata": {},
     "output_type": "execute_result"
    }
   ],
   "source": [
    "' AnkIT'.casefold()"
   ]
  },
  {
   "cell_type": "code",
   "execution_count": 40,
   "id": "59ece50e",
   "metadata": {},
   "outputs": [
    {
     "name": "stdout",
     "output_type": "stream",
     "text": [
      "Hello     \n",
      "Hello-----\n",
      "Hello*****\n",
      "Hello...\n"
     ]
    }
   ],
   "source": [
    "# Basic ljust examples\n",
    "text = \"Hello\"\n",
    "print(text.ljust(10))        # 'Hello     ' (spaces added)\n",
    "print(text.ljust(10, '-'))   # 'Hello-----'\n",
    "print(text.ljust(10, '*'))   # 'Hello*****'\n",
    "\n",
    "# With specified fill character\n",
    "print(text.ljust(8, '.'))    # 'Hello...'"
   ]
  },
  {
   "cell_type": "code",
   "execution_count": 41,
   "id": "1b99caf9",
   "metadata": {},
   "outputs": [
    {
     "name": "stdout",
     "output_type": "stream",
     "text": [
      "Hi---\n",
      "---Hi\n",
      "--Hi-\n",
      "000Hi\n"
     ]
    }
   ],
   "source": [
    "text = \"Hi\"\n",
    "\n",
    "# Different padding methods\n",
    "print(text.ljust(5, '-'))   # 'Hi---'\n",
    "print(text.rjust(5, '-'))   # '---Hi'\n",
    "print(text.center(5, '-'))  # '-Hi--'\n",
    "print(text.zfill(5))        # '000Hi' (only zeros, right-aligned)"
   ]
  },
  {
   "cell_type": "markdown",
   "id": "6055ccb0",
   "metadata": {},
   "source": [
    "**Regular Expressions**"
   ]
  },
  {
   "cell_type": "markdown",
   "id": "ab80820d",
   "metadata": {},
   "source": [
    "The re module functions fall into three categories: pattern matching, substitution, and splitting. Naturally these are all related; a regex describes a pattern to locate in the text, which can then be used for many purposes."
   ]
  },
  {
   "cell_type": "markdown",
   "id": "20a7558e",
   "metadata": {},
   "source": [
    "suppose we wanted to split a string with a variable number of whitespace characters (tabs, spaces, and newlines). \n",
    "The regex describing one or more whitespace characters is \\\\\\s+"
   ]
  },
  {
   "cell_type": "code",
   "execution_count": 42,
   "id": "c559e627",
   "metadata": {},
   "outputs": [
    {
     "data": {
      "text/plain": [
       "['ankit', 'summi', 'kiio']"
      ]
     },
     "execution_count": 42,
     "metadata": {},
     "output_type": "execute_result"
    }
   ],
   "source": [
    "import re \n",
    "text=\"ankit\\n summi\\t\\t\\r kiio\"\n",
    "re.split('\\\\s+',text)"
   ]
  },
  {
   "cell_type": "markdown",
   "id": "b34a2414",
   "metadata": {},
   "source": [
    "When you call re.split('\\s+', text), the regular expression is first compiled, and then its split method is called on the passed text.       \n",
    "You can compile the regex yourself with re.compile, forming a reusable regex object"
   ]
  },
  {
   "cell_type": "code",
   "execution_count": 43,
   "id": "2f4b4940",
   "metadata": {},
   "outputs": [
    {
     "data": {
      "text/plain": [
       "['ankit', 'summi', 'kiio']"
      ]
     },
     "execution_count": 43,
     "metadata": {},
     "output_type": "execute_result"
    }
   ],
   "source": [
    "regex=re.compile('\\\\s+')\n",
    "regex.split(text)"
   ]
  },
  {
   "cell_type": "markdown",
   "id": "4e87d40d",
   "metadata": {},
   "source": [
    "If, instead, you wanted to get a list of all patterns matching the regex, you can use the findall method"
   ]
  },
  {
   "cell_type": "code",
   "execution_count": 44,
   "id": "0b435b08",
   "metadata": {},
   "outputs": [
    {
     "data": {
      "text/plain": [
       "['\\n ', '\\t\\t\\r ']"
      ]
     },
     "execution_count": 44,
     "metadata": {},
     "output_type": "execute_result"
    }
   ],
   "source": [
    "regex.findall(text)"
   ]
  },
  {
   "cell_type": "markdown",
   "id": "ad901c22",
   "metadata": {},
   "source": [
    "To avoid unwanted escaping with \\ in a regular expression, use raw string literals like r'C:\\x' instead of the equivalent 'C:\\x'.    \n",
    "      \n",
    "Creating a regex object with re.compile is highly recommended if you intend to apply the same expression to many strings; doing so will save CPU cycles."
   ]
  },
  {
   "cell_type": "code",
   "execution_count": 46,
   "id": "c4ed7a2c",
   "metadata": {},
   "outputs": [
    {
     "data": {
      "text/plain": [
       "['dave@google.com', 'steve@gmail.com', 'rob@gmail.com', 'ryan@yahoo.com']"
      ]
     },
     "execution_count": 46,
     "metadata": {},
     "output_type": "execute_result"
    }
   ],
   "source": [
    "text = \"\"\"Dave dave@google.com\n",
    "Steve steve@gmail.com\n",
    "Rob rob@gmail.com\n",
    "Ryan ryan@yahoo.com\n",
    "\"\"\"\n",
    "     \n",
    "pattern = r'[A-Z0-9._%+-]+@[A-Z0-9.-]+\\.[A-Z]{2,4}'\n",
    "      \n",
    "# re.IGNORECASE makes the regex case-insensitive\n",
    "regex = re.compile(pattern, flags=re.IGNORECASE)\n",
    "regex.findall(text)"
   ]
  },
  {
   "cell_type": "markdown",
   "id": "1c59afb8",
   "metadata": {},
   "source": [
    "search returns a special match object for the first email address in the text. For the preceding regex, \n",
    "the match object can only tell us the start and end position of the pattern in the string"
   ]
  },
  {
   "cell_type": "code",
   "execution_count": 48,
   "id": "928f4537",
   "metadata": {},
   "outputs": [
    {
     "data": {
      "text/plain": [
       "'Dave dave@google.com\\nSteve steve@gmail.com\\nRob rob@gmail.com\\nRyan ryan@yahoo.com\\n'"
      ]
     },
     "execution_count": 48,
     "metadata": {},
     "output_type": "execute_result"
    }
   ],
   "source": [
    "text"
   ]
  },
  {
   "cell_type": "code",
   "execution_count": 47,
   "id": "f4ad35a2",
   "metadata": {},
   "outputs": [
    {
     "data": {
      "text/plain": [
       "<re.Match object; span=(5, 20), match='dave@google.com'>"
      ]
     },
     "execution_count": 47,
     "metadata": {},
     "output_type": "execute_result"
    }
   ],
   "source": [
    "m = regex.search(text)\n",
    "m"
   ]
  },
  {
   "cell_type": "code",
   "execution_count": 49,
   "id": "03d500b0",
   "metadata": {},
   "outputs": [
    {
     "data": {
      "text/plain": [
       "'dave@google.com'"
      ]
     },
     "execution_count": 49,
     "metadata": {},
     "output_type": "execute_result"
    }
   ],
   "source": [
    "text[m.start():m.end()]"
   ]
  },
  {
   "cell_type": "markdown",
   "id": "ed6f062d",
   "metadata": {},
   "source": [
    "Relatedly, sub will return a new string with occurrences of the pattern replaced by the a new string"
   ]
  },
  {
   "cell_type": "code",
   "execution_count": 50,
   "id": "9b7a5532",
   "metadata": {},
   "outputs": [
    {
     "name": "stdout",
     "output_type": "stream",
     "text": [
      "Dave REDACTED\n",
      "Steve REDACTED\n",
      "Rob REDACTED\n",
      "Ryan REDACTED\n",
      "\n"
     ]
    }
   ],
   "source": [
    "print(regex.sub('REDACTED', text))"
   ]
  },
  {
   "cell_type": "markdown",
   "id": "27600066",
   "metadata": {},
   "source": [
    "Suppose you wanted to find email addresses and simultaneously segment each address into its three components: username, domain name, and domain suffix.     \n",
    "    \n",
    "To do this, put parentheses around the parts of the pattern to segment"
   ]
  },
  {
   "cell_type": "code",
   "execution_count": 51,
   "id": "ec1e8a8b",
   "metadata": {},
   "outputs": [],
   "source": [
    "pattern = r'([A-Z0-9._%+-]+)@([A-Z0-9.-]+)\\.([A-Z]{2,4})'\n",
    "regex = re.compile(pattern, flags=re.IGNORECASE)"
   ]
  },
  {
   "cell_type": "markdown",
   "id": "54773b37",
   "metadata": {},
   "source": [
    "A match object produced by this modified regex returns a tuple of the pattern components with its groups method"
   ]
  },
  {
   "cell_type": "code",
   "execution_count": 52,
   "id": "e95d85cf",
   "metadata": {},
   "outputs": [
    {
     "data": {
      "text/plain": [
       "('wesm', 'bright', 'net')"
      ]
     },
     "execution_count": 52,
     "metadata": {},
     "output_type": "execute_result"
    }
   ],
   "source": [
    "m = regex.match('wesm@bright.net')\n",
    "m.groups()"
   ]
  },
  {
   "cell_type": "markdown",
   "id": "2d2ce877",
   "metadata": {},
   "source": [
    "findall returns a list of tuples when the pattern has groups"
   ]
  },
  {
   "cell_type": "code",
   "execution_count": 53,
   "id": "9774f294",
   "metadata": {},
   "outputs": [
    {
     "data": {
      "text/plain": [
       "[('dave', 'google', 'com'),\n",
       " ('steve', 'gmail', 'com'),\n",
       " ('rob', 'gmail', 'com'),\n",
       " ('ryan', 'yahoo', 'com')]"
      ]
     },
     "execution_count": 53,
     "metadata": {},
     "output_type": "execute_result"
    }
   ],
   "source": [
    "regex.findall(text)"
   ]
  },
  {
   "cell_type": "markdown",
   "id": "27b27c40",
   "metadata": {},
   "source": [
    "sub also has access to groups in each match using special symbols like \\1 and \\2.      \n",
    "     \n",
    "The symbol \\1 corresponds to the first matched group, \\2 corresponds to the second, and so forth"
   ]
  },
  {
   "cell_type": "code",
   "execution_count": 54,
   "id": "6fcb202a",
   "metadata": {},
   "outputs": [
    {
     "name": "stdout",
     "output_type": "stream",
     "text": [
      "Dave Username: dave, Domain: google, Suffix: com\n",
      "Steve Username: steve, Domain: gmail, Suffix: com\n",
      "Rob Username: rob, Domain: gmail, Suffix: com\n",
      "Ryan Username: ryan, Domain: yahoo, Suffix: com\n",
      "\n"
     ]
    }
   ],
   "source": [
    "print(regex.sub(r'Username: \\1, Domain: \\2, Suffix: \\3', text))"
   ]
  },
  {
   "cell_type": "markdown",
   "id": "a2e974f5",
   "metadata": {},
   "source": [
    "**Regular expression methods**       \n",
    "       \n",
    "**Argument ---> Description**       \n",
    "       \n",
    "findall ---> Return all non-overlapping matching patterns in a string as a list     \n",
    "    \n",
    "finditer ---> Like findall, but returns an iterator       \n",
    "         \n",
    "match ---> Match pattern at start of string and optionally segment pattern components into groups; if the pattern matches, returns a match object, and otherwise None      \n",
    "        \n",
    "search ---> Scan string for match to pattern; returning a match object if so; unlike match, the match can be anywhere in the string as opposed to only at the beginning      \n",
    "         \n",
    "split ---> Break string into pieces at each occurrence of pattern       \n",
    "       \n",
    "sub, subn ---> Replace all (sub) or first n occurrences (subn) of pattern in string with replacement expression; use symbols \\1, \\2, ... to refer to match group elements in the replacement string\n"
   ]
  },
  {
   "cell_type": "markdown",
   "id": "6aefb4a5",
   "metadata": {},
   "source": [
    "**Vectorized String Functions in pandas**"
   ]
  },
  {
   "cell_type": "code",
   "execution_count": 57,
   "id": "a7b5ee81",
   "metadata": {},
   "outputs": [
    {
     "data": {
      "text/plain": [
       "Dave     dave@google.com\n",
       "Steve    steve@gmail.com\n",
       "Rob        rob@gmail.com\n",
       "Wes                  NaN\n",
       "dtype: object"
      ]
     },
     "execution_count": 57,
     "metadata": {},
     "output_type": "execute_result"
    }
   ],
   "source": [
    "import numpy as np\n",
    "import pandas as pd\n",
    "data = {'Dave': 'dave@google.com', 'Steve': 'steve@gmail.com','Rob': 'rob@gmail.com', 'Wes': np.nan}\n",
    "data = pd.Series(data)\n",
    "data"
   ]
  },
  {
   "cell_type": "code",
   "execution_count": 58,
   "id": "8983f067",
   "metadata": {},
   "outputs": [
    {
     "data": {
      "text/plain": [
       "Dave     False\n",
       "Steve     True\n",
       "Rob       True\n",
       "Wes        NaN\n",
       "dtype: object"
      ]
     },
     "execution_count": 58,
     "metadata": {},
     "output_type": "execute_result"
    }
   ],
   "source": [
    "data.str.contains('gmail')"
   ]
  },
  {
   "cell_type": "code",
   "execution_count": 59,
   "id": "c82a1090",
   "metadata": {},
   "outputs": [
    {
     "data": {
      "text/plain": [
       "Dave     [(dave, google, com)]\n",
       "Steve    [(steve, gmail, com)]\n",
       "Rob        [(rob, gmail, com)]\n",
       "Wes                        NaN\n",
       "dtype: object"
      ]
     },
     "execution_count": 59,
     "metadata": {},
     "output_type": "execute_result"
    }
   ],
   "source": [
    "data.str.findall(pattern, flags=re.IGNORECASE)"
   ]
  },
  {
   "cell_type": "code",
   "execution_count": 60,
   "id": "d9133166",
   "metadata": {},
   "outputs": [
    {
     "data": {
      "text/plain": [
       "Dave     True\n",
       "Steve    True\n",
       "Rob      True\n",
       "Wes       NaN\n",
       "dtype: object"
      ]
     },
     "execution_count": 60,
     "metadata": {},
     "output_type": "execute_result"
    }
   ],
   "source": [
    "matches = data.str.match(pattern, flags=re.IGNORECASE)\n",
    "matches"
   ]
  },
  {
   "cell_type": "code",
   "execution_count": 61,
   "id": "71b83398",
   "metadata": {},
   "outputs": [
    {
     "data": {
      "text/plain": [
       "Dave     dave@\n",
       "Steve    steve\n",
       "Rob      rob@g\n",
       "Wes        NaN\n",
       "dtype: object"
      ]
     },
     "execution_count": 61,
     "metadata": {},
     "output_type": "execute_result"
    }
   ],
   "source": [
    "data.str[:5]"
   ]
  },
  {
   "cell_type": "markdown",
   "id": "797b1881",
   "metadata": {},
   "source": [
    "**Partial listing of vectorized string methods**      \n",
    "       \n",
    "**Method --> Description**      \n",
    "     \n",
    "\n",
    "cat --> Concatenate strings element-wise with optional delimiter      \n",
    "         \n",
    "contains --> Return boolean array if each string contains pattern/regex       \n",
    "        \n",
    "count --> Count occurrences of pattern       \n",
    "        \n",
    "extract --> Use a regular expression with groups to extract one or more strings from a Series of strings; the result will be a DataFrame with one column per group        \n",
    "        \n",
    "endswith --> Equivalent to x.endswith(pattern) for each element       \n",
    "       \n",
    "startswith --> Equivalent to x.startswith(pattern) for each element       \n",
    "        \n",
    "findall --> Compute list of all occurrences of pattern/regex for each string       \n",
    "       \n",
    "get --> Index into each element (retrieve i-th element)      \n",
    "      \n",
    "isalnum --> Equivalent to built-in str.alnum       \n",
    "        \n",
    "isalpha --> Equivalent to built-in str.isalpha       \n",
    "       \n",
    "isdecimal --> Equivalent to built-in str.isdecimal       \n",
    "       \n",
    "isdigit --> Equivalent to built-in str.isdigit       \n",
    "       \n",
    "islower --> Equivalent to built-in str.islower       \n",
    "       \n",
    "isnumeric --> Equivalent to built-in str.isnumeric      \n",
    "        \n",
    "isupper --> Equivalent to built-in str.isupper       \n",
    "        \n",
    "join --> Join strings in each element of the Series with passed separator       \n",
    "      \n",
    "len --> Compute length of each string       \n",
    "       \n",
    "lower, upper --> Convert cases; equivalent to x.lower() or x.upper() for each element        \n",
    "          \n",
    "match --> Use re.match with the passed regular expression on each element, returning matched groups as list      \n",
    "         \n",
    "pad --> Add whitespace to left, right, or both sides of strings        \n",
    "          \n",
    "center --> Equivalent to pad(side='both')          \n",
    "          \n",
    "repeat --> Duplicate values (e.g., s.str.repeat(3) is equivalent to x * 3 for each string)       \n",
    "         \n",
    "replace --> Replace occurrences of pattern/regex with some other string         \n",
    "         \n",
    "slice --> Slice each string in the Series          \n",
    "        \n",
    "split --> Split strings on delimiter or regular expression         \n",
    "       \n",
    "strip --> Trim whitespace from both sides, including newlines        \n",
    "      \n",
    "rstrip --> Trim whitespace on right side        \n",
    "       \n",
    "lstrip --> Trim whitespace on left side          "
   ]
  },
  {
   "cell_type": "code",
   "execution_count": null,
   "id": "235f633b",
   "metadata": {},
   "outputs": [],
   "source": []
  }
 ],
 "metadata": {
  "kernelspec": {
   "display_name": "Python 3",
   "language": "python",
   "name": "python3"
  },
  "language_info": {
   "codemirror_mode": {
    "name": "ipython",
    "version": 3
   },
   "file_extension": ".py",
   "mimetype": "text/x-python",
   "name": "python",
   "nbconvert_exporter": "python",
   "pygments_lexer": "ipython3",
   "version": "3.10.10"
  }
 },
 "nbformat": 4,
 "nbformat_minor": 5
}
