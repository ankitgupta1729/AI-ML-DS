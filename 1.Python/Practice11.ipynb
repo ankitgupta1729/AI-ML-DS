{
 "cells": [
  {
   "cell_type": "markdown",
   "id": "aac4852f",
   "metadata": {},
   "source": [
    "Usage of special methods:"
   ]
  },
  {
   "cell_type": "code",
   "execution_count": 2,
   "id": "9e13bed7",
   "metadata": {},
   "outputs": [
    {
     "data": {
      "text/plain": [
       "('rank', 'suit')"
      ]
     },
     "execution_count": 2,
     "metadata": {},
     "output_type": "execute_result"
    }
   ],
   "source": [
    "import collections\n",
    "Card=collections.namedtuple('Card',['rank','suit'])\n",
    "Card._fields"
   ]
  },
  {
   "cell_type": "markdown",
   "id": "706a2dcb",
   "metadata": {},
   "source": [
    "It created a class with name \"Card\" and its 2 attributs, rank and suit"
   ]
  },
  {
   "cell_type": "code",
   "execution_count": 4,
   "id": "d2e7a7e7",
   "metadata": {},
   "outputs": [
    {
     "data": {
      "text/plain": [
       "Card(rank='1', suit='diamonds')"
      ]
     },
     "execution_count": 4,
     "metadata": {},
     "output_type": "execute_result"
    }
   ],
   "source": [
    "Card('1','diamonds')"
   ]
  },
  {
   "cell_type": "code",
   "execution_count": 3,
   "id": "c1d02205",
   "metadata": {},
   "outputs": [],
   "source": [
    "class FrenchDeck:\n",
    "    ranks= [str(r) for r in range(2,11)]+list(\"JQKA\")\n",
    "    suits= 'spade diamonds clubs hearts'.split()\n",
    "    \n",
    "    def __init__(self):\n",
    "        self._cards= [Card(rank,suit) for suit in self.suits for rank in self.ranks]\n",
    "    def __len__(self):\n",
    "        return len(self._cards)\n",
    "    def __getitem__(self,position):\n",
    "        return self._cards[position]"
   ]
  },
  {
   "cell_type": "markdown",
   "id": "1b019535",
   "metadata": {},
   "source": [
    "Here 3 special methods are used:     \n",
    "              \n",
    "`__getitem__()` used for element at a position with indexing []       \n",
    "`__len__()` is for len() function.     \n",
    "        \n",
    "using `__getitem__()`, we have given all the elements of its attributes deck_cards a position and so deck became an iterator."
   ]
  },
  {
   "cell_type": "code",
   "execution_count": 5,
   "id": "cfd6e475",
   "metadata": {},
   "outputs": [],
   "source": [
    "deck=FrenchDeck()"
   ]
  },
  {
   "cell_type": "code",
   "execution_count": 6,
   "id": "a76f046d",
   "metadata": {},
   "outputs": [
    {
     "data": {
      "text/plain": [
       "['spade', 'diamonds', 'clubs', 'hearts']"
      ]
     },
     "execution_count": 6,
     "metadata": {},
     "output_type": "execute_result"
    }
   ],
   "source": [
    "deck.suits"
   ]
  },
  {
   "cell_type": "code",
   "execution_count": 7,
   "id": "2e8e15e4",
   "metadata": {},
   "outputs": [
    {
     "data": {
      "text/plain": [
       "['2', '3', '4', '5', '6', '7', '8', '9', '10', 'J', 'Q', 'K', 'A']"
      ]
     },
     "execution_count": 7,
     "metadata": {},
     "output_type": "execute_result"
    }
   ],
   "source": [
    "deck.ranks"
   ]
  },
  {
   "cell_type": "code",
   "execution_count": 8,
   "id": "9f9dfba0",
   "metadata": {},
   "outputs": [
    {
     "data": {
      "text/plain": [
       "52"
      ]
     },
     "execution_count": 8,
     "metadata": {},
     "output_type": "execute_result"
    }
   ],
   "source": [
    "len(deck)"
   ]
  },
  {
   "cell_type": "code",
   "execution_count": 9,
   "id": "80f379dc",
   "metadata": {},
   "outputs": [
    {
     "data": {
      "text/plain": [
       "[Card(rank='2', suit='spade'),\n",
       " Card(rank='3', suit='spade'),\n",
       " Card(rank='4', suit='spade'),\n",
       " Card(rank='5', suit='spade'),\n",
       " Card(rank='6', suit='spade'),\n",
       " Card(rank='7', suit='spade'),\n",
       " Card(rank='8', suit='spade'),\n",
       " Card(rank='9', suit='spade'),\n",
       " Card(rank='10', suit='spade'),\n",
       " Card(rank='J', suit='spade'),\n",
       " Card(rank='Q', suit='spade'),\n",
       " Card(rank='K', suit='spade'),\n",
       " Card(rank='A', suit='spade'),\n",
       " Card(rank='2', suit='diamonds'),\n",
       " Card(rank='3', suit='diamonds'),\n",
       " Card(rank='4', suit='diamonds'),\n",
       " Card(rank='5', suit='diamonds'),\n",
       " Card(rank='6', suit='diamonds'),\n",
       " Card(rank='7', suit='diamonds'),\n",
       " Card(rank='8', suit='diamonds'),\n",
       " Card(rank='9', suit='diamonds'),\n",
       " Card(rank='10', suit='diamonds'),\n",
       " Card(rank='J', suit='diamonds'),\n",
       " Card(rank='Q', suit='diamonds'),\n",
       " Card(rank='K', suit='diamonds'),\n",
       " Card(rank='A', suit='diamonds'),\n",
       " Card(rank='2', suit='clubs'),\n",
       " Card(rank='3', suit='clubs'),\n",
       " Card(rank='4', suit='clubs'),\n",
       " Card(rank='5', suit='clubs'),\n",
       " Card(rank='6', suit='clubs'),\n",
       " Card(rank='7', suit='clubs'),\n",
       " Card(rank='8', suit='clubs'),\n",
       " Card(rank='9', suit='clubs'),\n",
       " Card(rank='10', suit='clubs'),\n",
       " Card(rank='J', suit='clubs'),\n",
       " Card(rank='Q', suit='clubs'),\n",
       " Card(rank='K', suit='clubs'),\n",
       " Card(rank='A', suit='clubs'),\n",
       " Card(rank='2', suit='hearts'),\n",
       " Card(rank='3', suit='hearts'),\n",
       " Card(rank='4', suit='hearts'),\n",
       " Card(rank='5', suit='hearts'),\n",
       " Card(rank='6', suit='hearts'),\n",
       " Card(rank='7', suit='hearts'),\n",
       " Card(rank='8', suit='hearts'),\n",
       " Card(rank='9', suit='hearts'),\n",
       " Card(rank='10', suit='hearts'),\n",
       " Card(rank='J', suit='hearts'),\n",
       " Card(rank='Q', suit='hearts'),\n",
       " Card(rank='K', suit='hearts'),\n",
       " Card(rank='A', suit='hearts')]"
      ]
     },
     "execution_count": 9,
     "metadata": {},
     "output_type": "execute_result"
    }
   ],
   "source": [
    "deck._cards"
   ]
  },
  {
   "cell_type": "code",
   "execution_count": 10,
   "id": "b4f3f3e3",
   "metadata": {},
   "outputs": [
    {
     "data": {
      "text/plain": [
       "Card(rank='2', suit='spade')"
      ]
     },
     "execution_count": 10,
     "metadata": {},
     "output_type": "execute_result"
    }
   ],
   "source": [
    "deck[0]"
   ]
  },
  {
   "cell_type": "code",
   "execution_count": 11,
   "id": "736cedbe",
   "metadata": {},
   "outputs": [
    {
     "data": {
      "text/plain": [
       "Card(rank='A', suit='hearts')"
      ]
     },
     "execution_count": 11,
     "metadata": {},
     "output_type": "execute_result"
    }
   ],
   "source": [
    "deck[-1]"
   ]
  },
  {
   "cell_type": "code",
   "execution_count": 12,
   "id": "d1a5ffb1",
   "metadata": {},
   "outputs": [
    {
     "data": {
      "text/plain": [
       "[Card(rank='2', suit='spade'),\n",
       " Card(rank='3', suit='spade'),\n",
       " Card(rank='4', suit='spade')]"
      ]
     },
     "execution_count": 12,
     "metadata": {},
     "output_type": "execute_result"
    }
   ],
   "source": [
    "deck[:3]"
   ]
  },
  {
   "cell_type": "code",
   "execution_count": 13,
   "id": "d04004e7",
   "metadata": {},
   "outputs": [
    {
     "data": {
      "text/plain": [
       "Card(rank='8', suit='clubs')"
      ]
     },
     "execution_count": 13,
     "metadata": {},
     "output_type": "execute_result"
    }
   ],
   "source": [
    "# picking a random card\n",
    "import random\n",
    "random.choice(deck)\n"
   ]
  },
  {
   "cell_type": "markdown",
   "id": "42af00a6",
   "metadata": {},
   "source": [
    "You write len(my_object) and, if my_object is an instance of a user-defined class, then\n",
    "Python calls the `__len__` method you implemented."
   ]
  },
  {
   "cell_type": "markdown",
   "id": "45c50fb6",
   "metadata": {},
   "source": [
    "The `__repr__` special method is called by the repr built-in to get the string representation of the object for inspection. Without a custom `__repr__`, Python’s console would display a Vector instance <Vector object at 0x10e100070>.     \n",
    "        \n",
    "`__str__` is called by the str() built-in and implicitly used by the print function. It should return a string suitable for display to end users.      \n",
    "       \n",
    "Basically, bool(x) calls `x.__bool__()`\n"
   ]
  },
  {
   "cell_type": "code",
   "execution_count": 39,
   "id": "28ca3c4a",
   "metadata": {},
   "outputs": [],
   "source": [
    "import math\n",
    "\n",
    "class Vector:\n",
    "    def __init__(self, x=0, y=0):\n",
    "        self.x = x\n",
    "        self.y = y\n",
    "    \n",
    "    def __repr__(self):\n",
    "        return f'Vector({self.x!r}, {self.y!r})'\n",
    "    \n",
    "    def __abs__(self):\n",
    "        return math.hypot(self.x, self.y)\n",
    "    \n",
    "    def __bool__(self):\n",
    "        return bool(abs(self))\n",
    "    \n",
    "    def __add__(self, other):\n",
    "        # Don't modify self, return a new Vector\n",
    "        return Vector(self.x + other.x, self.y + other.y)\n",
    "    \n",
    "    def __mul__(self, scalar):\n",
    "        # Good implementation for scalar multiplication\n",
    "        return Vector(self.x * scalar, self.y * scalar)\n",
    "    \n",
    "    # Optional: Implement reverse multiplication for scalar * vector\n",
    "    def __rmul__(self, scalar):\n",
    "        return self.__mul__(scalar)"
   ]
  },
  {
   "cell_type": "code",
   "execution_count": 40,
   "id": "7aa716fc",
   "metadata": {},
   "outputs": [],
   "source": [
    "vec=Vector()"
   ]
  },
  {
   "cell_type": "code",
   "execution_count": 41,
   "id": "4777de87",
   "metadata": {},
   "outputs": [
    {
     "data": {
      "text/plain": [
       "Vector(0, 0)"
      ]
     },
     "execution_count": 41,
     "metadata": {},
     "output_type": "execute_result"
    }
   ],
   "source": [
    "vec"
   ]
  },
  {
   "cell_type": "code",
   "execution_count": 42,
   "id": "d0a570c4",
   "metadata": {},
   "outputs": [],
   "source": [
    "vec.x=5\n",
    "vec.y=7"
   ]
  },
  {
   "cell_type": "code",
   "execution_count": 43,
   "id": "9f6534ab",
   "metadata": {},
   "outputs": [
    {
     "data": {
      "text/plain": [
       "Vector(5, 7)"
      ]
     },
     "execution_count": 43,
     "metadata": {},
     "output_type": "execute_result"
    }
   ],
   "source": [
    "vec"
   ]
  },
  {
   "cell_type": "code",
   "execution_count": 44,
   "id": "32705bd8",
   "metadata": {},
   "outputs": [
    {
     "data": {
      "text/plain": [
       "'Vector(5, 7)'"
      ]
     },
     "execution_count": 44,
     "metadata": {},
     "output_type": "execute_result"
    }
   ],
   "source": [
    "repr(vec)"
   ]
  },
  {
   "cell_type": "code",
   "execution_count": 45,
   "id": "9692902a",
   "metadata": {},
   "outputs": [
    {
     "data": {
      "text/plain": [
       "8.602325267042627"
      ]
     },
     "execution_count": 45,
     "metadata": {},
     "output_type": "execute_result"
    }
   ],
   "source": [
    "abs(vec)"
   ]
  },
  {
   "cell_type": "code",
   "execution_count": 46,
   "id": "53bf5292",
   "metadata": {},
   "outputs": [
    {
     "data": {
      "text/plain": [
       "True"
      ]
     },
     "execution_count": 46,
     "metadata": {},
     "output_type": "execute_result"
    }
   ],
   "source": [
    "bool(vec)"
   ]
  },
  {
   "cell_type": "code",
   "execution_count": 47,
   "id": "3d0dabe7",
   "metadata": {},
   "outputs": [
    {
     "data": {
      "text/plain": [
       "Vector(2, 2)"
      ]
     },
     "execution_count": 47,
     "metadata": {},
     "output_type": "execute_result"
    }
   ],
   "source": [
    "vec_new=Vector()\n",
    "vec_new.x=2\n",
    "vec_new.y=2\n",
    "vec_new"
   ]
  },
  {
   "cell_type": "code",
   "execution_count": 48,
   "id": "e2d3a3e6",
   "metadata": {},
   "outputs": [
    {
     "data": {
      "text/plain": [
       "Vector(2, 2)"
      ]
     },
     "execution_count": 48,
     "metadata": {},
     "output_type": "execute_result"
    }
   ],
   "source": [
    "vec_new"
   ]
  },
  {
   "cell_type": "code",
   "execution_count": 49,
   "id": "cc5ea607",
   "metadata": {},
   "outputs": [
    {
     "data": {
      "text/plain": [
       "Vector(5, 7)"
      ]
     },
     "execution_count": 49,
     "metadata": {},
     "output_type": "execute_result"
    }
   ],
   "source": [
    "vec"
   ]
  },
  {
   "cell_type": "code",
   "execution_count": 50,
   "id": "be68eb4f",
   "metadata": {},
   "outputs": [
    {
     "data": {
      "text/plain": [
       "Vector(7, 9)"
      ]
     },
     "execution_count": 50,
     "metadata": {},
     "output_type": "execute_result"
    }
   ],
   "source": [
    "vec + vec_new"
   ]
  },
  {
   "cell_type": "code",
   "execution_count": 51,
   "id": "229732a3",
   "metadata": {},
   "outputs": [
    {
     "data": {
      "text/plain": [
       "Vector(Vector(10, 10), Vector(14, 14))"
      ]
     },
     "execution_count": 51,
     "metadata": {},
     "output_type": "execute_result"
    }
   ],
   "source": [
    "vec*vec_new"
   ]
  },
  {
   "cell_type": "code",
   "execution_count": 52,
   "id": "54f11412",
   "metadata": {},
   "outputs": [
    {
     "data": {
      "text/plain": [
       "Vector(12, 12)"
      ]
     },
     "execution_count": 52,
     "metadata": {},
     "output_type": "execute_result"
    }
   ],
   "source": [
    "vec_new*6"
   ]
  },
  {
   "cell_type": "markdown",
   "id": "e6728790",
   "metadata": {},
   "source": [
    "Before creating Python, Guido was a contributor to the ABC language—a 10-year\n",
    "research project to design a programming environment for beginners. ABC intro‐\n",
    "duced many ideas we now consider “Pythonic”: generic operations on different types\n",
    "of sequences, built-in tuple and mapping types, structure by indentation, strong\n",
    "typing without variable declarations, and more. It’s no accident that Python is so\n",
    "user-friendly.\n"
   ]
  },
  {
   "cell_type": "markdown",
   "id": "f23b0add",
   "metadata": {},
   "source": [
    "**Built-In Sequences:**      \n",
    "       \n",
    "A. Container sequences       \n",
    "          \n",
    "Can hold items of different types, including nested containers. Some examples:\n",
    "list, tuple, and collections.deque.       \n",
    "        \n",
    "B. Flat sequences        \n",
    "         \n",
    "Hold items of one simple type. Some examples: str, bytes, and array.array.       \n",
    "          \n",
    "A container sequence holds references to the objects it contains, which may be of any\n",
    "type, while a flat sequence stores the value of its contents in its own memory space,\n",
    "not as distinct Python objects.        \n",
    "           \n",
    "Every Python object in memory has a header with metadata.\n"
   ]
  },
  {
   "cell_type": "markdown",
   "id": "0cab40eb",
   "metadata": {},
   "source": [
    "The simplest Python object, a float, has a value field and two metadata fields:      \n",
    "       \n",
    "• ob_refcnt: the object’s reference count        \n",
    "• ob_type: a pointer to the object’s type        \n",
    "• ob_fval: a C double holding the value of the float       \n",
    "          \n",
    "On a 64-bit Python build, each of those fields takes 8 bytes."
   ]
  },
  {
   "cell_type": "markdown",
   "id": "6f63f86f",
   "metadata": {},
   "source": [
    "Another way of grouping sequence types is by mutability:       \n",
    "        \n",
    "A. Mutable sequences       \n",
    "        \n",
    "For example, list, bytearray, array.array, and collections.deque.      \n",
    "        \n",
    "B. Immutable sequences      \n",
    "       \n",
    "For example, tuple, str, and bytes       \n",
    "         \n",
    "how mutable sequences inherit all methods from immutable sequences, and implement several additional methods.     \n",
    "             \n",
    "The built-in concrete:        \n",
    "sequence types do not actually subclass the Sequence and MutableSequence abstract base classes (ABCs), but they are virtual subclasses registered with those ABCs\n"
   ]
  },
  {
   "cell_type": "code",
   "execution_count": 53,
   "id": "79cb0ca5",
   "metadata": {},
   "outputs": [
    {
     "data": {
      "text/plain": [
       "True"
      ]
     },
     "execution_count": 53,
     "metadata": {},
     "output_type": "execute_result"
    }
   ],
   "source": [
    "from collections import abc\n",
    "issubclass(tuple,abc.Sequence)"
   ]
  },
  {
   "cell_type": "code",
   "execution_count": 54,
   "id": "2b2f18f7",
   "metadata": {},
   "outputs": [
    {
     "data": {
      "text/plain": [
       "True"
      ]
     },
     "execution_count": 54,
     "metadata": {},
     "output_type": "execute_result"
    }
   ],
   "source": [
    "from collections import abc\n",
    "issubclass(list,abc.MutableSequence)"
   ]
  },
  {
   "cell_type": "markdown",
   "id": "ec47339f",
   "metadata": {},
   "source": [
    "For brevity, many Python programmers refer to list comprehensions as listcomps, and generator expressions as genexps. I will use these words as well.       \n",
    "           \n",
    "In Python code, line breaks are ignored inside pairs of [], {}, or (). So you can build multiline lists, listcomps, tuples, dictionaries, etc., without using the \\ line continuation escape, which doesn’t work if\n",
    "you accidentally type a space after it.             \n",
    "               \n",
    "when coding a multiline list literal, it is thoughtful to put a comma after the last item, making it a little easier for the next coder to add one more item to that list, and reducing noise when reading diffs.\n"
   ]
  },
  {
   "cell_type": "markdown",
   "id": "74e3895d",
   "metadata": {},
   "source": [
    "However, variables assigned with the “Walrus operator” := remain accessible after those comprehensions or expressions return—unlike local variables in a function.           \n",
    "        \n",
    "PEP 572—Assignment Expressions defines the scope of the target of := as the enclosing function, unless there is a global or nonlocal declaration for that target.\n"
   ]
  },
  {
   "cell_type": "code",
   "execution_count": 55,
   "id": "82fad06e",
   "metadata": {},
   "outputs": [
    {
     "name": "stdout",
     "output_type": "stream",
     "text": [
      "[97, 98, 99] 99\n"
     ]
    }
   ],
   "source": [
    "lst=['a','b','c']\n",
    "codes=[last := ord(x) for x in lst]\n",
    "print(codes,last)"
   ]
  },
  {
   "cell_type": "code",
   "execution_count": 56,
   "id": "1bec4188",
   "metadata": {},
   "outputs": [
    {
     "ename": "NameError",
     "evalue": "name 'x' is not defined",
     "output_type": "error",
     "traceback": [
      "\u001b[0;31m---------------------------------------------------------------------------\u001b[0m",
      "\u001b[0;31mNameError\u001b[0m                                 Traceback (most recent call last)",
      "Cell \u001b[0;32mIn[56], line 1\u001b[0m\n\u001b[0;32m----> 1\u001b[0m \u001b[38;5;28mprint\u001b[39m(\u001b[43mx\u001b[49m)\n",
      "\u001b[0;31mNameError\u001b[0m: name 'x' is not defined"
     ]
    }
   ],
   "source": [
    "print(x)"
   ]
  },
  {
   "cell_type": "code",
   "execution_count": 57,
   "id": "639eb6c3",
   "metadata": {},
   "outputs": [
    {
     "data": {
      "text/plain": [
       "[162, 163, 165, 8364, 164]"
      ]
     },
     "execution_count": 57,
     "metadata": {},
     "output_type": "execute_result"
    }
   ],
   "source": [
    "symbols = '$¢£¥€¤'\n",
    "list(filter(lambda c:c > 127,map(ord,symbols)))"
   ]
  },
  {
   "cell_type": "markdown",
   "id": "51618067",
   "metadata": {},
   "source": [
    "A genexp (generator expression) saves memory because it yields items one by one using the iterator protocol instead of building a whole list just to feed another constructor."
   ]
  },
  {
   "cell_type": "code",
   "execution_count": 58,
   "id": "dd8a6bae",
   "metadata": {},
   "outputs": [
    {
     "data": {
      "text/plain": [
       "(36, 162, 163, 165, 8364, 164)"
      ]
     },
     "execution_count": 58,
     "metadata": {},
     "output_type": "execute_result"
    }
   ],
   "source": [
    "symbols = '$¢£¥€¤'\n",
    "tuple(ord(symbol) for symbol in symbols)"
   ]
  },
  {
   "cell_type": "code",
   "execution_count": 59,
   "id": "84535ef3",
   "metadata": {},
   "outputs": [
    {
     "data": {
      "text/plain": [
       "array('I', [36, 162, 163, 165, 8364, 164])"
      ]
     },
     "execution_count": 59,
     "metadata": {},
     "output_type": "execute_result"
    }
   ],
   "source": [
    "import array\n",
    "array.array('I', (ord(symbol) for symbol in symbols))"
   ]
  },
  {
   "cell_type": "markdown",
   "id": "3fb50116",
   "metadata": {},
   "source": [
    "The array constructor takes two arguments, so the parentheses around the generator expression are mandatory. The first argument of the array constructor defines the storage type used for the numbers in the array."
   ]
  },
  {
   "cell_type": "code",
   "execution_count": null,
   "id": "7591719d",
   "metadata": {},
   "outputs": [],
   "source": []
  }
 ],
 "metadata": {
  "kernelspec": {
   "display_name": "Python 3",
   "language": "python",
   "name": "python3"
  },
  "language_info": {
   "codemirror_mode": {
    "name": "ipython",
    "version": 3
   },
   "file_extension": ".py",
   "mimetype": "text/x-python",
   "name": "python",
   "nbconvert_exporter": "python",
   "pygments_lexer": "ipython3",
   "version": "3.10.18"
  }
 },
 "nbformat": 4,
 "nbformat_minor": 5
}
