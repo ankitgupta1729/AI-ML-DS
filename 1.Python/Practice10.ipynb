{
 "cells": [
  {
   "cell_type": "markdown",
   "id": "5c0a6e62",
   "metadata": {},
   "source": []
  }
 ],
 "metadata": {
  "language_info": {
   "name": "python"
  }
 },
 "nbformat": 4,
 "nbformat_minor": 5
}
