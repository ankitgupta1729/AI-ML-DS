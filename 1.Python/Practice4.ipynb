{
 "cells": [
  {
   "cell_type": "markdown",
   "id": "30623b03",
   "metadata": {},
   "source": [
    "**NumPy**, short for Numerical Python."
   ]
  },
  {
   "cell_type": "markdown",
   "id": "089b7d72",
   "metadata": {},
   "source": [
    "NumPy provides an easy-to-use C API, it is straightforward to pass data to external libraries written in a low-level language and also for external libraries to return data to Python as NumPy arrays. \n",
    "This feature has made Python a language of choice for wrapping legacy C/C++/Fortran codebases and giving them a dynamic and easy-to-use interface."
   ]
  },
  {
   "cell_type": "markdown",
   "id": "14f34e87",
   "metadata": {},
   "source": [
    "Data munging, sometimes called data wrangling or data cleaning, is converting and mapping unprocessed data into a different format to improve its suitability and value for various downstream uses, including analytics. "
   ]
  },
  {
   "cell_type": "markdown",
   "id": "d90db581",
   "metadata": {},
   "source": [
    "pandas also provides some more domain specific functionality like time series manipulation, which is not present in NumPy."
   ]
  },
  {
   "cell_type": "markdown",
   "id": "344c2c7c",
   "metadata": {},
   "source": [
    "NumPy internally stores data in a contiguous block of memory, independent of other built-in Python objects. NumPy’s library of algorithms written in the C language can operate on this memory without any type checking or other overhead. NumPy arrays also use much less memory than built-in Python sequences."
   ]
  },
  {
   "cell_type": "code",
   "execution_count": 1,
   "id": "1f1c7c85",
   "metadata": {},
   "outputs": [],
   "source": [
    "import numpy as np\n",
    "numpy_array=np.arange(1000000)\n",
    "python_list=list(range(1000000))"
   ]
  },
  {
   "cell_type": "code",
   "execution_count": 2,
   "id": "5a8c063d",
   "metadata": {},
   "outputs": [
    {
     "name": "stdout",
     "output_type": "stream",
     "text": [
      "CPU times: user 26 ms, sys: 18.8 ms, total: 44.8 ms\n",
      "Wall time: 162 ms\n",
      "CPU times: user 1.08 s, sys: 252 ms, total: 1.33 s\n",
      "Wall time: 1.97 s\n"
     ]
    }
   ],
   "source": [
    "%time for _ in range(10): numpy_array2 = numpy_array *2\n",
    "%time for _ in range(10): python_list2 = [x * 2 for x in python_list]"
   ]
  },
  {
   "cell_type": "markdown",
   "id": "5a47d17a",
   "metadata": {},
   "source": [
    "NumPy-based algorithms are generally 10 to 100 times faster (or more) than their pure Python counterparts and use significantly less memory."
   ]
  },
  {
   "cell_type": "markdown",
   "id": "d486697f",
   "metadata": {},
   "source": [
    "One of the key features of NumPy is its N-dimensional array object, or ndarray, which is a fast, flexible container for large datasets in Python"
   ]
  },
  {
   "cell_type": "code",
   "execution_count": 3,
   "id": "5d4919ac",
   "metadata": {},
   "outputs": [
    {
     "data": {
      "text/plain": [
       "array([[-2.05724633,  0.76994867, -0.45824433],\n",
       "       [ 1.04091997,  1.61590441,  0.82462728]])"
      ]
     },
     "execution_count": 3,
     "metadata": {},
     "output_type": "execute_result"
    }
   ],
   "source": [
    "d=np.random.randn(2,3)\n",
    "d"
   ]
  },
  {
   "cell_type": "code",
   "execution_count": 4,
   "id": "a9d4b492",
   "metadata": {},
   "outputs": [
    {
     "data": {
      "text/plain": [
       "array([[-4.11449265,  1.53989734, -0.91648865],\n",
       "       [ 2.08183994,  3.23180882,  1.64925456]])"
      ]
     },
     "execution_count": 4,
     "metadata": {},
     "output_type": "execute_result"
    }
   ],
   "source": [
    "d+d"
   ]
  },
  {
   "cell_type": "code",
   "execution_count": 5,
   "id": "cf84dea8",
   "metadata": {},
   "outputs": [
    {
     "data": {
      "text/plain": [
       "array([[4.23226245, 0.59282095, 0.20998786],\n",
       "       [1.08351438, 2.61114706, 0.68001015]])"
      ]
     },
     "execution_count": 5,
     "metadata": {},
     "output_type": "execute_result"
    }
   ],
   "source": [
    "d*d"
   ]
  },
  {
   "cell_type": "code",
   "execution_count": 6,
   "id": "d775dc3c",
   "metadata": {},
   "outputs": [
    {
     "data": {
      "text/plain": [
       "array([[-20.57246326,   7.6994867 ,  -4.58244325],\n",
       "       [ 10.40919969,  16.15904409,   8.24627278]])"
      ]
     },
     "execution_count": 6,
     "metadata": {},
     "output_type": "execute_result"
    }
   ],
   "source": [
    "10*d"
   ]
  },
  {
   "cell_type": "markdown",
   "id": "8e120eb7",
   "metadata": {},
   "source": [
    "You are, of course, welcome to put\n",
    "```python\n",
    "from numpy import *\n",
    "``` \n",
    "in your code to avoid having to write np., but I advise against making a habit of this. The numpy namespace is large and contains a number of functions whose names conflict with built-in Python functions (like min and max)."
   ]
  },
  {
   "cell_type": "markdown",
   "id": "1d758e75",
   "metadata": {},
   "source": [
    "An ndarray is a generic multidimensional container for homogeneous data; that is, all of the elements must be the same type.    \n",
    "Every array has a shape, a tuple indicating the size of each dimension, and a dtype, an object describing the data type of the array"
   ]
  },
  {
   "cell_type": "code",
   "execution_count": 7,
   "id": "4b2d8b30",
   "metadata": {},
   "outputs": [
    {
     "data": {
      "text/plain": [
       "dtype('float64')"
      ]
     },
     "execution_count": 7,
     "metadata": {},
     "output_type": "execute_result"
    }
   ],
   "source": [
    "d.dtype"
   ]
  },
  {
   "cell_type": "code",
   "execution_count": 8,
   "id": "7248dc4b",
   "metadata": {},
   "outputs": [
    {
     "data": {
      "text/plain": [
       "2"
      ]
     },
     "execution_count": 8,
     "metadata": {},
     "output_type": "execute_result"
    }
   ],
   "source": [
    "d.ndim"
   ]
  },
  {
   "cell_type": "code",
   "execution_count": 9,
   "id": "c62e3bb0",
   "metadata": {},
   "outputs": [
    {
     "data": {
      "text/plain": [
       "(2, 3)"
      ]
     },
     "execution_count": 9,
     "metadata": {},
     "output_type": "execute_result"
    }
   ],
   "source": [
    "d.shape"
   ]
  },
  {
   "cell_type": "markdown",
   "id": "f922efe8",
   "metadata": {},
   "source": [
    "The easiest way to create an array is to use the array function. This accepts any sequence-like object (including other arrays) and produces a new NumPy array containing the passed data. For example, a list is a good candidate for conversion"
   ]
  },
  {
   "cell_type": "code",
   "execution_count": 10,
   "id": "cd3b28e1",
   "metadata": {},
   "outputs": [],
   "source": [
    "a=np.array([[[1,2],[3,4]],[[5,6],[7,8]]])"
   ]
  },
  {
   "cell_type": "code",
   "execution_count": 11,
   "id": "4bdbf3e8",
   "metadata": {},
   "outputs": [
    {
     "data": {
      "text/plain": [
       "(2, 2, 2)"
      ]
     },
     "execution_count": 11,
     "metadata": {},
     "output_type": "execute_result"
    }
   ],
   "source": [
    "a.shape"
   ]
  },
  {
   "cell_type": "code",
   "execution_count": 12,
   "id": "0455fe03",
   "metadata": {},
   "outputs": [
    {
     "data": {
      "text/plain": [
       "3"
      ]
     },
     "execution_count": 12,
     "metadata": {},
     "output_type": "execute_result"
    }
   ],
   "source": [
    "a.ndim"
   ]
  },
  {
   "cell_type": "code",
   "execution_count": 13,
   "id": "c7b033ca",
   "metadata": {},
   "outputs": [
    {
     "data": {
      "text/plain": [
       "dtype('int64')"
      ]
     },
     "execution_count": 13,
     "metadata": {},
     "output_type": "execute_result"
    }
   ],
   "source": [
    "a.dtype"
   ]
  },
  {
   "cell_type": "code",
   "execution_count": 14,
   "id": "b1296177",
   "metadata": {},
   "outputs": [],
   "source": [
    "# dimension 3 means array is divided into 3 parts: no of grids, no of rows in each grid and \n",
    "# no of columns in each grid\n"
   ]
  },
  {
   "cell_type": "code",
   "execution_count": 15,
   "id": "9139572f",
   "metadata": {},
   "outputs": [
    {
     "data": {
      "text/plain": [
       "array([1, 2, 3], dtype=int16)"
      ]
     },
     "execution_count": 15,
     "metadata": {},
     "output_type": "execute_result"
    }
   ],
   "source": [
    "np.array([1,2,3], dtype='int16')"
   ]
  },
  {
   "cell_type": "code",
   "execution_count": 16,
   "id": "4da5643a",
   "metadata": {},
   "outputs": [
    {
     "data": {
      "text/plain": [
       "array([[20.57246326,  7.6994867 ,  4.58244325],\n",
       "       [10.40919969, 16.15904409,  8.24627278]])"
      ]
     },
     "execution_count": 16,
     "metadata": {},
     "output_type": "execute_result"
    }
   ],
   "source": [
    "np.empty((2,3))"
   ]
  },
  {
   "cell_type": "code",
   "execution_count": 17,
   "id": "9c182905",
   "metadata": {},
   "outputs": [
    {
     "data": {
      "text/plain": [
       "array([[[0., 0., 0., 0.],\n",
       "        [0., 0., 0., 0.],\n",
       "        [0., 0., 0., 0.]],\n",
       "\n",
       "       [[0., 0., 0., 0.],\n",
       "        [0., 0., 0., 0.],\n",
       "        [0., 0., 0., 0.]]])"
      ]
     },
     "execution_count": 17,
     "metadata": {},
     "output_type": "execute_result"
    }
   ],
   "source": [
    "np.zeros((2,3,4))"
   ]
  },
  {
   "cell_type": "code",
   "execution_count": 18,
   "id": "64cac871",
   "metadata": {},
   "outputs": [
    {
     "data": {
      "text/plain": [
       "array([0., 0., 0., 0., 0., 0., 0., 0., 0., 0.])"
      ]
     },
     "execution_count": 18,
     "metadata": {},
     "output_type": "execute_result"
    }
   ],
   "source": [
    "np.zeros((10,))"
   ]
  },
  {
   "cell_type": "code",
   "execution_count": 19,
   "id": "b74639a1",
   "metadata": {},
   "outputs": [
    {
     "data": {
      "text/plain": [
       "array([[1., 1., 1.],\n",
       "       [1., 1., 1.]])"
      ]
     },
     "execution_count": 19,
     "metadata": {},
     "output_type": "execute_result"
    }
   ],
   "source": [
    "np.ones((2,3))"
   ]
  },
  {
   "cell_type": "code",
   "execution_count": 20,
   "id": "9c52daf0",
   "metadata": {},
   "outputs": [
    {
     "data": {
      "text/plain": [
       "array([[1., 0., 0.],\n",
       "       [0., 1., 0.],\n",
       "       [0., 0., 1.]])"
      ]
     },
     "execution_count": 20,
     "metadata": {},
     "output_type": "execute_result"
    }
   ],
   "source": [
    "np.identity(3)"
   ]
  },
  {
   "cell_type": "markdown",
   "id": "0f1ab2b1",
   "metadata": {},
   "source": [
    "asarray ==> Convert input to ndarray, but do not copy if the input is already an ndarray"
   ]
  },
  {
   "cell_type": "code",
   "execution_count": 21,
   "id": "871dc8bf",
   "metadata": {},
   "outputs": [
    {
     "name": "stdout",
     "output_type": "stream",
     "text": [
      "\u001b[0;31mDocstring:\u001b[0m\n",
      "asarray(a, dtype=None, order=None, *, device=None, copy=None, like=None)\n",
      "\n",
      "Convert the input to an array.\n",
      "\n",
      "Parameters\n",
      "----------\n",
      "a : array_like\n",
      "    Input data, in any form that can be converted to an array.  This\n",
      "    includes lists, lists of tuples, tuples, tuples of tuples, tuples\n",
      "    of lists and ndarrays.\n",
      "dtype : data-type, optional\n",
      "    By default, the data-type is inferred from the input data.\n",
      "order : {'C', 'F', 'A', 'K'}, optional\n",
      "    Memory layout.  'A' and 'K' depend on the order of input array a.\n",
      "    'C' row-major (C-style),\n",
      "    'F' column-major (Fortran-style) memory representation.\n",
      "    'A' (any) means 'F' if `a` is Fortran contiguous, 'C' otherwise\n",
      "    'K' (keep) preserve input order\n",
      "    Defaults to 'K'.\n",
      "device : str, optional\n",
      "    The device on which to place the created array. Default: ``None``.\n",
      "    For Array-API interoperability only, so must be ``\"cpu\"`` if passed.\n",
      "\n",
      "    .. versionadded:: 2.0.0\n",
      "copy : bool, optional\n",
      "    If ``True``, then the object is copied. If ``None`` then the object is\n",
      "    copied only if needed, i.e. if ``__array__`` returns a copy, if obj\n",
      "    is a nested sequence, or if a copy is needed to satisfy any of\n",
      "    the other requirements (``dtype``, ``order``, etc.).\n",
      "    For ``False`` it raises a ``ValueError`` if a copy cannot be avoided.\n",
      "    Default: ``None``.\n",
      "\n",
      "    .. versionadded:: 2.0.0\n",
      "like : array_like, optional\n",
      "    Reference object to allow the creation of arrays which are not\n",
      "    NumPy arrays. If an array-like passed in as ``like`` supports\n",
      "    the ``__array_function__`` protocol, the result will be defined\n",
      "    by it. In this case, it ensures the creation of an array object\n",
      "    compatible with that passed in via this argument.\n",
      "\n",
      "    .. versionadded:: 1.20.0\n",
      "\n",
      "Returns\n",
      "-------\n",
      "out : ndarray\n",
      "    Array interpretation of ``a``.  No copy is performed if the input\n",
      "    is already an ndarray with matching dtype and order.  If ``a`` is a\n",
      "    subclass of ndarray, a base class ndarray is returned.\n",
      "\n",
      "See Also\n",
      "--------\n",
      "asanyarray : Similar function which passes through subclasses.\n",
      "ascontiguousarray : Convert input to a contiguous array.\n",
      "asfortranarray : Convert input to an ndarray with column-major\n",
      "                 memory order.\n",
      "asarray_chkfinite : Similar function which checks input for NaNs and Infs.\n",
      "fromiter : Create an array from an iterator.\n",
      "fromfunction : Construct an array by executing a function on grid\n",
      "               positions.\n",
      "\n",
      "Examples\n",
      "--------\n",
      "Convert a list into an array:\n",
      "\n",
      ">>> a = [1, 2]\n",
      ">>> import numpy as np\n",
      ">>> np.asarray(a)\n",
      "array([1, 2])\n",
      "\n",
      "Existing arrays are not copied:\n",
      "\n",
      ">>> a = np.array([1, 2])\n",
      ">>> np.asarray(a) is a\n",
      "True\n",
      "\n",
      "If `dtype` is set, array is copied only if dtype does not match:\n",
      "\n",
      ">>> a = np.array([1, 2], dtype=np.float32)\n",
      ">>> np.shares_memory(np.asarray(a, dtype=np.float32), a)\n",
      "True\n",
      ">>> np.shares_memory(np.asarray(a, dtype=np.float64), a)\n",
      "False\n",
      "\n",
      "Contrary to `asanyarray`, ndarray subclasses are not passed through:\n",
      "\n",
      ">>> issubclass(np.recarray, np.ndarray)\n",
      "True\n",
      ">>> a = np.array([(1., 2), (3., 4)], dtype='f4,i4').view(np.recarray)\n",
      ">>> np.asarray(a) is a\n",
      "False\n",
      ">>> np.asanyarray(a) is a\n",
      "True\n",
      "\u001b[0;31mType:\u001b[0m      builtin_function_or_method"
     ]
    }
   ],
   "source": [
    "np.asarray?"
   ]
  },
  {
   "cell_type": "code",
   "execution_count": 22,
   "id": "243e41c8",
   "metadata": {},
   "outputs": [
    {
     "data": {
      "text/plain": [
       "array([1, 2])"
      ]
     },
     "execution_count": 22,
     "metadata": {},
     "output_type": "execute_result"
    }
   ],
   "source": [
    "a=(1,2)\n",
    "np.asarray(a)"
   ]
  },
  {
   "cell_type": "markdown",
   "id": "e488f69b",
   "metadata": {},
   "source": [
    "The data type or dtype is a special object containing the information \n",
    "(or metadata, data about data) the ndarray needs to interpret a chunk of memory as a particular type of data"
   ]
  },
  {
   "cell_type": "code",
   "execution_count": 23,
   "id": "76d25f0a",
   "metadata": {},
   "outputs": [
    {
     "data": {
      "text/plain": [
       "array([1., 2., 3.])"
      ]
     },
     "execution_count": 23,
     "metadata": {},
     "output_type": "execute_result"
    }
   ],
   "source": [
    "arr1 = np.array([1, 2, 3], dtype=np.float64)\n",
    "arr1"
   ]
  },
  {
   "cell_type": "code",
   "execution_count": 24,
   "id": "4dd12cd2",
   "metadata": {},
   "outputs": [
    {
     "data": {
      "text/plain": [
       "array(['1', '2', '3'], dtype='<U1')"
      ]
     },
     "execution_count": 24,
     "metadata": {},
     "output_type": "execute_result"
    }
   ],
   "source": [
    "arr1 = np.array([1, 2, 3], dtype=np.str_)\n",
    "arr1"
   ]
  },
  {
   "cell_type": "markdown",
   "id": "507b5b42",
   "metadata": {},
   "source": [
    "int32, uint32 ==> i4, u4 ==> Signed and unsigned 32-bit integer types    \n",
    "float16 ==> f2 ==> Half-precision floating point     \n",
    "float32 ==> f4 or f ==> Standard single-precision floating point; compatible with C float    \n",
    "float64 ==> f8 or d ==> Standard double-precision floating point; compatible with C double     \n",
    "object ==> O ==> Python object type; a value can be any Python object     \n",
    "unicode_ ==> U ==> Fixed-length Unicode type (number of bytes platform specific); same specification semantics as string_ (e.g., 'U10')"
   ]
  },
  {
   "cell_type": "code",
   "execution_count": 25,
   "id": "d63975c5",
   "metadata": {},
   "outputs": [
    {
     "data": {
      "text/plain": [
       "array([1., 2., 3.], dtype=float32)"
      ]
     },
     "execution_count": 25,
     "metadata": {},
     "output_type": "execute_result"
    }
   ],
   "source": [
    "# You can explicitly convert or cast an array from one dtype to another using ndarray’s astype method:\n",
    "\n",
    "np.array([1,2,3]).astype(np.float32)"
   ]
  },
  {
   "cell_type": "code",
   "execution_count": 26,
   "id": "8cc203a5",
   "metadata": {},
   "outputs": [
    {
     "data": {
      "text/plain": [
       "array([583855524,         0,         0,         0, 576066000,         0,\n",
       "       583985056,         0], dtype=uint32)"
      ]
     },
     "execution_count": 26,
     "metadata": {},
     "output_type": "execute_result"
    }
   ],
   "source": [
    "np.empty(8, dtype='u4')"
   ]
  },
  {
   "cell_type": "markdown",
   "id": "6b090ea3",
   "metadata": {},
   "source": [
    "Arrays are important because they enable you to express batch operations on data without writing any for loops. \n",
    "NumPy users call this vectorization. Any arithmetic operations between equal-size arrays applies the operation element-wise."
   ]
  },
  {
   "cell_type": "code",
   "execution_count": 27,
   "id": "7d758029",
   "metadata": {},
   "outputs": [
    {
     "name": "stdout",
     "output_type": "stream",
     "text": [
      "[1. 4. 9.] [ 1.  8. 27.] [1.     0.5    0.3333]\n"
     ]
    }
   ],
   "source": [
    "arr=np.array([1,2,3],dtype=np.float16)\n",
    "print(arr*arr,arr**3,1/arr)"
   ]
  },
  {
   "cell_type": "code",
   "execution_count": 28,
   "id": "2643bf42",
   "metadata": {},
   "outputs": [
    {
     "name": "stdout",
     "output_type": "stream",
     "text": [
      "[3 1 2] [0 1 2] [ True False False]\n"
     ]
    }
   ],
   "source": [
    "# array comparison\n",
    "\n",
    "arr1=np.array([3,1,2])\n",
    "arr2=np.arange(3)\n",
    "print(arr1,arr2,arr1>arr2)"
   ]
  },
  {
   "cell_type": "code",
   "execution_count": 29,
   "id": "11248df7",
   "metadata": {},
   "outputs": [
    {
     "name": "stdout",
     "output_type": "stream",
     "text": [
      "[ 0  1  2  3  4  5  6  7  8  9 10 11] 5 [3 4 5 6]\n"
     ]
    }
   ],
   "source": [
    "arr=np.arange(12)\n",
    "print(arr,arr[5],arr[3:7])"
   ]
  },
  {
   "cell_type": "code",
   "execution_count": 30,
   "id": "ebcee4a7",
   "metadata": {},
   "outputs": [
    {
     "name": "stdout",
     "output_type": "stream",
     "text": [
      "[ 0  1  2  3  4  5  6  7  3  4  5 11]\n"
     ]
    }
   ],
   "source": [
    "arr[8:11]=arr[3:6]\n",
    "print(arr)\n"
   ]
  },
  {
   "cell_type": "code",
   "execution_count": 31,
   "id": "9c415e1f",
   "metadata": {},
   "outputs": [
    {
     "name": "stdout",
     "output_type": "stream",
     "text": [
      "[[[1 2]\n",
      "  [3 4]]\n",
      "\n",
      " [[5 6]\n",
      "  [7 8]]] \n",
      "\n",
      " [[1 2]\n",
      " [3 4]] 2\n"
     ]
    }
   ],
   "source": [
    "arr3d=np.array([[[1,2],[3,4]],[[5,6],[7,8]]])\n",
    "arr2d=arr3d[0]\n",
    "print(arr3d,'\\n\\n',arr2d,arr2d.ndim)"
   ]
  },
  {
   "cell_type": "code",
   "execution_count": 32,
   "id": "5819d99b",
   "metadata": {},
   "outputs": [
    {
     "name": "stdout",
     "output_type": "stream",
     "text": [
      "[[1 2]]\n"
     ]
    }
   ],
   "source": [
    "print(arr2d[:1,:])"
   ]
  },
  {
   "cell_type": "code",
   "execution_count": 33,
   "id": "229f1189",
   "metadata": {},
   "outputs": [
    {
     "name": "stdout",
     "output_type": "stream",
     "text": [
      "[[0 0]\n",
      " [3 4]]\n"
     ]
    }
   ],
   "source": [
    "arr2d[:1,:]=0\n",
    "print(arr2d)"
   ]
  },
  {
   "cell_type": "markdown",
   "id": "07e991ea",
   "metadata": {},
   "source": [
    "Like arithmetic operations, comparisons (such as ==) with arrays are also vectorized"
   ]
  },
  {
   "cell_type": "code",
   "execution_count": 34,
   "id": "73daefcd",
   "metadata": {},
   "outputs": [],
   "source": [
    "names=np.array(['ankit','kiio','summi','soumi','kiio','ankit','summi'])"
   ]
  },
  {
   "cell_type": "code",
   "execution_count": 35,
   "id": "c890b843",
   "metadata": {},
   "outputs": [
    {
     "data": {
      "text/plain": [
       "array([False,  True, False, False,  True, False, False])"
      ]
     },
     "execution_count": 35,
     "metadata": {},
     "output_type": "execute_result"
    }
   ],
   "source": [
    "names=='kiio'"
   ]
  },
  {
   "cell_type": "code",
   "execution_count": 36,
   "id": "670e12c7",
   "metadata": {},
   "outputs": [],
   "source": [
    "data=np.random.randn(7,5)"
   ]
  },
  {
   "cell_type": "code",
   "execution_count": 37,
   "id": "1d332843",
   "metadata": {},
   "outputs": [
    {
     "data": {
      "text/plain": [
       "array([[ 0.47246008, -0.97230505, -0.88185117,  1.026626  ,  0.32148013],\n",
       "       [-0.47270189, -1.87421897, -1.7251059 ,  1.07963034,  0.20243205],\n",
       "       [ 0.81433844,  0.77974422,  1.14522355, -0.88763845, -1.05345061],\n",
       "       [-2.32515631,  0.25949492, -0.44071896,  2.79388335,  0.23144792],\n",
       "       [-0.35663242,  1.48296132,  0.16217465,  1.27015427,  0.65339976],\n",
       "       [ 0.20411933,  0.46806683,  1.18465655, -1.18838839, -0.69035039],\n",
       "       [-2.14149743, -0.81589488,  0.04407909,  1.01297928, -0.81875806]])"
      ]
     },
     "execution_count": 37,
     "metadata": {},
     "output_type": "execute_result"
    }
   ],
   "source": [
    "data"
   ]
  },
  {
   "cell_type": "code",
   "execution_count": 38,
   "id": "78fa596e",
   "metadata": {},
   "outputs": [
    {
     "data": {
      "text/plain": [
       "array([False,  True, False,  True,  True, False, False])"
      ]
     },
     "execution_count": 38,
     "metadata": {},
     "output_type": "execute_result"
    }
   ],
   "source": [
    "mask=(names=='kiio') | (names=='soumi')\n",
    "mask"
   ]
  },
  {
   "cell_type": "code",
   "execution_count": 39,
   "id": "61c4e1c0",
   "metadata": {},
   "outputs": [
    {
     "data": {
      "text/plain": [
       "array([[-0.47270189, -1.87421897, -1.7251059 ,  1.07963034,  0.20243205],\n",
       "       [-2.32515631,  0.25949492, -0.44071896,  2.79388335,  0.23144792],\n",
       "       [-0.35663242,  1.48296132,  0.16217465,  1.27015427,  0.65339976]])"
      ]
     },
     "execution_count": 39,
     "metadata": {},
     "output_type": "execute_result"
    }
   ],
   "source": [
    "data[mask]"
   ]
  },
  {
   "cell_type": "markdown",
   "id": "6f11b489",
   "metadata": {},
   "source": [
    "Fancy Indexing: To select out a subset of the rows in a particular order, you can simply pass a list or ndarray of integers specifying the desired order"
   ]
  },
  {
   "cell_type": "code",
   "execution_count": 40,
   "id": "f461d1f9",
   "metadata": {},
   "outputs": [],
   "source": [
    "arr=np.empty((2,3))"
   ]
  },
  {
   "cell_type": "code",
   "execution_count": 41,
   "id": "cd6efc03",
   "metadata": {},
   "outputs": [
    {
     "data": {
      "text/plain": [
       "array([[1., 1., 1.],\n",
       "       [1., 1., 1.]])"
      ]
     },
     "execution_count": 41,
     "metadata": {},
     "output_type": "execute_result"
    }
   ],
   "source": [
    "arr"
   ]
  },
  {
   "cell_type": "code",
   "execution_count": 42,
   "id": "4f05d578",
   "metadata": {},
   "outputs": [
    {
     "data": {
      "text/plain": [
       "array([[1., 1., 1.],\n",
       "       [1., 1., 1.]])"
      ]
     },
     "execution_count": 42,
     "metadata": {},
     "output_type": "execute_result"
    }
   ],
   "source": [
    "arr[[1,0]]"
   ]
  },
  {
   "cell_type": "code",
   "execution_count": 43,
   "id": "0006f42f",
   "metadata": {},
   "outputs": [
    {
     "data": {
      "text/plain": [
       "array([[1., 1., 1.]])"
      ]
     },
     "execution_count": 43,
     "metadata": {},
     "output_type": "execute_result"
    }
   ],
   "source": [
    "arr[1:,[1,0,2]]"
   ]
  },
  {
   "cell_type": "code",
   "execution_count": 44,
   "id": "5e1c3106",
   "metadata": {},
   "outputs": [
    {
     "name": "stdout",
     "output_type": "stream",
     "text": [
      "[[ 0  1  2  3]\n",
      " [ 4  5  6  7]\n",
      " [ 8  9 10 11]\n",
      " [12 13 14 15]]\n"
     ]
    }
   ],
   "source": [
    "arr = np.arange(16).reshape((4, 4))\n",
    "print(arr)"
   ]
  },
  {
   "cell_type": "code",
   "execution_count": 45,
   "id": "e5208eca",
   "metadata": {},
   "outputs": [
    {
     "name": "stdout",
     "output_type": "stream",
     "text": [
      "[9 3]\n"
     ]
    }
   ],
   "source": [
    "print(arr[[2,0],[1,3]]) # elements at position (2,1) and (0,3) will be selected but why ?"
   ]
  },
  {
   "cell_type": "code",
   "execution_count": 46,
   "id": "f4b65875",
   "metadata": {},
   "outputs": [
    {
     "data": {
      "text/plain": [
       "array([[1, 2],\n",
       "       [3, 4]])"
      ]
     },
     "execution_count": 46,
     "metadata": {},
     "output_type": "execute_result"
    }
   ],
   "source": [
    "# Transposing Arrays and Swapping Axes\n",
    "arr=np.array([[1,2],[3,4]])\n",
    "arr"
   ]
  },
  {
   "cell_type": "code",
   "execution_count": 47,
   "id": "b5609b8b",
   "metadata": {},
   "outputs": [
    {
     "data": {
      "text/plain": [
       "array([[1, 3],\n",
       "       [2, 4]])"
      ]
     },
     "execution_count": 47,
     "metadata": {},
     "output_type": "execute_result"
    }
   ],
   "source": [
    "arr.T"
   ]
  },
  {
   "cell_type": "code",
   "execution_count": 48,
   "id": "204b1c59",
   "metadata": {},
   "outputs": [
    {
     "data": {
      "text/plain": [
       "array([[1, 3],\n",
       "       [2, 4]])"
      ]
     },
     "execution_count": 48,
     "metadata": {},
     "output_type": "execute_result"
    }
   ],
   "source": [
    "arr.transpose()"
   ]
  },
  {
   "cell_type": "code",
   "execution_count": 49,
   "id": "f3968c45",
   "metadata": {},
   "outputs": [
    {
     "data": {
      "text/plain": [
       "array([[[ 0,  1,  2,  3],\n",
       "        [ 4,  5,  6,  7]],\n",
       "\n",
       "       [[ 8,  9, 10, 11],\n",
       "        [12, 13, 14, 15]]])"
      ]
     },
     "execution_count": 49,
     "metadata": {},
     "output_type": "execute_result"
    }
   ],
   "source": [
    "arr = np.arange(16).reshape((2, 2, 4))\n",
    "arr"
   ]
  },
  {
   "cell_type": "code",
   "execution_count": 50,
   "id": "d4daa08d",
   "metadata": {},
   "outputs": [
    {
     "name": "stdout",
     "output_type": "stream",
     "text": [
      "\u001b[0;31mDocstring:\u001b[0m\n",
      "a.transpose(*axes)\n",
      "\n",
      "Returns a view of the array with axes transposed.\n",
      "\n",
      "Refer to `numpy.transpose` for full documentation.\n",
      "\n",
      "Parameters\n",
      "----------\n",
      "axes : None, tuple of ints, or `n` ints\n",
      "\n",
      " * None or no argument: reverses the order of the axes.\n",
      "\n",
      " * tuple of ints: `i` in the `j`-th place in the tuple means that the\n",
      "   array's `i`-th axis becomes the transposed array's `j`-th axis.\n",
      "\n",
      " * `n` ints: same as an n-tuple of the same ints (this form is\n",
      "   intended simply as a \"convenience\" alternative to the tuple form).\n",
      "\n",
      "Returns\n",
      "-------\n",
      "p : ndarray\n",
      "    View of the array with its axes suitably permuted.\n",
      "\n",
      "See Also\n",
      "--------\n",
      "transpose : Equivalent function.\n",
      "ndarray.T : Array property returning the array transposed.\n",
      "ndarray.reshape : Give a new shape to an array without changing its data.\n",
      "\n",
      "Examples\n",
      "--------\n",
      ">>> import numpy as np\n",
      ">>> a = np.array([[1, 2], [3, 4]])\n",
      ">>> a\n",
      "array([[1, 2],\n",
      "       [3, 4]])\n",
      ">>> a.transpose()\n",
      "array([[1, 3],\n",
      "       [2, 4]])\n",
      ">>> a.transpose((1, 0))\n",
      "array([[1, 3],\n",
      "       [2, 4]])\n",
      ">>> a.transpose(1, 0)\n",
      "array([[1, 3],\n",
      "       [2, 4]])\n",
      "\n",
      ">>> a = np.array([1, 2, 3, 4])\n",
      ">>> a\n",
      "array([1, 2, 3, 4])\n",
      ">>> a.transpose()\n",
      "array([1, 2, 3, 4])\n",
      "\u001b[0;31mType:\u001b[0m      builtin_function_or_method"
     ]
    }
   ],
   "source": [
    "arr.transpose?"
   ]
  },
  {
   "cell_type": "code",
   "execution_count": 51,
   "id": "467d4473",
   "metadata": {},
   "outputs": [
    {
     "data": {
      "text/plain": [
       "array([[[ 0,  8],\n",
       "        [ 4, 12]],\n",
       "\n",
       "       [[ 1,  9],\n",
       "        [ 5, 13]],\n",
       "\n",
       "       [[ 2, 10],\n",
       "        [ 6, 14]],\n",
       "\n",
       "       [[ 3, 11],\n",
       "        [ 7, 15]]])"
      ]
     },
     "execution_count": 51,
     "metadata": {},
     "output_type": "execute_result"
    }
   ],
   "source": [
    "arr.transpose((2,1,0))\n",
    "# Here, order is 2,1,0 and 2 comes from no. of columns, 1 comes from no of rows and 0 comes from no. of grids \n",
    "# so it will show 4 grids, 2 rows and 2 columns and\n",
    "# elements will be arranged in the order as column--> row--> grid\n"
   ]
  },
  {
   "cell_type": "code",
   "execution_count": 52,
   "id": "aabf3e73",
   "metadata": {},
   "outputs": [
    {
     "data": {
      "text/plain": [
       "array([[[ 0,  8],\n",
       "        [ 1,  9],\n",
       "        [ 2, 10],\n",
       "        [ 3, 11]],\n",
       "\n",
       "       [[ 4, 12],\n",
       "        [ 5, 13],\n",
       "        [ 6, 14],\n",
       "        [ 7, 15]]])"
      ]
     },
     "execution_count": 52,
     "metadata": {},
     "output_type": "execute_result"
    }
   ],
   "source": [
    "arr.transpose((1,2,0))"
   ]
  },
  {
   "cell_type": "code",
   "execution_count": 53,
   "id": "c5e011aa",
   "metadata": {},
   "outputs": [
    {
     "data": {
      "text/plain": [
       "array([[[ 0,  1,  2,  3],\n",
       "        [ 8,  9, 10, 11]],\n",
       "\n",
       "       [[ 4,  5,  6,  7],\n",
       "        [12, 13, 14, 15]]])"
      ]
     },
     "execution_count": 53,
     "metadata": {},
     "output_type": "execute_result"
    }
   ],
   "source": [
    "arr.transpose((1,0,2))"
   ]
  },
  {
   "cell_type": "code",
   "execution_count": 54,
   "id": "3094b772",
   "metadata": {},
   "outputs": [
    {
     "data": {
      "text/plain": [
       "(64, 32, 8)"
      ]
     },
     "execution_count": 54,
     "metadata": {},
     "output_type": "execute_result"
    }
   ],
   "source": [
    "arr.strides"
   ]
  },
  {
   "cell_type": "code",
   "execution_count": 55,
   "id": "f92b04cc",
   "metadata": {},
   "outputs": [
    {
     "data": {
      "text/plain": [
       "dtype('int64')"
      ]
     },
     "execution_count": 55,
     "metadata": {},
     "output_type": "execute_result"
    }
   ],
   "source": [
    "arr.dtype"
   ]
  },
  {
   "cell_type": "code",
   "execution_count": 56,
   "id": "00be5aee",
   "metadata": {},
   "outputs": [],
   "source": [
    "# So, each element has 4 bytes and from one grid to another grid, it has to cross 8 elements i.e. 32 bytes \n",
    "# which is showing in the arr.strides and similary\n",
    "# go from one row to another row, it has to cross 4 elements i.e. 16 bytes and from one column to another column, \n",
    "# it has to cross 4 bytes."
   ]
  },
  {
   "cell_type": "code",
   "execution_count": 57,
   "id": "4f5efacf",
   "metadata": {},
   "outputs": [
    {
     "data": {
      "text/plain": [
       "(8, 32, 64)"
      ]
     },
     "execution_count": 57,
     "metadata": {},
     "output_type": "execute_result"
    }
   ],
   "source": [
    "arr.transpose((2,1,0)).strides"
   ]
  },
  {
   "cell_type": "code",
   "execution_count": 58,
   "id": "cc7bccde",
   "metadata": {},
   "outputs": [
    {
     "data": {
      "text/plain": [
       "array([[[0.0e+000, 4.9e-324, 9.9e-324],\n",
       "        [1.5e-323, 2.0e-323, 2.5e-323]],\n",
       "\n",
       "       [[3.0e-323, 3.5e-323, 1.5e-323],\n",
       "        [2.0e-323, 2.5e-323, 5.4e-323]]])"
      ]
     },
     "execution_count": 58,
     "metadata": {},
     "output_type": "execute_result"
    }
   ],
   "source": [
    "np.empty((2,2,3))"
   ]
  },
  {
   "cell_type": "code",
   "execution_count": 59,
   "id": "80679641",
   "metadata": {},
   "outputs": [
    {
     "data": {
      "text/plain": [
       "array([[[0.0e+000, 3.0e-323],\n",
       "        [1.5e-323, 2.0e-323]],\n",
       "\n",
       "       [[4.9e-324, 3.5e-323],\n",
       "        [2.0e-323, 2.5e-323]],\n",
       "\n",
       "       [[9.9e-324, 1.5e-323],\n",
       "        [2.5e-323, 5.4e-323]]])"
      ]
     },
     "execution_count": 59,
     "metadata": {},
     "output_type": "execute_result"
    }
   ],
   "source": [
    "np.empty((2,2,3)).swapaxes(0,2)\n",
    "# here we are swapping axis 0 and axis 2. axis 0 means grid and axis 2 means columns.\n",
    "# so we are swapping grids and columns. Initial we has 2 grids so now we have 2 columns\n",
    "# and initially we had 3 columns so now we have 3 grids.\n",
    "# Accordingly elements will be arranged like elements in columns will go in different grids. "
   ]
  },
  {
   "cell_type": "markdown",
   "id": "04862f59",
   "metadata": {},
   "source": [
    "**Universal Functions - Fast Element-Wise Array Functions:**    \n",
    "A universal function, or ufunc, is a function that performs element-wise operations on data in ndarrays. You can think of them as fast vectorized wrappers for simple functions that take one or more scalar values and produce one or more scalar results. Many ufuncs are simple element-wise transformations, like sqrt or exp.\n"
   ]
  },
  {
   "cell_type": "code",
   "execution_count": 60,
   "id": "9b470132",
   "metadata": {},
   "outputs": [
    {
     "data": {
      "text/plain": [
       "array([1.        , 1.41421356, 1.73205081])"
      ]
     },
     "execution_count": 60,
     "metadata": {},
     "output_type": "execute_result"
    }
   ],
   "source": [
    "arr = np.array([1,2,3])\n",
    "np.sqrt(arr)"
   ]
  },
  {
   "cell_type": "code",
   "execution_count": 61,
   "id": "453d2abe",
   "metadata": {},
   "outputs": [
    {
     "data": {
      "text/plain": [
       "array([ 2.71828183,  7.3890561 , 20.08553692])"
      ]
     },
     "execution_count": 61,
     "metadata": {},
     "output_type": "execute_result"
    }
   ],
   "source": [
    "np.exp(arr)"
   ]
  },
  {
   "cell_type": "code",
   "execution_count": 62,
   "id": "387f0e2a",
   "metadata": {},
   "outputs": [
    {
     "data": {
      "text/plain": [
       "array([0.        , 0.69314718, 1.09861229])"
      ]
     },
     "execution_count": 62,
     "metadata": {},
     "output_type": "execute_result"
    }
   ],
   "source": [
    "np.log(arr)"
   ]
  },
  {
   "cell_type": "code",
   "execution_count": 63,
   "id": "d3c51bf3",
   "metadata": {},
   "outputs": [
    {
     "data": {
      "text/plain": [
       "array([2, 3, 3])"
      ]
     },
     "execution_count": 63,
     "metadata": {},
     "output_type": "execute_result"
    }
   ],
   "source": [
    "x=np.array([1,2,3])\n",
    "y=np.array([2,3,1])\n",
    "np.maximum(x,y)"
   ]
  },
  {
   "cell_type": "code",
   "execution_count": 64,
   "id": "ffbd2cf6",
   "metadata": {},
   "outputs": [
    {
     "data": {
      "text/plain": [
       "(array([ 3.18161198, -1.28419106,  3.52870921,  3.41571939,  0.21864495,\n",
       "         0.85336174,  0.72593577]),\n",
       " array([ 0.18161198, -0.28419106,  0.52870921,  0.41571939,  0.21864495,\n",
       "         0.85336174,  0.72593577]),\n",
       " array([ 3., -1.,  3.,  3.,  0.,  0.,  0.]))"
      ]
     },
     "execution_count": 64,
     "metadata": {},
     "output_type": "execute_result"
    }
   ],
   "source": [
    "arr = np.random.randn(7) * 5\n",
    "remainder,whole_part=np.modf(arr)\n",
    "arr,remainder,whole_part"
   ]
  },
  {
   "cell_type": "markdown",
   "id": "689ba0b6",
   "metadata": {},
   "source": [
    "**Table 4-3. Unary ufuncs**     \n",
    "     \n",
    "**Function --> Description**      \n",
    "    \n",
    "abs, fabs --> Compute the absolute value element-wise for integer, foating-point, or complex values    \n",
    "sqrt --> Compute the square root of each element (equivalent to arr ** 0.5)   \n",
    "square --> Compute the square of each element (equivalent to arr ** 2)     \n",
    "exp --> Compute the exponent ex of each element     \n",
    "log, log10,log2, log1p --> Natural logarithm (base e), log base 10, log base 2, and log(1 + x), respectively    \n",
    "sign --> Compute the sign of each element: 1 (positive), 0 (zero), or –1 (negative)     \n",
    "ceil --> Compute the ceiling of each element (i.e., the smallest integer greater than or equal to that number)     \n",
    "floor --> Compute the foor of each element (i.e., the largest integer less than or equal to each element)    \n",
    "rint --> Round elements to the nearest integer, preserving the dtype    \n",
    "modf --> Return fractional and integral parts of array as a separate array    \n",
    "isnan --> Return boolean array indicating whether each value is NaN (Not a Number)    \n",
    "isfinite, isinf --> Return boolean array indicating whether each element is finite (non-inf, non-NaN) or infinite,respectively     \n",
    "cos, cosh, sin,sinh, tan, tanh --> Regular and hyperbolic trigonometric functions    \n",
    "arccos, arccosh,arcsin, arcsinh,arctan, arctanh --> Inverse trigonometric functions     \n",
    "logical_not --> Compute truth value of not x element-wise (equivalent to ~arr)."
   ]
  },
  {
   "cell_type": "code",
   "execution_count": 65,
   "id": "c85b65e8",
   "metadata": {},
   "outputs": [
    {
     "data": {
      "text/plain": [
       "np.float64(1.2)"
      ]
     },
     "execution_count": 65,
     "metadata": {},
     "output_type": "execute_result"
    }
   ],
   "source": [
    "np.abs(-1.2)"
   ]
  },
  {
   "cell_type": "code",
   "execution_count": 66,
   "id": "ad9711eb",
   "metadata": {},
   "outputs": [
    {
     "data": {
      "text/plain": [
       "array([1.  , 1.2 , 1.02])"
      ]
     },
     "execution_count": 66,
     "metadata": {},
     "output_type": "execute_result"
    }
   ],
   "source": [
    "np.fabs([1,1.2,-1.02])"
   ]
  },
  {
   "cell_type": "code",
   "execution_count": 67,
   "id": "14951923",
   "metadata": {},
   "outputs": [
    {
     "name": "stdout",
     "output_type": "stream",
     "text": [
      "\u001b[0;31mCall signature:\u001b[0m  \u001b[0mnp\u001b[0m\u001b[0;34m.\u001b[0m\u001b[0mfabs\u001b[0m\u001b[0;34m(\u001b[0m\u001b[0;34m*\u001b[0m\u001b[0margs\u001b[0m\u001b[0;34m,\u001b[0m \u001b[0;34m**\u001b[0m\u001b[0mkwargs\u001b[0m\u001b[0;34m)\u001b[0m\u001b[0;34m\u001b[0m\u001b[0;34m\u001b[0m\u001b[0m\n",
      "\u001b[0;31mType:\u001b[0m            ufunc\n",
      "\u001b[0;31mString form:\u001b[0m     <ufunc 'fabs'>\n",
      "\u001b[0;31mFile:\u001b[0m            ~/Desktop/ml/InterviewPreparation/AI-ML-DS/practice_env/lib/python3.10/site-packages/numpy/__init__.py\n",
      "\u001b[0;31mDocstring:\u001b[0m      \n",
      "fabs(x, /, out=None, *, where=True, casting='same_kind', order='K', dtype=None, subok=True[, signature])\n",
      "\n",
      "Compute the absolute values element-wise.\n",
      "\n",
      "This function returns the absolute values (positive magnitude) of the\n",
      "data in `x`. Complex values are not handled, use `absolute` to find the\n",
      "absolute values of complex data.\n",
      "\n",
      "Parameters\n",
      "----------\n",
      "x : array_like\n",
      "    The array of numbers for which the absolute values are required. If\n",
      "    `x` is a scalar, the result `y` will also be a scalar.\n",
      "out : ndarray, None, or tuple of ndarray and None, optional\n",
      "    A location into which the result is stored. If provided, it must have\n",
      "    a shape that the inputs broadcast to. If not provided or None,\n",
      "    a freshly-allocated array is returned. A tuple (possible only as a\n",
      "    keyword argument) must have length equal to the number of outputs.\n",
      "where : array_like, optional\n",
      "    This condition is broadcast over the input. At locations where the\n",
      "    condition is True, the `out` array will be set to the ufunc result.\n",
      "    Elsewhere, the `out` array will retain its original value.\n",
      "    Note that if an uninitialized `out` array is created via the default\n",
      "    ``out=None``, locations within it where the condition is False will\n",
      "    remain uninitialized.\n",
      "**kwargs\n",
      "    For other keyword-only arguments, see the\n",
      "    :ref:`ufunc docs <ufuncs.kwargs>`.\n",
      "\n",
      "Returns\n",
      "-------\n",
      "y : ndarray or scalar\n",
      "    The absolute values of `x`, the returned values are always floats.\n",
      "    This is a scalar if `x` is a scalar.\n",
      "\n",
      "See Also\n",
      "--------\n",
      "absolute : Absolute values including `complex` types.\n",
      "\n",
      "Examples\n",
      "--------\n",
      ">>> import numpy as np\n",
      ">>> np.fabs(-1)\n",
      "1.0\n",
      ">>> np.fabs([-1.2, 1.2])\n",
      "array([ 1.2,  1.2])\n",
      "\u001b[0;31mClass docstring:\u001b[0m\n",
      "Functions that operate element by element on whole arrays.\n",
      "\n",
      "To see the documentation for a specific ufunc, use `info`.  For\n",
      "example, ``np.info(np.sin)``.  Because ufuncs are written in C\n",
      "(for speed) and linked into Python with NumPy's ufunc facility,\n",
      "Python's help() function finds this page whenever help() is called\n",
      "on a ufunc.\n",
      "\n",
      "A detailed explanation of ufuncs can be found in the docs for :ref:`ufuncs`.\n",
      "\n",
      "**Calling ufuncs:** ``op(*x[, out], where=True, **kwargs)``\n",
      "\n",
      "Apply `op` to the arguments `*x` elementwise, broadcasting the arguments.\n",
      "\n",
      "The broadcasting rules are:\n",
      "\n",
      "* Dimensions of length 1 may be prepended to either array.\n",
      "* Arrays may be repeated along dimensions of length 1.\n",
      "\n",
      "Parameters\n",
      "----------\n",
      "*x : array_like\n",
      "    Input arrays.\n",
      "out : ndarray, None, or tuple of ndarray and None, optional\n",
      "    Alternate array object(s) in which to put the result; if provided, it\n",
      "    must have a shape that the inputs broadcast to. A tuple of arrays\n",
      "    (possible only as a keyword argument) must have length equal to the\n",
      "    number of outputs; use None for uninitialized outputs to be\n",
      "    allocated by the ufunc.\n",
      "where : array_like, optional\n",
      "    This condition is broadcast over the input. At locations where the\n",
      "    condition is True, the `out` array will be set to the ufunc result.\n",
      "    Elsewhere, the `out` array will retain its original value.\n",
      "    Note that if an uninitialized `out` array is created via the default\n",
      "    ``out=None``, locations within it where the condition is False will\n",
      "    remain uninitialized.\n",
      "**kwargs\n",
      "    For other keyword-only arguments, see the :ref:`ufunc docs <ufuncs.kwargs>`.\n",
      "\n",
      "Returns\n",
      "-------\n",
      "r : ndarray or tuple of ndarray\n",
      "    `r` will have the shape that the arrays in `x` broadcast to; if `out` is\n",
      "    provided, it will be returned. If not, `r` will be allocated and\n",
      "    may contain uninitialized values. If the function has more than one\n",
      "    output, then the result will be a tuple of arrays."
     ]
    }
   ],
   "source": [
    "np.fabs?"
   ]
  },
  {
   "cell_type": "code",
   "execution_count": 68,
   "id": "921e2f5a",
   "metadata": {},
   "outputs": [
    {
     "name": "stdout",
     "output_type": "stream",
     "text": [
      "\u001b[0;31mCall signature:\u001b[0m  \u001b[0mnp\u001b[0m\u001b[0;34m.\u001b[0m\u001b[0mabsolute\u001b[0m\u001b[0;34m(\u001b[0m\u001b[0;34m*\u001b[0m\u001b[0margs\u001b[0m\u001b[0;34m,\u001b[0m \u001b[0;34m**\u001b[0m\u001b[0mkwargs\u001b[0m\u001b[0;34m)\u001b[0m\u001b[0;34m\u001b[0m\u001b[0;34m\u001b[0m\u001b[0m\n",
      "\u001b[0;31mType:\u001b[0m            ufunc\n",
      "\u001b[0;31mString form:\u001b[0m     <ufunc 'absolute'>\n",
      "\u001b[0;31mFile:\u001b[0m            ~/Desktop/ml/InterviewPreparation/AI-ML-DS/practice_env/lib/python3.10/site-packages/numpy/__init__.py\n",
      "\u001b[0;31mDocstring:\u001b[0m      \n",
      "absolute(x, /, out=None, *, where=True, casting='same_kind', order='K', dtype=None, subok=True[, signature])\n",
      "\n",
      "Calculate the absolute value element-wise.\n",
      "\n",
      "``np.abs`` is a shorthand for this function.\n",
      "\n",
      "Parameters\n",
      "----------\n",
      "x : array_like\n",
      "    Input array.\n",
      "out : ndarray, None, or tuple of ndarray and None, optional\n",
      "    A location into which the result is stored. If provided, it must have\n",
      "    a shape that the inputs broadcast to. If not provided or None,\n",
      "    a freshly-allocated array is returned. A tuple (possible only as a\n",
      "    keyword argument) must have length equal to the number of outputs.\n",
      "where : array_like, optional\n",
      "    This condition is broadcast over the input. At locations where the\n",
      "    condition is True, the `out` array will be set to the ufunc result.\n",
      "    Elsewhere, the `out` array will retain its original value.\n",
      "    Note that if an uninitialized `out` array is created via the default\n",
      "    ``out=None``, locations within it where the condition is False will\n",
      "    remain uninitialized.\n",
      "**kwargs\n",
      "    For other keyword-only arguments, see the\n",
      "    :ref:`ufunc docs <ufuncs.kwargs>`.\n",
      "\n",
      "Returns\n",
      "-------\n",
      "absolute : ndarray\n",
      "    An ndarray containing the absolute value of\n",
      "    each element in `x`.  For complex input, ``a + ib``, the\n",
      "    absolute value is :math:`\\sqrt{ a^2 + b^2 }`.\n",
      "    This is a scalar if `x` is a scalar.\n",
      "\n",
      "Examples\n",
      "--------\n",
      ">>> import numpy as np\n",
      ">>> x = np.array([-1.2, 1.2])\n",
      ">>> np.absolute(x)\n",
      "array([ 1.2,  1.2])\n",
      ">>> np.absolute(1.2 + 1j)\n",
      "1.5620499351813308\n",
      "\n",
      "Plot the function over ``[-10, 10]``:\n",
      "\n",
      ">>> import matplotlib.pyplot as plt\n",
      "\n",
      ">>> x = np.linspace(start=-10, stop=10, num=101)\n",
      ">>> plt.plot(x, np.absolute(x))\n",
      ">>> plt.show()\n",
      "\n",
      "Plot the function over the complex plane:\n",
      "\n",
      ">>> xx = x + 1j * x[:, np.newaxis]\n",
      ">>> plt.imshow(np.abs(xx), extent=[-10, 10, -10, 10], cmap='gray')\n",
      ">>> plt.show()\n",
      "\n",
      "The `abs` function can be used as a shorthand for ``np.absolute`` on\n",
      "ndarrays.\n",
      "\n",
      ">>> x = np.array([-1.2, 1.2])\n",
      ">>> abs(x)\n",
      "array([1.2, 1.2])\n",
      "\u001b[0;31mClass docstring:\u001b[0m\n",
      "Functions that operate element by element on whole arrays.\n",
      "\n",
      "To see the documentation for a specific ufunc, use `info`.  For\n",
      "example, ``np.info(np.sin)``.  Because ufuncs are written in C\n",
      "(for speed) and linked into Python with NumPy's ufunc facility,\n",
      "Python's help() function finds this page whenever help() is called\n",
      "on a ufunc.\n",
      "\n",
      "A detailed explanation of ufuncs can be found in the docs for :ref:`ufuncs`.\n",
      "\n",
      "**Calling ufuncs:** ``op(*x[, out], where=True, **kwargs)``\n",
      "\n",
      "Apply `op` to the arguments `*x` elementwise, broadcasting the arguments.\n",
      "\n",
      "The broadcasting rules are:\n",
      "\n",
      "* Dimensions of length 1 may be prepended to either array.\n",
      "* Arrays may be repeated along dimensions of length 1.\n",
      "\n",
      "Parameters\n",
      "----------\n",
      "*x : array_like\n",
      "    Input arrays.\n",
      "out : ndarray, None, or tuple of ndarray and None, optional\n",
      "    Alternate array object(s) in which to put the result; if provided, it\n",
      "    must have a shape that the inputs broadcast to. A tuple of arrays\n",
      "    (possible only as a keyword argument) must have length equal to the\n",
      "    number of outputs; use None for uninitialized outputs to be\n",
      "    allocated by the ufunc.\n",
      "where : array_like, optional\n",
      "    This condition is broadcast over the input. At locations where the\n",
      "    condition is True, the `out` array will be set to the ufunc result.\n",
      "    Elsewhere, the `out` array will retain its original value.\n",
      "    Note that if an uninitialized `out` array is created via the default\n",
      "    ``out=None``, locations within it where the condition is False will\n",
      "    remain uninitialized.\n",
      "**kwargs\n",
      "    For other keyword-only arguments, see the :ref:`ufunc docs <ufuncs.kwargs>`.\n",
      "\n",
      "Returns\n",
      "-------\n",
      "r : ndarray or tuple of ndarray\n",
      "    `r` will have the shape that the arrays in `x` broadcast to; if `out` is\n",
      "    provided, it will be returned. If not, `r` will be allocated and\n",
      "    may contain uninitialized values. If the function has more than one\n",
      "    output, then the result will be a tuple of arrays."
     ]
    }
   ],
   "source": [
    "np.absolute?"
   ]
  },
  {
   "cell_type": "code",
   "execution_count": 69,
   "id": "4cacc4c4",
   "metadata": {},
   "outputs": [
    {
     "data": {
      "text/plain": [
       "np.float64(1.5620499351813308)"
      ]
     },
     "execution_count": 69,
     "metadata": {},
     "output_type": "execute_result"
    }
   ],
   "source": [
    "np.absolute(1.2 + 1j)"
   ]
  },
  {
   "cell_type": "code",
   "execution_count": 70,
   "id": "e6182119",
   "metadata": {},
   "outputs": [
    {
     "data": {
      "image/png": "[encoded data removed]",
      "text/plain": [
       "<Figure size 640x480 with 1 Axes>"
      ]
     },
     "metadata": {},
     "output_type": "display_data"
    }
   ],
   "source": [
    "import matplotlib.pyplot as plt\n",
    "\n",
    "x = np.linspace(start=-10, stop=10, num=101)\n",
    "plt.plot(x, np.absolute(x))\n",
    "plt.show()"
   ]
  },
  {
   "cell_type": "code",
   "execution_count": 71,
   "id": "3e3fb139",
   "metadata": {},
   "outputs": [
    {
     "data": {
      "image/png": "[encoded data removed]",
      "text/plain": [
       "<Figure size 640x480 with 1 Axes>"
      ]
     },
     "metadata": {},
     "output_type": "display_data"
    }
   ],
   "source": [
    "#Plot the function over the complex plane:\n",
    "\n",
    "xx = x + 1j * x[:, np.newaxis]\n",
    "plt.imshow(np.abs(xx), extent=[-10, 10, -10, 10], cmap='gray')\n",
    "plt.show()"
   ]
  },
  {
   "cell_type": "code",
   "execution_count": 72,
   "id": "e3d27fdc",
   "metadata": {},
   "outputs": [
    {
     "data": {
      "text/plain": [
       "np.float64(0.6931471805599453)"
      ]
     },
     "execution_count": 72,
     "metadata": {},
     "output_type": "execute_result"
    }
   ],
   "source": [
    "np.log1p(1)"
   ]
  },
  {
   "cell_type": "code",
   "execution_count": 73,
   "id": "285cbb7a",
   "metadata": {},
   "outputs": [
    {
     "data": {
      "text/plain": [
       "np.float64(2.0)"
      ]
     },
     "execution_count": 73,
     "metadata": {},
     "output_type": "execute_result"
    }
   ],
   "source": [
    "np.ceil(1.2)"
   ]
  },
  {
   "cell_type": "code",
   "execution_count": 74,
   "id": "a428e408",
   "metadata": {},
   "outputs": [
    {
     "data": {
      "text/plain": [
       "np.float64(1.0)"
      ]
     },
     "execution_count": 74,
     "metadata": {},
     "output_type": "execute_result"
    }
   ],
   "source": [
    "np.floor(1.2)"
   ]
  },
  {
   "cell_type": "code",
   "execution_count": 75,
   "id": "ae86ffbc",
   "metadata": {},
   "outputs": [
    {
     "data": {
      "text/plain": [
       "np.float64(1.0)"
      ]
     },
     "execution_count": 75,
     "metadata": {},
     "output_type": "execute_result"
    }
   ],
   "source": [
    "np.rint(1.2)"
   ]
  },
  {
   "cell_type": "code",
   "execution_count": 76,
   "id": "f6b49a99",
   "metadata": {},
   "outputs": [
    {
     "data": {
      "text/plain": [
       "np.float64(2.0)"
      ]
     },
     "execution_count": 76,
     "metadata": {},
     "output_type": "execute_result"
    }
   ],
   "source": [
    "np.rint(1.5)"
   ]
  },
  {
   "cell_type": "code",
   "execution_count": 77,
   "id": "069ad248",
   "metadata": {},
   "outputs": [
    {
     "data": {
      "text/plain": [
       "np.float64(2.0)"
      ]
     },
     "execution_count": 77,
     "metadata": {},
     "output_type": "execute_result"
    }
   ],
   "source": [
    "np.rint(1.6)"
   ]
  },
  {
   "cell_type": "code",
   "execution_count": 78,
   "id": "07fb0786",
   "metadata": {},
   "outputs": [
    {
     "data": {
      "text/plain": [
       "np.float64(1.0)"
      ]
     },
     "execution_count": 78,
     "metadata": {},
     "output_type": "execute_result"
    }
   ],
   "source": [
    "np.rint(1.4)"
   ]
  },
  {
   "cell_type": "code",
   "execution_count": 79,
   "id": "9c1c30d9",
   "metadata": {},
   "outputs": [
    {
     "data": {
      "text/plain": [
       "array([False, False, False,  True])"
      ]
     },
     "execution_count": 79,
     "metadata": {},
     "output_type": "execute_result"
    }
   ],
   "source": [
    "np.isnan([1,0,-1,np.nan])"
   ]
  },
  {
   "cell_type": "code",
   "execution_count": 80,
   "id": "c1222a8e",
   "metadata": {},
   "outputs": [
    {
     "data": {
      "text/plain": [
       "np.float64(1.5707963267948966)"
      ]
     },
     "execution_count": 80,
     "metadata": {},
     "output_type": "execute_result"
    }
   ],
   "source": [
    "np.arccos(0)"
   ]
  },
  {
   "cell_type": "code",
   "execution_count": 81,
   "id": "cb3016f5",
   "metadata": {},
   "outputs": [
    {
     "data": {
      "text/plain": [
       "np.False_"
      ]
     },
     "execution_count": 81,
     "metadata": {},
     "output_type": "execute_result"
    }
   ],
   "source": [
    "np.isfinite(np.nan)"
   ]
  },
  {
   "cell_type": "code",
   "execution_count": 82,
   "id": "5d668861",
   "metadata": {},
   "outputs": [
    {
     "data": {
      "text/plain": [
       "np.False_"
      ]
     },
     "execution_count": 82,
     "metadata": {},
     "output_type": "execute_result"
    }
   ],
   "source": [
    "np.isinf(np.nan)"
   ]
  },
  {
   "cell_type": "markdown",
   "id": "63d38f21",
   "metadata": {},
   "source": [
    "**Table 4-4. Binary universal functions**      \n",
    "\n",
    "**Function --> Description**      \n",
    "\n",
    "add --> Add corresponding elements in arrays      \n",
    "subtract --> Subtract elements in second array from first array      \n",
    "multiply --> Multiply array elements      \n",
    "divide, floor_divide --> Divide or foor divide (truncating the remainder)      \n",
    "power --> Raise elements in first array to powers indicated in second array       \n",
    "maximum, fmax --> Element-wise maximum; fmax ignores NaN       \n",
    "minimum, fmin --> Element-wise minimum; fmin ignores NaN       \n",
    "mod --> Element-wise modulus (remainder of division)        \n",
    "copysign --> Copy sign of values in second argument to values in first argument      \n",
    "greater, greater_equal,less, less_equal,equal, not_equal --> Perform element-wise comparison, yielding boolean array (equivalent to infix operators >, >=, <, <=, ==, !=)       \n",
    "logical_and, logical_or, logical_xor --> Compute element-wise truth value of logical operation (equivalent to infix operators & |, ^)    \n"
   ]
  },
  {
   "cell_type": "code",
   "execution_count": 83,
   "id": "1f04d588",
   "metadata": {},
   "outputs": [
    {
     "name": "stdout",
     "output_type": "stream",
     "text": [
      "\u001b[0;31mCall signature:\u001b[0m  \u001b[0mnp\u001b[0m\u001b[0;34m.\u001b[0m\u001b[0madd\u001b[0m\u001b[0;34m(\u001b[0m\u001b[0;34m*\u001b[0m\u001b[0margs\u001b[0m\u001b[0;34m,\u001b[0m \u001b[0;34m**\u001b[0m\u001b[0mkwargs\u001b[0m\u001b[0;34m)\u001b[0m\u001b[0;34m\u001b[0m\u001b[0;34m\u001b[0m\u001b[0m\n",
      "\u001b[0;31mType:\u001b[0m            ufunc\n",
      "\u001b[0;31mString form:\u001b[0m     <ufunc 'add'>\n",
      "\u001b[0;31mFile:\u001b[0m            ~/Desktop/ml/InterviewPreparation/AI-ML-DS/practice_env/lib/python3.10/site-packages/numpy/__init__.py\n",
      "\u001b[0;31mDocstring:\u001b[0m      \n",
      "add(x1, x2, /, out=None, *, where=True, casting='same_kind', order='K', dtype=None, subok=True[, signature])\n",
      "\n",
      "Add arguments element-wise.\n",
      "\n",
      "Parameters\n",
      "----------\n",
      "x1, x2 : array_like\n",
      "    The arrays to be added.\n",
      "    If ``x1.shape != x2.shape``, they must be broadcastable to a common\n",
      "    shape (which becomes the shape of the output).\n",
      "out : ndarray, None, or tuple of ndarray and None, optional\n",
      "    A location into which the result is stored. If provided, it must have\n",
      "    a shape that the inputs broadcast to. If not provided or None,\n",
      "    a freshly-allocated array is returned. A tuple (possible only as a\n",
      "    keyword argument) must have length equal to the number of outputs.\n",
      "where : array_like, optional\n",
      "    This condition is broadcast over the input. At locations where the\n",
      "    condition is True, the `out` array will be set to the ufunc result.\n",
      "    Elsewhere, the `out` array will retain its original value.\n",
      "    Note that if an uninitialized `out` array is created via the default\n",
      "    ``out=None``, locations within it where the condition is False will\n",
      "    remain uninitialized.\n",
      "**kwargs\n",
      "    For other keyword-only arguments, see the\n",
      "    :ref:`ufunc docs <ufuncs.kwargs>`.\n",
      "\n",
      "Returns\n",
      "-------\n",
      "add : ndarray or scalar\n",
      "    The sum of `x1` and `x2`, element-wise.\n",
      "    This is a scalar if both `x1` and `x2` are scalars.\n",
      "\n",
      "Notes\n",
      "-----\n",
      "Equivalent to `x1` + `x2` in terms of array broadcasting.\n",
      "\n",
      "Examples\n",
      "--------\n",
      ">>> import numpy as np\n",
      ">>> np.add(1.0, 4.0)\n",
      "5.0\n",
      ">>> x1 = np.arange(9.0).reshape((3, 3))\n",
      ">>> x2 = np.arange(3.0)\n",
      ">>> np.add(x1, x2)\n",
      "array([[  0.,   2.,   4.],\n",
      "       [  3.,   5.,   7.],\n",
      "       [  6.,   8.,  10.]])\n",
      "\n",
      "The ``+`` operator can be used as a shorthand for ``np.add`` on ndarrays.\n",
      "\n",
      ">>> x1 = np.arange(9.0).reshape((3, 3))\n",
      ">>> x2 = np.arange(3.0)\n",
      ">>> x1 + x2\n",
      "array([[ 0.,  2.,  4.],\n",
      "       [ 3.,  5.,  7.],\n",
      "       [ 6.,  8., 10.]])\n",
      "\u001b[0;31mClass docstring:\u001b[0m\n",
      "Functions that operate element by element on whole arrays.\n",
      "\n",
      "To see the documentation for a specific ufunc, use `info`.  For\n",
      "example, ``np.info(np.sin)``.  Because ufuncs are written in C\n",
      "(for speed) and linked into Python with NumPy's ufunc facility,\n",
      "Python's help() function finds this page whenever help() is called\n",
      "on a ufunc.\n",
      "\n",
      "A detailed explanation of ufuncs can be found in the docs for :ref:`ufuncs`.\n",
      "\n",
      "**Calling ufuncs:** ``op(*x[, out], where=True, **kwargs)``\n",
      "\n",
      "Apply `op` to the arguments `*x` elementwise, broadcasting the arguments.\n",
      "\n",
      "The broadcasting rules are:\n",
      "\n",
      "* Dimensions of length 1 may be prepended to either array.\n",
      "* Arrays may be repeated along dimensions of length 1.\n",
      "\n",
      "Parameters\n",
      "----------\n",
      "*x : array_like\n",
      "    Input arrays.\n",
      "out : ndarray, None, or tuple of ndarray and None, optional\n",
      "    Alternate array object(s) in which to put the result; if provided, it\n",
      "    must have a shape that the inputs broadcast to. A tuple of arrays\n",
      "    (possible only as a keyword argument) must have length equal to the\n",
      "    number of outputs; use None for uninitialized outputs to be\n",
      "    allocated by the ufunc.\n",
      "where : array_like, optional\n",
      "    This condition is broadcast over the input. At locations where the\n",
      "    condition is True, the `out` array will be set to the ufunc result.\n",
      "    Elsewhere, the `out` array will retain its original value.\n",
      "    Note that if an uninitialized `out` array is created via the default\n",
      "    ``out=None``, locations within it where the condition is False will\n",
      "    remain uninitialized.\n",
      "**kwargs\n",
      "    For other keyword-only arguments, see the :ref:`ufunc docs <ufuncs.kwargs>`.\n",
      "\n",
      "Returns\n",
      "-------\n",
      "r : ndarray or tuple of ndarray\n",
      "    `r` will have the shape that the arrays in `x` broadcast to; if `out` is\n",
      "    provided, it will be returned. If not, `r` will be allocated and\n",
      "    may contain uninitialized values. If the function has more than one\n",
      "    output, then the result will be a tuple of arrays."
     ]
    }
   ],
   "source": [
    "np.add?"
   ]
  },
  {
   "cell_type": "code",
   "execution_count": 84,
   "id": "6100d19d",
   "metadata": {},
   "outputs": [
    {
     "data": {
      "text/plain": [
       "array([5, 7, 9])"
      ]
     },
     "execution_count": 84,
     "metadata": {},
     "output_type": "execute_result"
    }
   ],
   "source": [
    "np.add([1,2,3],[4,5,6])"
   ]
  },
  {
   "cell_type": "code",
   "execution_count": 85,
   "id": "666e32d4",
   "metadata": {},
   "outputs": [
    {
     "data": {
      "text/plain": [
       "array([ 1, 32, 27])"
      ]
     },
     "execution_count": 85,
     "metadata": {},
     "output_type": "execute_result"
    }
   ],
   "source": [
    "np.power([1,2,3],[4,5,3])"
   ]
  },
  {
   "cell_type": "code",
   "execution_count": 86,
   "id": "56ece7bb",
   "metadata": {},
   "outputs": [
    {
     "data": {
      "text/plain": [
       "array([2, 4, 5])"
      ]
     },
     "execution_count": 86,
     "metadata": {},
     "output_type": "execute_result"
    }
   ],
   "source": [
    "np.fmax([1,4,3],[2,1,5])"
   ]
  },
  {
   "cell_type": "code",
   "execution_count": 87,
   "id": "bde1ff2f",
   "metadata": {},
   "outputs": [
    {
     "data": {
      "text/plain": [
       "array([1, 2, 1])"
      ]
     },
     "execution_count": 87,
     "metadata": {},
     "output_type": "execute_result"
    }
   ],
   "source": [
    "np.mod([7,26,3],[2,6,2])"
   ]
  },
  {
   "cell_type": "code",
   "execution_count": 88,
   "id": "6778fb51",
   "metadata": {},
   "outputs": [
    {
     "data": {
      "text/plain": [
       "array([-1., -2.,  3.])"
      ]
     },
     "execution_count": 88,
     "metadata": {},
     "output_type": "execute_result"
    }
   ],
   "source": [
    "np.copysign([1,2,3],[-1,-2,1])"
   ]
  },
  {
   "cell_type": "code",
   "execution_count": 89,
   "id": "2bfa6f5b",
   "metadata": {},
   "outputs": [
    {
     "data": {
      "text/plain": [
       "array([False,  True,  True])"
      ]
     },
     "execution_count": 89,
     "metadata": {},
     "output_type": "execute_result"
    }
   ],
   "source": [
    "np.greater_equal([1,2,3],[2,2,1])"
   ]
  },
  {
   "cell_type": "code",
   "execution_count": 90,
   "id": "6d2d6cbd",
   "metadata": {},
   "outputs": [
    {
     "data": {
      "text/plain": [
       "array([ True, False, False])"
      ]
     },
     "execution_count": 90,
     "metadata": {},
     "output_type": "execute_result"
    }
   ],
   "source": [
    "np.logical_xor([1,0,1],[0,0,1])"
   ]
  },
  {
   "cell_type": "code",
   "execution_count": 91,
   "id": "e3272c90",
   "metadata": {},
   "outputs": [
    {
     "name": "stdout",
     "output_type": "stream",
     "text": [
      "[[7.07106781 7.06400028 7.05693985 ... 7.04988652 7.05693985 7.06400028]\n",
      " [7.06400028 7.05692568 7.04985815 ... 7.04279774 7.04985815 7.05692568]\n",
      " [7.05693985 7.04985815 7.04278354 ... 7.03571603 7.04278354 7.04985815]\n",
      " ...\n",
      " [7.04988652 7.04279774 7.03571603 ... 7.0286414  7.03571603 7.04279774]\n",
      " [7.05693985 7.04985815 7.04278354 ... 7.03571603 7.04278354 7.04985815]\n",
      " [7.06400028 7.05692568 7.04985815 ... 7.04279774 7.04985815 7.05692568]]\n"
     ]
    }
   ],
   "source": [
    "# computing sqrt(x^2 + y^2) across a regular grid of values: \n",
    "\n",
    "x=np.arange(-5,5,0.01)\n",
    "y=np.arange(-5,5,0.01)\n",
    "xs,ys=np.meshgrid(x,y)\n",
    "print(np.sqrt(xs**2+ys**2))"
   ]
  },
  {
   "cell_type": "code",
   "execution_count": 92,
   "id": "616c024a",
   "metadata": {},
   "outputs": [
    {
     "data": {
      "text/plain": [
       "array(['ankit', 'summi'], dtype='<U5')"
      ]
     },
     "execution_count": 92,
     "metadata": {},
     "output_type": "execute_result"
    }
   ],
   "source": [
    "x=np.array(['ankit','arpit'])\n",
    "y=np.array(['kiio','summi'])\n",
    "np.where([True,False],x,y)"
   ]
  },
  {
   "cell_type": "code",
   "execution_count": 93,
   "id": "a1b72a2b",
   "metadata": {},
   "outputs": [
    {
     "name": "stdout",
     "output_type": "stream",
     "text": [
      "\u001b[0;31mCall signature:\u001b[0m  \u001b[0mnp\u001b[0m\u001b[0;34m.\u001b[0m\u001b[0mwhere\u001b[0m\u001b[0;34m(\u001b[0m\u001b[0;34m*\u001b[0m\u001b[0margs\u001b[0m\u001b[0;34m,\u001b[0m \u001b[0;34m**\u001b[0m\u001b[0mkwargs\u001b[0m\u001b[0;34m)\u001b[0m\u001b[0;34m\u001b[0m\u001b[0;34m\u001b[0m\u001b[0m\n",
      "\u001b[0;31mType:\u001b[0m            _ArrayFunctionDispatcher\n",
      "\u001b[0;31mString form:\u001b[0m     <built-in function where>\n",
      "\u001b[0;31mDocstring:\u001b[0m      \n",
      "where(condition, [x, y], /)\n",
      "\n",
      "Return elements chosen from `x` or `y` depending on `condition`.\n",
      "\n",
      ".. note::\n",
      "    When only `condition` is provided, this function is a shorthand for\n",
      "    ``np.asarray(condition).nonzero()``. Using `nonzero` directly should be\n",
      "    preferred, as it behaves correctly for subclasses. The rest of this\n",
      "    documentation covers only the case where all three arguments are\n",
      "    provided.\n",
      "\n",
      "Parameters\n",
      "----------\n",
      "condition : array_like, bool\n",
      "    Where True, yield `x`, otherwise yield `y`.\n",
      "x, y : array_like\n",
      "    Values from which to choose. `x`, `y` and `condition` need to be\n",
      "    broadcastable to some shape.\n",
      "\n",
      "Returns\n",
      "-------\n",
      "out : ndarray\n",
      "    An array with elements from `x` where `condition` is True, and elements\n",
      "    from `y` elsewhere.\n",
      "\n",
      "See Also\n",
      "--------\n",
      "choose\n",
      "nonzero : The function that is called when x and y are omitted\n",
      "\n",
      "Notes\n",
      "-----\n",
      "If all the arrays are 1-D, `where` is equivalent to::\n",
      "\n",
      "    [xv if c else yv\n",
      "     for c, xv, yv in zip(condition, x, y)]\n",
      "\n",
      "Examples\n",
      "--------\n",
      ">>> import numpy as np\n",
      ">>> a = np.arange(10)\n",
      ">>> a\n",
      "array([0, 1, 2, 3, 4, 5, 6, 7, 8, 9])\n",
      ">>> np.where(a < 5, a, 10*a)\n",
      "array([ 0,  1,  2,  3,  4, 50, 60, 70, 80, 90])\n",
      "\n",
      "This can be used on multidimensional arrays too:\n",
      "\n",
      ">>> np.where([[True, False], [True, True]],\n",
      "...          [[1, 2], [3, 4]],\n",
      "...          [[9, 8], [7, 6]])\n",
      "array([[1, 8],\n",
      "       [3, 4]])\n",
      "\n",
      "The shapes of x, y, and the condition are broadcast together:\n",
      "\n",
      ">>> x, y = np.ogrid[:3, :4]\n",
      ">>> np.where(x < y, x, 10 + y)  # both x and 10+y are broadcast\n",
      "array([[10,  0,  0,  0],\n",
      "       [10, 11,  1,  1],\n",
      "       [10, 11, 12,  2]])\n",
      "\n",
      ">>> a = np.array([[0, 1, 2],\n",
      "...               [0, 2, 4],\n",
      "...               [0, 3, 6]])\n",
      ">>> np.where(a < 4, a, -1)  # -1 is broadcast\n",
      "array([[ 0,  1,  2],\n",
      "       [ 0,  2, -1],\n",
      "       [ 0,  3, -1]])\n",
      "\u001b[0;31mClass docstring:\u001b[0m\n",
      "Class to wrap functions with checks for __array_function__ overrides.\n",
      "\n",
      "All arguments are required, and can only be passed by position.\n",
      "\n",
      "Parameters\n",
      "----------\n",
      "dispatcher : function or None\n",
      "    The dispatcher function that returns a single sequence-like object\n",
      "    of all arguments relevant.  It must have the same signature (except\n",
      "    the default values) as the actual implementation.\n",
      "    If ``None``, this is a ``like=`` dispatcher and the\n",
      "    ``_ArrayFunctionDispatcher`` must be called with ``like`` as the\n",
      "    first (additional and positional) argument.\n",
      "implementation : function\n",
      "    Function that implements the operation on NumPy arrays without\n",
      "    overrides.  Arguments passed calling the ``_ArrayFunctionDispatcher``\n",
      "    will be forwarded to this (and the ``dispatcher``) as if using\n",
      "    ``*args, **kwargs``.\n",
      "\n",
      "Attributes\n",
      "----------\n",
      "_implementation : function\n",
      "    The original implementation passed in."
     ]
    }
   ],
   "source": [
    "np.where?"
   ]
  },
  {
   "cell_type": "code",
   "execution_count": 94,
   "id": "cf0688ec",
   "metadata": {},
   "outputs": [
    {
     "name": "stdout",
     "output_type": "stream",
     "text": [
      "[ 1.03518014  0.26568722  0.3583539   0.15972404 -2.25755302]\n",
      "[ 2  2  2  2 -3]\n",
      "[ 2.          2.          2.          2.         -2.25755302]\n"
     ]
    }
   ],
   "source": [
    "arr=np.random.randn(5)\n",
    "print(arr)\n",
    "print(np.where(arr>0,2,-3))\n",
    "print(np.where(arr>0,2,arr))"
   ]
  },
  {
   "cell_type": "code",
   "execution_count": 95,
   "id": "481e6d8f",
   "metadata": {},
   "outputs": [
    {
     "data": {
      "text/plain": [
       "array([[1, 2, 3],\n",
       "       [4, 5, 6]])"
      ]
     },
     "execution_count": 95,
     "metadata": {},
     "output_type": "execute_result"
    }
   ],
   "source": [
    "arr = np.array([[1,2,3],[4,5,6]])\n",
    "arr"
   ]
  },
  {
   "cell_type": "code",
   "execution_count": 96,
   "id": "615d5320",
   "metadata": {},
   "outputs": [
    {
     "data": {
      "text/plain": [
       "np.float64(3.5)"
      ]
     },
     "execution_count": 96,
     "metadata": {},
     "output_type": "execute_result"
    }
   ],
   "source": [
    "arr.mean() # mean of all elements"
   ]
  },
  {
   "cell_type": "code",
   "execution_count": 97,
   "id": "ed1ce68d",
   "metadata": {},
   "outputs": [
    {
     "data": {
      "text/plain": [
       "array([2.5, 3.5, 4.5])"
      ]
     },
     "execution_count": 97,
     "metadata": {},
     "output_type": "execute_result"
    }
   ],
   "source": [
    "arr.mean(axis=0) # mean of each column"
   ]
  },
  {
   "cell_type": "code",
   "execution_count": 98,
   "id": "8db2680b",
   "metadata": {},
   "outputs": [
    {
     "data": {
      "text/plain": [
       "array([2., 5.])"
      ]
     },
     "execution_count": 98,
     "metadata": {},
     "output_type": "execute_result"
    }
   ],
   "source": [
    "arr.mean(axis=1) # mean of each row"
   ]
  },
  {
   "cell_type": "code",
   "execution_count": 99,
   "id": "d783e27e",
   "metadata": {},
   "outputs": [
    {
     "data": {
      "text/plain": [
       "np.float64(3.5)"
      ]
     },
     "execution_count": 99,
     "metadata": {},
     "output_type": "execute_result"
    }
   ],
   "source": [
    "np.mean(arr)"
   ]
  },
  {
   "cell_type": "code",
   "execution_count": 100,
   "id": "4d4aad5b",
   "metadata": {},
   "outputs": [
    {
     "data": {
      "text/plain": [
       "array([2.5, 3.5, 4.5])"
      ]
     },
     "execution_count": 100,
     "metadata": {},
     "output_type": "execute_result"
    }
   ],
   "source": [
    "np.mean(arr,axis=0)"
   ]
  },
  {
   "cell_type": "code",
   "execution_count": 101,
   "id": "5f6ce2f3",
   "metadata": {},
   "outputs": [
    {
     "data": {
      "text/plain": [
       "array([2., 5.])"
      ]
     },
     "execution_count": 101,
     "metadata": {},
     "output_type": "execute_result"
    }
   ],
   "source": [
    "np.mean(arr,axis=1)"
   ]
  },
  {
   "cell_type": "code",
   "execution_count": 102,
   "id": "25f523d6",
   "metadata": {},
   "outputs": [
    {
     "data": {
      "text/plain": [
       "array([[1, 2, 3],\n",
       "       [5, 7, 9]])"
      ]
     },
     "execution_count": 102,
     "metadata": {},
     "output_type": "execute_result"
    }
   ],
   "source": [
    "arr.cumsum(axis=0)"
   ]
  },
  {
   "cell_type": "code",
   "execution_count": 103,
   "id": "c9004cef",
   "metadata": {},
   "outputs": [
    {
     "data": {
      "text/plain": [
       "array([[ 1,  3,  6],\n",
       "       [ 4,  9, 15]])"
      ]
     },
     "execution_count": 103,
     "metadata": {},
     "output_type": "execute_result"
    }
   ],
   "source": [
    "arr.cumsum(axis=1)"
   ]
  },
  {
   "cell_type": "code",
   "execution_count": 104,
   "id": "ca69f831",
   "metadata": {},
   "outputs": [
    {
     "data": {
      "text/plain": [
       "array([ 1,  3,  6, 10, 15, 21])"
      ]
     },
     "execution_count": 104,
     "metadata": {},
     "output_type": "execute_result"
    }
   ],
   "source": [
    "arr.cumsum()"
   ]
  },
  {
   "cell_type": "code",
   "execution_count": 105,
   "id": "83875bf3",
   "metadata": {},
   "outputs": [
    {
     "data": {
      "text/plain": [
       "array([  1,   2,   6,  24, 120, 720])"
      ]
     },
     "execution_count": 105,
     "metadata": {},
     "output_type": "execute_result"
    }
   ],
   "source": [
    "arr.cumprod()"
   ]
  },
  {
   "cell_type": "code",
   "execution_count": 106,
   "id": "3602d096",
   "metadata": {},
   "outputs": [
    {
     "data": {
      "text/plain": [
       "array([[ 1,  2,  3],\n",
       "       [ 4, 10, 18]])"
      ]
     },
     "execution_count": 106,
     "metadata": {},
     "output_type": "execute_result"
    }
   ],
   "source": [
    "arr.cumprod(axis=0)"
   ]
  },
  {
   "cell_type": "code",
   "execution_count": 107,
   "id": "70fb5777",
   "metadata": {},
   "outputs": [
    {
     "data": {
      "text/plain": [
       "array([[  1,   2,   6],\n",
       "       [  4,  20, 120]])"
      ]
     },
     "execution_count": 107,
     "metadata": {},
     "output_type": "execute_result"
    }
   ],
   "source": [
    "arr.cumprod(axis=1)"
   ]
  },
  {
   "cell_type": "markdown",
   "id": "c8473fbe",
   "metadata": {},
   "source": [
    "**Method --> Description**    \n",
    "\n",
    "sum --> Sum of all the elements in the array or along an axis; zero-length arrays have sum 0     \n",
    "mean --> Arithmetic mean; zero-length arrays have NaN mean     \n",
    "std, var --> Standard deviation and variance, respectively, with optional degrees of freedom adjustment (default denominator n)     \n",
    "min, max --> Minimum and maximum     \n",
    "argmin, argmax --> Indices of minimum and maximum elements, respectively     \n",
    "cumsum --> Cumulative sum of elements starting from 0      \n",
    "cumprod --> Cumulative product of elements starting from 1"
   ]
  },
  {
   "cell_type": "code",
   "execution_count": 108,
   "id": "7b9d28ae",
   "metadata": {},
   "outputs": [
    {
     "name": "stderr",
     "output_type": "stream",
     "text": [
      "/tmp/ipykernel_12714/1578359007.py:2: RuntimeWarning: Mean of empty slice.\n",
      "  arr.mean()\n",
      "/home/ankit/Desktop/ml/InterviewPreparation/AI-ML-DS/practice_env/lib/python3.10/site-packages/numpy/_core/_methods.py:145: RuntimeWarning: invalid value encountered in scalar divide\n",
      "  ret = ret.dtype.type(ret / rcount)\n"
     ]
    },
    {
     "data": {
      "text/plain": [
       "np.float64(nan)"
      ]
     },
     "execution_count": 108,
     "metadata": {},
     "output_type": "execute_result"
    }
   ],
   "source": [
    "arr=np.array([])\n",
    "arr.mean()"
   ]
  },
  {
   "cell_type": "code",
   "execution_count": 109,
   "id": "2e5794c8",
   "metadata": {},
   "outputs": [
    {
     "data": {
      "text/plain": [
       "np.int64(3)"
      ]
     },
     "execution_count": 109,
     "metadata": {},
     "output_type": "execute_result"
    }
   ],
   "source": [
    "np.sum((1,2))"
   ]
  },
  {
   "cell_type": "code",
   "execution_count": 110,
   "id": "0d17ebca",
   "metadata": {},
   "outputs": [
    {
     "data": {
      "text/plain": [
       "np.int64(2)"
      ]
     },
     "execution_count": 110,
     "metadata": {},
     "output_type": "execute_result"
    }
   ],
   "source": [
    "np.sum([-1,3])"
   ]
  },
  {
   "cell_type": "code",
   "execution_count": 111,
   "id": "9d90af60",
   "metadata": {},
   "outputs": [
    {
     "data": {
      "text/plain": [
       "np.float64(1.118033988749895)"
      ]
     },
     "execution_count": 111,
     "metadata": {},
     "output_type": "execute_result"
    }
   ],
   "source": [
    "np.std([[1,2],[4,3]])"
   ]
  },
  {
   "cell_type": "code",
   "execution_count": 112,
   "id": "fa3be1a9",
   "metadata": {},
   "outputs": [
    {
     "name": "stdout",
     "output_type": "stream",
     "text": [
      "\u001b[0;31mSignature:\u001b[0m      \n",
      "\u001b[0mnp\u001b[0m\u001b[0;34m.\u001b[0m\u001b[0mstd\u001b[0m\u001b[0;34m(\u001b[0m\u001b[0;34m\u001b[0m\n",
      "\u001b[0;34m\u001b[0m    \u001b[0ma\u001b[0m\u001b[0;34m,\u001b[0m\u001b[0;34m\u001b[0m\n",
      "\u001b[0;34m\u001b[0m    \u001b[0maxis\u001b[0m\u001b[0;34m=\u001b[0m\u001b[0;32mNone\u001b[0m\u001b[0;34m,\u001b[0m\u001b[0;34m\u001b[0m\n",
      "\u001b[0;34m\u001b[0m    \u001b[0mdtype\u001b[0m\u001b[0;34m=\u001b[0m\u001b[0;32mNone\u001b[0m\u001b[0;34m,\u001b[0m\u001b[0;34m\u001b[0m\n",
      "\u001b[0;34m\u001b[0m    \u001b[0mout\u001b[0m\u001b[0;34m=\u001b[0m\u001b[0;32mNone\u001b[0m\u001b[0;34m,\u001b[0m\u001b[0;34m\u001b[0m\n",
      "\u001b[0;34m\u001b[0m    \u001b[0mddof\u001b[0m\u001b[0;34m=\u001b[0m\u001b[0;36m0\u001b[0m\u001b[0;34m,\u001b[0m\u001b[0;34m\u001b[0m\n",
      "\u001b[0;34m\u001b[0m    \u001b[0mkeepdims\u001b[0m\u001b[0;34m=\u001b[0m\u001b[0;34m<\u001b[0m\u001b[0mno\u001b[0m \u001b[0mvalue\u001b[0m\u001b[0;34m>\u001b[0m\u001b[0;34m,\u001b[0m\u001b[0;34m\u001b[0m\n",
      "\u001b[0;34m\u001b[0m    \u001b[0;34m*\u001b[0m\u001b[0;34m,\u001b[0m\u001b[0;34m\u001b[0m\n",
      "\u001b[0;34m\u001b[0m    \u001b[0mwhere\u001b[0m\u001b[0;34m=\u001b[0m\u001b[0;34m<\u001b[0m\u001b[0mno\u001b[0m \u001b[0mvalue\u001b[0m\u001b[0;34m>\u001b[0m\u001b[0;34m,\u001b[0m\u001b[0;34m\u001b[0m\n",
      "\u001b[0;34m\u001b[0m    \u001b[0mmean\u001b[0m\u001b[0;34m=\u001b[0m\u001b[0;34m<\u001b[0m\u001b[0mno\u001b[0m \u001b[0mvalue\u001b[0m\u001b[0;34m>\u001b[0m\u001b[0;34m,\u001b[0m\u001b[0;34m\u001b[0m\n",
      "\u001b[0;34m\u001b[0m    \u001b[0mcorrection\u001b[0m\u001b[0;34m=\u001b[0m\u001b[0;34m<\u001b[0m\u001b[0mno\u001b[0m \u001b[0mvalue\u001b[0m\u001b[0;34m>\u001b[0m\u001b[0;34m,\u001b[0m\u001b[0;34m\u001b[0m\n",
      "\u001b[0;34m\u001b[0m\u001b[0;34m)\u001b[0m\u001b[0;34m\u001b[0m\u001b[0;34m\u001b[0m\u001b[0m\n",
      "\u001b[0;31mCall signature:\u001b[0m  \u001b[0mnp\u001b[0m\u001b[0;34m.\u001b[0m\u001b[0mstd\u001b[0m\u001b[0;34m(\u001b[0m\u001b[0;34m*\u001b[0m\u001b[0margs\u001b[0m\u001b[0;34m,\u001b[0m \u001b[0;34m**\u001b[0m\u001b[0mkwargs\u001b[0m\u001b[0;34m)\u001b[0m\u001b[0;34m\u001b[0m\u001b[0;34m\u001b[0m\u001b[0m\n",
      "\u001b[0;31mType:\u001b[0m            _ArrayFunctionDispatcher\n",
      "\u001b[0;31mString form:\u001b[0m     <function std at 0x7ec3b85b27a0>\n",
      "\u001b[0;31mFile:\u001b[0m            ~/Desktop/ml/InterviewPreparation/AI-ML-DS/practice_env/lib/python3.10/site-packages/numpy/_core/fromnumeric.py\n",
      "\u001b[0;31mDocstring:\u001b[0m      \n",
      "Compute the standard deviation along the specified axis.\n",
      "\n",
      "Returns the standard deviation, a measure of the spread of a distribution,\n",
      "of the array elements. The standard deviation is computed for the\n",
      "flattened array by default, otherwise over the specified axis.\n",
      "\n",
      "Parameters\n",
      "----------\n",
      "a : array_like\n",
      "    Calculate the standard deviation of these values.\n",
      "axis : None or int or tuple of ints, optional\n",
      "    Axis or axes along which the standard deviation is computed. The\n",
      "    default is to compute the standard deviation of the flattened array.\n",
      "    If this is a tuple of ints, a standard deviation is performed over\n",
      "    multiple axes, instead of a single axis or all the axes as before.\n",
      "dtype : dtype, optional\n",
      "    Type to use in computing the standard deviation. For arrays of\n",
      "    integer type the default is float64, for arrays of float types it is\n",
      "    the same as the array type.\n",
      "out : ndarray, optional\n",
      "    Alternative output array in which to place the result. It must have\n",
      "    the same shape as the expected output but the type (of the calculated\n",
      "    values) will be cast if necessary.\n",
      "    See :ref:`ufuncs-output-type` for more details.\n",
      "ddof : {int, float}, optional\n",
      "    Means Delta Degrees of Freedom.  The divisor used in calculations\n",
      "    is ``N - ddof``, where ``N`` represents the number of elements.\n",
      "    By default `ddof` is zero. See Notes for details about use of `ddof`.\n",
      "keepdims : bool, optional\n",
      "    If this is set to True, the axes which are reduced are left\n",
      "    in the result as dimensions with size one. With this option,\n",
      "    the result will broadcast correctly against the input array.\n",
      "\n",
      "    If the default value is passed, then `keepdims` will not be\n",
      "    passed through to the `std` method of sub-classes of\n",
      "    `ndarray`, however any non-default value will be.  If the\n",
      "    sub-class' method does not implement `keepdims` any\n",
      "    exceptions will be raised.\n",
      "where : array_like of bool, optional\n",
      "    Elements to include in the standard deviation.\n",
      "    See `~numpy.ufunc.reduce` for details.\n",
      "\n",
      "    .. versionadded:: 1.20.0\n",
      "\n",
      "mean : array_like, optional\n",
      "    Provide the mean to prevent its recalculation. The mean should have\n",
      "    a shape as if it was calculated with ``keepdims=True``.\n",
      "    The axis for the calculation of the mean should be the same as used in\n",
      "    the call to this std function.\n",
      "\n",
      "    .. versionadded:: 2.0.0\n",
      "\n",
      "correction : {int, float}, optional\n",
      "    Array API compatible name for the ``ddof`` parameter. Only one of them\n",
      "    can be provided at the same time.\n",
      "\n",
      "    .. versionadded:: 2.0.0\n",
      "\n",
      "Returns\n",
      "-------\n",
      "standard_deviation : ndarray, see dtype parameter above.\n",
      "    If `out` is None, return a new array containing the standard deviation,\n",
      "    otherwise return a reference to the output array.\n",
      "\n",
      "See Also\n",
      "--------\n",
      "var, mean, nanmean, nanstd, nanvar\n",
      ":ref:`ufuncs-output-type`\n",
      "\n",
      "Notes\n",
      "-----\n",
      "There are several common variants of the array standard deviation\n",
      "calculation. Assuming the input `a` is a one-dimensional NumPy array\n",
      "and ``mean`` is either provided as an argument or computed as\n",
      "``a.mean()``, NumPy computes the standard deviation of an array as::\n",
      "\n",
      "    N = len(a)\n",
      "    d2 = abs(a - mean)**2  # abs is for complex `a`\n",
      "    var = d2.sum() / (N - ddof)  # note use of `ddof`\n",
      "    std = var**0.5\n",
      "\n",
      "Different values of the argument `ddof` are useful in different\n",
      "contexts. NumPy's default ``ddof=0`` corresponds with the expression:\n",
      "\n",
      ".. math::\n",
      "\n",
      "    \\sqrt{\\frac{\\sum_i{|a_i - \\bar{a}|^2 }}{N}}\n",
      "\n",
      "which is sometimes called the \"population standard deviation\" in the field\n",
      "of statistics because it applies the definition of standard deviation to\n",
      "`a` as if `a` were a complete population of possible observations.\n",
      "\n",
      "Many other libraries define the standard deviation of an array\n",
      "differently, e.g.:\n",
      "\n",
      ".. math::\n",
      "\n",
      "    \\sqrt{\\frac{\\sum_i{|a_i - \\bar{a}|^2 }}{N - 1}}\n",
      "\n",
      "In statistics, the resulting quantity is sometimes called the \"sample\n",
      "standard deviation\" because if `a` is a random sample from a larger\n",
      "population, this calculation provides the square root of an unbiased\n",
      "estimate of the variance of the population. The use of :math:`N-1` in the\n",
      "denominator is often called \"Bessel's correction\" because it corrects for\n",
      "bias (toward lower values) in the variance estimate introduced when the\n",
      "sample mean of `a` is used in place of the true mean of the population.\n",
      "The resulting estimate of the standard deviation is still biased, but less\n",
      "than it would have been without the correction. For this quantity, use\n",
      "``ddof=1``.\n",
      "\n",
      "Note that, for complex numbers, `std` takes the absolute\n",
      "value before squaring, so that the result is always real and nonnegative.\n",
      "\n",
      "For floating-point input, the standard deviation is computed using the same\n",
      "precision the input has. Depending on the input data, this can cause\n",
      "the results to be inaccurate, especially for float32 (see example below).\n",
      "Specifying a higher-accuracy accumulator using the `dtype` keyword can\n",
      "alleviate this issue.\n",
      "\n",
      "Examples\n",
      "--------\n",
      ">>> import numpy as np\n",
      ">>> a = np.array([[1, 2], [3, 4]])\n",
      ">>> np.std(a)\n",
      "1.1180339887498949 # may vary\n",
      ">>> np.std(a, axis=0)\n",
      "array([1.,  1.])\n",
      ">>> np.std(a, axis=1)\n",
      "array([0.5,  0.5])\n",
      "\n",
      "In single precision, std() can be inaccurate:\n",
      "\n",
      ">>> a = np.zeros((2, 512*512), dtype=np.float32)\n",
      ">>> a[0, :] = 1.0\n",
      ">>> a[1, :] = 0.1\n",
      ">>> np.std(a)\n",
      "np.float32(0.45000005)\n",
      "\n",
      "Computing the standard deviation in float64 is more accurate:\n",
      "\n",
      ">>> np.std(a, dtype=np.float64)\n",
      "0.44999999925494177 # may vary\n",
      "\n",
      "Specifying a where argument:\n",
      "\n",
      ">>> a = np.array([[14, 8, 11, 10], [7, 9, 10, 11], [10, 15, 5, 10]])\n",
      ">>> np.std(a)\n",
      "2.614064523559687 # may vary\n",
      ">>> np.std(a, where=[[True], [True], [False]])\n",
      "2.0\n",
      "\n",
      "Using the mean keyword to save computation time:\n",
      "\n",
      ">>> import numpy as np\n",
      ">>> from timeit import timeit\n",
      ">>> a = np.array([[14, 8, 11, 10], [7, 9, 10, 11], [10, 15, 5, 10]])\n",
      ">>> mean = np.mean(a, axis=1, keepdims=True)\n",
      ">>>\n",
      ">>> g = globals()\n",
      ">>> n = 10000\n",
      ">>> t1 = timeit(\"std = np.std(a, axis=1, mean=mean)\", globals=g, number=n)\n",
      ">>> t2 = timeit(\"std = np.std(a, axis=1)\", globals=g, number=n)\n",
      ">>> print(f'Percentage execution time saved {100*(t2-t1)/t2:.0f}%')\n",
      "#doctest: +SKIP\n",
      "Percentage execution time saved 30%\n",
      "\u001b[0;31mClass docstring:\u001b[0m\n",
      "Class to wrap functions with checks for __array_function__ overrides.\n",
      "\n",
      "All arguments are required, and can only be passed by position.\n",
      "\n",
      "Parameters\n",
      "----------\n",
      "dispatcher : function or None\n",
      "    The dispatcher function that returns a single sequence-like object\n",
      "    of all arguments relevant.  It must have the same signature (except\n",
      "    the default values) as the actual implementation.\n",
      "    If ``None``, this is a ``like=`` dispatcher and the\n",
      "    ``_ArrayFunctionDispatcher`` must be called with ``like`` as the\n",
      "    first (additional and positional) argument.\n",
      "implementation : function\n",
      "    Function that implements the operation on NumPy arrays without\n",
      "    overrides.  Arguments passed calling the ``_ArrayFunctionDispatcher``\n",
      "    will be forwarded to this (and the ``dispatcher``) as if using\n",
      "    ``*args, **kwargs``.\n",
      "\n",
      "Attributes\n",
      "----------\n",
      "_implementation : function\n",
      "    The original implementation passed in."
     ]
    }
   ],
   "source": [
    "np.std?"
   ]
  },
  {
   "cell_type": "code",
   "execution_count": 113,
   "id": "af672223",
   "metadata": {},
   "outputs": [
    {
     "data": {
      "text/plain": [
       "np.int64(1)"
      ]
     },
     "execution_count": 113,
     "metadata": {},
     "output_type": "execute_result"
    }
   ],
   "source": [
    "np.min([1,4,3])"
   ]
  },
  {
   "cell_type": "code",
   "execution_count": 114,
   "id": "21763d0e",
   "metadata": {},
   "outputs": [
    {
     "data": {
      "text/plain": [
       "np.int64(3)"
      ]
     },
     "execution_count": 114,
     "metadata": {},
     "output_type": "execute_result"
    }
   ],
   "source": [
    "np.argmax([1,4,3,5,2])"
   ]
  },
  {
   "cell_type": "code",
   "execution_count": 115,
   "id": "8c9b4626",
   "metadata": {},
   "outputs": [
    {
     "data": {
      "text/plain": [
       "array([ 7. , 14. , -2.8])"
      ]
     },
     "execution_count": 115,
     "metadata": {},
     "output_type": "execute_result"
    }
   ],
   "source": [
    "np.cumprod((7,2,-0.2))"
   ]
  },
  {
   "cell_type": "code",
   "execution_count": 116,
   "id": "f93570b8",
   "metadata": {},
   "outputs": [
    {
     "name": "stdout",
     "output_type": "stream",
     "text": [
      "2 True False\n"
     ]
    }
   ],
   "source": [
    "bools=np.array([True,False,True])\n",
    "print(bools.sum(),bools.any(),bools.all())"
   ]
  },
  {
   "cell_type": "code",
   "execution_count": 117,
   "id": "f2223206",
   "metadata": {},
   "outputs": [
    {
     "data": {
      "text/plain": [
       "array([[2. , 3. , 1. ],\n",
       "       [6.1, 2. , 8. ]])"
      ]
     },
     "execution_count": 117,
     "metadata": {},
     "output_type": "execute_result"
    }
   ],
   "source": [
    "z=np.array([[2,3,1],[6.1,2,8]])\n",
    "z"
   ]
  },
  {
   "cell_type": "code",
   "execution_count": 118,
   "id": "36513ca1",
   "metadata": {},
   "outputs": [
    {
     "name": "stdout",
     "output_type": "stream",
     "text": [
      "[[1.  2.  3. ]\n",
      " [2.  6.1 8. ]]\n"
     ]
    }
   ],
   "source": [
    "z.sort(axis=1)\n",
    "print(z)"
   ]
  },
  {
   "cell_type": "code",
   "execution_count": 119,
   "id": "9f56ad0d",
   "metadata": {},
   "outputs": [
    {
     "data": {
      "text/plain": [
       "array([1, 2, 3, 4])"
      ]
     },
     "execution_count": 119,
     "metadata": {},
     "output_type": "execute_result"
    }
   ],
   "source": [
    "ints = np.array([3, 3, 3, 2, 2, 1, 1, 4, 4])\n",
    "np.unique(ints)"
   ]
  },
  {
   "cell_type": "markdown",
   "id": "3cdac218",
   "metadata": {},
   "source": [
    "NumPy is able to save and load data to and from disk either in text or binary format.\n",
    "\n",
    "np.save and np.load are the two workhorse functions for efficiently saving and loading array data on disk. \n",
    "Arrays are saved by default in an uncompressed raw binary format with file extension .npy"
   ]
  },
  {
   "cell_type": "code",
   "execution_count": 120,
   "id": "88fb52a4",
   "metadata": {},
   "outputs": [
    {
     "data": {
      "text/plain": [
       "array([[ 0,  1,  2,  3],\n",
       "       [ 4,  5,  6,  7],\n",
       "       [ 8,  9, 10, 11],\n",
       "       [12, 13, 14, 15]])"
      ]
     },
     "execution_count": 120,
     "metadata": {},
     "output_type": "execute_result"
    }
   ],
   "source": [
    "z=np.arange(16).reshape(4,4)\n",
    "np.save('myarray',z)\n",
    "y=np.load('myarray.npy')\n",
    "y"
   ]
  },
  {
   "cell_type": "code",
   "execution_count": 121,
   "id": "8b1070d5",
   "metadata": {},
   "outputs": [
    {
     "data": {
      "text/plain": [
       "array([[[ 0,  1,  2],\n",
       "        [ 3,  4,  5]],\n",
       "\n",
       "       [[ 6,  7,  8],\n",
       "        [ 9, 10, 11]]])"
      ]
     },
     "execution_count": 121,
     "metadata": {},
     "output_type": "execute_result"
    }
   ],
   "source": [
    "# For multiple files:\n",
    "\n",
    "a=np.arange(12).reshape(2,2,3)\n",
    "b=np.arange(12).reshape(4,3)\n",
    "np.savez('myarrays.npz',x=a,y=b)\n",
    "loaded=np.load('myarrays.npz')\n",
    "loaded['x']"
   ]
  },
  {
   "cell_type": "code",
   "execution_count": 122,
   "id": "a4b3f158",
   "metadata": {},
   "outputs": [
    {
     "data": {
      "text/plain": [
       "array([[ 0,  1,  2],\n",
       "       [ 3,  4,  5],\n",
       "       [ 6,  7,  8],\n",
       "       [ 9, 10, 11]])"
      ]
     },
     "execution_count": 122,
     "metadata": {},
     "output_type": "execute_result"
    }
   ],
   "source": [
    "loaded['y']"
   ]
  },
  {
   "cell_type": "code",
   "execution_count": 123,
   "id": "7c3fb8aa",
   "metadata": {},
   "outputs": [
    {
     "name": "stdout",
     "output_type": "stream",
     "text": [
      "[[[ 0  1  2]\n",
      "  [ 3  4  5]]\n",
      "\n",
      " [[ 6  7  8]\n",
      "  [ 9 10 11]]]\n"
     ]
    }
   ],
   "source": [
    "# for compressed files:\n",
    "\n",
    "a=np.arange(12).reshape(2,2,3)\n",
    "b=np.arange(12).reshape(4,3)\n",
    "np.savez_compressed(\"compressed_archived.npz\",a=a,b=b)\n",
    "arr=np.load(\"compressed_archived.npz\")\n",
    "print(arr['a'])"
   ]
  },
  {
   "cell_type": "code",
   "execution_count": 124,
   "id": "52793739",
   "metadata": {},
   "outputs": [
    {
     "name": "stdout",
     "output_type": "stream",
     "text": [
      "[[ 0  1  2]\n",
      " [ 3  4  5]\n",
      " [ 6  7  8]\n",
      " [ 9 10 11]]\n"
     ]
    }
   ],
   "source": [
    "print(arr['b'])"
   ]
  },
  {
   "cell_type": "markdown",
   "id": "bcc22428",
   "metadata": {},
   "source": [
    "**Linear Algebra**"
   ]
  },
  {
   "cell_type": "code",
   "execution_count": 125,
   "id": "e7a0ac04",
   "metadata": {},
   "outputs": [
    {
     "name": "stdout",
     "output_type": "stream",
     "text": [
      "[[10 13]\n",
      " [28 40]]\n",
      "[[10 13]\n",
      " [28 40]]\n",
      "[[10 13]\n",
      " [28 40]]\n"
     ]
    }
   ],
   "source": [
    "a=np.arange(6).reshape(2,3)\n",
    "b=np.arange(6).reshape(3,2)\n",
    "print(a.dot(b))\n",
    "print(np.dot(a,b))\n",
    "print(a @ b)\n",
    "# The @ symbol (as of Python 3.5) also works as an infix operator that performs matrix multiplication"
   ]
  },
  {
   "cell_type": "markdown",
   "id": "65c6ffb1",
   "metadata": {},
   "source": [
    "`numpy.linalg` has a standard set of matrix decompositions and things like inverse and determinant. These are implemented under the hood via the same industry standard linear algebra libraries used in other languages \n",
    "like MATLAB and R, such as BLAS, LAPACK, or possibly (depending on your NumPy build) the proprietary Intel MKL (Math Kernel Library)\n"
   ]
  },
  {
   "cell_type": "markdown",
   "id": "9798f8a5",
   "metadata": {},
   "source": [
    "diag --> Return the diagonal (or off-diagonal) elements of a square matrix as a 1D array, or convert a 1D array into a square matrix with zeros on the off-diagonal       \n",
    "dot --> Matrix multiplication     \n",
    "trace --> Compute the sum of the diagonal elements    \n",
    "det --> Compute the matrix determinant    \n",
    "eig  --> Compute the eigenvalues and eigenvectors of a square matrix     \n",
    "inv --> Compute the inverse of a square matrix     \n",
    "pinv --> Compute the Moore-Penrose pseudo-inverse of a matrix     \n",
    "qr --> Compute the QR decomposition     \n",
    "svd --> Compute the singular value decomposition (SVD)    \n",
    "solve --> Solve the linear system Ax = b for x, where A is a square matrix      \n",
    "lstsq --> Compute the least-squares solution to Ax = b      "
   ]
  },
  {
   "cell_type": "code",
   "execution_count": 126,
   "id": "aba9ab96",
   "metadata": {},
   "outputs": [
    {
     "data": {
      "text/plain": [
       "array([[-2. ,  1. ],\n",
       "       [ 1.5, -0.5]])"
      ]
     },
     "execution_count": 126,
     "metadata": {},
     "output_type": "execute_result"
    }
   ],
   "source": [
    "np.linalg.inv([[1,2],[3,4]])"
   ]
  },
  {
   "cell_type": "code",
   "execution_count": 127,
   "id": "e3a6ddd4",
   "metadata": {},
   "outputs": [
    {
     "data": {
      "text/plain": [
       "np.float64(-2.0000000000000004)"
      ]
     },
     "execution_count": 127,
     "metadata": {},
     "output_type": "execute_result"
    }
   ],
   "source": [
    "np.linalg.det([[1,2],[3,4]])"
   ]
  },
  {
   "cell_type": "code",
   "execution_count": 128,
   "id": "33724154",
   "metadata": {},
   "outputs": [
    {
     "data": {
      "text/plain": [
       "array([1, 4])"
      ]
     },
     "execution_count": 128,
     "metadata": {},
     "output_type": "execute_result"
    }
   ],
   "source": [
    "np.linalg.diagonal([[1,2],[3,4]])"
   ]
  },
  {
   "cell_type": "code",
   "execution_count": 129,
   "id": "da38d89b",
   "metadata": {},
   "outputs": [
    {
     "data": {
      "text/plain": [
       "array([[1, 0, 0, 0],\n",
       "       [0, 2, 0, 0],\n",
       "       [0, 0, 3, 0],\n",
       "       [0, 0, 0, 4]])"
      ]
     },
     "execution_count": 129,
     "metadata": {},
     "output_type": "execute_result"
    }
   ],
   "source": [
    "np.diag([1,2,3,4])"
   ]
  },
  {
   "cell_type": "code",
   "execution_count": 130,
   "id": "bf61c22b",
   "metadata": {},
   "outputs": [
    {
     "data": {
      "text/plain": [
       "array([1, 4])"
      ]
     },
     "execution_count": 130,
     "metadata": {},
     "output_type": "execute_result"
    }
   ],
   "source": [
    "np.diag([[1,2],[3,4]])"
   ]
  },
  {
   "cell_type": "code",
   "execution_count": 131,
   "id": "8174c03d",
   "metadata": {},
   "outputs": [
    {
     "data": {
      "text/plain": [
       "np.int64(5)"
      ]
     },
     "execution_count": 131,
     "metadata": {},
     "output_type": "execute_result"
    }
   ],
   "source": [
    "np.trace([[1,2],[3,4]])"
   ]
  },
  {
   "cell_type": "code",
   "execution_count": 132,
   "id": "bf01f667",
   "metadata": {},
   "outputs": [
    {
     "data": {
      "text/plain": [
       "EigResult(eigenvalues=array([1., 1.]), eigenvectors=array([[1., 0.],\n",
       "       [0., 1.]]))"
      ]
     },
     "execution_count": 132,
     "metadata": {},
     "output_type": "execute_result"
    }
   ],
   "source": [
    "np.linalg.eig([[1,0],[0,1]])"
   ]
  },
  {
   "cell_type": "code",
   "execution_count": 133,
   "id": "a444cf07",
   "metadata": {},
   "outputs": [
    {
     "data": {
      "text/plain": [
       "array([[-2. ,  1. ],\n",
       "       [ 1.5, -0.5]])"
      ]
     },
     "execution_count": 133,
     "metadata": {},
     "output_type": "execute_result"
    }
   ],
   "source": [
    "np.linalg.pinv([[1,2],[3,4]])  "
   ]
  },
  {
   "cell_type": "code",
   "execution_count": 134,
   "id": "41a14687",
   "metadata": {},
   "outputs": [
    {
     "data": {
      "text/plain": [
       "array([[-0.05952381, -0.06547619,  0.17261905],\n",
       "       [-0.11904762,  0.36904762, -0.1547619 ],\n",
       "       [ 0.19047619, -0.19047619,  0.04761905]])"
      ]
     },
     "execution_count": 134,
     "metadata": {},
     "output_type": "execute_result"
    }
   ],
   "source": [
    "np.linalg.pinv([[2,5,9],[4,6,5],[8,4,5]])  "
   ]
  },
  {
   "cell_type": "code",
   "execution_count": 135,
   "id": "866417d5",
   "metadata": {},
   "outputs": [
    {
     "data": {
      "text/plain": [
       "QRResult(Q=array([[-0.31622777, -0.9486833 ],\n",
       "       [-0.9486833 ,  0.31622777]]), R=array([[-3.16227766, -4.42718872],\n",
       "       [ 0.        , -0.63245553]]))"
      ]
     },
     "execution_count": 135,
     "metadata": {},
     "output_type": "execute_result"
    }
   ],
   "source": [
    "np.linalg.qr([[1,2],[3,4]])"
   ]
  },
  {
   "cell_type": "code",
   "execution_count": 136,
   "id": "e852c9f9",
   "metadata": {},
   "outputs": [
    {
     "data": {
      "text/plain": [
       "SVDResult(U=array([[-0.40455358, -0.9145143 ],\n",
       "       [-0.9145143 ,  0.40455358]]), S=array([5.4649857 , 0.36596619]), Vh=array([[-0.57604844, -0.81741556],\n",
       "       [ 0.81741556, -0.57604844]]))"
      ]
     },
     "execution_count": 136,
     "metadata": {},
     "output_type": "execute_result"
    }
   ],
   "source": [
    "np.linalg.svd([[1,2],[3,4]])"
   ]
  },
  {
   "cell_type": "code",
   "execution_count": 137,
   "id": "90f6cdae",
   "metadata": {},
   "outputs": [
    {
     "name": "stdout",
     "output_type": "stream",
     "text": [
      "\u001b[0;31mSignature:\u001b[0m       \u001b[0mnp\u001b[0m\u001b[0;34m.\u001b[0m\u001b[0mlinalg\u001b[0m\u001b[0;34m.\u001b[0m\u001b[0msolve\u001b[0m\u001b[0;34m(\u001b[0m\u001b[0ma\u001b[0m\u001b[0;34m,\u001b[0m \u001b[0mb\u001b[0m\u001b[0;34m)\u001b[0m\u001b[0;34m\u001b[0m\u001b[0;34m\u001b[0m\u001b[0m\n",
      "\u001b[0;31mCall signature:\u001b[0m  \u001b[0mnp\u001b[0m\u001b[0;34m.\u001b[0m\u001b[0mlinalg\u001b[0m\u001b[0;34m.\u001b[0m\u001b[0msolve\u001b[0m\u001b[0;34m(\u001b[0m\u001b[0;34m*\u001b[0m\u001b[0margs\u001b[0m\u001b[0;34m,\u001b[0m \u001b[0;34m**\u001b[0m\u001b[0mkwargs\u001b[0m\u001b[0;34m)\u001b[0m\u001b[0;34m\u001b[0m\u001b[0;34m\u001b[0m\u001b[0m\n",
      "\u001b[0;31mType:\u001b[0m            _ArrayFunctionDispatcher\n",
      "\u001b[0;31mString form:\u001b[0m     <function solve at 0x7ec3b84a2830>\n",
      "\u001b[0;31mFile:\u001b[0m            ~/Desktop/ml/InterviewPreparation/AI-ML-DS/practice_env/lib/python3.10/site-packages/numpy/linalg/_linalg.py\n",
      "\u001b[0;31mDocstring:\u001b[0m      \n",
      "Solve a linear matrix equation, or system of linear scalar equations.\n",
      "\n",
      "Computes the \"exact\" solution, `x`, of the well-determined, i.e., full\n",
      "rank, linear matrix equation `ax = b`.\n",
      "\n",
      "Parameters\n",
      "----------\n",
      "a : (..., M, M) array_like\n",
      "    Coefficient matrix.\n",
      "b : {(M,), (..., M, K)}, array_like\n",
      "    Ordinate or \"dependent variable\" values.\n",
      "\n",
      "Returns\n",
      "-------\n",
      "x : {(..., M,), (..., M, K)} ndarray\n",
      "    Solution to the system a x = b.  Returned shape is (..., M) if b is\n",
      "    shape (M,) and (..., M, K) if b is (..., M, K), where the \"...\" part is\n",
      "    broadcasted between a and b.\n",
      "\n",
      "Raises\n",
      "------\n",
      "LinAlgError\n",
      "    If `a` is singular or not square.\n",
      "\n",
      "See Also\n",
      "--------\n",
      "scipy.linalg.solve : Similar function in SciPy.\n",
      "\n",
      "Notes\n",
      "-----\n",
      "Broadcasting rules apply, see the `numpy.linalg` documentation for\n",
      "details.\n",
      "\n",
      "The solutions are computed using LAPACK routine ``_gesv``.\n",
      "\n",
      "`a` must be square and of full-rank, i.e., all rows (or, equivalently,\n",
      "columns) must be linearly independent; if either is not true, use\n",
      "`lstsq` for the least-squares best \"solution\" of the\n",
      "system/equation.\n",
      "\n",
      ".. versionchanged:: 2.0\n",
      "\n",
      "   The b array is only treated as a shape (M,) column vector if it is\n",
      "   exactly 1-dimensional. In all other instances it is treated as a stack\n",
      "   of (M, K) matrices. Previously b would be treated as a stack of (M,)\n",
      "   vectors if b.ndim was equal to a.ndim - 1.\n",
      "\n",
      "References\n",
      "----------\n",
      ".. [1] G. Strang, *Linear Algebra and Its Applications*, 2nd Ed., Orlando,\n",
      "       FL, Academic Press, Inc., 1980, pg. 22.\n",
      "\n",
      "Examples\n",
      "--------\n",
      "Solve the system of equations:\n",
      "``x0 + 2 * x1 = 1`` and\n",
      "``3 * x0 + 5 * x1 = 2``:\n",
      "\n",
      ">>> import numpy as np\n",
      ">>> a = np.array([[1, 2], [3, 5]])\n",
      ">>> b = np.array([1, 2])\n",
      ">>> x = np.linalg.solve(a, b)\n",
      ">>> x\n",
      "array([-1.,  1.])\n",
      "\n",
      "Check that the solution is correct:\n",
      "\n",
      ">>> np.allclose(np.dot(a, x), b)\n",
      "True\n",
      "\u001b[0;31mClass docstring:\u001b[0m\n",
      "Class to wrap functions with checks for __array_function__ overrides.\n",
      "\n",
      "All arguments are required, and can only be passed by position.\n",
      "\n",
      "Parameters\n",
      "----------\n",
      "dispatcher : function or None\n",
      "    The dispatcher function that returns a single sequence-like object\n",
      "    of all arguments relevant.  It must have the same signature (except\n",
      "    the default values) as the actual implementation.\n",
      "    If ``None``, this is a ``like=`` dispatcher and the\n",
      "    ``_ArrayFunctionDispatcher`` must be called with ``like`` as the\n",
      "    first (additional and positional) argument.\n",
      "implementation : function\n",
      "    Function that implements the operation on NumPy arrays without\n",
      "    overrides.  Arguments passed calling the ``_ArrayFunctionDispatcher``\n",
      "    will be forwarded to this (and the ``dispatcher``) as if using\n",
      "    ``*args, **kwargs``.\n",
      "\n",
      "Attributes\n",
      "----------\n",
      "_implementation : function\n",
      "    The original implementation passed in."
     ]
    }
   ],
   "source": [
    "np.linalg.solve?"
   ]
  },
  {
   "cell_type": "code",
   "execution_count": 138,
   "id": "060abbd1",
   "metadata": {},
   "outputs": [
    {
     "data": {
      "text/plain": [
       "array([-1.,  1.])"
      ]
     },
     "execution_count": 138,
     "metadata": {},
     "output_type": "execute_result"
    }
   ],
   "source": [
    "import numpy as np\n",
    "a = np.array([[1, 2], [3, 5]])\n",
    "b = np.array([1, 2])\n",
    "x = np.linalg.solve(a, b)\n",
    "x"
   ]
  },
  {
   "cell_type": "code",
   "execution_count": 139,
   "id": "3d8458ce",
   "metadata": {},
   "outputs": [
    {
     "name": "stdout",
     "output_type": "stream",
     "text": [
      "\u001b[0;31mSignature:\u001b[0m       \u001b[0mnp\u001b[0m\u001b[0;34m.\u001b[0m\u001b[0mlinalg\u001b[0m\u001b[0;34m.\u001b[0m\u001b[0mlstsq\u001b[0m\u001b[0;34m(\u001b[0m\u001b[0ma\u001b[0m\u001b[0;34m,\u001b[0m \u001b[0mb\u001b[0m\u001b[0;34m,\u001b[0m \u001b[0mrcond\u001b[0m\u001b[0;34m=\u001b[0m\u001b[0;32mNone\u001b[0m\u001b[0;34m)\u001b[0m\u001b[0;34m\u001b[0m\u001b[0;34m\u001b[0m\u001b[0m\n",
      "\u001b[0;31mCall signature:\u001b[0m  \u001b[0mnp\u001b[0m\u001b[0;34m.\u001b[0m\u001b[0mlinalg\u001b[0m\u001b[0;34m.\u001b[0m\u001b[0mlstsq\u001b[0m\u001b[0;34m(\u001b[0m\u001b[0;34m*\u001b[0m\u001b[0margs\u001b[0m\u001b[0;34m,\u001b[0m \u001b[0;34m**\u001b[0m\u001b[0mkwargs\u001b[0m\u001b[0;34m)\u001b[0m\u001b[0;34m\u001b[0m\u001b[0;34m\u001b[0m\u001b[0m\n",
      "\u001b[0;31mType:\u001b[0m            _ArrayFunctionDispatcher\n",
      "\u001b[0;31mString form:\u001b[0m     <function lstsq at 0x7ec3b84a3a30>\n",
      "\u001b[0;31mFile:\u001b[0m            ~/Desktop/ml/InterviewPreparation/AI-ML-DS/practice_env/lib/python3.10/site-packages/numpy/linalg/_linalg.py\n",
      "\u001b[0;31mDocstring:\u001b[0m      \n",
      "Return the least-squares solution to a linear matrix equation.\n",
      "\n",
      "Computes the vector `x` that approximately solves the equation\n",
      "``a @ x = b``. The equation may be under-, well-, or over-determined\n",
      "(i.e., the number of linearly independent rows of `a` can be less than,\n",
      "equal to, or greater than its number of linearly independent columns).\n",
      "If `a` is square and of full rank, then `x` (but for round-off error)\n",
      "is the \"exact\" solution of the equation. Else, `x` minimizes the\n",
      "Euclidean 2-norm :math:`||b - ax||`. If there are multiple minimizing\n",
      "solutions, the one with the smallest 2-norm :math:`||x||` is returned.\n",
      "\n",
      "Parameters\n",
      "----------\n",
      "a : (M, N) array_like\n",
      "    \"Coefficient\" matrix.\n",
      "b : {(M,), (M, K)} array_like\n",
      "    Ordinate or \"dependent variable\" values. If `b` is two-dimensional,\n",
      "    the least-squares solution is calculated for each of the `K` columns\n",
      "    of `b`.\n",
      "rcond : float, optional\n",
      "    Cut-off ratio for small singular values of `a`.\n",
      "    For the purposes of rank determination, singular values are treated\n",
      "    as zero if they are smaller than `rcond` times the largest singular\n",
      "    value of `a`.\n",
      "    The default uses the machine precision times ``max(M, N)``.  Passing\n",
      "    ``-1`` will use machine precision.\n",
      "\n",
      "    .. versionchanged:: 2.0\n",
      "        Previously, the default was ``-1``, but a warning was given that\n",
      "        this would change.\n",
      "\n",
      "Returns\n",
      "-------\n",
      "x : {(N,), (N, K)} ndarray\n",
      "    Least-squares solution. If `b` is two-dimensional,\n",
      "    the solutions are in the `K` columns of `x`.\n",
      "residuals : {(1,), (K,), (0,)} ndarray\n",
      "    Sums of squared residuals: Squared Euclidean 2-norm for each column in\n",
      "    ``b - a @ x``.\n",
      "    If the rank of `a` is < N or M <= N, this is an empty array.\n",
      "    If `b` is 1-dimensional, this is a (1,) shape array.\n",
      "    Otherwise the shape is (K,).\n",
      "rank : int\n",
      "    Rank of matrix `a`.\n",
      "s : (min(M, N),) ndarray\n",
      "    Singular values of `a`.\n",
      "\n",
      "Raises\n",
      "------\n",
      "LinAlgError\n",
      "    If computation does not converge.\n",
      "\n",
      "See Also\n",
      "--------\n",
      "scipy.linalg.lstsq : Similar function in SciPy.\n",
      "\n",
      "Notes\n",
      "-----\n",
      "If `b` is a matrix, then all array results are returned as matrices.\n",
      "\n",
      "Examples\n",
      "--------\n",
      "Fit a line, ``y = mx + c``, through some noisy data-points:\n",
      "\n",
      ">>> import numpy as np\n",
      ">>> x = np.array([0, 1, 2, 3])\n",
      ">>> y = np.array([-1, 0.2, 0.9, 2.1])\n",
      "\n",
      "By examining the coefficients, we see that the line should have a\n",
      "gradient of roughly 1 and cut the y-axis at, more or less, -1.\n",
      "\n",
      "We can rewrite the line equation as ``y = Ap``, where ``A = [[x 1]]``\n",
      "and ``p = [[m], [c]]``.  Now use `lstsq` to solve for `p`:\n",
      "\n",
      ">>> A = np.vstack([x, np.ones(len(x))]).T\n",
      ">>> A\n",
      "array([[ 0.,  1.],\n",
      "       [ 1.,  1.],\n",
      "       [ 2.,  1.],\n",
      "       [ 3.,  1.]])\n",
      "\n",
      ">>> m, c = np.linalg.lstsq(A, y)[0]\n",
      ">>> m, c\n",
      "(1.0 -0.95) # may vary\n",
      "\n",
      "Plot the data along with the fitted line:\n",
      "\n",
      ">>> import matplotlib.pyplot as plt\n",
      ">>> _ = plt.plot(x, y, 'o', label='Original data', markersize=10)\n",
      ">>> _ = plt.plot(x, m*x + c, 'r', label='Fitted line')\n",
      ">>> _ = plt.legend()\n",
      ">>> plt.show()\n",
      "\u001b[0;31mClass docstring:\u001b[0m\n",
      "Class to wrap functions with checks for __array_function__ overrides.\n",
      "\n",
      "All arguments are required, and can only be passed by position.\n",
      "\n",
      "Parameters\n",
      "----------\n",
      "dispatcher : function or None\n",
      "    The dispatcher function that returns a single sequence-like object\n",
      "    of all arguments relevant.  It must have the same signature (except\n",
      "    the default values) as the actual implementation.\n",
      "    If ``None``, this is a ``like=`` dispatcher and the\n",
      "    ``_ArrayFunctionDispatcher`` must be called with ``like`` as the\n",
      "    first (additional and positional) argument.\n",
      "implementation : function\n",
      "    Function that implements the operation on NumPy arrays without\n",
      "    overrides.  Arguments passed calling the ``_ArrayFunctionDispatcher``\n",
      "    will be forwarded to this (and the ``dispatcher``) as if using\n",
      "    ``*args, **kwargs``.\n",
      "\n",
      "Attributes\n",
      "----------\n",
      "_implementation : function\n",
      "    The original implementation passed in."
     ]
    }
   ],
   "source": [
    "np.linalg.lstsq?"
   ]
  },
  {
   "cell_type": "code",
   "execution_count": 140,
   "id": "d84a2a3f",
   "metadata": {},
   "outputs": [],
   "source": [
    "x = np.array([0, 1, 2, 3])\n",
    "y = np.array([-1, 0.2, 0.9, 2.1])"
   ]
  },
  {
   "cell_type": "code",
   "execution_count": 141,
   "id": "6c905a32",
   "metadata": {},
   "outputs": [
    {
     "data": {
      "text/plain": [
       "array([[0., 1.],\n",
       "       [1., 1.],\n",
       "       [2., 1.],\n",
       "       [3., 1.]])"
      ]
     },
     "execution_count": 141,
     "metadata": {},
     "output_type": "execute_result"
    }
   ],
   "source": [
    "A = np.vstack([x, np.ones(len(x))]).T\n",
    "A"
   ]
  },
  {
   "cell_type": "code",
   "execution_count": 142,
   "id": "ef6463d3",
   "metadata": {},
   "outputs": [
    {
     "data": {
      "text/plain": [
       "(np.float64(0.9999999999999999), np.float64(-0.9499999999999997))"
      ]
     },
     "execution_count": 142,
     "metadata": {},
     "output_type": "execute_result"
    }
   ],
   "source": [
    "m, c = np.linalg.lstsq(A, y)[0]\n",
    "m, c"
   ]
  },
  {
   "cell_type": "code",
   "execution_count": 143,
   "id": "27c5a9ec",
   "metadata": {},
   "outputs": [
    {
     "name": "stdout",
     "output_type": "stream",
     "text": [
      "Sum of Singular Values of M is:  55.00000000000001\n"
     ]
    }
   ],
   "source": [
    "from numpy.linalg import inv,qr,svd\n",
    "import scipy.linalg\n",
    "u=np.arange(1,6,1).reshape(5,1)\n",
    "M=u.dot(u.T)\n",
    "#print(\"Inverse of M is: \", inv(M)) # M is singular, so inverse does not exist\n",
    "\n",
    "q,r=qr(M)\n",
    "#print(\"matrix q (orthonormal matrix) in qr decomposition is:\\n\\n\",q)\n",
    "#print(\"\\n\\nmatrix r (upper triangular) in qr decomposition is:\\n\\n\",r)\n",
    "\n",
    "P,L,U=scipy.linalg.lu(M)\n",
    "\n",
    "#print(\"\\n\\nmatrix P in LU decomposition is:\\n\\n\",P)\n",
    "#print(\"\\n\\nmatrix L in LU decomposition is:\\n\\n\",L)\n",
    "#print(\"\\n\\n matrix U in LU decomposition is:\\n\\n\",U)\n",
    "\n",
    "U,Sigma,V_transpose=svd(M)\n",
    "print(\"Sum of Singular Values of M is: \", np.sum(Sigma))\n"
   ]
  },
  {
   "cell_type": "markdown",
   "id": "46260017",
   "metadata": {},
   "source": [
    "**Pseudorandom Number Generation:**      \n",
    "\n",
    "The numpy.random module supplements the built-in Python random with functions for efficiently generating whole arrays of sample values from many kinds of probability distributions."
   ]
  },
  {
   "cell_type": "markdown",
   "id": "73eb60ba",
   "metadata": {},
   "source": [
    "For example, you can get a 4 × 4 array of samples from the standard normal distribution using normal:\n"
   ]
  },
  {
   "cell_type": "code",
   "execution_count": 144,
   "id": "d8876d5b",
   "metadata": {},
   "outputs": [
    {
     "data": {
      "text/plain": [
       "array([[-0.83707401, -0.36091976,  1.48349295,  0.7543416 ],\n",
       "       [-0.08569756,  0.13337818,  0.37060029, -1.24197548],\n",
       "       [ 1.6104294 , -0.22566355,  0.49117171,  1.39613021],\n",
       "       [ 0.68832785,  1.02909737, -1.5436696 , -0.05939883]])"
      ]
     },
     "execution_count": 144,
     "metadata": {},
     "output_type": "execute_result"
    }
   ],
   "source": [
    "np.random.normal(size=(4,4))"
   ]
  },
  {
   "cell_type": "markdown",
   "id": "f7d29a93",
   "metadata": {},
   "source": [
    "We say that these are pseudorandom numbers because they are generated by an algorithm with deterministic behavior based on the seed of the random number generator. \n",
    "You can change NumPy’s random number generation seed using `np.random.seed`:\n",
    "\n",
    "Seed is a global pseudo-random generator. However, randomstate is a pseudo-random generator isolated from others, which only impact specific variable."
   ]
  },
  {
   "cell_type": "code",
   "execution_count": 145,
   "id": "0a182f01",
   "metadata": {},
   "outputs": [
    {
     "data": {
      "text/plain": [
       "array([0.8394647 , 0.6312553 , 0.14601055, 0.33653325])"
      ]
     },
     "execution_count": 145,
     "metadata": {},
     "output_type": "execute_result"
    }
   ],
   "source": [
    "rng = np.random.RandomState(21212)\n",
    "rng.rand(4)"
   ]
  },
  {
   "cell_type": "code",
   "execution_count": 146,
   "id": "8d219a67",
   "metadata": {},
   "outputs": [
    {
     "data": {
      "text/plain": [
       "array([0.8394647 , 0.6312553 , 0.14601055, 0.33653325])"
      ]
     },
     "execution_count": 146,
     "metadata": {},
     "output_type": "execute_result"
    }
   ],
   "source": [
    "rng = np.random.RandomState(21212)\n",
    "rng.rand(4)"
   ]
  },
  {
   "cell_type": "code",
   "execution_count": 147,
   "id": "7d09ea10",
   "metadata": {},
   "outputs": [
    {
     "data": {
      "text/plain": [
       "array([0.4359949 , 0.02592623, 0.54966248, 0.43532239])"
      ]
     },
     "execution_count": 147,
     "metadata": {},
     "output_type": "execute_result"
    }
   ],
   "source": [
    "np.random.seed(2)\n",
    "np.random.rand(4)"
   ]
  },
  {
   "cell_type": "code",
   "execution_count": 148,
   "id": "3f96658f",
   "metadata": {},
   "outputs": [
    {
     "data": {
      "text/plain": [
       "array([0.4359949 , 0.02592623, 0.54966248, 0.43532239])"
      ]
     },
     "execution_count": 148,
     "metadata": {},
     "output_type": "execute_result"
    }
   ],
   "source": [
    "np.random.seed(2)\n",
    "np.random.rand(4)"
   ]
  },
  {
   "cell_type": "code",
   "execution_count": 149,
   "id": "e7a2e10c",
   "metadata": {},
   "outputs": [
    {
     "data": {
      "text/plain": [
       "array([0.4359949 , 0.02592623, 0.54966248, 0.43532239])"
      ]
     },
     "execution_count": 149,
     "metadata": {},
     "output_type": "execute_result"
    }
   ],
   "source": [
    "np.random.seed(2)\n",
    "np.random.rand(4)"
   ]
  },
  {
   "cell_type": "code",
   "execution_count": 150,
   "id": "ca40e994",
   "metadata": {},
   "outputs": [
    {
     "data": {
      "text/plain": [
       "array([0.5881308 , 0.89771373, 0.89153073, 0.81583748])"
      ]
     },
     "execution_count": 150,
     "metadata": {},
     "output_type": "execute_result"
    }
   ],
   "source": [
    "np.random.seed(20)\n",
    "np.random.rand(4)"
   ]
  },
  {
   "cell_type": "markdown",
   "id": "cabfa821",
   "metadata": {},
   "source": [
    "By specifying a seed value, the function ensures that the sequence of random numbers generated remains the same across multiple runs, providing deterministic behavior and allowing reproducibility in random number generation.\n"
   ]
  },
  {
   "cell_type": "code",
   "execution_count": 151,
   "id": "ea6bba02",
   "metadata": {},
   "outputs": [
    {
     "name": "stdout",
     "output_type": "stream",
     "text": [
      "[[ 1.62434536 -0.61175641]\n",
      " [-0.52817175 -1.07296862]]\n",
      "[[ 1.62434536 -0.61175641]\n",
      " [-0.52817175 -1.07296862]]\n",
      "[[ 1.62434536 -0.61175641]\n",
      " [-0.52817175 -1.07296862]]\n"
     ]
    }
   ],
   "source": [
    "for _ in range(3):\n",
    "    np.random.seed(1)\n",
    "    s=np.random.normal(size=(2,2))\n",
    "    print(s)"
   ]
  },
  {
   "cell_type": "code",
   "execution_count": 152,
   "id": "d64072fb",
   "metadata": {},
   "outputs": [
    {
     "data": {
      "text/plain": [
       "[<matplotlib.lines.Line2D at 0x7ec385e01570>]"
      ]
     },
     "execution_count": 152,
     "metadata": {},
     "output_type": "execute_result"
    },
    {
     "data": {
      "image/png": "[encoded data removed]",
      "text/plain": [
       "<Figure size 640x480 with 1 Axes>"
      ]
     },
     "metadata": {},
     "output_type": "display_data"
    }
   ],
   "source": [
    "# random walk\n",
    "a=np.random.randint(0,2,size=100)\n",
    "a=np.where(a>0,1,-1)\n",
    "walk=a.cumsum()\n",
    "import matplotlib.pyplot as plt\n",
    "plt.plot(walk)"
   ]
  },
  {
   "cell_type": "code",
   "execution_count": 153,
   "id": "e70035dc",
   "metadata": {},
   "outputs": [
    {
     "data": {
      "text/plain": [
       "np.int64(98)"
      ]
     },
     "execution_count": 153,
     "metadata": {},
     "output_type": "execute_result"
    }
   ],
   "source": [
    "(np.abs(walk)>10).argmax() # finding the index where walk array has aboslute value 10 \"first\" time\n"
   ]
  },
  {
   "cell_type": "code",
   "execution_count": 154,
   "id": "6372a3cb",
   "metadata": {},
   "outputs": [
    {
     "name": "stdout",
     "output_type": "stream",
     "text": [
      "[False False False  True  True  True  True] 3\n"
     ]
    }
   ],
   "source": [
    "arr=np.array([1,2,3,4,5,6,7])\n",
    "print((arr>3),(arr>3).argmax())"
   ]
  },
  {
   "cell_type": "markdown",
   "id": "fe78770e",
   "metadata": {},
   "source": [
    "The `numpy.argmax()` function returns indices of the max element of the array in a particular axis."
   ]
  },
  {
   "cell_type": "code",
   "execution_count": 155,
   "id": "347f5955",
   "metadata": {},
   "outputs": [
    {
     "data": {
      "text/plain": [
       "array([1, 0, 0])"
      ]
     },
     "execution_count": 155,
     "metadata": {},
     "output_type": "execute_result"
    }
   ],
   "source": [
    "np.argmax(np.array([[1,2,5],[5,-1,3]]),axis=0)"
   ]
  },
  {
   "cell_type": "code",
   "execution_count": 156,
   "id": "468f1a80",
   "metadata": {},
   "outputs": [
    {
     "data": {
      "text/plain": [
       "array([ 0.41495054,  0.18551104, -0.04795889, -0.22190724, -0.18678957,\n",
       "        0.42311365,  0.01270194, -0.15924891,  0.04772887,  0.52506378])"
      ]
     },
     "execution_count": 156,
     "metadata": {},
     "output_type": "execute_result"
    }
   ],
   "source": [
    "np.random.normal(loc=0, scale=0.25,size=10)"
   ]
  },
  {
   "cell_type": "markdown",
   "id": "7ec97916",
   "metadata": {},
   "source": [
    "seed --> Seed the random number generator      \n",
    "permutation --> Return a random permutation of a sequence, or return a permuted range     \n",
    "shuffle --> Randomly permute a sequence in-place      \n",
    "rand --> Draw samples from a uniform distribution     \n",
    "randint --> Draw random integers from a given low-to-high range     \n",
    "randn --> Draw samples from a normal distribution with mean 0 and standard deviation 1 (MATLAB-like interface)     \n",
    "binomial --> Draw samples from a binomial distribution     \n",
    "normal --> Draw samples from a normal (Gaussian) distribution     \n",
    "beta --> Draw samples from a beta distribution     \n",
    "chisquare --> Draw samples from a chi-square distribution     \n",
    "gamma --> Draw samples from a gamma distribution     \n",
    "uniform --> Draw samples from a uniform [0, 1) distribution     "
   ]
  },
  {
   "cell_type": "code",
   "execution_count": 157,
   "id": "a631c555",
   "metadata": {},
   "outputs": [
    {
     "data": {
      "text/plain": [
       "array([ 0.12417854, -0.03456608,  0.16192213,  0.38075746, -0.05853834,\n",
       "       -0.05853424,  0.3948032 ,  0.19185868, -0.1173686 ,  0.13564001])"
      ]
     },
     "execution_count": 157,
     "metadata": {},
     "output_type": "execute_result"
    }
   ],
   "source": [
    "np.random.seed(42)\n",
    "np.random.normal(loc=0, scale=0.25,size=10) "
   ]
  },
  {
   "cell_type": "code",
   "execution_count": 158,
   "id": "091cda62",
   "metadata": {},
   "outputs": [
    {
     "data": {
      "text/plain": [
       "array([6, 2, 8, 7, 9, 5, 1, 3, 0, 4])"
      ]
     },
     "execution_count": 158,
     "metadata": {},
     "output_type": "execute_result"
    }
   ],
   "source": [
    "np.random.permutation(10)"
   ]
  },
  {
   "cell_type": "code",
   "execution_count": 159,
   "id": "e1173298",
   "metadata": {},
   "outputs": [
    {
     "data": {
      "text/plain": [
       "array([1, 5, 4, 8, 0, 7, 6, 3, 2, 9])"
      ]
     },
     "execution_count": 159,
     "metadata": {},
     "output_type": "execute_result"
    }
   ],
   "source": [
    "np.random.permutation(10)"
   ]
  },
  {
   "cell_type": "code",
   "execution_count": 160,
   "id": "8467252d",
   "metadata": {},
   "outputs": [
    {
     "data": {
      "text/plain": [
       "array([2, 4, 9, 1, 3])"
      ]
     },
     "execution_count": 160,
     "metadata": {},
     "output_type": "execute_result"
    }
   ],
   "source": [
    "np.random.permutation([1,4,9,2,3])"
   ]
  },
  {
   "cell_type": "code",
   "execution_count": 161,
   "id": "c7791dce",
   "metadata": {},
   "outputs": [
    {
     "data": {
      "text/plain": [
       "array([0.94888554, 0.96563203, 0.80839735, 0.30461377, 0.09767211,\n",
       "       0.68423303, 0.44015249, 0.12203823, 0.49517691, 0.03438852])"
      ]
     },
     "execution_count": 161,
     "metadata": {},
     "output_type": "execute_result"
    }
   ],
   "source": [
    "np.random.rand(10)"
   ]
  },
  {
   "cell_type": "code",
   "execution_count": 162,
   "id": "775111d3",
   "metadata": {},
   "outputs": [
    {
     "data": {
      "text/plain": [
       "1"
      ]
     },
     "execution_count": 162,
     "metadata": {},
     "output_type": "execute_result"
    }
   ],
   "source": [
    "np.random.randint(1,10)"
   ]
  },
  {
   "cell_type": "code",
   "execution_count": 163,
   "id": "b370dcde",
   "metadata": {},
   "outputs": [
    {
     "data": {
      "text/plain": [
       "4"
      ]
     },
     "execution_count": 163,
     "metadata": {},
     "output_type": "execute_result"
    }
   ],
   "source": [
    "np.random.randint(1,10)"
   ]
  },
  {
   "cell_type": "code",
   "execution_count": 164,
   "id": "a28dc668",
   "metadata": {},
   "outputs": [
    {
     "data": {
      "text/plain": [
       "array([ 0.56611283, -0.70445345, -1.3779393 , -0.35311665, -0.46146572,\n",
       "        0.06665728, -0.17628566,  1.20089277,  0.69839894, -0.17162884])"
      ]
     },
     "execution_count": 164,
     "metadata": {},
     "output_type": "execute_result"
    }
   ],
   "source": [
    "np.random.randn(10)"
   ]
  },
  {
   "cell_type": "code",
   "execution_count": 165,
   "id": "ebc3d5c6",
   "metadata": {},
   "outputs": [
    {
     "data": {
      "text/plain": [
       "6"
      ]
     },
     "execution_count": 165,
     "metadata": {},
     "output_type": "execute_result"
    }
   ],
   "source": [
    "np.random.binomial(10,0.5)"
   ]
  },
  {
   "cell_type": "code",
   "execution_count": 166,
   "id": "fad4e2b9",
   "metadata": {},
   "outputs": [
    {
     "data": {
      "text/plain": [
       "array([ 0.18646489, -0.45914581,  0.14111606,  0.00637517,  0.11829831,\n",
       "        0.16479765,  0.58518658,  0.2677463 ,  0.02410412,  0.10477553])"
      ]
     },
     "execution_count": 166,
     "metadata": {},
     "output_type": "execute_result"
    }
   ],
   "source": [
    "np.random.normal(loc=0, scale=0.25,size=10)"
   ]
  },
  {
   "cell_type": "code",
   "execution_count": 167,
   "id": "91d8ae5d",
   "metadata": {},
   "outputs": [
    {
     "data": {
      "text/plain": [
       "array([0.64592551, 0.702731  , 0.36128659, 0.03151989, 1.10121812,\n",
       "       1.004662  , 0.69483068, 0.02835977, 0.4433952 , 2.48502504])"
      ]
     },
     "execution_count": 167,
     "metadata": {},
     "output_type": "execute_result"
    }
   ],
   "source": [
    "np.random.chisquare( df=2, size=10 )"
   ]
  },
  {
   "cell_type": "code",
   "execution_count": 168,
   "id": "43217c05",
   "metadata": {},
   "outputs": [
    {
     "data": {
      "text/plain": [
       "array([0.22588393, 0.14591485, 0.25349367, 0.3210881 , 0.21662123,\n",
       "       0.33971623, 0.73947947, 0.20968991, 0.41613936, 0.19876706])"
      ]
     },
     "execution_count": 168,
     "metadata": {},
     "output_type": "execute_result"
    }
   ],
   "source": [
    "np.random.beta( a=2.0, b=5.0, size=10 )"
   ]
  },
  {
   "cell_type": "code",
   "execution_count": 169,
   "id": "a7ea921b",
   "metadata": {},
   "outputs": [
    {
     "data": {
      "text/plain": [
       "array([3.24391604, 1.41034735, 2.78711088, 1.35780113, 0.7766732 ,\n",
       "       1.09442459, 0.61419599, 3.14875069, 2.08672276, 0.40380842])"
      ]
     },
     "execution_count": 169,
     "metadata": {},
     "output_type": "execute_result"
    }
   ],
   "source": [
    "np.random.gamma( shape=2.0, scale=1.0, size=10 )"
   ]
  },
  {
   "cell_type": "code",
   "execution_count": 170,
   "id": "f0281ca8",
   "metadata": {},
   "outputs": [
    {
     "data": {
      "text/plain": [
       "array([0.25391541, 0.24687606, 0.69630427, 0.71227059, 0.14808693,\n",
       "       0.99774049, 0.26678101, 0.97661496, 0.41103701, 0.03305073])"
      ]
     },
     "execution_count": 170,
     "metadata": {},
     "output_type": "execute_result"
    }
   ],
   "source": [
    "np.random.uniform( low=0.0, high=1.0, size=10 )"
   ]
  },
  {
   "cell_type": "code",
   "execution_count": null,
   "id": "2786e0c1",
   "metadata": {},
   "outputs": [],
   "source": []
  }
 ],
 "metadata": {
  "kernelspec": {
   "display_name": "Python 3",
   "language": "python",
   "name": "python3"
  },
  "language_info": {
   "codemirror_mode": {
    "name": "ipython",
    "version": 3
   },
   "file_extension": ".py",
   "mimetype": "text/x-python",
   "name": "python",
   "nbconvert_exporter": "python",
   "pygments_lexer": "ipython3",
   "version": "3.10.10"
  }
 },
 "nbformat": 4,
 "nbformat_minor": 5
}
