{
 "cells": [
  {
   "cell_type": "code",
   "execution_count": 2,
   "id": "1e61d652",
   "metadata": {},
   "outputs": [
    {
     "name": "stdout",
     "output_type": "stream",
     "text": [
      "a    ankit\n",
      "b     kiio\n",
      "c      NaN\n",
      "d    summi\n",
      "dtype: object\n"
     ]
    }
   ],
   "source": [
    "import pandas as pd \n",
    "import numpy as np\n",
    "ser=pd.Series(('ankit','kiio',np.nan,'summi'),index=['a','b','c','d'])\n",
    "print(ser)"
   ]
  },
  {
   "cell_type": "code",
   "execution_count": 3,
   "id": "c46b4483",
   "metadata": {},
   "outputs": [
    {
     "name": "stdout",
     "output_type": "stream",
     "text": [
      "a    False\n",
      "b    False\n",
      "c     True\n",
      "d    False\n",
      "dtype: bool\n",
      "a    False\n",
      "b    False\n",
      "c     True\n",
      "d    False\n",
      "dtype: bool\n",
      "1\n"
     ]
    }
   ],
   "source": [
    "print(ser.isnull())\n",
    "print(ser.isna())\n",
    "print(ser.isnull().sum())"
   ]
  },
  {
   "cell_type": "code",
   "execution_count": 4,
   "id": "c0bfa00f",
   "metadata": {},
   "outputs": [
    {
     "name": "stdout",
     "output_type": "stream",
     "text": [
      "a    ankit\n",
      "b     kiio\n",
      "d    summi\n",
      "dtype: object\n",
      "a    ankit\n",
      "b     kiio\n",
      "d    summi\n",
      "dtype: object\n"
     ]
    }
   ],
   "source": [
    "print(ser.dropna(axis=0)) # any row with np.nan\n",
    "print(ser[ser.notnull()])"
   ]
  },
  {
   "cell_type": "code",
   "execution_count": 5,
   "id": "1fff888e",
   "metadata": {},
   "outputs": [
    {
     "name": "stdout",
     "output_type": "stream",
     "text": [
      "    Name  Marks Institute\n",
      "a  ankit    NaN       ISI\n",
      "b  soumi  100.0       NaN\n",
      "c  summi  100.0      ECIL\n",
      "d    NaN    NaN       NaN\n",
      "e   kiio  100.0    IIIT-D\n"
     ]
    }
   ],
   "source": [
    "df=pd.DataFrame([['ankit',np.nan,'ISI'],['soumi',100,np.nan],['summi',100,'ECIL'],[np.nan,np.nan,np.nan],\\\n",
    "                 ['kiio',100,'IIIT-D']],columns=['Name','Marks','Institute'],index=['a','b','c','d','e'])\n",
    "print(df)"
   ]
  },
  {
   "cell_type": "code",
   "execution_count": 6,
   "id": "fcf28d37",
   "metadata": {},
   "outputs": [
    {
     "name": "stdout",
     "output_type": "stream",
     "text": [
      "    Name  Marks Institute\n",
      "a  ankit    NaN       ISI\n",
      "b  soumi  100.0       NaN\n",
      "c  summi  100.0      ECIL\n",
      "e   kiio  100.0    IIIT-D\n"
     ]
    }
   ],
   "source": [
    "print(df.dropna(how='all',axis=0)) # drop all rows with null"
   ]
  },
  {
   "cell_type": "code",
   "execution_count": 7,
   "id": "23303e4a",
   "metadata": {},
   "outputs": [
    {
     "name": "stdout",
     "output_type": "stream",
     "text": [
      "    Name  Marks Institute\n",
      "c  summi  100.0      ECIL\n",
      "e   kiio  100.0    IIIT-D\n"
     ]
    }
   ],
   "source": [
    "print(df.dropna(thresh=3)) # rows with atleast 3 without np.nan values"
   ]
  },
  {
   "cell_type": "code",
   "execution_count": 8,
   "id": "fdc9cde5",
   "metadata": {},
   "outputs": [
    {
     "name": "stdout",
     "output_type": "stream",
     "text": [
      "    k1  k2\n",
      "0  one   1\n",
      "1  two   1\n",
      "2  one   2\n",
      "3  two   3\n",
      "4  one   3\n",
      "5  two   4\n",
      "6  two   4\n"
     ]
    }
   ],
   "source": [
    "data = pd.DataFrame({'k1': ['one', 'two'] * 3 + ['two'],'k2': [1, 1, 2, 3, 3, 4, 4]})\n",
    "print(data)"
   ]
  },
  {
   "cell_type": "code",
   "execution_count": 9,
   "id": "939eb564",
   "metadata": {},
   "outputs": [
    {
     "name": "stdout",
     "output_type": "stream",
     "text": [
      "0    False\n",
      "1    False\n",
      "2    False\n",
      "3    False\n",
      "4    False\n",
      "5    False\n",
      "6     True\n",
      "dtype: bool\n"
     ]
    }
   ],
   "source": [
    "print(data.duplicated())"
   ]
  },
  {
   "cell_type": "code",
   "execution_count": 10,
   "id": "c48ef6ca",
   "metadata": {},
   "outputs": [
    {
     "name": "stdout",
     "output_type": "stream",
     "text": [
      "    k1  k2\n",
      "0  one   1\n",
      "1  two   1\n",
      "2  one   2\n",
      "3  two   3\n",
      "4  one   3\n",
      "5  two   4\n"
     ]
    }
   ],
   "source": [
    "print(data.drop_duplicates())"
   ]
  },
  {
   "cell_type": "code",
   "execution_count": 11,
   "id": "a269559a",
   "metadata": {},
   "outputs": [
    {
     "name": "stdout",
     "output_type": "stream",
     "text": [
      "    k1  k2\n",
      "0  one   1\n",
      "1  two   1\n"
     ]
    }
   ],
   "source": [
    "print(data.drop_duplicates(['k1']))"
   ]
  },
  {
   "cell_type": "code",
   "execution_count": 12,
   "id": "4607a43e",
   "metadata": {},
   "outputs": [
    {
     "name": "stdout",
     "output_type": "stream",
     "text": [
      "    k1  k2\n",
      "0  one   1\n",
      "1  two   1\n",
      "2  one   2\n",
      "3  two   3\n",
      "4  one   3\n",
      "6  two   4\n"
     ]
    }
   ],
   "source": [
    "print(data.drop_duplicates(['k1', 'k2'], keep='last'))"
   ]
  },
  {
   "cell_type": "code",
   "execution_count": 13,
   "id": "46b05454",
   "metadata": {},
   "outputs": [
    {
     "name": "stdout",
     "output_type": "stream",
     "text": [
      "    Name\n",
      "a  ankit\n",
      "b   kiio\n",
      "c  summi\n"
     ]
    }
   ],
   "source": [
    "data=pd.DataFrame(['ankit','kiio','summi'],columns=['Name'],index=['a','b','c'])\n",
    "print(data)"
   ]
  },
  {
   "cell_type": "code",
   "execution_count": 14,
   "id": "f3abf52b",
   "metadata": {},
   "outputs": [
    {
     "name": "stdout",
     "output_type": "stream",
     "text": [
      "    Name  Marks\n",
      "a  ankit      0\n",
      "b   kiio    100\n",
      "c  summi    100\n"
     ]
    }
   ],
   "source": [
    "data['Marks']=data['Name'].map({k:(0 if k=='ankit' else 100) for k in data['Name'] })\n",
    "print(data)"
   ]
  },
  {
   "cell_type": "code",
   "execution_count": 15,
   "id": "a4d99255",
   "metadata": {},
   "outputs": [
    {
     "name": "stdout",
     "output_type": "stream",
     "text": [
      "    Name  Marks\n",
      "a  ankit      0\n",
      "b   kiio    100\n",
      "c  summi    100\n"
     ]
    }
   ],
   "source": [
    "data['Marks']=data['Name'].map(lambda x:0 if x=='ankit' else 100)\n",
    "print(data)"
   ]
  },
  {
   "cell_type": "code",
   "execution_count": 16,
   "id": "7837ac65",
   "metadata": {},
   "outputs": [
    {
     "name": "stdout",
     "output_type": "stream",
     "text": [
      "0     1.0\n",
      "1     NaN\n",
      "2     NaN\n",
      "3    21.0\n",
      "dtype: float64\n"
     ]
    }
   ],
   "source": [
    "data=pd.Series([1,999,34,21])\n",
    "data=data.replace([999,34],np.nan)\n",
    "print(data)"
   ]
  },
  {
   "cell_type": "code",
   "execution_count": 17,
   "id": "3207cfbd",
   "metadata": {},
   "outputs": [
    {
     "name": "stdout",
     "output_type": "stream",
     "text": [
      "    Name\n",
      "a  ankit\n",
      "b   kiio\n",
      "c  summi\n",
      "    Name\n",
      "a  ankit\n",
      "b   kiio\n",
      "c  soumi\n"
     ]
    }
   ],
   "source": [
    "data=pd.DataFrame(['ankit','kiio','summi'],columns=['Name'],index=['a','b','c'])\n",
    "print(data)\n",
    "data['Name'].replace('summi','soumi',inplace=True)\n",
    "print(data)"
   ]
  },
  {
   "cell_type": "code",
   "execution_count": 18,
   "id": "c6e8e043",
   "metadata": {},
   "outputs": [
    {
     "data": {
      "text/html": [
       "<div>\n",
       "<style scoped>\n",
       "    .dataframe tbody tr th:only-of-type {\n",
       "        vertical-align: middle;\n",
       "    }\n",
       "\n",
       "    .dataframe tbody tr th {\n",
       "        vertical-align: top;\n",
       "    }\n",
       "\n",
       "    .dataframe thead th {\n",
       "        text-align: right;\n",
       "    }\n",
       "</style>\n",
       "<table border=\"1\" class=\"dataframe\">\n",
       "  <thead>\n",
       "    <tr style=\"text-align: right;\">\n",
       "      <th></th>\n",
       "      <th>NAME</th>\n",
       "    </tr>\n",
       "  </thead>\n",
       "  <tbody>\n",
       "    <tr>\n",
       "      <th>Abc</th>\n",
       "      <td>ankit</td>\n",
       "    </tr>\n",
       "    <tr>\n",
       "      <th>Bcd</th>\n",
       "      <td>kiio</td>\n",
       "    </tr>\n",
       "    <tr>\n",
       "      <th>Cde</th>\n",
       "      <td>summi</td>\n",
       "    </tr>\n",
       "  </tbody>\n",
       "</table>\n",
       "</div>"
      ],
      "text/plain": [
       "      NAME\n",
       "Abc  ankit\n",
       "Bcd   kiio\n",
       "Cde  summi"
      ]
     },
     "execution_count": 18,
     "metadata": {},
     "output_type": "execute_result"
    }
   ],
   "source": [
    "data=pd.DataFrame(['ankit','kiio','summi'],columns=['Name'],index=['abc','bcd','cde'])\n",
    "data.rename(index=str.capitalize,columns=str.upper)"
   ]
  },
  {
   "cell_type": "code",
   "execution_count": 19,
   "id": "8b2f2322",
   "metadata": {},
   "outputs": [
    {
     "name": "stdout",
     "output_type": "stream",
     "text": [
      "          New_Name\n",
      "new          ankit\n",
      "bcd           kiio\n",
      "new_index    summi\n"
     ]
    }
   ],
   "source": [
    "data.rename(index={'abc':'new','cde':'new_index'},columns={'Name':'New_Name'},inplace=True)\n",
    "print(data)"
   ]
  },
  {
   "cell_type": "markdown",
   "id": "4110ce42",
   "metadata": {},
   "source": [
    "**Making bins of data**"
   ]
  },
  {
   "cell_type": "code",
   "execution_count": 20,
   "id": "01fdaaf6",
   "metadata": {},
   "outputs": [],
   "source": [
    "b=pd.cut([12,2,1,22,11,34,32,1,41,48,45,51,58,61,66,67,69,70,71,72,90,91,81,81,11,2,3,2,1,2,0],\\\n",
    "         [0,10,20,30,40,50,60,70,80,90,100],right=True,\n",
    "         labels=['0-10','11-20','21-30','31-40','41-50','51-60','61-70','71-80','81-90','91-100'])"
   ]
  },
  {
   "cell_type": "code",
   "execution_count": 21,
   "id": "d2e5b65b",
   "metadata": {},
   "outputs": [
    {
     "data": {
      "text/plain": [
       "['11-20', '0-10', '0-10', '21-30', '11-20', ..., '0-10', '0-10', '0-10', '0-10', NaN]\n",
       "Length: 31\n",
       "Categories (10, object): ['0-10' < '11-20' < '21-30' < '31-40' ... '61-70' < '71-80' < '81-90' < '91-100']"
      ]
     },
     "execution_count": 21,
     "metadata": {},
     "output_type": "execute_result"
    }
   ],
   "source": [
    "b"
   ]
  },
  {
   "cell_type": "code",
   "execution_count": 22,
   "id": "951afc4b",
   "metadata": {},
   "outputs": [
    {
     "data": {
      "text/plain": [
       "array([ 1,  0,  0,  2,  1,  3,  3,  0,  4,  4,  4,  5,  5,  6,  6,  6,  6,\n",
       "        6,  7,  7,  8,  9,  8,  8,  1,  0,  0,  0,  0,  0, -1], dtype=int8)"
      ]
     },
     "execution_count": 22,
     "metadata": {},
     "output_type": "execute_result"
    }
   ],
   "source": [
    "b.codes"
   ]
  },
  {
   "cell_type": "code",
   "execution_count": 23,
   "id": "8335cc08",
   "metadata": {},
   "outputs": [
    {
     "data": {
      "text/plain": [
       "Index(['0-10', '11-20', '21-30', '31-40', '41-50', '51-60', '61-70', '71-80',\n",
       "       '81-90', '91-100'],\n",
       "      dtype='object')"
      ]
     },
     "execution_count": 23,
     "metadata": {},
     "output_type": "execute_result"
    }
   ],
   "source": [
    "b.categories"
   ]
  },
  {
   "cell_type": "code",
   "execution_count": 24,
   "id": "5afadee4",
   "metadata": {},
   "outputs": [
    {
     "data": {
      "text/plain": [
       "0-10      8\n",
       "61-70     5\n",
       "11-20     3\n",
       "41-50     3\n",
       "81-90     3\n",
       "31-40     2\n",
       "51-60     2\n",
       "71-80     2\n",
       "21-30     1\n",
       "91-100    1\n",
       "dtype: int64"
      ]
     },
     "execution_count": 24,
     "metadata": {},
     "output_type": "execute_result"
    }
   ],
   "source": [
    "pd.value_counts(b)"
   ]
  },
  {
   "cell_type": "markdown",
   "id": "35d326dd",
   "metadata": {},
   "source": [
    "A closely related function, qcut, bins the data based on sample quantiles. Depending on the distribution of the data, using cut will not usually result in each bin having the same number of data points. Since qcut uses sample quantiles instead, by definition you will obtain roughly equal-size bins"
   ]
  },
  {
   "cell_type": "code",
   "execution_count": 25,
   "id": "ba5d9a12",
   "metadata": {},
   "outputs": [
    {
     "name": "stdout",
     "output_type": "stream",
     "text": [
      "[(-0.685, 0.00999], (-0.685, 0.00999], (0.629, 3.114], (-0.685, 0.00999], (0.629, 3.114], ..., (0.629, 3.114], (-2.9099999999999997, -0.685], (-2.9099999999999997, -0.685], (-2.9099999999999997, -0.685], (-2.9099999999999997, -0.685]]\n",
      "Length: 1000\n",
      "Categories (4, interval[float64, right]): [(-2.9099999999999997, -0.685] < (-0.685, 0.00999] < (0.00999, 0.629] < (0.629, 3.114]]\n",
      "(-2.9099999999999997, -0.685]    250\n",
      "(-0.685, 0.00999]                250\n",
      "(0.00999, 0.629]                 250\n",
      "(0.629, 3.114]                   250\n",
      "dtype: int64\n"
     ]
    }
   ],
   "source": [
    "data = np.random.randn(1000) # Normally distributed\n",
    "cats = pd.qcut(data, 4) # Cut into quartiles\n",
    "print(cats)\n",
    "print(pd.value_counts(cats))"
   ]
  },
  {
   "cell_type": "code",
   "execution_count": 26,
   "id": "57671da2",
   "metadata": {},
   "outputs": [
    {
     "data": {
      "text/plain": [
       "IntervalIndex([(-2.9099999999999997, -0.685], (-0.685, 0.00999], (0.00999, 0.629], (0.629, 3.114]], dtype='interval[float64, right]')"
      ]
     },
     "execution_count": 26,
     "metadata": {},
     "output_type": "execute_result"
    }
   ],
   "source": [
    "cats.categories"
   ]
  },
  {
   "cell_type": "code",
   "execution_count": 27,
   "id": "99ca3c08",
   "metadata": {},
   "outputs": [
    {
     "data": {
      "text/plain": [
       "[(-1.256, 0.00999], (-1.256, 0.00999], (0.00999, 1.223], (-1.256, 0.00999], (1.223, 3.114], ..., (1.223, 3.114], (-1.256, 0.00999], (-2.9099999999999997, -1.256], (-1.256, 0.00999], (-2.9099999999999997, -1.256]]\n",
       "Length: 1000\n",
       "Categories (4, interval[float64, right]): [(-2.9099999999999997, -1.256] < (-1.256, 0.00999] < (0.00999, 1.223] < (1.223, 3.114]]"
      ]
     },
     "execution_count": 27,
     "metadata": {},
     "output_type": "execute_result"
    }
   ],
   "source": [
    "# Similar to cut you can pass your own quantiles (numbers between 0 and 1, inclusive):\n",
    "\n",
    "pd.qcut(data, [0, 0.1, 0.5, 0.9, 1.])"
   ]
  },
  {
   "cell_type": "markdown",
   "id": "cb45879f",
   "metadata": {},
   "source": [
    "**Detecting and Filtering Outliers**"
   ]
  },
  {
   "cell_type": "markdown",
   "id": "188223d5",
   "metadata": {},
   "source": [
    "Suppose you wanted to find values in one of the columns exceeding 3 in absolute value"
   ]
  },
  {
   "cell_type": "code",
   "execution_count": 28,
   "id": "400726d6",
   "metadata": {},
   "outputs": [
    {
     "data": {
      "text/html": [
       "<div>\n",
       "<style scoped>\n",
       "    .dataframe tbody tr th:only-of-type {\n",
       "        vertical-align: middle;\n",
       "    }\n",
       "\n",
       "    .dataframe tbody tr th {\n",
       "        vertical-align: top;\n",
       "    }\n",
       "\n",
       "    .dataframe thead th {\n",
       "        text-align: right;\n",
       "    }\n",
       "</style>\n",
       "<table border=\"1\" class=\"dataframe\">\n",
       "  <thead>\n",
       "    <tr style=\"text-align: right;\">\n",
       "      <th></th>\n",
       "      <th>0</th>\n",
       "      <th>1</th>\n",
       "      <th>2</th>\n",
       "      <th>3</th>\n",
       "    </tr>\n",
       "  </thead>\n",
       "  <tbody>\n",
       "    <tr>\n",
       "      <th>0</th>\n",
       "      <td>0.891199</td>\n",
       "      <td>-1.210597</td>\n",
       "      <td>0.564329</td>\n",
       "      <td>1.730597</td>\n",
       "    </tr>\n",
       "    <tr>\n",
       "      <th>1</th>\n",
       "      <td>-0.078886</td>\n",
       "      <td>-0.893330</td>\n",
       "      <td>-1.070863</td>\n",
       "      <td>2.936057</td>\n",
       "    </tr>\n",
       "    <tr>\n",
       "      <th>2</th>\n",
       "      <td>-0.811553</td>\n",
       "      <td>1.349532</td>\n",
       "      <td>0.288253</td>\n",
       "      <td>-0.510670</td>\n",
       "    </tr>\n",
       "    <tr>\n",
       "      <th>3</th>\n",
       "      <td>-0.037945</td>\n",
       "      <td>-0.018861</td>\n",
       "      <td>-0.119692</td>\n",
       "      <td>0.427349</td>\n",
       "    </tr>\n",
       "    <tr>\n",
       "      <th>4</th>\n",
       "      <td>-0.301513</td>\n",
       "      <td>-3.514392</td>\n",
       "      <td>0.616071</td>\n",
       "      <td>-0.778039</td>\n",
       "    </tr>\n",
       "    <tr>\n",
       "      <th>...</th>\n",
       "      <td>...</td>\n",
       "      <td>...</td>\n",
       "      <td>...</td>\n",
       "      <td>...</td>\n",
       "    </tr>\n",
       "    <tr>\n",
       "      <th>995</th>\n",
       "      <td>0.377140</td>\n",
       "      <td>-2.146521</td>\n",
       "      <td>0.470708</td>\n",
       "      <td>0.911578</td>\n",
       "    </tr>\n",
       "    <tr>\n",
       "      <th>996</th>\n",
       "      <td>-0.713249</td>\n",
       "      <td>-0.387552</td>\n",
       "      <td>0.220569</td>\n",
       "      <td>1.796074</td>\n",
       "    </tr>\n",
       "    <tr>\n",
       "      <th>997</th>\n",
       "      <td>2.186931</td>\n",
       "      <td>-2.333990</td>\n",
       "      <td>-0.336696</td>\n",
       "      <td>0.081126</td>\n",
       "    </tr>\n",
       "    <tr>\n",
       "      <th>998</th>\n",
       "      <td>0.141597</td>\n",
       "      <td>-0.426379</td>\n",
       "      <td>-1.120187</td>\n",
       "      <td>-0.511060</td>\n",
       "    </tr>\n",
       "    <tr>\n",
       "      <th>999</th>\n",
       "      <td>1.571511</td>\n",
       "      <td>-0.160032</td>\n",
       "      <td>-0.123935</td>\n",
       "      <td>-1.426114</td>\n",
       "    </tr>\n",
       "  </tbody>\n",
       "</table>\n",
       "<p>1000 rows × 4 columns</p>\n",
       "</div>"
      ],
      "text/plain": [
       "            0         1         2         3\n",
       "0    0.891199 -1.210597  0.564329  1.730597\n",
       "1   -0.078886 -0.893330 -1.070863  2.936057\n",
       "2   -0.811553  1.349532  0.288253 -0.510670\n",
       "3   -0.037945 -0.018861 -0.119692  0.427349\n",
       "4   -0.301513 -3.514392  0.616071 -0.778039\n",
       "..        ...       ...       ...       ...\n",
       "995  0.377140 -2.146521  0.470708  0.911578\n",
       "996 -0.713249 -0.387552  0.220569  1.796074\n",
       "997  2.186931 -2.333990 -0.336696  0.081126\n",
       "998  0.141597 -0.426379 -1.120187 -0.511060\n",
       "999  1.571511 -0.160032 -0.123935 -1.426114\n",
       "\n",
       "[1000 rows x 4 columns]"
      ]
     },
     "execution_count": 28,
     "metadata": {},
     "output_type": "execute_result"
    }
   ],
   "source": [
    "data = pd.DataFrame(np.random.randn(1000, 4))\n",
    "data"
   ]
  },
  {
   "cell_type": "code",
   "execution_count": 29,
   "id": "c269ceff",
   "metadata": {},
   "outputs": [
    {
     "name": "stderr",
     "output_type": "stream",
     "text": [
      "/tmp/ipykernel_4175/1506215609.py:1: FutureWarning: In a future version of pandas all arguments of DataFrame.any and Series.any will be keyword-only.\n",
      "  data[(np.abs(data) > 0).any(1)]\n"
     ]
    },
    {
     "data": {
      "text/html": [
       "<div>\n",
       "<style scoped>\n",
       "    .dataframe tbody tr th:only-of-type {\n",
       "        vertical-align: middle;\n",
       "    }\n",
       "\n",
       "    .dataframe tbody tr th {\n",
       "        vertical-align: top;\n",
       "    }\n",
       "\n",
       "    .dataframe thead th {\n",
       "        text-align: right;\n",
       "    }\n",
       "</style>\n",
       "<table border=\"1\" class=\"dataframe\">\n",
       "  <thead>\n",
       "    <tr style=\"text-align: right;\">\n",
       "      <th></th>\n",
       "      <th>0</th>\n",
       "      <th>1</th>\n",
       "      <th>2</th>\n",
       "      <th>3</th>\n",
       "    </tr>\n",
       "  </thead>\n",
       "  <tbody>\n",
       "    <tr>\n",
       "      <th>0</th>\n",
       "      <td>0.891199</td>\n",
       "      <td>-1.210597</td>\n",
       "      <td>0.564329</td>\n",
       "      <td>1.730597</td>\n",
       "    </tr>\n",
       "    <tr>\n",
       "      <th>1</th>\n",
       "      <td>-0.078886</td>\n",
       "      <td>-0.893330</td>\n",
       "      <td>-1.070863</td>\n",
       "      <td>2.936057</td>\n",
       "    </tr>\n",
       "    <tr>\n",
       "      <th>2</th>\n",
       "      <td>-0.811553</td>\n",
       "      <td>1.349532</td>\n",
       "      <td>0.288253</td>\n",
       "      <td>-0.510670</td>\n",
       "    </tr>\n",
       "    <tr>\n",
       "      <th>3</th>\n",
       "      <td>-0.037945</td>\n",
       "      <td>-0.018861</td>\n",
       "      <td>-0.119692</td>\n",
       "      <td>0.427349</td>\n",
       "    </tr>\n",
       "    <tr>\n",
       "      <th>4</th>\n",
       "      <td>-0.301513</td>\n",
       "      <td>-3.514392</td>\n",
       "      <td>0.616071</td>\n",
       "      <td>-0.778039</td>\n",
       "    </tr>\n",
       "    <tr>\n",
       "      <th>...</th>\n",
       "      <td>...</td>\n",
       "      <td>...</td>\n",
       "      <td>...</td>\n",
       "      <td>...</td>\n",
       "    </tr>\n",
       "    <tr>\n",
       "      <th>995</th>\n",
       "      <td>0.377140</td>\n",
       "      <td>-2.146521</td>\n",
       "      <td>0.470708</td>\n",
       "      <td>0.911578</td>\n",
       "    </tr>\n",
       "    <tr>\n",
       "      <th>996</th>\n",
       "      <td>-0.713249</td>\n",
       "      <td>-0.387552</td>\n",
       "      <td>0.220569</td>\n",
       "      <td>1.796074</td>\n",
       "    </tr>\n",
       "    <tr>\n",
       "      <th>997</th>\n",
       "      <td>2.186931</td>\n",
       "      <td>-2.333990</td>\n",
       "      <td>-0.336696</td>\n",
       "      <td>0.081126</td>\n",
       "    </tr>\n",
       "    <tr>\n",
       "      <th>998</th>\n",
       "      <td>0.141597</td>\n",
       "      <td>-0.426379</td>\n",
       "      <td>-1.120187</td>\n",
       "      <td>-0.511060</td>\n",
       "    </tr>\n",
       "    <tr>\n",
       "      <th>999</th>\n",
       "      <td>1.571511</td>\n",
       "      <td>-0.160032</td>\n",
       "      <td>-0.123935</td>\n",
       "      <td>-1.426114</td>\n",
       "    </tr>\n",
       "  </tbody>\n",
       "</table>\n",
       "<p>1000 rows × 4 columns</p>\n",
       "</div>"
      ],
      "text/plain": [
       "            0         1         2         3\n",
       "0    0.891199 -1.210597  0.564329  1.730597\n",
       "1   -0.078886 -0.893330 -1.070863  2.936057\n",
       "2   -0.811553  1.349532  0.288253 -0.510670\n",
       "3   -0.037945 -0.018861 -0.119692  0.427349\n",
       "4   -0.301513 -3.514392  0.616071 -0.778039\n",
       "..        ...       ...       ...       ...\n",
       "995  0.377140 -2.146521  0.470708  0.911578\n",
       "996 -0.713249 -0.387552  0.220569  1.796074\n",
       "997  2.186931 -2.333990 -0.336696  0.081126\n",
       "998  0.141597 -0.426379 -1.120187 -0.511060\n",
       "999  1.571511 -0.160032 -0.123935 -1.426114\n",
       "\n",
       "[1000 rows x 4 columns]"
      ]
     },
     "execution_count": 29,
     "metadata": {},
     "output_type": "execute_result"
    }
   ],
   "source": [
    "data[(np.abs(data) > 0).any(1)]"
   ]
  },
  {
   "cell_type": "code",
   "execution_count": null,
   "id": "b290e922",
   "metadata": {},
   "outputs": [
    {
     "data": {
      "text/html": [
       "<div>\n",
       "<style scoped>\n",
       "    .dataframe tbody tr th:only-of-type {\n",
       "        vertical-align: middle;\n",
       "    }\n",
       "\n",
       "    .dataframe tbody tr th {\n",
       "        vertical-align: top;\n",
       "    }\n",
       "\n",
       "    .dataframe thead th {\n",
       "        text-align: right;\n",
       "    }\n",
       "</style>\n",
       "<table border=\"1\" class=\"dataframe\">\n",
       "  <thead>\n",
       "    <tr style=\"text-align: right;\">\n",
       "      <th></th>\n",
       "      <th>0</th>\n",
       "      <th>1</th>\n",
       "      <th>2</th>\n",
       "      <th>3</th>\n",
       "    </tr>\n",
       "  </thead>\n",
       "  <tbody>\n",
       "    <tr>\n",
       "      <th>0</th>\n",
       "      <td>3.0</td>\n",
       "      <td>-3.0</td>\n",
       "      <td>3.0</td>\n",
       "      <td>3.0</td>\n",
       "    </tr>\n",
       "    <tr>\n",
       "      <th>1</th>\n",
       "      <td>-3.0</td>\n",
       "      <td>-3.0</td>\n",
       "      <td>-3.0</td>\n",
       "      <td>3.0</td>\n",
       "    </tr>\n",
       "    <tr>\n",
       "      <th>2</th>\n",
       "      <td>-3.0</td>\n",
       "      <td>3.0</td>\n",
       "      <td>3.0</td>\n",
       "      <td>-3.0</td>\n",
       "    </tr>\n",
       "    <tr>\n",
       "      <th>3</th>\n",
       "      <td>-3.0</td>\n",
       "      <td>-3.0</td>\n",
       "      <td>-3.0</td>\n",
       "      <td>3.0</td>\n",
       "    </tr>\n",
       "    <tr>\n",
       "      <th>4</th>\n",
       "      <td>-3.0</td>\n",
       "      <td>-3.0</td>\n",
       "      <td>3.0</td>\n",
       "      <td>-3.0</td>\n",
       "    </tr>\n",
       "    <tr>\n",
       "      <th>...</th>\n",
       "      <td>...</td>\n",
       "      <td>...</td>\n",
       "      <td>...</td>\n",
       "      <td>...</td>\n",
       "    </tr>\n",
       "    <tr>\n",
       "      <th>995</th>\n",
       "      <td>3.0</td>\n",
       "      <td>-3.0</td>\n",
       "      <td>3.0</td>\n",
       "      <td>3.0</td>\n",
       "    </tr>\n",
       "    <tr>\n",
       "      <th>996</th>\n",
       "      <td>-3.0</td>\n",
       "      <td>-3.0</td>\n",
       "      <td>3.0</td>\n",
       "      <td>3.0</td>\n",
       "    </tr>\n",
       "    <tr>\n",
       "      <th>997</th>\n",
       "      <td>3.0</td>\n",
       "      <td>-3.0</td>\n",
       "      <td>-3.0</td>\n",
       "      <td>3.0</td>\n",
       "    </tr>\n",
       "    <tr>\n",
       "      <th>998</th>\n",
       "      <td>3.0</td>\n",
       "      <td>-3.0</td>\n",
       "      <td>-3.0</td>\n",
       "      <td>-3.0</td>\n",
       "    </tr>\n",
       "    <tr>\n",
       "      <th>999</th>\n",
       "      <td>3.0</td>\n",
       "      <td>-3.0</td>\n",
       "      <td>-3.0</td>\n",
       "      <td>-3.0</td>\n",
       "    </tr>\n",
       "  </tbody>\n",
       "</table>\n",
       "<p>1000 rows × 4 columns</p>\n",
       "</div>"
      ],
      "text/plain": [
       "       0    1    2    3\n",
       "0    3.0 -3.0  3.0  3.0\n",
       "1   -3.0 -3.0 -3.0  3.0\n",
       "2   -3.0  3.0  3.0 -3.0\n",
       "3   -3.0 -3.0 -3.0  3.0\n",
       "4   -3.0 -3.0  3.0 -3.0\n",
       "..   ...  ...  ...  ...\n",
       "995  3.0 -3.0  3.0  3.0\n",
       "996 -3.0 -3.0  3.0  3.0\n",
       "997  3.0 -3.0 -3.0  3.0\n",
       "998  3.0 -3.0 -3.0 -3.0\n",
       "999  3.0 -3.0 -3.0 -3.0\n",
       "\n",
       "[1000 rows x 4 columns]"
      ]
     },
     "execution_count": 30,
     "metadata": {},
     "output_type": "execute_result"
    }
   ],
   "source": [
    "np.sign(data) * 3\n",
    "# The statement np.sign(data) produces 1 and –1 values based on whether the values in data are positive or negative"
   ]
  },
  {
   "cell_type": "code",
   "execution_count": 31,
   "id": "f16afb4b",
   "metadata": {},
   "outputs": [],
   "source": [
    "data[np.abs(data) > 3] = np.sign(data) * 3"
   ]
  },
  {
   "cell_type": "code",
   "execution_count": 32,
   "id": "d376afb7",
   "metadata": {},
   "outputs": [
    {
     "data": {
      "text/html": [
       "<div>\n",
       "<style scoped>\n",
       "    .dataframe tbody tr th:only-of-type {\n",
       "        vertical-align: middle;\n",
       "    }\n",
       "\n",
       "    .dataframe tbody tr th {\n",
       "        vertical-align: top;\n",
       "    }\n",
       "\n",
       "    .dataframe thead th {\n",
       "        text-align: right;\n",
       "    }\n",
       "</style>\n",
       "<table border=\"1\" class=\"dataframe\">\n",
       "  <thead>\n",
       "    <tr style=\"text-align: right;\">\n",
       "      <th></th>\n",
       "      <th>0</th>\n",
       "      <th>1</th>\n",
       "      <th>2</th>\n",
       "      <th>3</th>\n",
       "    </tr>\n",
       "  </thead>\n",
       "  <tbody>\n",
       "    <tr>\n",
       "      <th>0</th>\n",
       "      <td>0.891199</td>\n",
       "      <td>-1.210597</td>\n",
       "      <td>0.564329</td>\n",
       "      <td>1.730597</td>\n",
       "    </tr>\n",
       "    <tr>\n",
       "      <th>1</th>\n",
       "      <td>-0.078886</td>\n",
       "      <td>-0.893330</td>\n",
       "      <td>-1.070863</td>\n",
       "      <td>2.936057</td>\n",
       "    </tr>\n",
       "    <tr>\n",
       "      <th>2</th>\n",
       "      <td>-0.811553</td>\n",
       "      <td>1.349532</td>\n",
       "      <td>0.288253</td>\n",
       "      <td>-0.510670</td>\n",
       "    </tr>\n",
       "    <tr>\n",
       "      <th>3</th>\n",
       "      <td>-0.037945</td>\n",
       "      <td>-0.018861</td>\n",
       "      <td>-0.119692</td>\n",
       "      <td>0.427349</td>\n",
       "    </tr>\n",
       "    <tr>\n",
       "      <th>4</th>\n",
       "      <td>-0.301513</td>\n",
       "      <td>-3.000000</td>\n",
       "      <td>0.616071</td>\n",
       "      <td>-0.778039</td>\n",
       "    </tr>\n",
       "    <tr>\n",
       "      <th>...</th>\n",
       "      <td>...</td>\n",
       "      <td>...</td>\n",
       "      <td>...</td>\n",
       "      <td>...</td>\n",
       "    </tr>\n",
       "    <tr>\n",
       "      <th>995</th>\n",
       "      <td>0.377140</td>\n",
       "      <td>-2.146521</td>\n",
       "      <td>0.470708</td>\n",
       "      <td>0.911578</td>\n",
       "    </tr>\n",
       "    <tr>\n",
       "      <th>996</th>\n",
       "      <td>-0.713249</td>\n",
       "      <td>-0.387552</td>\n",
       "      <td>0.220569</td>\n",
       "      <td>1.796074</td>\n",
       "    </tr>\n",
       "    <tr>\n",
       "      <th>997</th>\n",
       "      <td>2.186931</td>\n",
       "      <td>-2.333990</td>\n",
       "      <td>-0.336696</td>\n",
       "      <td>0.081126</td>\n",
       "    </tr>\n",
       "    <tr>\n",
       "      <th>998</th>\n",
       "      <td>0.141597</td>\n",
       "      <td>-0.426379</td>\n",
       "      <td>-1.120187</td>\n",
       "      <td>-0.511060</td>\n",
       "    </tr>\n",
       "    <tr>\n",
       "      <th>999</th>\n",
       "      <td>1.571511</td>\n",
       "      <td>-0.160032</td>\n",
       "      <td>-0.123935</td>\n",
       "      <td>-1.426114</td>\n",
       "    </tr>\n",
       "  </tbody>\n",
       "</table>\n",
       "<p>1000 rows × 4 columns</p>\n",
       "</div>"
      ],
      "text/plain": [
       "            0         1         2         3\n",
       "0    0.891199 -1.210597  0.564329  1.730597\n",
       "1   -0.078886 -0.893330 -1.070863  2.936057\n",
       "2   -0.811553  1.349532  0.288253 -0.510670\n",
       "3   -0.037945 -0.018861 -0.119692  0.427349\n",
       "4   -0.301513 -3.000000  0.616071 -0.778039\n",
       "..        ...       ...       ...       ...\n",
       "995  0.377140 -2.146521  0.470708  0.911578\n",
       "996 -0.713249 -0.387552  0.220569  1.796074\n",
       "997  2.186931 -2.333990 -0.336696  0.081126\n",
       "998  0.141597 -0.426379 -1.120187 -0.511060\n",
       "999  1.571511 -0.160032 -0.123935 -1.426114\n",
       "\n",
       "[1000 rows x 4 columns]"
      ]
     },
     "execution_count": 32,
     "metadata": {},
     "output_type": "execute_result"
    }
   ],
   "source": [
    "data"
   ]
  },
  {
   "cell_type": "code",
   "execution_count": 33,
   "id": "62564f35",
   "metadata": {},
   "outputs": [
    {
     "name": "stdout",
     "output_type": "stream",
     "text": [
      "    a   b   c   d\n",
      "0   0   1   2   3\n",
      "1   4   5   6   7\n",
      "2   8   9  10  11\n",
      "3  12  13  14  15\n",
      "4  16  17  18  19\n"
     ]
    }
   ],
   "source": [
    "df = pd.DataFrame(np.arange(5 * 4).reshape((5, 4)),columns=['a','b','c','d'])\n",
    "print(df)"
   ]
  },
  {
   "cell_type": "code",
   "execution_count": 34,
   "id": "d063d0c9",
   "metadata": {},
   "outputs": [
    {
     "data": {
      "text/plain": [
       "array([2, 4, 0, 3, 1])"
      ]
     },
     "execution_count": 34,
     "metadata": {},
     "output_type": "execute_result"
    }
   ],
   "source": [
    "sampler=np.random.permutation(5)\n",
    "sampler"
   ]
  },
  {
   "cell_type": "code",
   "execution_count": 35,
   "id": "e56f2ca5",
   "metadata": {},
   "outputs": [
    {
     "name": "stdout",
     "output_type": "stream",
     "text": [
      "    a   b   c   d\n",
      "2   8   9  10  11\n",
      "4  16  17  18  19\n",
      "0   0   1   2   3\n",
      "3  12  13  14  15\n",
      "1   4   5   6   7\n"
     ]
    }
   ],
   "source": [
    "print(df.take(sampler,axis=0))"
   ]
  },
  {
   "cell_type": "code",
   "execution_count": 36,
   "id": "0c281aaa",
   "metadata": {},
   "outputs": [
    {
     "name": "stdout",
     "output_type": "stream",
     "text": [
      "    a   b   c   d\n",
      "1   4   5   6   7\n",
      "2   8   9  10  11\n",
      "4  16  17  18  19\n"
     ]
    }
   ],
   "source": [
    "# To select a random subset without replacement, you can use the sample method on Series and DataFrame:\n",
    "print(df.sample(n=3))"
   ]
  },
  {
   "cell_type": "code",
   "execution_count": 37,
   "id": "4dca0846",
   "metadata": {},
   "outputs": [
    {
     "name": "stdout",
     "output_type": "stream",
     "text": [
      "    a   b   c   d\n",
      "0   0   1   2   3\n",
      "2   8   9  10  11\n",
      "4  16  17  18  19\n"
     ]
    }
   ],
   "source": [
    "print(df.sample(n=3))"
   ]
  },
  {
   "cell_type": "code",
   "execution_count": 38,
   "id": "01643e6c",
   "metadata": {},
   "outputs": [
    {
     "name": "stdout",
     "output_type": "stream",
     "text": [
      "3    6\n",
      "2   -1\n",
      "4    4\n",
      "1    7\n",
      "3    6\n",
      "1    7\n",
      "2   -1\n",
      "4    4\n",
      "3    6\n",
      "4    4\n",
      "dtype: int64\n"
     ]
    }
   ],
   "source": [
    "# To generate a sample with replacement (to allow repeat choices), pass replace=True to sample:\n",
    "\n",
    "choices = pd.Series([5, 7, -1, 6, 4])\n",
    "draws = choices.sample(n=10, replace=True)\n",
    "print(draws)"
   ]
  },
  {
   "cell_type": "markdown",
   "id": "e315ac82",
   "metadata": {},
   "source": [
    "**categorical to dummy variables**"
   ]
  },
  {
   "cell_type": "code",
   "execution_count": 39,
   "id": "32dd709a",
   "metadata": {},
   "outputs": [
    {
     "name": "stdout",
     "output_type": "stream",
     "text": [
      "    Name  Marks\n",
      "0  ankit      0\n",
      "1   kiio      1\n",
      "2  summi      2\n"
     ]
    }
   ],
   "source": [
    "df=pd.DataFrame({'Name':['ankit','kiio','summi'],'Marks':range(3)})\n",
    "print(df)"
   ]
  },
  {
   "cell_type": "code",
   "execution_count": 40,
   "id": "d914515d",
   "metadata": {},
   "outputs": [
    {
     "name": "stdout",
     "output_type": "stream",
     "text": [
      "   name_ankit  name_kiio  name_summi  Marks\n",
      "0           1          0           0      0\n",
      "1           0          1           0      1\n",
      "2           0          0           1      2\n"
     ]
    }
   ],
   "source": [
    "print(pd.get_dummies(df['Name'],prefix='name').join(df[['Marks']]))"
   ]
  },
  {
   "cell_type": "code",
   "execution_count": 41,
   "id": "7778c085",
   "metadata": {},
   "outputs": [
    {
     "name": "stdout",
     "output_type": "stream",
     "text": [
      "    0-10  11-20  21-30  31-40  41-50  51-60  61-70  71-80  81-90  91-100\n",
      "0      0      1      0      0      0      0      0      0      0       0\n",
      "1      1      0      0      0      0      0      0      0      0       0\n",
      "2      1      0      0      0      0      0      0      0      0       0\n",
      "3      0      0      1      0      0      0      0      0      0       0\n",
      "4      0      1      0      0      0      0      0      0      0       0\n",
      "5      0      0      0      1      0      0      0      0      0       0\n",
      "6      0      0      0      1      0      0      0      0      0       0\n",
      "7      1      0      0      0      0      0      0      0      0       0\n",
      "8      0      0      0      0      1      0      0      0      0       0\n",
      "9      0      0      0      0      1      0      0      0      0       0\n",
      "10     0      0      0      0      1      0      0      0      0       0\n",
      "11     0      0      0      0      0      1      0      0      0       0\n",
      "12     0      0      0      0      0      1      0      0      0       0\n",
      "13     0      0      0      0      0      0      1      0      0       0\n",
      "14     0      0      0      0      0      0      1      0      0       0\n",
      "15     0      0      0      0      0      0      1      0      0       0\n",
      "16     0      0      0      0      0      0      1      0      0       0\n",
      "17     0      0      0      0      0      0      1      0      0       0\n",
      "18     0      0      0      0      0      0      0      1      0       0\n",
      "19     0      0      0      0      0      0      0      1      0       0\n",
      "20     0      0      0      0      0      0      0      0      1       0\n",
      "21     0      0      0      0      0      0      0      0      0       1\n",
      "22     0      0      0      0      0      0      0      0      1       0\n",
      "23     0      0      0      0      0      0      0      0      1       0\n",
      "24     0      1      0      0      0      0      0      0      0       0\n",
      "25     1      0      0      0      0      0      0      0      0       0\n",
      "26     1      0      0      0      0      0      0      0      0       0\n",
      "27     1      0      0      0      0      0      0      0      0       0\n",
      "28     1      0      0      0      0      0      0      0      0       0\n",
      "29     1      0      0      0      0      0      0      0      0       0\n",
      "30     0      0      0      0      0      0      0      0      0       0\n"
     ]
    }
   ],
   "source": [
    "b=pd.cut([12,2,1,22,11,34,32,1,41,48,45,51,58,61,66,67,69,70,71,72,90,91,81,81,11,2,3,2,1,2,0],\n",
    "         [0,10,20,30,40,50,60,70,80,90,100],right=True,\n",
    "         labels=['0-10','11-20','21-30','31-40','41-50','51-60','61-70','71-80','81-90','91-100'])\n",
    "print(pd.get_dummies(b))"
   ]
  },
  {
   "cell_type": "code",
   "execution_count": null,
   "id": "3eb5e491",
   "metadata": {},
   "outputs": [],
   "source": []
  }
 ],
 "metadata": {
  "kernelspec": {
   "display_name": "Python 3",
   "language": "python",
   "name": "python3"
  },
  "language_info": {
   "codemirror_mode": {
    "name": "ipython",
    "version": 3
   },
   "file_extension": ".py",
   "mimetype": "text/x-python",
   "name": "python",
   "nbconvert_exporter": "python",
   "pygments_lexer": "ipython3",
   "version": "3.10.10"
  }
 },
 "nbformat": 4,
 "nbformat_minor": 5
}
