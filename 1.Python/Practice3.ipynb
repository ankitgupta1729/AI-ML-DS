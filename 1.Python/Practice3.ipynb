{
 "cells": [
  {
   "cell_type": "markdown",
   "id": "79716b13",
   "metadata": {},
   "source": [
    "A tuple is a fixed-length, immutable sequence of Python objects. The easiest way to create one is with a comma-separated sequence of values."
   ]
  },
  {
   "cell_type": "code",
   "execution_count": 2,
   "id": "3b7dc6dc",
   "metadata": {},
   "outputs": [
    {
     "data": {
      "text/plain": [
       "(1, 'ankit', 1.1)"
      ]
     },
     "execution_count": 2,
     "metadata": {},
     "output_type": "execute_result"
    }
   ],
   "source": [
    "tup=1,'ankit',1.1\n",
    "tup"
   ]
  },
  {
   "cell_type": "code",
   "execution_count": 3,
   "id": "738a51a5",
   "metadata": {},
   "outputs": [
    {
     "data": {
      "text/plain": [
       "'ankit'"
      ]
     },
     "execution_count": 3,
     "metadata": {},
     "output_type": "execute_result"
    }
   ],
   "source": [
    "tup[1]"
   ]
  },
  {
   "cell_type": "code",
   "execution_count": 1,
   "id": "5a84b6f9",
   "metadata": {},
   "outputs": [
    {
     "data": {
      "text/plain": [
       "(1,\n",
       " 1.2,\n",
       " 'ankit',\n",
       " [30, 4],\n",
       " {'key1': 'new_value', 'key2': 'value2'},\n",
       " (5, 6),\n",
       " {1, 2, 3, 4})"
      ]
     },
     "execution_count": 1,
     "metadata": {},
     "output_type": "execute_result"
    }
   ],
   "source": [
    "# If an object inside a tuple is mutable, such as a list, you can modify it in-place\n",
    "tup1=(1,1.2,'ankit',[3,4],{'key1':'value1','key2':'value2'},(5,6),{1,2,3})\n",
    "tup1[3][0]=30\n",
    "tup1[4]['key1']='new_value'\n",
    "tup1[6].add(4)\n",
    "tup1"
   ]
  },
  {
   "cell_type": "code",
   "execution_count": 2,
   "id": "63f7737b",
   "metadata": {},
   "outputs": [
    {
     "data": {
      "text/plain": [
       "(1,\n",
       " 1.2,\n",
       " 'ankit',\n",
       " [30, 4, 40],\n",
       " {'key1': 'new_value', 'key2': 'value2'},\n",
       " (5, 6),\n",
       " {1, 2, 3, 4})"
      ]
     },
     "execution_count": 2,
     "metadata": {},
     "output_type": "execute_result"
    }
   ],
   "source": [
    "tup1[3].append(40)\n",
    "tup1"
   ]
  },
  {
   "cell_type": "code",
   "execution_count": 4,
   "id": "f15dd506",
   "metadata": {},
   "outputs": [
    {
     "ename": "TypeError",
     "evalue": "'set' object does not support item assignment",
     "output_type": "error",
     "traceback": [
      "\u001b[0;31m---------------------------------------------------------------------------\u001b[0m",
      "\u001b[0;31mTypeError\u001b[0m                                 Traceback (most recent call last)",
      "Cell \u001b[0;32mIn[4], line 2\u001b[0m\n\u001b[1;32m      1\u001b[0m \u001b[38;5;66;03m# there is no order in set, so we cannot access it by index or change it by index\u001b[39;00m\n\u001b[0;32m----> 2\u001b[0m \u001b[43mtup1\u001b[49m\u001b[43m[\u001b[49m\u001b[38;5;241;43m6\u001b[39;49m\u001b[43m]\u001b[49m\u001b[43m[\u001b[49m\u001b[38;5;241;43m1\u001b[39;49m\u001b[43m]\u001b[49m \u001b[38;5;241m=\u001b[39m \u001b[38;5;241m10\u001b[39m\n\u001b[1;32m      3\u001b[0m tup1\n",
      "\u001b[0;31mTypeError\u001b[0m: 'set' object does not support item assignment"
     ]
    }
   ],
   "source": [
    "# there is no order in set, so we cannot access it by index or change it by index\n",
    "tup1[6][1] = 10\n",
    "tup1"
   ]
  },
  {
   "cell_type": "code",
   "execution_count": 7,
   "id": "7d84c349",
   "metadata": {},
   "outputs": [
    {
     "data": {
      "text/plain": [
       "(1, 2, 3, 4, 5, 6, 'ankit')"
      ]
     },
     "execution_count": 7,
     "metadata": {},
     "output_type": "execute_result"
    }
   ],
   "source": [
    "(1,2,3)+(4,5,6)+('ankit',)"
   ]
  },
  {
   "cell_type": "code",
   "execution_count": 8,
   "id": "0e950b20",
   "metadata": {},
   "outputs": [
    {
     "ename": "TypeError",
     "evalue": "can only concatenate tuple (not \"str\") to tuple",
     "output_type": "error",
     "traceback": [
      "\u001b[0;31m---------------------------------------------------------------------------\u001b[0m",
      "\u001b[0;31mTypeError\u001b[0m                                 Traceback (most recent call last)",
      "Cell \u001b[0;32mIn[8], line 1\u001b[0m\n\u001b[0;32m----> 1\u001b[0m \u001b[43m(\u001b[49m\u001b[38;5;241;43m1\u001b[39;49m\u001b[43m,\u001b[49m\u001b[38;5;241;43m2\u001b[39;49m\u001b[43m,\u001b[49m\u001b[38;5;241;43m3\u001b[39;49m\u001b[43m)\u001b[49m\u001b[38;5;241;43m+\u001b[39;49m\u001b[43m(\u001b[49m\u001b[38;5;241;43m4\u001b[39;49m\u001b[43m,\u001b[49m\u001b[38;5;241;43m5\u001b[39;49m\u001b[43m,\u001b[49m\u001b[38;5;241;43m6\u001b[39;49m\u001b[43m)\u001b[49m\u001b[38;5;241;43m+\u001b[39;49m\u001b[38;5;124;43m'\u001b[39;49m\u001b[38;5;124;43mankit\u001b[39;49m\u001b[38;5;124;43m'\u001b[39;49m,\n",
      "\u001b[0;31mTypeError\u001b[0m: can only concatenate tuple (not \"str\") to tuple"
     ]
    }
   ],
   "source": [
    "(1,2,3)+(4,5,6)+'ankit',"
   ]
  },
  {
   "cell_type": "code",
   "execution_count": 11,
   "id": "60a102f8",
   "metadata": {},
   "outputs": [
    {
     "data": {
      "text/plain": [
       "(1, 2, 3, 4, 5, 6, 'ankit', 1, 2, 3, 4, 5, 6, 'ankit')"
      ]
     },
     "execution_count": 11,
     "metadata": {},
     "output_type": "execute_result"
    }
   ],
   "source": [
    "# Note that the objects themselves are not copied, only the references to them.\n",
    "((1,2,3)+(4,5,6)+('ankit',))*2"
   ]
  },
  {
   "cell_type": "code",
   "execution_count": 12,
   "id": "82dd6f60",
   "metadata": {},
   "outputs": [
    {
     "data": {
      "text/plain": [
       "1"
      ]
     },
     "execution_count": 12,
     "metadata": {},
     "output_type": "execute_result"
    }
   ],
   "source": [
    "# Unpacking Tuples\n",
    "tup2=(1,2,3,'ankit',1.1)\n",
    "a,b,c,d,e=tup2\n",
    "a"
   ]
  },
  {
   "cell_type": "code",
   "execution_count": 13,
   "id": "59363d34",
   "metadata": {},
   "outputs": [
    {
     "data": {
      "text/plain": [
       "(1, 3, 2)"
      ]
     },
     "execution_count": 13,
     "metadata": {},
     "output_type": "execute_result"
    }
   ],
   "source": [
    "a,b,c=1,2,3\n",
    "b,c=c,b\n",
    "(a,b,c)"
   ]
  },
  {
   "cell_type": "code",
   "execution_count": 14,
   "id": "95939aa9",
   "metadata": {},
   "outputs": [
    {
     "data": {
      "text/plain": [
       "[3, 4, 5, 6, 7, 8, 9]"
      ]
     },
     "execution_count": 14,
     "metadata": {},
     "output_type": "execute_result"
    }
   ],
   "source": [
    "a,b,*rest=1,2,3,4,5,6,7,8,9\n",
    "rest"
   ]
  },
  {
   "cell_type": "code",
   "execution_count": 15,
   "id": "f3bd6e96",
   "metadata": {},
   "outputs": [
    {
     "data": {
      "text/plain": [
       "[3, 4, 5, 6, 7, 8, 9]"
      ]
     },
     "execution_count": 15,
     "metadata": {},
     "output_type": "execute_result"
    }
   ],
   "source": [
    "a,b,*_=1,2,3,4,5,6,7,8,9\n",
    "_"
   ]
  },
  {
   "cell_type": "code",
   "execution_count": 16,
   "id": "51cc282e",
   "metadata": {},
   "outputs": [
    {
     "data": {
      "text/plain": [
       "(1, 2, [3, 4, 5, 6, 7, 8, 9])"
      ]
     },
     "execution_count": 16,
     "metadata": {},
     "output_type": "execute_result"
    }
   ],
   "source": [
    "(a,b,_)"
   ]
  },
  {
   "cell_type": "code",
   "execution_count": 17,
   "id": "7e12707f",
   "metadata": {},
   "outputs": [
    {
     "data": {
      "text/plain": [
       "3"
      ]
     },
     "execution_count": 17,
     "metadata": {},
     "output_type": "execute_result"
    }
   ],
   "source": [
    "('ankit','kiioo',1.1,1,2,3,'kiioo','kiioo','ankit').count('kiioo')"
   ]
  },
  {
   "cell_type": "code",
   "execution_count": 18,
   "id": "313cb1d5",
   "metadata": {},
   "outputs": [
    {
     "data": {
      "text/plain": [
       "0"
      ]
     },
     "execution_count": 18,
     "metadata": {},
     "output_type": "execute_result"
    }
   ],
   "source": [
    "[1,2,3].count(4)"
   ]
  },
  {
   "cell_type": "code",
   "execution_count": 19,
   "id": "7f08ceb6",
   "metadata": {},
   "outputs": [
    {
     "data": {
      "text/plain": [
       "6"
      ]
     },
     "execution_count": 19,
     "metadata": {},
     "output_type": "execute_result"
    }
   ],
   "source": [
    "[1,1,1,1,2,2,1,0,1].count(1)"
   ]
  },
  {
   "cell_type": "markdown",
   "id": "532921b5",
   "metadata": {},
   "source": [
    "In contrast with tuples, lists are variable-length and their contents can be modified in-place. \n",
    "You can define them using square brackets [] or using the list type function."
   ]
  },
  {
   "cell_type": "code",
   "execution_count": 22,
   "id": "0207120a",
   "metadata": {},
   "outputs": [
    {
     "data": {
      "text/plain": [
       "[1, 3, 5, 7, 9]"
      ]
     },
     "execution_count": 22,
     "metadata": {},
     "output_type": "execute_result"
    }
   ],
   "source": [
    "lst=list(range(1,11,2))\n",
    "lst"
   ]
  },
  {
   "cell_type": "code",
   "execution_count": 23,
   "id": "56497334",
   "metadata": {},
   "outputs": [
    {
     "data": {
      "text/plain": [
       "[1, 3, 5, 7, 9]"
      ]
     },
     "execution_count": 23,
     "metadata": {},
     "output_type": "execute_result"
    }
   ],
   "source": [
    "gen=range(1,11,2)\n",
    "list(gen)"
   ]
  },
  {
   "cell_type": "code",
   "execution_count": 25,
   "id": "574fbd0d",
   "metadata": {},
   "outputs": [
    {
     "data": {
      "text/plain": [
       "range"
      ]
     },
     "execution_count": 25,
     "metadata": {},
     "output_type": "execute_result"
    }
   ],
   "source": [
    "type(gen)"
   ]
  },
  {
   "cell_type": "code",
   "execution_count": 26,
   "id": "038ba187",
   "metadata": {},
   "outputs": [
    {
     "data": {
      "text/plain": [
       "['ankit', 'summi', 'kiioo']"
      ]
     },
     "execution_count": 26,
     "metadata": {},
     "output_type": "execute_result"
    }
   ],
   "source": [
    "lst=['ankit','kiioo']\n",
    "lst.insert(1,'summi')\n",
    "lst"
   ]
  },
  {
   "cell_type": "markdown",
   "id": "de5c720a",
   "metadata": {},
   "source": [
    "insert is computationally expensive compared with append, because references to subsequent elements have to be shifted internally to make room for the new element.    \n",
    "If you need to insert elements at both the beginning and end of a sequence, you may wish to explore collections.deque, a double-ended queue, for this purpose"
   ]
  },
  {
   "cell_type": "markdown",
   "id": "bae8bfb8",
   "metadata": {},
   "source": [
    "Checking whether a list contains a value is a lot slower than doing so with dicts and sets."
   ]
  },
  {
   "cell_type": "code",
   "execution_count": 28,
   "id": "d45bf8e1",
   "metadata": {},
   "outputs": [
    {
     "data": {
      "text/plain": [
       "[1, 2, 3, 4, 5]"
      ]
     },
     "execution_count": 28,
     "metadata": {},
     "output_type": "execute_result"
    }
   ],
   "source": [
    "x=[1,2,3]\n",
    "x.extend([4,5])\n",
    "x"
   ]
  },
  {
   "cell_type": "code",
   "execution_count": 29,
   "id": "ed77defd",
   "metadata": {},
   "outputs": [],
   "source": [
    "x=[1,2,3]\n",
    "y=x.append([4,5])\n",
    "y"
   ]
  },
  {
   "cell_type": "code",
   "execution_count": 30,
   "id": "2a59d078",
   "metadata": {},
   "outputs": [
    {
     "data": {
      "text/plain": [
       "[1, 2, 3, [4, 5]]"
      ]
     },
     "execution_count": 30,
     "metadata": {},
     "output_type": "execute_result"
    }
   ],
   "source": [
    "x"
   ]
  },
  {
   "cell_type": "markdown",
   "id": "903f032f",
   "metadata": {},
   "source": [
    "Note that list concatenation by addition is a comparatively expensive operation since a new list must be created and the objects copied over.     \n",
    "Using extend to append elements to an existing list, especially if you are building up a large list, is usually preferable."
   ]
  },
  {
   "cell_type": "markdown",
   "id": "d30683a0",
   "metadata": {},
   "source": [
    "You can sort a list in-place (without creating a new object) by calling its sort function"
   ]
  },
  {
   "cell_type": "code",
   "execution_count": 31,
   "id": "422cf24b",
   "metadata": {},
   "outputs": [
    {
     "data": {
      "text/plain": [
       "[1, 2, 3, 4]"
      ]
     },
     "execution_count": 31,
     "metadata": {},
     "output_type": "execute_result"
    }
   ],
   "source": [
    "lst=[4,2,3,1]\n",
    "lst.sort()\n",
    "lst"
   ]
  },
  {
   "cell_type": "code",
   "execution_count": 32,
   "id": "c2754d11",
   "metadata": {},
   "outputs": [
    {
     "data": {
      "text/plain": [
       "['ankit', 'kiioo', 'summi', 'soumi']"
      ]
     },
     "execution_count": 32,
     "metadata": {},
     "output_type": "execute_result"
    }
   ],
   "source": [
    "lst=['ankit','kiioo','summi','soumi']\n",
    "lst.sort(key=len)\n",
    "lst"
   ]
  },
  {
   "cell_type": "markdown",
   "id": "de5113b0",
   "metadata": {},
   "source": [
    "sort(key=len): This sorts the list based on the length of each string (number of characters). Since all strings have the same length (5 characters), the sort() method will maintain the original order of elements that have the same key (this is called a \"stable sort\" behavior, but note: Python's sort is stable only when multiple elements have the same key? Actually, the stability of sort is guaranteed only when sorting with the same key, but here the key is the same for all, so the original order is preserved).\n",
    "\n",
    "However, it's important to note that when all elements have the same key value (same length), the sort operation doesn't need to rearrange the elements. So the list remains unchanged."
   ]
  },
  {
   "cell_type": "code",
   "execution_count": 33,
   "id": "6b2570a6",
   "metadata": {},
   "outputs": [
    {
     "data": {
      "text/plain": [
       "['He', 'saw', 'six', 'small', 'foxes']"
      ]
     },
     "execution_count": 33,
     "metadata": {},
     "output_type": "execute_result"
    }
   ],
   "source": [
    "b = ['saw', 'small', 'He', 'foxes', 'six']\n",
    "b.sort(key=len)\n",
    "b"
   ]
  },
  {
   "cell_type": "code",
   "execution_count": 35,
   "id": "9646389c",
   "metadata": {},
   "outputs": [
    {
     "data": {
      "text/plain": [
       "['small', 'foxes', 'saw', 'six', 'He']"
      ]
     },
     "execution_count": 35,
     "metadata": {},
     "output_type": "execute_result"
    }
   ],
   "source": [
    "b.sort(key=len, reverse=True)\n",
    "b"
   ]
  },
  {
   "cell_type": "code",
   "execution_count": 36,
   "id": "668696e3",
   "metadata": {},
   "outputs": [
    {
     "data": {
      "text/plain": [
       "[1, 2, 5, 4, 3]"
      ]
     },
     "execution_count": 36,
     "metadata": {},
     "output_type": "execute_result"
    }
   ],
   "source": [
    "seq=[1,2,3,4,5]\n",
    "seq[2:5]=seq[2:5][::-1]\n",
    "seq"
   ]
  },
  {
   "cell_type": "code",
   "execution_count": 38,
   "id": "4fdec1d5",
   "metadata": {},
   "outputs": [
    {
     "data": {
      "text/plain": [
       "[1, 3, 5]"
      ]
     },
     "execution_count": 38,
     "metadata": {},
     "output_type": "execute_result"
    }
   ],
   "source": [
    "seq=[1,2,3,4,5]\n",
    "seq[::2]"
   ]
  },
  {
   "cell_type": "code",
   "execution_count": 39,
   "id": "eaa7bf78",
   "metadata": {},
   "outputs": [
    {
     "data": {
      "text/plain": [
       "[1, 2, 3, 4, 5]"
      ]
     },
     "execution_count": 39,
     "metadata": {},
     "output_type": "execute_result"
    }
   ],
   "source": [
    "seq"
   ]
  },
  {
   "cell_type": "code",
   "execution_count": 2,
   "id": "5565d87e",
   "metadata": {},
   "outputs": [
    {
     "data": {
      "text/plain": [
       "['t', 'n', 'k', 'i', 'a']"
      ]
     },
     "execution_count": 2,
     "metadata": {},
     "output_type": "execute_result"
    }
   ],
   "source": [
    "sorted('ankit', reverse=True)"
   ]
  },
  {
   "cell_type": "code",
   "execution_count": 5,
   "id": "7dbc1d40",
   "metadata": {},
   "outputs": [
    {
     "data": {
      "text/plain": [
       "['kiiooo', 'ankit']"
      ]
     },
     "execution_count": 5,
     "metadata": {},
     "output_type": "execute_result"
    }
   ],
   "source": [
    "sorted(['ankit','kiiooo'],key=len, reverse=True)"
   ]
  },
  {
   "cell_type": "code",
   "execution_count": 6,
   "id": "5b7b7fcd",
   "metadata": {},
   "outputs": [
    {
     "data": {
      "text/plain": [
       "[' ', 'a', 'c', 'e', 'e', 'h', 'o', 'r', 'r', 's']"
      ]
     },
     "execution_count": 6,
     "metadata": {},
     "output_type": "execute_result"
    }
   ],
   "source": [
    "sorted('horse race')"
   ]
  },
  {
   "cell_type": "code",
   "execution_count": 8,
   "id": "f3c04ef5",
   "metadata": {},
   "outputs": [
    {
     "data": {
      "text/plain": [
       "[('a', 1), ('b', 2), ('c', 3)]"
      ]
     },
     "execution_count": 8,
     "metadata": {},
     "output_type": "execute_result"
    }
   ],
   "source": [
    "list(zip(['a','b','c'],[1,2,3]))"
   ]
  },
  {
   "cell_type": "code",
   "execution_count": 11,
   "id": "18fd64cf",
   "metadata": {},
   "outputs": [
    {
     "data": {
      "text/plain": [
       "[('ankit', 'summi'), ('kiio', 'soumi')]"
      ]
     },
     "execution_count": 11,
     "metadata": {},
     "output_type": "execute_result"
    }
   ],
   "source": [
    "list(zip(*(['ankit','kiio'],['summi','soumi'])))"
   ]
  },
  {
   "cell_type": "code",
   "execution_count": null,
   "id": "3d1f7eb6",
   "metadata": {},
   "outputs": [
    {
     "data": {
      "text/plain": [
       "[10, 9, 8, 7, 6, 5, 4, 3, 2, 1]"
      ]
     },
     "execution_count": 13,
     "metadata": {},
     "output_type": "execute_result"
    }
   ],
   "source": [
    "list(reversed(range(1,11)))\n",
    "#Keep in mind that reversed is a generator. so it does not create the reversed sequence \n",
    "# until materialized (e.g., with list or a for loop). \n"
   ]
  },
  {
   "cell_type": "markdown",
   "id": "67390fb8",
   "metadata": {},
   "source": [
    "dictionary\n",
    "\n",
    "A more common name for it is hash map or associative array. It is a flexibly sized collection of key-value pairs, \n",
    "where key and value are Python objects. One approach for creating one is to use curly braces {} and colons to separate keys and values\n"
   ]
  },
  {
   "cell_type": "code",
   "execution_count": 14,
   "id": "885be5ca",
   "metadata": {},
   "outputs": [],
   "source": [
    "d=dict(k='kiio')"
   ]
  },
  {
   "cell_type": "code",
   "execution_count": 15,
   "id": "acc24cc1",
   "metadata": {},
   "outputs": [
    {
     "data": {
      "text/plain": [
       "{'k': 'kiio'}"
      ]
     },
     "execution_count": 15,
     "metadata": {},
     "output_type": "execute_result"
    }
   ],
   "source": [
    "d"
   ]
  },
  {
   "cell_type": "code",
   "execution_count": 16,
   "id": "3183ef31",
   "metadata": {},
   "outputs": [
    {
     "data": {
      "text/plain": [
       "True"
      ]
     },
     "execution_count": 16,
     "metadata": {},
     "output_type": "execute_result"
    }
   ],
   "source": [
    "'k' in d"
   ]
  },
  {
   "cell_type": "code",
   "execution_count": 17,
   "id": "a0c15863",
   "metadata": {},
   "outputs": [
    {
     "data": {
      "text/plain": [
       "'kiio'"
      ]
     },
     "execution_count": 17,
     "metadata": {},
     "output_type": "execute_result"
    }
   ],
   "source": [
    "d.pop('k')"
   ]
  },
  {
   "cell_type": "code",
   "execution_count": 18,
   "id": "df6a42e2",
   "metadata": {},
   "outputs": [
    {
     "data": {
      "text/plain": [
       "{}"
      ]
     },
     "execution_count": 18,
     "metadata": {},
     "output_type": "execute_result"
    }
   ],
   "source": [
    "d"
   ]
  },
  {
   "cell_type": "code",
   "execution_count": 19,
   "id": "72de55d2",
   "metadata": {},
   "outputs": [
    {
     "data": {
      "text/plain": [
       "{'key1': 'value1', 'key2': 'value2'}"
      ]
     },
     "execution_count": 19,
     "metadata": {},
     "output_type": "execute_result"
    }
   ],
   "source": [
    "d={}\n",
    "d['key1']='value1'\n",
    "d['key2']='value2'\n",
    "d"
   ]
  },
  {
   "cell_type": "code",
   "execution_count": 20,
   "id": "3f752f39",
   "metadata": {},
   "outputs": [
    {
     "data": {
      "text/plain": [
       "dict_keys(['key1', 'key2'])"
      ]
     },
     "execution_count": 20,
     "metadata": {},
     "output_type": "execute_result"
    }
   ],
   "source": [
    "d.keys()"
   ]
  },
  {
   "cell_type": "code",
   "execution_count": 21,
   "id": "c4cdfa38",
   "metadata": {},
   "outputs": [
    {
     "data": {
      "text/plain": [
       "['key1', 'key2']"
      ]
     },
     "execution_count": 21,
     "metadata": {},
     "output_type": "execute_result"
    }
   ],
   "source": [
    "list(d.keys())"
   ]
  },
  {
   "cell_type": "code",
   "execution_count": 22,
   "id": "cd057b19",
   "metadata": {},
   "outputs": [
    {
     "data": {
      "text/plain": [
       "dict_values(['value1', 'value2'])"
      ]
     },
     "execution_count": 22,
     "metadata": {},
     "output_type": "execute_result"
    }
   ],
   "source": [
    "d.values()"
   ]
  },
  {
   "cell_type": "code",
   "execution_count": 23,
   "id": "8602b4e4",
   "metadata": {},
   "outputs": [
    {
     "data": {
      "text/plain": [
       "['value1', 'value2']"
      ]
     },
     "execution_count": 23,
     "metadata": {},
     "output_type": "execute_result"
    }
   ],
   "source": [
    "list(d.values())"
   ]
  },
  {
   "cell_type": "code",
   "execution_count": 24,
   "id": "b2ec59d6",
   "metadata": {},
   "outputs": [
    {
     "data": {
      "text/plain": [
       "dict_items([('key1', 'value1'), ('key2', 'value2')])"
      ]
     },
     "execution_count": 24,
     "metadata": {},
     "output_type": "execute_result"
    }
   ],
   "source": [
    "d.items()"
   ]
  },
  {
   "cell_type": "code",
   "execution_count": 25,
   "id": "b51d76fa",
   "metadata": {},
   "outputs": [
    {
     "data": {
      "text/plain": [
       "[('key1', 'value1'), ('key2', 'value2')]"
      ]
     },
     "execution_count": 25,
     "metadata": {},
     "output_type": "execute_result"
    }
   ],
   "source": [
    "list(d.items())"
   ]
  },
  {
   "cell_type": "code",
   "execution_count": 26,
   "id": "19a1c153",
   "metadata": {},
   "outputs": [],
   "source": [
    "d1={'a':1,'b':2}"
   ]
  },
  {
   "cell_type": "code",
   "execution_count": 27,
   "id": "464a2cad",
   "metadata": {},
   "outputs": [
    {
     "name": "stdout",
     "output_type": "stream",
     "text": [
      "{'key1': 'value1', 'key2': 'value2', 'a': 1, 'b': 2}\n"
     ]
    }
   ],
   "source": [
    "# You can merge one dict into another using the update method:\n",
    "\n",
    "d.update(d1)\n",
    "print(d)\n",
    "\n",
    "# The update method changes dicts in-place, so any existing keys in the data passed to update will have their old values discarded\n"
   ]
  },
  {
   "cell_type": "code",
   "execution_count": 28,
   "id": "3259af77",
   "metadata": {},
   "outputs": [
    {
     "data": {
      "text/plain": [
       "{'key1': 'value1', 'key2': 'value2', 'a': 1, 'b': 2}"
      ]
     },
     "execution_count": 28,
     "metadata": {},
     "output_type": "execute_result"
    }
   ],
   "source": [
    "d"
   ]
  },
  {
   "cell_type": "code",
   "execution_count": 29,
   "id": "175d9510",
   "metadata": {},
   "outputs": [
    {
     "data": {
      "text/plain": [
       "{'a': 1, 'b': 2}"
      ]
     },
     "execution_count": 29,
     "metadata": {},
     "output_type": "execute_result"
    }
   ],
   "source": [
    "d1"
   ]
  },
  {
   "cell_type": "code",
   "execution_count": 30,
   "id": "d743b001",
   "metadata": {},
   "outputs": [
    {
     "data": {
      "text/plain": [
       "{0: 4, 1: 3, 2: 2, 3: 1, 4: 0}"
      ]
     },
     "execution_count": 30,
     "metadata": {},
     "output_type": "execute_result"
    }
   ],
   "source": [
    "dict(zip(range(5), reversed(range(5))))"
   ]
  },
  {
   "cell_type": "markdown",
   "id": "74d5d8b4",
   "metadata": {},
   "source": [
    "While the values of a dict can be any Python object, the keys generally have to be immutable objects like scalar types (int, float, string) or tuples (all the objects in the tuple need to be immutable, too). \n",
    "The technical term here is hashability. You can check whether an object is hashable (can be used as a key in a dict) with the hash function.\n"
   ]
  },
  {
   "cell_type": "code",
   "execution_count": 31,
   "id": "bde07b10",
   "metadata": {},
   "outputs": [
    {
     "name": "stdout",
     "output_type": "stream",
     "text": [
      "230584300921356519 231 -8256921466915439470 -6945423361581673583 -3550055125485641917\n"
     ]
    }
   ],
   "source": [
    "# can be hashed\n",
    "print(hash(231.1),hash(231),hash(\"ankit\"),hash('k'),hash((1,2)))"
   ]
  },
  {
   "cell_type": "code",
   "execution_count": null,
   "id": "901b55f4",
   "metadata": {},
   "outputs": [
    {
     "ename": "TypeError",
     "evalue": "unhashable type: 'list'",
     "output_type": "error",
     "traceback": [
      "\u001b[0;31m---------------------------------------------------------------------------\u001b[0m",
      "\u001b[0;31mTypeError\u001b[0m                                 Traceback (most recent call last)",
      "Cell \u001b[0;32mIn[32], line 1\u001b[0m\n\u001b[0;32m----> 1\u001b[0m \u001b[38;5;28mprint\u001b[39m(\u001b[38;5;28;43mhash\u001b[39;49m\u001b[43m(\u001b[49m\u001b[43m[\u001b[49m\u001b[38;5;241;43m1\u001b[39;49m\u001b[43m,\u001b[49m\u001b[38;5;241;43m2\u001b[39;49m\u001b[43m]\u001b[49m\u001b[43m)\u001b[49m)\n\u001b[1;32m      2\u001b[0m \u001b[38;5;28mprint\u001b[39m(\u001b[38;5;28mhash\u001b[39m({\u001b[38;5;241m1\u001b[39m,\u001b[38;5;241m2\u001b[39m}))\n\u001b[1;32m      3\u001b[0m \u001b[38;5;28mprint\u001b[39m(\u001b[38;5;28mhash\u001b[39m({\u001b[38;5;241m1\u001b[39m:\u001b[38;5;124m'\u001b[39m\u001b[38;5;124mankit\u001b[39m\u001b[38;5;124m'\u001b[39m,\u001b[38;5;241m2\u001b[39m:\u001b[38;5;124m'\u001b[39m\u001b[38;5;124marpit\u001b[39m\u001b[38;5;124m'\u001b[39m}))\n",
      "\u001b[0;31mTypeError\u001b[0m: unhashable type: 'list'"
     ]
    }
   ],
   "source": [
    "print(hash([1,2])) \n"
   ]
  },
  {
   "cell_type": "code",
   "execution_count": 33,
   "id": "14442e32",
   "metadata": {},
   "outputs": [
    {
     "ename": "TypeError",
     "evalue": "unhashable type: 'set'",
     "output_type": "error",
     "traceback": [
      "\u001b[0;31m---------------------------------------------------------------------------\u001b[0m",
      "\u001b[0;31mTypeError\u001b[0m                                 Traceback (most recent call last)",
      "Cell \u001b[0;32mIn[33], line 1\u001b[0m\n\u001b[0;32m----> 1\u001b[0m \u001b[38;5;28mprint\u001b[39m(\u001b[38;5;28;43mhash\u001b[39;49m\u001b[43m(\u001b[49m\u001b[43m{\u001b[49m\u001b[38;5;241;43m1\u001b[39;49m\u001b[43m,\u001b[49m\u001b[38;5;241;43m2\u001b[39;49m\u001b[43m}\u001b[49m\u001b[43m)\u001b[49m)\n",
      "\u001b[0;31mTypeError\u001b[0m: unhashable type: 'set'"
     ]
    }
   ],
   "source": [
    "print(hash({1,2}))"
   ]
  },
  {
   "cell_type": "code",
   "execution_count": 34,
   "id": "ae00600b",
   "metadata": {},
   "outputs": [
    {
     "ename": "TypeError",
     "evalue": "unhashable type: 'dict'",
     "output_type": "error",
     "traceback": [
      "\u001b[0;31m---------------------------------------------------------------------------\u001b[0m",
      "\u001b[0;31mTypeError\u001b[0m                                 Traceback (most recent call last)",
      "Cell \u001b[0;32mIn[34], line 1\u001b[0m\n\u001b[0;32m----> 1\u001b[0m \u001b[38;5;28mprint\u001b[39m(\u001b[38;5;28;43mhash\u001b[39;49m\u001b[43m(\u001b[49m\u001b[43m{\u001b[49m\u001b[38;5;241;43m1\u001b[39;49m\u001b[43m:\u001b[49m\u001b[38;5;124;43m'\u001b[39;49m\u001b[38;5;124;43mankit\u001b[39;49m\u001b[38;5;124;43m'\u001b[39;49m\u001b[43m,\u001b[49m\u001b[38;5;241;43m2\u001b[39;49m\u001b[43m:\u001b[49m\u001b[38;5;124;43m'\u001b[39;49m\u001b[38;5;124;43marpit\u001b[39;49m\u001b[38;5;124;43m'\u001b[39;49m\u001b[43m}\u001b[49m\u001b[43m)\u001b[49m)\n",
      "\u001b[0;31mTypeError\u001b[0m: unhashable type: 'dict'"
     ]
    }
   ],
   "source": [
    "print(hash({1:'ankit',2:'arpit'}))"
   ]
  },
  {
   "cell_type": "code",
   "execution_count": 35,
   "id": "b48441f4",
   "metadata": {},
   "outputs": [
    {
     "ename": "TypeError",
     "evalue": "unhashable type: 'list'",
     "output_type": "error",
     "traceback": [
      "\u001b[0;31m---------------------------------------------------------------------------\u001b[0m",
      "\u001b[0;31mTypeError\u001b[0m                                 Traceback (most recent call last)",
      "Cell \u001b[0;32mIn[35], line 1\u001b[0m\n\u001b[0;32m----> 1\u001b[0m \u001b[38;5;28mprint\u001b[39m(\u001b[38;5;28;43mhash\u001b[39;49m\u001b[43m(\u001b[49m\u001b[43m(\u001b[49m\u001b[38;5;241;43m1\u001b[39;49m\u001b[43m,\u001b[49m\u001b[43m \u001b[49m\u001b[38;5;241;43m2\u001b[39;49m\u001b[43m,\u001b[49m\u001b[43m \u001b[49m\u001b[43m[\u001b[49m\u001b[38;5;241;43m2\u001b[39;49m\u001b[43m,\u001b[49m\u001b[43m \u001b[49m\u001b[38;5;241;43m3\u001b[39;49m\u001b[43m]\u001b[49m\u001b[43m)\u001b[49m\u001b[43m)\u001b[49m)\n",
      "\u001b[0;31mTypeError\u001b[0m: unhashable type: 'list'"
     ]
    }
   ],
   "source": [
    "print(hash((1, 2, [2, 3])))"
   ]
  },
  {
   "cell_type": "markdown",
   "id": "7258f7e0",
   "metadata": {},
   "source": [
    "Set\n",
    "\n",
    "A set is an unordered collection of unique elements. You can think of them like dicts, but keys only, no values. \n",
    "A set can be created in two ways: via the set function or via a set literal with curly braces:\n"
   ]
  },
  {
   "cell_type": "code",
   "execution_count": 36,
   "id": "2579d49f",
   "metadata": {},
   "outputs": [
    {
     "name": "stdout",
     "output_type": "stream",
     "text": [
      "{1, 2, 3, 4} {1, 2, 3, 4}\n",
      "{1} {1}\n",
      "{3} {3}\n",
      "{1, 4} {1, 4}\n"
     ]
    }
   ],
   "source": [
    "print({1,2}.union({3,4}),{1,2} | {3,4})\n",
    "print({1,2}.intersection({1,3,4}),{1,2} & {1,3,4})\n",
    "print({1,2,3}.difference({1,2}),{1,2,3} - {1,2})\n",
    "print({1,2,3}.symmetric_difference({2,3,4}),{1,2,3} ^ {2,3,4})\n"
   ]
  },
  {
   "cell_type": "code",
   "execution_count": 37,
   "id": "340e75bf",
   "metadata": {},
   "outputs": [
    {
     "data": {
      "text/plain": [
       "(True, True)"
      ]
     },
     "execution_count": 37,
     "metadata": {},
     "output_type": "execute_result"
    }
   ],
   "source": [
    "{1,2}.issubset({1,2,3}), {1,2} <= {1,2,3}"
   ]
  },
  {
   "cell_type": "code",
   "execution_count": 38,
   "id": "aa950458",
   "metadata": {},
   "outputs": [
    {
     "data": {
      "text/plain": [
       "(True, True)"
      ]
     },
     "execution_count": 38,
     "metadata": {},
     "output_type": "execute_result"
    }
   ],
   "source": [
    "{1,2,3}.issuperset({1,2}), {1,2,3} >= {1,2}"
   ]
  },
  {
   "cell_type": "code",
   "execution_count": 39,
   "id": "2ddd0b28",
   "metadata": {},
   "outputs": [
    {
     "data": {
      "text/plain": [
       "(True, False)"
      ]
     },
     "execution_count": 39,
     "metadata": {},
     "output_type": "execute_result"
    }
   ],
   "source": [
    "{1,2}.isdisjoint({3,4}), {1,2}.isdisjoint({2,3})"
   ]
  },
  {
   "cell_type": "code",
   "execution_count": 40,
   "id": "b8df5320",
   "metadata": {},
   "outputs": [
    {
     "data": {
      "text/plain": [
       "{1, 2, 3, 4}"
      ]
     },
     "execution_count": 40,
     "metadata": {},
     "output_type": "execute_result"
    }
   ],
   "source": [
    "#All of the logical set operations have in-place counterparts, which enable you to replace the contents \n",
    "#of the set on the left side of the operation with the result. For very large sets, this may be more efficient:\n",
    "\n",
    "a = {1, 2, 3}\n",
    "b= {2, 3, 4}\n",
    "a |= b\n",
    "a"
   ]
  },
  {
   "cell_type": "code",
   "execution_count": 41,
   "id": "2982aac9",
   "metadata": {},
   "outputs": [
    {
     "data": {
      "text/plain": [
       "{2, 3, 4}"
      ]
     },
     "execution_count": 41,
     "metadata": {},
     "output_type": "execute_result"
    }
   ],
   "source": [
    "b"
   ]
  },
  {
   "cell_type": "code",
   "execution_count": 42,
   "id": "f269fd80",
   "metadata": {},
   "outputs": [
    {
     "data": {
      "text/plain": [
       "{2, 3}"
      ]
     },
     "execution_count": 42,
     "metadata": {},
     "output_type": "execute_result"
    }
   ],
   "source": [
    "a &= {2,3}\n",
    "a"
   ]
  },
  {
   "cell_type": "code",
   "execution_count": 43,
   "id": "ccc68036",
   "metadata": {},
   "outputs": [
    {
     "data": {
      "text/plain": [
       "{2, 4}"
      ]
     },
     "execution_count": 43,
     "metadata": {},
     "output_type": "execute_result"
    }
   ],
   "source": [
    "a^={3,4}\n",
    "a"
   ]
  },
  {
   "cell_type": "markdown",
   "id": "486ddb9b",
   "metadata": {},
   "source": [
    "List, Set, and Dict Comprehensions\n",
    "\n",
    "It allows you to concisely form a new list by filtering the elements of a collection, transforming the elements passing the filter in one concise expression. \n",
    "They take the basic form:\n",
    "\n",
    "[expr for val in collection if condition]\n"
   ]
  },
  {
   "cell_type": "code",
   "execution_count": 44,
   "id": "e826aaa6",
   "metadata": {},
   "outputs": [
    {
     "data": {
      "text/plain": [
       "['BAT', 'CAR', 'DOVE', 'PYTHON']"
      ]
     },
     "execution_count": 44,
     "metadata": {},
     "output_type": "execute_result"
    }
   ],
   "source": [
    "strings = ['a', 'as', 'bat', 'car', 'dove', 'python']\n",
    "[x.upper() for x in strings if len(x) > 2]"
   ]
  },
  {
   "cell_type": "code",
   "execution_count": 45,
   "id": "4aadf59f",
   "metadata": {},
   "outputs": [
    {
     "data": {
      "text/plain": [
       "{'bat': 'BAT', 'car': 'CAR', 'dove': 'DOVE', 'python': 'PYTHON'}"
      ]
     },
     "execution_count": 45,
     "metadata": {},
     "output_type": "execute_result"
    }
   ],
   "source": [
    "{x:x.upper() for x in strings if len(x) > 2}"
   ]
  },
  {
   "cell_type": "code",
   "execution_count": 46,
   "id": "3693fa72",
   "metadata": {},
   "outputs": [
    {
     "data": {
      "text/plain": [
       "{'BAT', 'CAR', 'DOVE', 'PYTHON'}"
      ]
     },
     "execution_count": 46,
     "metadata": {},
     "output_type": "execute_result"
    }
   ],
   "source": [
    "{x.upper() for x in strings if len(x) > 2}"
   ]
  },
  {
   "cell_type": "code",
   "execution_count": 47,
   "id": "df2a400d",
   "metadata": {},
   "outputs": [
    {
     "data": {
      "text/plain": [
       "{1: 'a', 3: 'c'}"
      ]
     },
     "execution_count": 47,
     "metadata": {},
     "output_type": "execute_result"
    }
   ],
   "source": [
    "{key: value for key,value in zip([1,2,3],['a','b','c']) if value != 'b'}"
   ]
  },
  {
   "cell_type": "code",
   "execution_count": 49,
   "id": "4c46fa30",
   "metadata": {},
   "outputs": [
    {
     "name": "stdout",
     "output_type": "stream",
     "text": [
      "1\n",
      "2\n"
     ]
    },
    {
     "data": {
      "text/plain": [
       "[None, None]"
      ]
     },
     "execution_count": 49,
     "metadata": {},
     "output_type": "execute_result"
    }
   ],
   "source": [
    "list(map(print,[1,2]))"
   ]
  },
  {
   "cell_type": "code",
   "execution_count": 48,
   "id": "dd33ae0a",
   "metadata": {},
   "outputs": [
    {
     "data": {
      "text/plain": [
       "[[1, 2, 3], [1, 2, 3]]"
      ]
     },
     "execution_count": 48,
     "metadata": {},
     "output_type": "execute_result"
    }
   ],
   "source": [
    "list(map(lambda x: sorted(x),[[3,1,2],[2,3,1]]))"
   ]
  },
  {
   "cell_type": "code",
   "execution_count": 50,
   "id": "3dbafdbf",
   "metadata": {},
   "outputs": [
    {
     "name": "stdout",
     "output_type": "stream",
     "text": [
      "[1, 2, 3, 'a', 'b', 'c', (1, 2, 3), {1, 2, 3}, {'a': 1}]\n"
     ]
    }
   ],
   "source": [
    "# nested list comprehension:\n",
    "\n",
    "nested_list=[[1,2,3],['a','b','c'],[(1,2,3),{1,2,3},{'a':1}]]\n",
    "flattened=[x for ind in nested_list for x in ind]\n",
    "print(flattened)"
   ]
  },
  {
   "cell_type": "code",
   "execution_count": 51,
   "id": "45d091c1",
   "metadata": {},
   "outputs": [
    {
     "name": "stdout",
     "output_type": "stream",
     "text": [
      "2.1\n",
      "3\n"
     ]
    }
   ],
   "source": [
    "def my_fun(x,y,z=1.1):\n",
    "    if z!=1.1:\n",
    "        return x+y\n",
    "    else:\n",
    "        return x+z\n",
    "# x,y are positional arguments and z is keyword argument\n",
    "print(my_fun(1,2))\n",
    "print(my_fun(1,2,1.2))"
   ]
  },
  {
   "cell_type": "markdown",
   "id": "6b4a4291",
   "metadata": {},
   "source": [
    "The main restriction on function arguments is that the keyword arguments must follow the positional arguments (if any). \n",
    "You can specify keyword arguments in any order; this frees \n",
    "you from having to remember which order the function arguments were specified in and only what their names are.\n"
   ]
  },
  {
   "cell_type": "markdown",
   "id": "7ccf4be2",
   "metadata": {},
   "source": [
    "**Namespaces, Scope, and Local Functions:**\n",
    "\n",
    "An alternative and more descriptive name describing a variable scope in Python is a namespace.\n",
    "\n",
    "Any variables that are assigned within a function by default are assigned to the local namespace. The local namespace is created when the \n",
    "function is called and immediately  populated by the function’s arguments. After the function is finished, the local namespace is destroyed\n"
   ]
  },
  {
   "cell_type": "code",
   "execution_count": 52,
   "id": "165f0468",
   "metadata": {},
   "outputs": [
    {
     "ename": "UnboundLocalError",
     "evalue": "local variable 'a' referenced before assignment",
     "output_type": "error",
     "traceback": [
      "\u001b[0;31m---------------------------------------------------------------------------\u001b[0m",
      "\u001b[0;31mUnboundLocalError\u001b[0m                         Traceback (most recent call last)",
      "Cell \u001b[0;32mIn[52], line 4\u001b[0m\n\u001b[1;32m      2\u001b[0m \u001b[38;5;28;01mdef\u001b[39;00m\u001b[38;5;250m \u001b[39m\u001b[38;5;21mmy_fun\u001b[39m():\n\u001b[1;32m      3\u001b[0m     a\u001b[38;5;241m=\u001b[39ma\u001b[38;5;241m+\u001b[39m\u001b[38;5;241m3\u001b[39m\n\u001b[0;32m----> 4\u001b[0m \u001b[43mmy_fun\u001b[49m\u001b[43m(\u001b[49m\u001b[43m)\u001b[49m\n",
      "Cell \u001b[0;32mIn[52], line 3\u001b[0m, in \u001b[0;36mmy_fun\u001b[0;34m()\u001b[0m\n\u001b[1;32m      2\u001b[0m \u001b[38;5;28;01mdef\u001b[39;00m\u001b[38;5;250m \u001b[39m\u001b[38;5;21mmy_fun\u001b[39m():\n\u001b[0;32m----> 3\u001b[0m     a\u001b[38;5;241m=\u001b[39m\u001b[43ma\u001b[49m\u001b[38;5;241m+\u001b[39m\u001b[38;5;241m3\u001b[39m\n",
      "\u001b[0;31mUnboundLocalError\u001b[0m: local variable 'a' referenced before assignment"
     ]
    }
   ],
   "source": [
    "a=2\n",
    "def my_fun():\n",
    "    a=a+3\n",
    "my_fun()"
   ]
  },
  {
   "cell_type": "code",
   "execution_count": 53,
   "id": "29d69a40",
   "metadata": {},
   "outputs": [],
   "source": [
    "a=2\n",
    "def my_fun():\n",
    "    global a\n",
    "    a=a+3\n",
    "my_fun()\n"
   ]
  },
  {
   "cell_type": "code",
   "execution_count": 54,
   "id": "247130be",
   "metadata": {},
   "outputs": [
    {
     "data": {
      "text/plain": [
       "5"
      ]
     },
     "execution_count": 54,
     "metadata": {},
     "output_type": "execute_result"
    }
   ],
   "source": [
    "a"
   ]
  },
  {
   "cell_type": "markdown",
   "id": "775207c5",
   "metadata": {},
   "source": [
    "I generally discourage use of the global keyword. Typically global variables are used to store some kind of state in a system. \n",
    "If you find yourself using a lot of them, it may indicate a need for objectoriented programming (using classes). \n"
   ]
  },
  {
   "cell_type": "code",
   "execution_count": null,
   "id": "f42dc2b0",
   "metadata": {},
   "outputs": [
    {
     "name": "stdout",
     "output_type": "stream",
     "text": [
      "5 6 7\n"
     ]
    }
   ],
   "source": [
    "def f():\n",
    " a = 5\n",
    " b = 6\n",
    " c = 7\n",
    " return a, b, c\n",
    "a, b, c = f()\n",
    "print(a,b,c)"
   ]
  },
  {
   "cell_type": "code",
   "execution_count": 56,
   "id": "fbeb8c3c",
   "metadata": {},
   "outputs": [
    {
     "data": {
      "text/plain": [
       "<re.Match object; span=(0, 1), match='a'>"
      ]
     },
     "execution_count": 56,
     "metadata": {},
     "output_type": "execute_result"
    }
   ],
   "source": [
    "import re\n",
    "i = re.search('a', 'ankit')\n",
    "i"
   ]
  },
  {
   "cell_type": "code",
   "execution_count": 57,
   "id": "e47810f7",
   "metadata": {},
   "outputs": [
    {
     "data": {
      "text/plain": [
       "'ankit'"
      ]
     },
     "execution_count": 57,
     "metadata": {},
     "output_type": "execute_result"
    }
   ],
   "source": [
    "'           ankit' .strip()"
   ]
  },
  {
   "cell_type": "code",
   "execution_count": 59,
   "id": "a1a56a27",
   "metadata": {},
   "outputs": [
    {
     "data": {
      "text/plain": [
       "'Ankit'"
      ]
     },
     "execution_count": 59,
     "metadata": {},
     "output_type": "execute_result"
    }
   ],
   "source": [
    "re.sub('a', 'A', 'ankit')"
   ]
  },
  {
   "cell_type": "code",
   "execution_count": 60,
   "id": "32bbc6b3",
   "metadata": {},
   "outputs": [
    {
     "data": {
      "text/plain": [
       "'1nk1t'"
      ]
     },
     "execution_count": 60,
     "metadata": {},
     "output_type": "execute_result"
    }
   ],
   "source": [
    "re.sub('[aeiou]', '1', 'ankit')"
   ]
  },
  {
   "cell_type": "code",
   "execution_count": 61,
   "id": "53867b39",
   "metadata": {},
   "outputs": [
    {
     "data": {
      "text/plain": [
       "'ankit'"
      ]
     },
     "execution_count": 61,
     "metadata": {},
     "output_type": "execute_result"
    }
   ],
   "source": [
    "re.sub('[%#@&]', '', 'an#ki@t%')"
   ]
  },
  {
   "cell_type": "markdown",
   "id": "2c8f884e",
   "metadata": {},
   "source": [
    "Python has support for so-called anonymous or lambda functions, which are a way of writing functions consisting of a single statement, \n",
    "the result of which is the return value. They are defined with the lambda keyword, which has no meaning other than “we are declaring an anonymous function”"
   ]
  },
  {
   "cell_type": "markdown",
   "id": "d96797e0",
   "metadata": {},
   "source": [
    "One reason lambda functions are called anonymous functions is that , unlike functions declared with the def keyword, the function object itself is never given an explicit  \\_\\_name\\_\\_ attribute"
   ]
  },
  {
   "cell_type": "code",
   "execution_count": 62,
   "id": "d722f4e1",
   "metadata": {},
   "outputs": [
    {
     "data": {
      "text/plain": [
       "25"
      ]
     },
     "execution_count": 62,
     "metadata": {},
     "output_type": "execute_result"
    }
   ],
   "source": [
    "square=lambda x: x**2\n",
    "square(5)"
   ]
  },
  {
   "cell_type": "code",
   "execution_count": 63,
   "id": "0b3f8d88",
   "metadata": {},
   "outputs": [
    {
     "data": {
      "text/plain": [
       "['aaaa', 'foo', 'abab', 'bar', 'card']"
      ]
     },
     "execution_count": 63,
     "metadata": {},
     "output_type": "execute_result"
    }
   ],
   "source": [
    "strings = ['foo', 'card', 'bar', 'aaaa', 'abab']\n",
    "strings.sort(key=lambda x: len(set(list(x))))\n",
    "strings"
   ]
  },
  {
   "cell_type": "code",
   "execution_count": 64,
   "id": "99773699",
   "metadata": {},
   "outputs": [
    {
     "name": "stdout",
     "output_type": "stream",
     "text": [
      "a\n",
      "b\n",
      "c\n"
     ]
    }
   ],
   "source": [
    "# iterating over a dict yields the dict keys:\n",
    "\n",
    "some_dict = {'a': 1, 'b': 2, 'c': 3}\n",
    "for key in some_dict:\n",
    "    print(key)"
   ]
  },
  {
   "cell_type": "markdown",
   "id": "8cf95794",
   "metadata": {},
   "source": [
    "An iterator is any object that will yield objects to the Python interpreter when used in a context like a for loop. Most methods expecting a list or list-like object will also accept any iterable object. \n",
    "This includes built-in methods such as min, max, and sum, and type constructors like list and tuple:"
   ]
  },
  {
   "cell_type": "code",
   "execution_count": 65,
   "id": "a0731169",
   "metadata": {},
   "outputs": [
    {
     "name": "stdout",
     "output_type": "stream",
     "text": [
      "['a', 'b', 'c']\n"
     ]
    }
   ],
   "source": [
    "some_dict = {'a': 1, 'b': 2, 'c': 3}\n",
    "print(list(iter(some_dict)))"
   ]
  },
  {
   "cell_type": "markdown",
   "id": "5835a362",
   "metadata": {},
   "source": [
    "A generator is a concise way to construct a new iterable object. Whereas normal functions execute and return a single result at a time, generators return a sequence of multiple results lazily, pausing after each one until the next one is requested. To create a generator, use the yield keyword instead of return in a function"
   ]
  },
  {
   "cell_type": "code",
   "execution_count": 66,
   "id": "1fa63508",
   "metadata": {},
   "outputs": [
    {
     "name": "stdout",
     "output_type": "stream",
     "text": [
      "Generating squares from 1 to 100\n",
      "1 4 9 16 25 36 49 64 81 100 "
     ]
    }
   ],
   "source": [
    "def squares(n=10):\n",
    " print('Generating squares from 1 to {0}'.format(n ** 2))\n",
    " for i in range(1, n + 1):\n",
    "     yield i ** 2\n",
    "\n",
    "gen = squares()\n",
    "\n",
    "for x in gen:\n",
    "    print(x, end=' ')"
   ]
  },
  {
   "cell_type": "markdown",
   "id": "9f935d8e",
   "metadata": {},
   "source": [
    "Another even more concise way to make a generator is by using a generator expression. This is a generator analogue to list, dict, and set comprehensions;  to create one,  enclose what would otherwise be a list comprehension within parentheses instead of brackets\n"
   ]
  },
  {
   "cell_type": "code",
   "execution_count": 67,
   "id": "39ad23e5",
   "metadata": {},
   "outputs": [
    {
     "data": {
      "text/plain": [
       "<generator object <genexpr> at 0x7cc8f6bd7990>"
      ]
     },
     "execution_count": 67,
     "metadata": {},
     "output_type": "execute_result"
    }
   ],
   "source": [
    "gen = (x ** 2 for x in range(100))\n",
    "gen"
   ]
  },
  {
   "cell_type": "code",
   "execution_count": 68,
   "id": "40b29410",
   "metadata": {},
   "outputs": [
    {
     "data": {
      "text/plain": [
       "0"
      ]
     },
     "execution_count": 68,
     "metadata": {},
     "output_type": "execute_result"
    }
   ],
   "source": [
    "next(gen)"
   ]
  },
  {
   "cell_type": "code",
   "execution_count": 69,
   "id": "2a9768cc",
   "metadata": {},
   "outputs": [
    {
     "data": {
      "text/plain": [
       "1"
      ]
     },
     "execution_count": 69,
     "metadata": {},
     "output_type": "execute_result"
    }
   ],
   "source": [
    "next(gen)"
   ]
  },
  {
   "cell_type": "code",
   "execution_count": 70,
   "id": "aac6d8f4",
   "metadata": {},
   "outputs": [
    {
     "data": {
      "text/plain": [
       "4"
      ]
     },
     "execution_count": 70,
     "metadata": {},
     "output_type": "execute_result"
    }
   ],
   "source": [
    "next(gen)"
   ]
  },
  {
   "cell_type": "code",
   "execution_count": 71,
   "id": "b061341c",
   "metadata": {},
   "outputs": [
    {
     "data": {
      "text/plain": [
       "328350"
      ]
     },
     "execution_count": 71,
     "metadata": {},
     "output_type": "execute_result"
    }
   ],
   "source": [
    "sum(x ** 2 for x in range(100))\n"
   ]
  },
  {
   "cell_type": "code",
   "execution_count": 72,
   "id": "528b913c",
   "metadata": {},
   "outputs": [
    {
     "data": {
      "text/plain": [
       "{0: 0, 1: 1, 2: 4, 3: 9, 4: 16}"
      ]
     },
     "execution_count": 72,
     "metadata": {},
     "output_type": "execute_result"
    }
   ],
   "source": [
    "dict((i, i **2) for i in range(5))"
   ]
  },
  {
   "cell_type": "code",
   "execution_count": 73,
   "id": "d85b4762",
   "metadata": {},
   "outputs": [],
   "source": [
    "#cErrors and Exception Handling:\n",
    "\n",
    "def attempt_float(x):\n",
    " try:\n",
    "     return float(x)\n",
    " except (TypeError, ValueError):\n",
    "     return x\n"
   ]
  },
  {
   "cell_type": "code",
   "execution_count": 74,
   "id": "f60d747d",
   "metadata": {},
   "outputs": [
    {
     "data": {
      "text/plain": [
       "1.234"
      ]
     },
     "execution_count": 74,
     "metadata": {},
     "output_type": "execute_result"
    }
   ],
   "source": [
    "attempt_float('1.234')"
   ]
  },
  {
   "cell_type": "code",
   "execution_count": 76,
   "id": "39a99391",
   "metadata": {},
   "outputs": [
    {
     "data": {
      "text/plain": [
       "'async'"
      ]
     },
     "execution_count": 76,
     "metadata": {},
     "output_type": "execute_result"
    }
   ],
   "source": [
    "attempt_float('async')"
   ]
  },
  {
   "cell_type": "code",
   "execution_count": 77,
   "id": "d554f31e",
   "metadata": {},
   "outputs": [
    {
     "name": "stdout",
     "output_type": "stream",
     "text": [
      "3.0\n",
      "hi\n",
      "bye\n",
      "None\n",
      "an\n",
      "bye\n",
      "None\n"
     ]
    }
   ],
   "source": [
    "# you can have code that executes only if the try: block succeeds using else:\n",
    "\n",
    "def type_check(x):\n",
    "    try:\n",
    "        print(float(x))\n",
    "    except (TypeError,ValueError):\n",
    "        print(x)\n",
    "    else:\n",
    "        print(\"hi\")\n",
    "    finally:\n",
    "        print(\"bye\")\n",
    "print(type_check(3))        \n",
    "print(type_check(\"an\"))"
   ]
  },
  {
   "cell_type": "code",
   "execution_count": 78,
   "id": "eaf835c9",
   "metadata": {},
   "outputs": [
    {
     "name": "stdout",
     "output_type": "stream",
     "text": [
      "3.0\n",
      "hi\n",
      "bye\n"
     ]
    }
   ],
   "source": [
    "type_check(3)      "
   ]
  },
  {
   "cell_type": "code",
   "execution_count": 80,
   "id": "f23e5358",
   "metadata": {},
   "outputs": [
    {
     "name": "stdout",
     "output_type": "stream",
     "text": [
      "an\n",
      "bye\n"
     ]
    }
   ],
   "source": [
    "type_check(\"an\")"
   ]
  },
  {
   "cell_type": "markdown",
   "id": "19e0ab85",
   "metadata": {},
   "source": [
    "By default, the file is opened in read-only mode 'r'. We can then treat the file handle f like a list and iterate over the lines like so\n",
    "\n",
    "There is also the 'x' file mode, which creates a writable file but fails if the file path already exists.\n"
   ]
  },
  {
   "cell_type": "code",
   "execution_count": 86,
   "id": "753b4b24",
   "metadata": {},
   "outputs": [],
   "source": [
    "# f.read(10) # reads 10 characters from the file\n",
    "\n",
    "# Mode --> Description\n",
    "# r --> Read-only mode\n",
    "# w --> Write-only mode; creates a new file (erasing the data for any file with the same name)\n",
    "# x --> Write-only mode; creates a new file, but fails if the file path already exists\n",
    "# a --> Append to existing file (create the file if it does not already exist)\n",
    "# r+ --> Read and write b Add to mode for binary files (i.e., 'rb' or 'wb')\n",
    "# t -->Text mode for files (automatically decoding bytes to Unicode). This is the default if not specified. Add t to other\n",
    "# modes to use this (i.e., 'rt' or 'xt')\n"
   ]
  },
  {
   "cell_type": "markdown",
   "id": "f114f3f6",
   "metadata": {},
   "source": [
    "To write text to a file, you can use the file’s write or writelines methods"
   ]
  },
  {
   "cell_type": "code",
   "execution_count": 88,
   "id": "80d9a228",
   "metadata": {},
   "outputs": [
    {
     "data": {
      "text/plain": [
       "['111.11']"
      ]
     },
     "execution_count": 88,
     "metadata": {},
     "output_type": "execute_result"
    }
   ],
   "source": [
    "with open('tmp.txt', 'w') as handle:\n",
    "    handle.writelines(x for x in open('sample.txt') if len(x) > 1)\n",
    "with open('tmp.txt') as f:\n",
    "    lines = f.readlines()\n",
    "lines"
   ]
  },
  {
   "cell_type": "code",
   "execution_count": null,
   "id": "7f06f2ed",
   "metadata": {},
   "outputs": [],
   "source": []
  }
 ],
 "metadata": {
  "kernelspec": {
   "display_name": "Python 3",
   "language": "python",
   "name": "python3"
  },
  "language_info": {
   "codemirror_mode": {
    "name": "ipython",
    "version": 3
   },
   "file_extension": ".py",
   "mimetype": "text/x-python",
   "name": "python",
   "nbconvert_exporter": "python",
   "pygments_lexer": "ipython3",
   "version": "3.10.10"
  }
 },
 "nbformat": 4,
 "nbformat_minor": 5
}
