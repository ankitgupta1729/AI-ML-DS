{
 "cells": [
  {
   "cell_type": "code",
   "execution_count": null,
   "id": "c6567529",
   "metadata": {},
   "outputs": [
    {
     "data": {
      "text/plain": [
       "module"
      ]
     },
     "execution_count": 7,
     "metadata": {},
     "output_type": "execute_result"
    }
   ],
   "source": [
    "# Everthing in Python is an object\n",
    "import math # math is a module and also an object. \n",
    "# When we import a math module then it creates a module object named math\n",
    "type(math)"
   ]
  },
  {
   "cell_type": "code",
   "execution_count": 9,
   "id": "8f25d9b5",
   "metadata": {},
   "outputs": [
    {
     "name": "stdout",
     "output_type": "stream",
     "text": [
      "\u001b[0;31mType:\u001b[0m        module\n",
      "\u001b[0;31mString form:\u001b[0m <module 'math' from '/home/ankit/Desktop/ml/InterviewPreparation/AI-ML-DS/practice_env/lib/python3.10/lib-dynload/math.cpython-310-x86_64-linux-gnu.so'>\n",
      "\u001b[0;31mFile:\u001b[0m        ~/Desktop/ml/InterviewPreparation/AI-ML-DS/practice_env/lib/python3.10/lib-dynload/math.cpython-310-x86_64-linux-gnu.so\n",
      "\u001b[0;31mDocstring:\u001b[0m  \n",
      "This module provides access to the mathematical functions\n",
      "defined by the C standard."
     ]
    }
   ],
   "source": [
    "math?"
   ]
  },
  {
   "cell_type": "code",
   "execution_count": 27,
   "id": "b11026df",
   "metadata": {},
   "outputs": [
    {
     "name": "stdout",
     "output_type": "stream",
     "text": [
      "\u001b[0;31mSignature:\u001b[0m \u001b[0mmath\u001b[0m\u001b[0;34m.\u001b[0m\u001b[0msqrt\u001b[0m\u001b[0;34m(\u001b[0m\u001b[0mx\u001b[0m\u001b[0;34m,\u001b[0m \u001b[0;34m/\u001b[0m\u001b[0;34m)\u001b[0m\u001b[0;34m\u001b[0m\u001b[0;34m\u001b[0m\u001b[0m\n",
      "\u001b[0;31mDocstring:\u001b[0m Return the square root of x.\n",
      "\u001b[0;31mType:\u001b[0m      builtin_function_or_method"
     ]
    }
   ],
   "source": [
    "math.sqrt?"
   ]
  },
  {
   "cell_type": "code",
   "execution_count": 28,
   "id": "fb31b4a9",
   "metadata": {},
   "outputs": [
    {
     "name": "stdout",
     "output_type": "stream",
     "text": [
      "\u001b[0;31mType:\u001b[0m        float\n",
      "\u001b[0;31mString form:\u001b[0m 3.141592653589793\n",
      "\u001b[0;31mDocstring:\u001b[0m   Convert a string or number to a floating point number, if possible."
     ]
    }
   ],
   "source": [
    "math.pi?"
   ]
  },
  {
   "cell_type": "code",
   "execution_count": 29,
   "id": "d6a2e45e",
   "metadata": {},
   "outputs": [
    {
     "name": "stdout",
     "output_type": "stream",
     "text": [
      "\u001b[0;31mSignature:\u001b[0m \u001b[0mmath\u001b[0m\u001b[0;34m.\u001b[0m\u001b[0mfactorial\u001b[0m\u001b[0;34m(\u001b[0m\u001b[0mx\u001b[0m\u001b[0;34m,\u001b[0m \u001b[0;34m/\u001b[0m\u001b[0;34m)\u001b[0m\u001b[0;34m\u001b[0m\u001b[0;34m\u001b[0m\u001b[0m\n",
      "\u001b[0;31mDocstring:\u001b[0m\n",
      "Find x!.\n",
      "\n",
      "Raise a ValueError if x is negative or non-integral.\n",
      "\u001b[0;31mType:\u001b[0m      builtin_function_or_method"
     ]
    }
   ],
   "source": [
    "math.factorial?"
   ]
  },
  {
   "cell_type": "code",
   "execution_count": 30,
   "id": "a7cd5019",
   "metadata": {},
   "outputs": [
    {
     "name": "stdout",
     "output_type": "stream",
     "text": [
      "\u001b[0;31mSignature:\u001b[0m \u001b[0mmath\u001b[0m\u001b[0;34m.\u001b[0m\u001b[0mcomb\u001b[0m\u001b[0;34m(\u001b[0m\u001b[0mn\u001b[0m\u001b[0;34m,\u001b[0m \u001b[0mk\u001b[0m\u001b[0;34m,\u001b[0m \u001b[0;34m/\u001b[0m\u001b[0;34m)\u001b[0m\u001b[0;34m\u001b[0m\u001b[0;34m\u001b[0m\u001b[0m\n",
      "\u001b[0;31mDocstring:\u001b[0m\n",
      "Number of ways to choose k items from n items without repetition and without order.\n",
      "\n",
      "Evaluates to n! / (k! * (n - k)!) when k <= n and evaluates\n",
      "to zero when k > n.\n",
      "\n",
      "Also called the binomial coefficient because it is equivalent\n",
      "to the coefficient of k-th term in polynomial expansion of the\n",
      "expression (1 + x)**n.\n",
      "\n",
      "Raises TypeError if either of the arguments are not integers.\n",
      "Raises ValueError if either of the arguments are negative.\n",
      "\u001b[0;31mType:\u001b[0m      builtin_function_or_method"
     ]
    }
   ],
   "source": [
    "math.comb?"
   ]
  },
  {
   "cell_type": "code",
   "execution_count": 31,
   "id": "c8106b92",
   "metadata": {},
   "outputs": [
    {
     "name": "stdout",
     "output_type": "stream",
     "text": [
      "\u001b[0;31mSignature:\u001b[0m \u001b[0mmath\u001b[0m\u001b[0;34m.\u001b[0m\u001b[0mgamma\u001b[0m\u001b[0;34m(\u001b[0m\u001b[0mx\u001b[0m\u001b[0;34m,\u001b[0m \u001b[0;34m/\u001b[0m\u001b[0;34m)\u001b[0m\u001b[0;34m\u001b[0m\u001b[0;34m\u001b[0m\u001b[0m\n",
      "\u001b[0;31mDocstring:\u001b[0m Gamma function at x.\n",
      "\u001b[0;31mType:\u001b[0m      builtin_function_or_method"
     ]
    }
   ],
   "source": [
    "math.gamma?"
   ]
  },
  {
   "cell_type": "code",
   "execution_count": 32,
   "id": "6e56a13c",
   "metadata": {},
   "outputs": [
    {
     "name": "stdout",
     "output_type": "stream",
     "text": [
      "\u001b[0;31mSignature:\u001b[0m \u001b[0mmath\u001b[0m\u001b[0;34m.\u001b[0m\u001b[0mprod\u001b[0m\u001b[0;34m(\u001b[0m\u001b[0miterable\u001b[0m\u001b[0;34m,\u001b[0m \u001b[0;34m/\u001b[0m\u001b[0;34m,\u001b[0m \u001b[0;34m*\u001b[0m\u001b[0;34m,\u001b[0m \u001b[0mstart\u001b[0m\u001b[0;34m=\u001b[0m\u001b[0;36m1\u001b[0m\u001b[0;34m)\u001b[0m\u001b[0;34m\u001b[0m\u001b[0;34m\u001b[0m\u001b[0m\n",
      "\u001b[0;31mDocstring:\u001b[0m\n",
      "Calculate the product of all the elements in the input iterable.\n",
      "\n",
      "The default start value for the product is 1.\n",
      "\n",
      "When the iterable is empty, return the start value.  This function is\n",
      "intended specifically for use with numeric values and may reject\n",
      "non-numeric types.\n",
      "\u001b[0;31mType:\u001b[0m      builtin_function_or_method"
     ]
    }
   ],
   "source": [
    "math.prod?"
   ]
  },
  {
   "cell_type": "code",
   "execution_count": null,
   "id": "dfb4144a",
   "metadata": {},
   "outputs": [
    {
     "name": "stdout",
     "output_type": "stream",
     "text": [
      "\u001b[0;31mType:\u001b[0m        float\n",
      "\u001b[0;31mString form:\u001b[0m 6.283185307179586\n",
      "\u001b[0;31mDocstring:\u001b[0m   Convert a string or number to a floating point number, if possible."
     ]
    }
   ],
   "source": [
    "math.tau?\n",
    "#A value of 6.28 represents tau (τ), a mathematical constant equal to 2π (two times pi). \n",
    "# Tau is defined as the ratio of a circle's circumference to its radius, \n",
    "# where one full circle corresponds to an angle of τ radians. \n",
    "# Using τ simplifies many formulas by eliminating the factor of two, \n",
    "# making concepts like a full turn around a circle equal to 1τ."
   ]
  },
  {
   "cell_type": "code",
   "execution_count": 10,
   "id": "3f348558",
   "metadata": {},
   "outputs": [
    {
     "name": "stdout",
     "output_type": "stream",
     "text": [
      "\u001b[0;31mInit signature:\u001b[0m \u001b[0mint\u001b[0m\u001b[0;34m(\u001b[0m\u001b[0mself\u001b[0m\u001b[0;34m,\u001b[0m \u001b[0;34m/\u001b[0m\u001b[0;34m,\u001b[0m \u001b[0;34m*\u001b[0m\u001b[0margs\u001b[0m\u001b[0;34m,\u001b[0m \u001b[0;34m**\u001b[0m\u001b[0mkwargs\u001b[0m\u001b[0;34m)\u001b[0m\u001b[0;34m\u001b[0m\u001b[0;34m\u001b[0m\u001b[0m\n",
      "\u001b[0;31mDocstring:\u001b[0m     \n",
      "int([x]) -> integer\n",
      "int(x, base=10) -> integer\n",
      "\n",
      "Convert a number or string to an integer, or return 0 if no arguments\n",
      "are given.  If x is a number, return x.__int__().  For floating point\n",
      "numbers, this truncates towards zero.\n",
      "\n",
      "If x is not a number or if base is given, then x must be a string,\n",
      "bytes, or bytearray instance representing an integer literal in the\n",
      "given base.  The literal can be preceded by '+' or '-' and be surrounded\n",
      "by whitespace.  The base defaults to 10.  Valid bases are 0 and 2-36.\n",
      "Base 0 means to interpret the base from the string as an integer literal.\n",
      ">>> int('0b100', base=0)\n",
      "4\n",
      "\u001b[0;31mType:\u001b[0m           type\n",
      "\u001b[0;31mSubclasses:\u001b[0m     bool, IntEnum, IntFlag, _NamedIntConstant"
     ]
    }
   ],
   "source": [
    "int?"
   ]
  },
  {
   "cell_type": "code",
   "execution_count": 14,
   "id": "34143af7",
   "metadata": {},
   "outputs": [
    {
     "data": {
      "text/plain": [
       "5"
      ]
     },
     "execution_count": 14,
     "metadata": {},
     "output_type": "execute_result"
    }
   ],
   "source": [
    "int('101', base=2) # base is also a parameter of int class and it is also an object"
   ]
  },
  {
   "cell_type": "code",
   "execution_count": 15,
   "id": "3eb9d08b",
   "metadata": {},
   "outputs": [
    {
     "data": {
      "text/plain": [
       "40"
      ]
     },
     "execution_count": 15,
     "metadata": {},
     "output_type": "execute_result"
    }
   ],
   "source": [
    "int('50', base=8) # base is also a parameter of int class and it is also an object"
   ]
  },
  {
   "cell_type": "code",
   "execution_count": 19,
   "id": "a33bcf91",
   "metadata": {},
   "outputs": [
    {
     "data": {
      "text/plain": [
       "10.0"
      ]
     },
     "execution_count": 19,
     "metadata": {},
     "output_type": "execute_result"
    }
   ],
   "source": [
    "float(10) # float() does not take a 'base' parameter"
   ]
  },
  {
   "cell_type": "code",
   "execution_count": 20,
   "id": "333cfee1",
   "metadata": {},
   "outputs": [
    {
     "name": "stdout",
     "output_type": "stream",
     "text": [
      "\u001b[0;31mInit signature:\u001b[0m \u001b[0mfloat\u001b[0m\u001b[0;34m(\u001b[0m\u001b[0mx\u001b[0m\u001b[0;34m=\u001b[0m\u001b[0;36m0\u001b[0m\u001b[0;34m,\u001b[0m \u001b[0;34m/\u001b[0m\u001b[0;34m)\u001b[0m\u001b[0;34m\u001b[0m\u001b[0;34m\u001b[0m\u001b[0m\n",
      "\u001b[0;31mDocstring:\u001b[0m      Convert a string or number to a floating point number, if possible.\n",
      "\u001b[0;31mType:\u001b[0m           type\n",
      "\u001b[0;31mSubclasses:\u001b[0m     "
     ]
    }
   ],
   "source": [
    "float?"
   ]
  },
  {
   "cell_type": "code",
   "execution_count": 21,
   "id": "ee7e8991",
   "metadata": {},
   "outputs": [
    {
     "name": "stdout",
     "output_type": "stream",
     "text": [
      "\u001b[0;31mInit signature:\u001b[0m \u001b[0mstr\u001b[0m\u001b[0;34m(\u001b[0m\u001b[0mself\u001b[0m\u001b[0;34m,\u001b[0m \u001b[0;34m/\u001b[0m\u001b[0;34m,\u001b[0m \u001b[0;34m*\u001b[0m\u001b[0margs\u001b[0m\u001b[0;34m,\u001b[0m \u001b[0;34m**\u001b[0m\u001b[0mkwargs\u001b[0m\u001b[0;34m)\u001b[0m\u001b[0;34m\u001b[0m\u001b[0;34m\u001b[0m\u001b[0m\n",
      "\u001b[0;31mDocstring:\u001b[0m     \n",
      "str(object='') -> str\n",
      "str(bytes_or_buffer[, encoding[, errors]]) -> str\n",
      "\n",
      "Create a new string object from the given object. If encoding or\n",
      "errors is specified, then the object must expose a data buffer\n",
      "that will be decoded using the given encoding and error handler.\n",
      "Otherwise, returns the result of object.__str__() (if defined)\n",
      "or repr(object).\n",
      "encoding defaults to sys.getdefaultencoding().\n",
      "errors defaults to 'strict'.\n",
      "\u001b[0;31mType:\u001b[0m           type\n",
      "\u001b[0;31mSubclasses:\u001b[0m     DeferredConfigString, FoldedCase, _rstr, LSString, include, Keys, InputMode, ColorDepth, CompleteStyle, SortKey, ..."
     ]
    }
   ],
   "source": [
    "str?"
   ]
  },
  {
   "cell_type": "code",
   "execution_count": 25,
   "id": "9e371019",
   "metadata": {},
   "outputs": [
    {
     "data": {
      "text/plain": [
       "'ankit'"
      ]
     },
     "execution_count": 25,
     "metadata": {},
     "output_type": "execute_result"
    }
   ],
   "source": [
    "str(b'ankit', encoding='utf-8', errors='strict') # encoding and errors are also parameters of str class and they are also objects"
   ]
  },
  {
   "cell_type": "code",
   "execution_count": 8,
   "id": "9d15a17b",
   "metadata": {},
   "outputs": [
    {
     "data": {
      "text/plain": [
       "float"
      ]
     },
     "execution_count": 8,
     "metadata": {},
     "output_type": "execute_result"
    }
   ],
   "source": [
    "x=1.5 # x is a variable of type float but this variable is also an object\n",
    "type(x)"
   ]
  },
  {
   "cell_type": "code",
   "execution_count": 1,
   "id": "e1867aaa",
   "metadata": {},
   "outputs": [],
   "source": [
    "def type(n): #using keyword \"type\" as a function name but it is not a good practice\n",
    "    return n*n*n"
   ]
  },
  {
   "cell_type": "code",
   "execution_count": 40,
   "id": "a1aed84d",
   "metadata": {},
   "outputs": [
    {
     "data": {
      "text/plain": [
       "125"
      ]
     },
     "execution_count": 40,
     "metadata": {},
     "output_type": "execute_result"
    }
   ],
   "source": [
    "type(5)"
   ]
  },
  {
   "cell_type": "code",
   "execution_count": null,
   "id": "63e4400b",
   "metadata": {},
   "outputs": [],
   "source": [
    "type=5 # variable and funcxtion name should not be same as a keyword or built-in function name \n",
    "# but it is not a good practice"
   ]
  },
  {
   "cell_type": "code",
   "execution_count": 3,
   "id": "6fc98aa7",
   "metadata": {},
   "outputs": [
    {
     "ename": "SyntaxError",
     "evalue": "invalid decimal literal (446007397.py, line 1)",
     "output_type": "error",
     "traceback": [
      "\u001b[0;36m  Cell \u001b[0;32mIn[3], line 1\u001b[0;36m\u001b[0m\n\u001b[0;31m    def 123name(): # function name should not start with a number\u001b[0m\n\u001b[0m          ^\u001b[0m\n\u001b[0;31mSyntaxError\u001b[0m\u001b[0;31m:\u001b[0m invalid decimal literal\n"
     ]
    }
   ],
   "source": [
    "def 123name(): # function name should not start with a number\n",
    "    return \"ankit\""
   ]
  },
  {
   "cell_type": "code",
   "execution_count": 4,
   "id": "32acae9c",
   "metadata": {},
   "outputs": [],
   "source": [
    "def _name(): # function name can start with an underscore\n",
    "    return \"ankit\""
   ]
  },
  {
   "cell_type": "code",
   "execution_count": 5,
   "id": "a7a89d24",
   "metadata": {},
   "outputs": [
    {
     "data": {
      "text/plain": [
       "'ankit'"
      ]
     },
     "execution_count": 5,
     "metadata": {},
     "output_type": "execute_result"
    }
   ],
   "source": [
    "_name()"
   ]
  },
  {
   "cell_type": "code",
   "execution_count": 9,
   "id": "252a1f3d",
   "metadata": {},
   "outputs": [],
   "source": [
    "def __myname(): # function name can start with double underscore\n",
    "        return \"ankit gupta\""
   ]
  },
  {
   "cell_type": "code",
   "execution_count": 10,
   "id": "1d94aa02",
   "metadata": {},
   "outputs": [
    {
     "data": {
      "text/plain": [
       "'ankit gupta'"
      ]
     },
     "execution_count": 10,
     "metadata": {},
     "output_type": "execute_result"
    }
   ],
   "source": [
    "__myname()"
   ]
  },
  {
   "cell_type": "code",
   "execution_count": 24,
   "id": "e5c633d3",
   "metadata": {},
   "outputs": [
    {
     "name": "stdout",
     "output_type": "stream",
     "text": [
      "<class 'str'>\n",
      "<class 'function'>\n"
     ]
    }
   ],
   "source": [
    "def name(): # function name should not start with a number\n",
    "    return \"ankit\"\n",
    "print(__builtins__.type(name()))\n",
    "print(__builtins__.type(name))"
   ]
  },
  {
   "cell_type": "code",
   "execution_count": 20,
   "id": "128cc077",
   "metadata": {},
   "outputs": [
    {
     "data": {
      "text/plain": [
       "['In',\n",
       " 'Out',\n",
       " '_',\n",
       " '_10',\n",
       " '_17',\n",
       " '_18',\n",
       " '_19',\n",
       " '_5',\n",
       " '_7',\n",
       " '_8',\n",
       " '__',\n",
       " '___',\n",
       " '__builtin__',\n",
       " '__builtins__',\n",
       " '__doc__',\n",
       " '__loader__',\n",
       " '__myname',\n",
       " '__name__',\n",
       " '__package__',\n",
       " '__spec__',\n",
       " '__vsc_ipynb_file__',\n",
       " '_dh',\n",
       " '_i',\n",
       " '_i1',\n",
       " '_i10',\n",
       " '_i11',\n",
       " '_i12',\n",
       " '_i13',\n",
       " '_i14',\n",
       " '_i15',\n",
       " '_i16',\n",
       " '_i17',\n",
       " '_i18',\n",
       " '_i19',\n",
       " '_i2',\n",
       " '_i20',\n",
       " '_i3',\n",
       " '_i4',\n",
       " '_i5',\n",
       " '_i6',\n",
       " '_i7',\n",
       " '_i8',\n",
       " '_i9',\n",
       " '_ih',\n",
       " '_ii',\n",
       " '_iii',\n",
       " '_name',\n",
       " '_oh',\n",
       " 'exit',\n",
       " 'get_ipython',\n",
       " 'name',\n",
       " 'name_123',\n",
       " 'open',\n",
       " 'quit',\n",
       " 'type']"
      ]
     },
     "execution_count": 20,
     "metadata": {},
     "output_type": "execute_result"
    }
   ],
   "source": [
    "__builtins__.dir() # it will give all the built-in functions and variables in python"
   ]
  },
  {
   "cell_type": "code",
   "execution_count": 1,
   "id": "2ae1e245",
   "metadata": {},
   "outputs": [
    {
     "name": "stdout",
     "output_type": "stream",
     "text": [
      "<class 'function'>\n"
     ]
    }
   ],
   "source": [
    "def my_function():\n",
    "    pass\n",
    "\n",
    "print(type(my_function))"
   ]
  },
  {
   "cell_type": "code",
   "execution_count": 2,
   "id": "ac66b786",
   "metadata": {},
   "outputs": [
    {
     "name": "stdout",
     "output_type": "stream",
     "text": [
      "another_function is a function.\n"
     ]
    }
   ],
   "source": [
    "import types\n",
    "\n",
    "def another_function():\n",
    "    pass\n",
    "\n",
    "if isinstance(another_function, types.FunctionType):\n",
    "    print(\"another_function is a function.\")\n",
    "else:\n",
    "    print(\"another_function is not a function.\")"
   ]
  },
  {
   "cell_type": "code",
   "execution_count": 15,
   "id": "2a9e7f97",
   "metadata": {},
   "outputs": [],
   "source": [
    "def my_name():\n",
    "    print(\"My name is Ankit Gupta\")\n",
    "    return \"ankit\""
   ]
  },
  {
   "cell_type": "code",
   "execution_count": 16,
   "id": "0a94e7e9",
   "metadata": {},
   "outputs": [],
   "source": [
    "def yet_another_function():\n",
    "    print(\"Hello, World!\")\n",
    "    my_name()\n",
    "    x= my_name()\n",
    "    print(x)\n",
    "    return \"Function executed\""
   ]
  },
  {
   "cell_type": "code",
   "execution_count": 17,
   "id": "2963c583",
   "metadata": {},
   "outputs": [
    {
     "name": "stdout",
     "output_type": "stream",
     "text": [
      "Hello, World!\n",
      "My name is Ankit Gupta\n",
      "My name is Ankit Gupta\n",
      "ankit\n"
     ]
    },
    {
     "data": {
      "text/plain": [
       "'Function executed'"
      ]
     },
     "execution_count": 17,
     "metadata": {},
     "output_type": "execute_result"
    }
   ],
   "source": [
    "yet_another_function()"
   ]
  },
  {
   "cell_type": "code",
   "execution_count": 14,
   "id": "ae1d8ebf",
   "metadata": {},
   "outputs": [
    {
     "name": "stdout",
     "output_type": "stream",
     "text": [
      "My name is Ankit Gupta\n"
     ]
    },
    {
     "data": {
      "text/plain": [
       "'ankit'"
      ]
     },
     "execution_count": 14,
     "metadata": {},
     "output_type": "execute_result"
    }
   ],
   "source": [
    "my_name()"
   ]
  },
  {
   "cell_type": "code",
   "execution_count": 18,
   "id": "9269ee07",
   "metadata": {},
   "outputs": [],
   "source": [
    "def my_name():\n",
    "    print(\"Ankit Gupta\")\n",
    "    x= \"My name is Ankit Gupta\"\n",
    "    return x"
   ]
  },
  {
   "cell_type": "code",
   "execution_count": 20,
   "id": "1c4119d9",
   "metadata": {},
   "outputs": [
    {
     "name": "stdout",
     "output_type": "stream",
     "text": [
      "Ankit Gupta\n"
     ]
    },
    {
     "data": {
      "text/plain": [
       "'My name is Ankit Gupta'"
      ]
     },
     "execution_count": 20,
     "metadata": {},
     "output_type": "execute_result"
    }
   ],
   "source": [
    "my_name()"
   ]
  },
  {
   "cell_type": "code",
   "execution_count": 21,
   "id": "020a0ddd",
   "metadata": {},
   "outputs": [
    {
     "name": "stdout",
     "output_type": "stream",
     "text": [
      "This script is being run directly.\n",
      "local x=  10\n",
      "global x=  20\n"
     ]
    }
   ],
   "source": [
    "def my_function():\n",
    "    \"\"\"This is a docstring for my_function.\"\"\"\n",
    "    x= 10\n",
    "    return x\n",
    "x=20\n",
    "if __name__ == \"__main__\":\n",
    "    print(\"This script is being run directly.\")\n",
    "    print(\"local x= \",my_function())\n",
    "    print(\"global x= \",x)"
   ]
  },
  {
   "cell_type": "code",
   "execution_count": 22,
   "id": "999fa06a",
   "metadata": {},
   "outputs": [
    {
     "name": "stdout",
     "output_type": "stream",
     "text": [
      "Inside func_a: local_a = 9\n",
      "Inside func_b: local_b = 14\n",
      "Inside func_c: local_c = 28\n",
      "  Frame: func_c, Line: 6\n",
      "    Locals: {'arg_c': 14, 'local_c': 28, 'frame_info': FrameInfo(frame=<frame at 0x70f798d5dfc0, file '/tmp/ipykernel_5343/2984794816.py', line 9, code func_c>, filename='/tmp/ipykernel_5343/2984794816.py', lineno=6, function='func_c', code_context=['    for frame_info in inspect.stack():\\n'], index=0)}\n",
      "  Frame: func_b, Line: 14\n",
      "    Locals: {'arg_b': 9, 'local_b': 14}\n",
      "  Frame: func_a, Line: 19\n",
      "    Locals: {'arg_a': 10, 'local_a': 9}\n",
      "  Frame: <module>, Line: 21\n",
      "  Frame: run_code, Line: 3579\n",
      "    Locals: {'self': <ipykernel.zmqshell.ZMQInteractiveShell object at 0x70f79a18c970>, 'code_obj': <code object <module> at 0x70f798d4a290, file \"/tmp/ipykernel_5343/2984794816.py\", line 1>, 'result': <ExecutionResult object at 70f798d34760, execution_count=22 error_before_exec=None error_in_exec=None info=<ExecutionInfo object at 70f798d34fd0, raw_cell=\"import inspect\n",
      "\n",
      "def func_c(arg_c):\n",
      "    local_c = a..\" store_history=True silent=False shell_futures=True cell_id=vscode-notebook-cell:/home/ankit/Desktop/ml/InterviewPreparation/AI-ML-DS/1.Python/Practice1.ipynb#X51sZmlsZQ%3D%3D> result=None>, 'async_': False, '__tracebackhide__': '__ipython_bottom__', 'old_excepthook': <bound method IPKernelApp.excepthook of <ipykernel.kernelapp.IPKernelApp object at 0x70f79e619c00>>, 'outflag': True}\n",
      "  Frame: run_ast_nodes, Line: 3519\n",
      "    Locals: {'self': <ipykernel.zmqshell.ZMQInteractiveShell object at 0x70f79a18c970>, 'nodelist': [<ast.Import object at 0x70f798d368c0>, <ast.FunctionDef object at 0x70f798d34d90>, <ast.FunctionDef object at 0x70f798d35840>, <ast.FunctionDef object at 0x70f798d36620>, <ast.Expr object at 0x70f798d367d0>], 'cell_name': '/tmp/ipykernel_5343/2984794816.py', 'interactivity': 'last', 'compiler': <ipykernel.compiler.XCachingCompiler object at 0x70f79a18cac0>, 'result': <ExecutionResult object at 70f798d34760, execution_count=22 error_before_exec=None error_in_exec=None info=<ExecutionInfo object at 70f798d34fd0, raw_cell=\"import inspect\n",
      "\n",
      "def func_c(arg_c):\n",
      "    local_c = a..\" store_history=True silent=False shell_futures=True cell_id=vscode-notebook-cell:/home/ankit/Desktop/ml/InterviewPreparation/AI-ML-DS/1.Python/Practice1.ipynb#X51sZmlsZQ%3D%3D> result=None>, '_async': False, 'to_run_exec': [<ast.Import object at 0x70f798d368c0>, <ast.FunctionDef object at 0x70f798d34d90>, <ast.FunctionDef object at 0x70f798d35840>, <ast.FunctionDef object at 0x70f798d36620>], 'to_run_interactive': [<ast.Expr object at 0x70f798d367d0>], 'compare': <function InteractiveShell.run_ast_nodes.<locals>.compare at 0x70f798d163b0>, 'to_run': [(<ast.Import object at 0x70f798d368c0>, 'exec'), (<ast.FunctionDef object at 0x70f798d34d90>, 'exec'), (<ast.FunctionDef object at 0x70f798d35840>, 'exec'), (<ast.FunctionDef object at 0x70f798d36620>, 'exec'), (<ast.Expr object at 0x70f798d367d0>, 'single')], 'node': <ast.Expr object at 0x70f798d367d0>, 'mode': 'single', 'mod': <ast.Interactive object at 0x70f798d34430>, 'code': <code object <module> at 0x70f798d4a290, file \"/tmp/ipykernel_5343/2984794816.py\", line 1>, 'asy': False}\n",
      "  Frame: run_cell_async, Line: 3336\n",
      "    Locals: {'raw_cell': 'import inspect\\n\\ndef func_c(arg_c):\\n    local_c = arg_c * 2\\n    print(f\"Inside func_c: local_c = {local_c}\")\\n    for frame_info in inspect.stack():\\n        print(f\"  Frame: {frame_info.function}, Line: {frame_info.lineno}\")\\n        if frame_info.function != \\'<module>\\':  # Exclude the global scope\\n            print(f\"    Locals: {frame_info.frame.f_locals}\")\\n\\ndef func_b(arg_b):\\n    local_b = arg_b + 5\\n    print(f\"Inside func_b: local_b = {local_b}\")\\n    func_c(local_b)\\n\\ndef func_a(arg_a):\\n    local_a = arg_a - 1\\n    print(f\"Inside func_a: local_a = {local_a}\")\\n    func_b(local_a)\\n\\nfunc_a(10)', 'silent': False, 'shell_futures': True, 'transformed_cell': 'import inspect\\n\\ndef func_c(arg_c):\\n    local_c = arg_c * 2\\n    print(f\"Inside func_c: local_c = {local_c}\")\\n    for frame_info in inspect.stack():\\n        print(f\"  Frame: {frame_info.function}, Line: {frame_info.lineno}\")\\n        if frame_info.function != \\'<module>\\':  # Exclude the global scope\\n            print(f\"    Locals: {frame_info.frame.f_locals}\")\\n\\ndef func_b(arg_b):\\n    local_b = arg_b + 5\\n    print(f\"Inside func_b: local_b = {local_b}\")\\n    func_c(local_b)\\n\\ndef func_a(arg_a):\\n    local_a = arg_a - 1\\n    print(f\"Inside func_a: local_a = {local_a}\")\\n    func_b(local_a)\\n\\nfunc_a(10)\\n', 'preprocessing_exc_tuple': None, 'cell_id': 'vscode-notebook-cell:/home/ankit/Desktop/ml/InterviewPreparation/AI-ML-DS/1.Python/Practice1.ipynb#X51sZmlsZQ%3D%3D', 'info': <ExecutionInfo object at 70f798d34fd0, raw_cell=\"import inspect\n",
      "\n",
      "def func_c(arg_c):\n",
      "    local_c = a..\" store_history=True silent=False shell_futures=True cell_id=vscode-notebook-cell:/home/ankit/Desktop/ml/InterviewPreparation/AI-ML-DS/1.Python/Practice1.ipynb#X51sZmlsZQ%3D%3D>, 'error_before_exec': <function InteractiveShell.run_cell_async.<locals>.error_before_exec at 0x70f798d15b40>, 'cell': 'import inspect\\n\\ndef func_c(arg_c):\\n    local_c = arg_c * 2\\n    print(f\"Inside func_c: local_c = {local_c}\")\\n    for frame_info in inspect.stack():\\n        print(f\"  Frame: {frame_info.function}, Line: {frame_info.lineno}\")\\n        if frame_info.function != \\'<module>\\':  # Exclude the global scope\\n            print(f\"    Locals: {frame_info.frame.f_locals}\")\\n\\ndef func_b(arg_b):\\n    local_b = arg_b + 5\\n    print(f\"Inside func_b: local_b = {local_b}\")\\n    func_c(local_b)\\n\\ndef func_a(arg_a):\\n    local_a = arg_a - 1\\n    print(f\"Inside func_a: local_a = {local_a}\")\\n    func_b(local_a)\\n\\nfunc_a(10)\\n', 'compiler': <ipykernel.compiler.XCachingCompiler object at 0x70f79a18cac0>, 'cell_name': '/tmp/ipykernel_5343/2984794816.py', 'code_ast': <ast.Module object at 0x70f798d35570>, 'interactivity': 'last_expr', 'result': <ExecutionResult object at 70f798d34760, execution_count=22 error_before_exec=None error_in_exec=None info=<ExecutionInfo object at 70f798d34fd0, raw_cell=\"import inspect\n",
      "\n",
      "def func_c(arg_c):\n",
      "    local_c = a..\" store_history=True silent=False shell_futures=True cell_id=vscode-notebook-cell:/home/ankit/Desktop/ml/InterviewPreparation/AI-ML-DS/1.Python/Practice1.ipynb#X51sZmlsZQ%3D%3D> result=None>, 'self': <ipykernel.zmqshell.ZMQInteractiveShell object at 0x70f79a18c970>, 'store_history': True}\n",
      "  Frame: _pseudo_sync_runner, Line: 128\n",
      "    Locals: {'coro': <coroutine object InteractiveShell.run_cell_async at 0x70f798db1e00>}\n",
      "  Frame: _run_cell, Line: 3132\n",
      "    Locals: {'self': <ipykernel.zmqshell.ZMQInteractiveShell object at 0x70f79a18c970>, 'raw_cell': 'import inspect\\n\\ndef func_c(arg_c):\\n    local_c = arg_c * 2\\n    print(f\"Inside func_c: local_c = {local_c}\")\\n    for frame_info in inspect.stack():\\n        print(f\"  Frame: {frame_info.function}, Line: {frame_info.lineno}\")\\n        if frame_info.function != \\'<module>\\':  # Exclude the global scope\\n            print(f\"    Locals: {frame_info.frame.f_locals}\")\\n\\ndef func_b(arg_b):\\n    local_b = arg_b + 5\\n    print(f\"Inside func_b: local_b = {local_b}\")\\n    func_c(local_b)\\n\\ndef func_a(arg_a):\\n    local_a = arg_a - 1\\n    print(f\"Inside func_a: local_a = {local_a}\")\\n    func_b(local_a)\\n\\nfunc_a(10)', 'store_history': True, 'silent': False, 'shell_futures': True, 'cell_id': 'vscode-notebook-cell:/home/ankit/Desktop/ml/InterviewPreparation/AI-ML-DS/1.Python/Practice1.ipynb#X51sZmlsZQ%3D%3D', 'preprocessing_exc_tuple': None, 'transformed_cell': 'import inspect\\n\\ndef func_c(arg_c):\\n    local_c = arg_c * 2\\n    print(f\"Inside func_c: local_c = {local_c}\")\\n    for frame_info in inspect.stack():\\n        print(f\"  Frame: {frame_info.function}, Line: {frame_info.lineno}\")\\n        if frame_info.function != \\'<module>\\':  # Exclude the global scope\\n            print(f\"    Locals: {frame_info.frame.f_locals}\")\\n\\ndef func_b(arg_b):\\n    local_b = arg_b + 5\\n    print(f\"Inside func_b: local_b = {local_b}\")\\n    func_c(local_b)\\n\\ndef func_a(arg_a):\\n    local_a = arg_a - 1\\n    print(f\"Inside func_a: local_a = {local_a}\")\\n    func_b(local_a)\\n\\nfunc_a(10)\\n', 'coro': <coroutine object InteractiveShell.run_cell_async at 0x70f798db1e00>, 'runner': <function _pseudo_sync_runner at 0x70f79cc65cf0>}\n",
      "  Frame: run_cell, Line: 3077\n",
      "    Locals: {'self': <ipykernel.zmqshell.ZMQInteractiveShell object at 0x70f79a18c970>, 'raw_cell': 'import inspect\\n\\ndef func_c(arg_c):\\n    local_c = arg_c * 2\\n    print(f\"Inside func_c: local_c = {local_c}\")\\n    for frame_info in inspect.stack():\\n        print(f\"  Frame: {frame_info.function}, Line: {frame_info.lineno}\")\\n        if frame_info.function != \\'<module>\\':  # Exclude the global scope\\n            print(f\"    Locals: {frame_info.frame.f_locals}\")\\n\\ndef func_b(arg_b):\\n    local_b = arg_b + 5\\n    print(f\"Inside func_b: local_b = {local_b}\")\\n    func_c(local_b)\\n\\ndef func_a(arg_a):\\n    local_a = arg_a - 1\\n    print(f\"Inside func_a: local_a = {local_a}\")\\n    func_b(local_a)\\n\\nfunc_a(10)', 'store_history': True, 'silent': False, 'shell_futures': True, 'cell_id': 'vscode-notebook-cell:/home/ankit/Desktop/ml/InterviewPreparation/AI-ML-DS/1.Python/Practice1.ipynb#X51sZmlsZQ%3D%3D', 'result': None}\n",
      "  Frame: run_cell, Line: 577\n",
      "    Locals: {'self': <ipykernel.zmqshell.ZMQInteractiveShell object at 0x70f79a18c970>, 'args': ('import inspect\\n\\ndef func_c(arg_c):\\n    local_c = arg_c * 2\\n    print(f\"Inside func_c: local_c = {local_c}\")\\n    for frame_info in inspect.stack():\\n        print(f\"  Frame: {frame_info.function}, Line: {frame_info.lineno}\")\\n        if frame_info.function != \\'<module>\\':  # Exclude the global scope\\n            print(f\"    Locals: {frame_info.frame.f_locals}\")\\n\\ndef func_b(arg_b):\\n    local_b = arg_b + 5\\n    print(f\"Inside func_b: local_b = {local_b}\")\\n    func_c(local_b)\\n\\ndef func_a(arg_a):\\n    local_a = arg_a - 1\\n    print(f\"Inside func_a: local_a = {local_a}\")\\n    func_b(local_a)\\n\\nfunc_a(10)',), 'kwargs': {'store_history': True, 'silent': False, 'cell_id': 'vscode-notebook-cell:/home/ankit/Desktop/ml/InterviewPreparation/AI-ML-DS/1.Python/Practice1.ipynb#X51sZmlsZQ%3D%3D'}, '__class__': <class 'ipykernel.zmqshell.ZMQInteractiveShell'>}\n",
      "  Frame: do_execute, Line: 455\n",
      "    Locals: {'self': <ipykernel.ipkernel.IPythonKernel object at 0x70f79bfd7730>, 'code': 'import inspect\\n\\ndef func_c(arg_c):\\n    local_c = arg_c * 2\\n    print(f\"Inside func_c: local_c = {local_c}\")\\n    for frame_info in inspect.stack():\\n        print(f\"  Frame: {frame_info.function}, Line: {frame_info.lineno}\")\\n        if frame_info.function != \\'<module>\\':  # Exclude the global scope\\n            print(f\"    Locals: {frame_info.frame.f_locals}\")\\n\\ndef func_b(arg_b):\\n    local_b = arg_b + 5\\n    print(f\"Inside func_b: local_b = {local_b}\")\\n    func_c(local_b)\\n\\ndef func_a(arg_a):\\n    local_a = arg_a - 1\\n    print(f\"Inside func_a: local_a = {local_a}\")\\n    func_b(local_a)\\n\\nfunc_a(10)', 'silent': False, 'store_history': True, 'user_expressions': {}, 'allow_stdin': True, 'cell_meta': {'cellId': 'vscode-notebook-cell:/home/ankit/Desktop/ml/InterviewPreparation/AI-ML-DS/1.Python/Practice1.ipynb#X51sZmlsZQ%3D%3D'}, 'cell_id': 'vscode-notebook-cell:/home/ankit/Desktop/ml/InterviewPreparation/AI-ML-DS/1.Python/Practice1.ipynb#X51sZmlsZQ%3D%3D', 'reply_content': {}, 'run_cell': <bound method InteractiveShell.run_cell_async of <ipykernel.zmqshell.ZMQInteractiveShell object at 0x70f79a18c970>>, 'should_run_async': <bound method InteractiveShell.should_run_async of <ipykernel.zmqshell.ZMQInteractiveShell object at 0x70f79a18c970>>, 'accepts_params': {'cell_id': True}, 'preprocessing_exc_tuple': None, 'transformed_cell': 'import inspect\\n\\ndef func_c(arg_c):\\n    local_c = arg_c * 2\\n    print(f\"Inside func_c: local_c = {local_c}\")\\n    for frame_info in inspect.stack():\\n        print(f\"  Frame: {frame_info.function}, Line: {frame_info.lineno}\")\\n        if frame_info.function != \\'<module>\\':  # Exclude the global scope\\n            print(f\"    Locals: {frame_info.frame.f_locals}\")\\n\\ndef func_b(arg_b):\\n    local_b = arg_b + 5\\n    print(f\"Inside func_b: local_b = {local_b}\")\\n    func_c(local_b)\\n\\ndef func_a(arg_a):\\n    local_a = arg_a - 1\\n    print(f\"Inside func_a: local_a = {local_a}\")\\n    func_b(local_a)\\n\\nfunc_a(10)\\n', 'shell': <ipykernel.zmqshell.ZMQInteractiveShell object at 0x70f79a18c970>}\n",
      "  Frame: execute_request, Line: 767\n",
      "    Locals: {'self': <ipykernel.ipkernel.IPythonKernel object at 0x70f79bfd7730>, 'stream': <zmq.eventloop.zmqstream.ZMQStream object at 0x70f79bfd6e90>, 'ident': [b'3b9d94f1-e1da-45bb-ad41-fea0f24e6e77'], 'parent': {'header': {'date': datetime.datetime(2025, 8, 25, 12, 11, 35, 829000, tzinfo=tzutc()), 'msg_id': 'd365bd21-682b-4441-a888-5d9a67dad924', 'msg_type': 'execute_request', 'session': 'fab9517e-1ebd-4779-8b74-980244f24816', 'username': 'fd9c9126-3e96-452b-a5f7-4cf8de179441', 'version': '5.2'}, 'msg_id': 'd365bd21-682b-4441-a888-5d9a67dad924', 'msg_type': 'execute_request', 'parent_header': {}, 'metadata': {'cellId': 'vscode-notebook-cell:/home/ankit/Desktop/ml/InterviewPreparation/AI-ML-DS/1.Python/Practice1.ipynb#X51sZmlsZQ%3D%3D'}, 'content': {'silent': False, 'store_history': True, 'user_expressions': {}, 'allow_stdin': True, 'stop_on_error': False, 'code': 'import inspect\\n\\ndef func_c(arg_c):\\n    local_c = arg_c * 2\\n    print(f\"Inside func_c: local_c = {local_c}\")\\n    for frame_info in inspect.stack():\\n        print(f\"  Frame: {frame_info.function}, Line: {frame_info.lineno}\")\\n        if frame_info.function != \\'<module>\\':  # Exclude the global scope\\n            print(f\"    Locals: {frame_info.frame.f_locals}\")\\n\\ndef func_b(arg_b):\\n    local_b = arg_b + 5\\n    print(f\"Inside func_b: local_b = {local_b}\")\\n    func_c(local_b)\\n\\ndef func_a(arg_a):\\n    local_a = arg_a - 1\\n    print(f\"Inside func_a: local_a = {local_a}\")\\n    func_b(local_a)\\n\\nfunc_a(10)'}, 'buffers': []}, 'content': {'silent': False, 'store_history': True, 'user_expressions': {}, 'allow_stdin': True, 'stop_on_error': False, 'code': 'import inspect\\n\\ndef func_c(arg_c):\\n    local_c = arg_c * 2\\n    print(f\"Inside func_c: local_c = {local_c}\")\\n    for frame_info in inspect.stack():\\n        print(f\"  Frame: {frame_info.function}, Line: {frame_info.lineno}\")\\n        if frame_info.function != \\'<module>\\':  # Exclude the global scope\\n            print(f\"    Locals: {frame_info.frame.f_locals}\")\\n\\ndef func_b(arg_b):\\n    local_b = arg_b + 5\\n    print(f\"Inside func_b: local_b = {local_b}\")\\n    func_c(local_b)\\n\\ndef func_a(arg_a):\\n    local_a = arg_a - 1\\n    print(f\"Inside func_a: local_a = {local_a}\")\\n    func_b(local_a)\\n\\nfunc_a(10)'}, 'code': 'import inspect\\n\\ndef func_c(arg_c):\\n    local_c = arg_c * 2\\n    print(f\"Inside func_c: local_c = {local_c}\")\\n    for frame_info in inspect.stack():\\n        print(f\"  Frame: {frame_info.function}, Line: {frame_info.lineno}\")\\n        if frame_info.function != \\'<module>\\':  # Exclude the global scope\\n            print(f\"    Locals: {frame_info.frame.f_locals}\")\\n\\ndef func_b(arg_b):\\n    local_b = arg_b + 5\\n    print(f\"Inside func_b: local_b = {local_b}\")\\n    func_c(local_b)\\n\\ndef func_a(arg_a):\\n    local_a = arg_a - 1\\n    print(f\"Inside func_a: local_a = {local_a}\")\\n    func_b(local_a)\\n\\nfunc_a(10)', 'silent': False, 'store_history': True, 'user_expressions': {}, 'allow_stdin': True, 'cell_meta': {'cellId': 'vscode-notebook-cell:/home/ankit/Desktop/ml/InterviewPreparation/AI-ML-DS/1.Python/Practice1.ipynb#X51sZmlsZQ%3D%3D'}, 'cell_id': 'vscode-notebook-cell:/home/ankit/Desktop/ml/InterviewPreparation/AI-ML-DS/1.Python/Practice1.ipynb#X51sZmlsZQ%3D%3D', 'stop_on_error': False, 'metadata': {'started': datetime.datetime(2025, 8, 25, 12, 11, 35, 832314, tzinfo=datetime.timezone.utc), 'dependencies_met': True, 'engine': '6b4b3ccb-8bad-4aca-8a9b-a2404dd62be1'}, 'do_execute_args': {'code': 'import inspect\\n\\ndef func_c(arg_c):\\n    local_c = arg_c * 2\\n    print(f\"Inside func_c: local_c = {local_c}\")\\n    for frame_info in inspect.stack():\\n        print(f\"  Frame: {frame_info.function}, Line: {frame_info.lineno}\")\\n        if frame_info.function != \\'<module>\\':  # Exclude the global scope\\n            print(f\"    Locals: {frame_info.frame.f_locals}\")\\n\\ndef func_b(arg_b):\\n    local_b = arg_b + 5\\n    print(f\"Inside func_b: local_b = {local_b}\")\\n    func_c(local_b)\\n\\ndef func_a(arg_a):\\n    local_a = arg_a - 1\\n    print(f\"Inside func_a: local_a = {local_a}\")\\n    func_b(local_a)\\n\\nfunc_a(10)', 'silent': False, 'store_history': True, 'user_expressions': {}, 'allow_stdin': True, 'cell_meta': {'cellId': 'vscode-notebook-cell:/home/ankit/Desktop/ml/InterviewPreparation/AI-ML-DS/1.Python/Practice1.ipynb#X51sZmlsZQ%3D%3D'}, 'cell_id': 'vscode-notebook-cell:/home/ankit/Desktop/ml/InterviewPreparation/AI-ML-DS/1.Python/Practice1.ipynb#X51sZmlsZQ%3D%3D'}, 'reply_content': <coroutine object IPythonKernel.do_execute at 0x70f798db25e0>}\n",
      "  Frame: execute_request, Line: 368\n",
      "    Locals: {'self': <ipykernel.ipkernel.IPythonKernel object at 0x70f79bfd7730>, 'stream': <zmq.eventloop.zmqstream.ZMQStream object at 0x70f79bfd6e90>, 'ident': [b'3b9d94f1-e1da-45bb-ad41-fea0f24e6e77'], 'parent': {'header': {'date': datetime.datetime(2025, 8, 25, 12, 11, 35, 829000, tzinfo=tzutc()), 'msg_id': 'd365bd21-682b-4441-a888-5d9a67dad924', 'msg_type': 'execute_request', 'session': 'fab9517e-1ebd-4779-8b74-980244f24816', 'username': 'fd9c9126-3e96-452b-a5f7-4cf8de179441', 'version': '5.2'}, 'msg_id': 'd365bd21-682b-4441-a888-5d9a67dad924', 'msg_type': 'execute_request', 'parent_header': {}, 'metadata': {'cellId': 'vscode-notebook-cell:/home/ankit/Desktop/ml/InterviewPreparation/AI-ML-DS/1.Python/Practice1.ipynb#X51sZmlsZQ%3D%3D'}, 'content': {'silent': False, 'store_history': True, 'user_expressions': {}, 'allow_stdin': True, 'stop_on_error': False, 'code': 'import inspect\\n\\ndef func_c(arg_c):\\n    local_c = arg_c * 2\\n    print(f\"Inside func_c: local_c = {local_c}\")\\n    for frame_info in inspect.stack():\\n        print(f\"  Frame: {frame_info.function}, Line: {frame_info.lineno}\")\\n        if frame_info.function != \\'<module>\\':  # Exclude the global scope\\n            print(f\"    Locals: {frame_info.frame.f_locals}\")\\n\\ndef func_b(arg_b):\\n    local_b = arg_b + 5\\n    print(f\"Inside func_b: local_b = {local_b}\")\\n    func_c(local_b)\\n\\ndef func_a(arg_a):\\n    local_a = arg_a - 1\\n    print(f\"Inside func_a: local_a = {local_a}\")\\n    func_b(local_a)\\n\\nfunc_a(10)'}, 'buffers': []}, 'parent_header': {'date': datetime.datetime(2025, 8, 25, 12, 11, 35, 829000, tzinfo=tzutc()), 'msg_id': 'd365bd21-682b-4441-a888-5d9a67dad924', 'msg_type': 'execute_request', 'session': 'fab9517e-1ebd-4779-8b74-980244f24816', 'username': 'fd9c9126-3e96-452b-a5f7-4cf8de179441', 'version': '5.2'}, '__class__': <class 'ipykernel.ipkernel.IPythonKernel'>}\n",
      "  Frame: dispatch_shell, Line: 400\n",
      "    Locals: {'self': <ipykernel.ipkernel.IPythonKernel object at 0x70f79bfd7730>, 'msg': {'header': {'date': datetime.datetime(2025, 8, 25, 12, 11, 35, 829000, tzinfo=tzutc()), 'msg_id': 'd365bd21-682b-4441-a888-5d9a67dad924', 'msg_type': 'execute_request', 'session': 'fab9517e-1ebd-4779-8b74-980244f24816', 'username': 'fd9c9126-3e96-452b-a5f7-4cf8de179441', 'version': '5.2'}, 'msg_id': 'd365bd21-682b-4441-a888-5d9a67dad924', 'msg_type': 'execute_request', 'parent_header': {}, 'metadata': {'cellId': 'vscode-notebook-cell:/home/ankit/Desktop/ml/InterviewPreparation/AI-ML-DS/1.Python/Practice1.ipynb#X51sZmlsZQ%3D%3D'}, 'content': {'silent': False, 'store_history': True, 'user_expressions': {}, 'allow_stdin': True, 'stop_on_error': False, 'code': 'import inspect\\n\\ndef func_c(arg_c):\\n    local_c = arg_c * 2\\n    print(f\"Inside func_c: local_c = {local_c}\")\\n    for frame_info in inspect.stack():\\n        print(f\"  Frame: {frame_info.function}, Line: {frame_info.lineno}\")\\n        if frame_info.function != \\'<module>\\':  # Exclude the global scope\\n            print(f\"    Locals: {frame_info.frame.f_locals}\")\\n\\ndef func_b(arg_b):\\n    local_b = arg_b + 5\\n    print(f\"Inside func_b: local_b = {local_b}\")\\n    func_c(local_b)\\n\\ndef func_a(arg_a):\\n    local_a = arg_a - 1\\n    print(f\"Inside func_a: local_a = {local_a}\")\\n    func_b(local_a)\\n\\nfunc_a(10)'}, 'buffers': []}, 'idents': [b'3b9d94f1-e1da-45bb-ad41-fea0f24e6e77'], 'msg_type': 'execute_request', 'handler': <bound method IPythonKernel.execute_request of <ipykernel.ipkernel.IPythonKernel object at 0x70f79bfd7730>>, 'result': <coroutine object IPythonKernel.execute_request at 0x70f798db2340>}\n",
      "  Frame: process_one, Line: 508\n",
      "    Locals: {'self': <ipykernel.ipkernel.IPythonKernel object at 0x70f79bfd7730>, 'wait': True, 't': 75, 'dispatch': <bound method Kernel.dispatch_shell of <ipykernel.ipkernel.IPythonKernel object at 0x70f79bfd7730>>, 'args': ([<zmq.Frame(b'3b9d94f1-e1d'...36B)>, <zmq.Frame(b'<IDS|MSG>')>, <zmq.Frame(b'b0c7adfcdaab'...64B)>, <zmq.Frame(b'{\"date\":\"202'...227B)>, <zmq.Frame(b'{}')>, <zmq.Frame(b'{\"cellId\":\"v'...128B)>, <zmq.Frame(b'{\"silent\":fa'...736B)>],)}\n",
      "  Frame: dispatch_queue, Line: 519\n",
      "    Locals: {'self': <ipykernel.ipkernel.IPythonKernel object at 0x70f79bfd7730>}\n",
      "  Frame: _run, Line: 80\n",
      "    Locals: {'self': <Handle Task.task_wakeup(<Future finis...8B)>, ...],))>)>}\n",
      "  Frame: _run_once, Line: 1909\n",
      "    Locals: {'self': <_UnixSelectorEventLoop running=True closed=False debug=False>, 'sched_count': 0, 'handle': <Handle Task.task_wakeup(<Future finis...8B)>, ...],))>)>, 'timeout': 0, 'event_list': None, 'end_time': 1162.126594676, 'ntodo': 2, 'i': 0}\n",
      "  Frame: run_forever, Line: 603\n",
      "    Locals: {'self': <_UnixSelectorEventLoop running=True closed=False debug=False>, 'old_agen_hooks': asyncgen_hooks(firstiter=None, finalizer=None)}\n",
      "  Frame: start, Line: 211\n",
      "    Locals: {'self': <tornado.platform.asyncio.AsyncIOMainLoop object at 0x70f79bfd7160>}\n",
      "  Frame: start, Line: 739\n",
      "    Locals: {'self': <ipykernel.kernelapp.IPKernelApp object at 0x70f79e619c00>}\n",
      "  Frame: launch_instance, Line: 1075\n",
      "    Locals: {'cls': <class 'ipykernel.kernelapp.IPKernelApp'>, 'argv': None, 'kwargs': {}, 'app': <ipykernel.kernelapp.IPKernelApp object at 0x70f79e619c00>}\n",
      "  Frame: <module>, Line: 18\n",
      "  Frame: _run_code, Line: 86\n",
      "    Locals: {'code': <code object <module> at 0x70f79e67b890, file \"/home/ankit/Desktop/ml/InterviewPreparation/AI-ML-DS/practice_env/lib/python3.10/site-packages/ipykernel_launcher.py\", line 1>, 'run_globals': {'__name__': '__main__', '__doc__': 'Entry point for launching an IPython kernel.\\n\\nThis is separate from the ipykernel package so we can avoid doing imports until\\nafter removing the cwd from sys.path.\\n', '__package__': '', '__loader__': <_frozen_importlib_external.SourceFileLoader object at 0x70f79e657d60>, '__spec__': ModuleSpec(name='ipykernel_launcher', loader=<_frozen_importlib_external.SourceFileLoader object at 0x70f79e657d60>, origin='/home/ankit/Desktop/ml/InterviewPreparation/AI-ML-DS/practice_env/lib/python3.10/site-packages/ipykernel_launcher.py'), '__annotations__': {}, '__builtins__': <module 'builtins' (built-in)>, '__file__': '/home/ankit/Desktop/ml/InterviewPreparation/AI-ML-DS/practice_env/lib/python3.10/site-packages/ipykernel_launcher.py', '__cached__': '/home/ankit/Desktop/ml/InterviewPreparation/AI-ML-DS/practice_env/lib/python3.10/site-packages/__pycache__/ipykernel_launcher.cpython-310.pyc', 'sys': <module 'sys' (built-in)>, 'Path': <class 'pathlib.Path'>, 'app': <module 'ipykernel.kernelapp' from '/home/ankit/Desktop/ml/InterviewPreparation/AI-ML-DS/practice_env/lib/python3.10/site-packages/ipykernel/kernelapp.py'>}, 'init_globals': None, 'mod_name': '__main__', 'mod_spec': ModuleSpec(name='ipykernel_launcher', loader=<_frozen_importlib_external.SourceFileLoader object at 0x70f79e657d60>, origin='/home/ankit/Desktop/ml/InterviewPreparation/AI-ML-DS/practice_env/lib/python3.10/site-packages/ipykernel_launcher.py'), 'pkg_name': '', 'script_name': None, 'loader': <_frozen_importlib_external.SourceFileLoader object at 0x70f79e657d60>, 'fname': '/home/ankit/Desktop/ml/InterviewPreparation/AI-ML-DS/practice_env/lib/python3.10/site-packages/ipykernel_launcher.py', 'cached': '/home/ankit/Desktop/ml/InterviewPreparation/AI-ML-DS/practice_env/lib/python3.10/site-packages/__pycache__/ipykernel_launcher.cpython-310.pyc'}\n",
      "  Frame: _run_module_as_main, Line: 196\n",
      "    Locals: {'mod_name': 'ipykernel_launcher', 'alter_argv': True, 'mod_spec': ModuleSpec(name='ipykernel_launcher', loader=<_frozen_importlib_external.SourceFileLoader object at 0x70f79e657d60>, origin='/home/ankit/Desktop/ml/InterviewPreparation/AI-ML-DS/practice_env/lib/python3.10/site-packages/ipykernel_launcher.py'), 'code': <code object <module> at 0x70f79e67b890, file \"/home/ankit/Desktop/ml/InterviewPreparation/AI-ML-DS/practice_env/lib/python3.10/site-packages/ipykernel_launcher.py\", line 1>, 'main_globals': {'__name__': '__main__', '__doc__': 'Entry point for launching an IPython kernel.\\n\\nThis is separate from the ipykernel package so we can avoid doing imports until\\nafter removing the cwd from sys.path.\\n', '__package__': '', '__loader__': <_frozen_importlib_external.SourceFileLoader object at 0x70f79e657d60>, '__spec__': ModuleSpec(name='ipykernel_launcher', loader=<_frozen_importlib_external.SourceFileLoader object at 0x70f79e657d60>, origin='/home/ankit/Desktop/ml/InterviewPreparation/AI-ML-DS/practice_env/lib/python3.10/site-packages/ipykernel_launcher.py'), '__annotations__': {}, '__builtins__': <module 'builtins' (built-in)>, '__file__': '/home/ankit/Desktop/ml/InterviewPreparation/AI-ML-DS/practice_env/lib/python3.10/site-packages/ipykernel_launcher.py', '__cached__': '/home/ankit/Desktop/ml/InterviewPreparation/AI-ML-DS/practice_env/lib/python3.10/site-packages/__pycache__/ipykernel_launcher.cpython-310.pyc', 'sys': <module 'sys' (built-in)>, 'Path': <class 'pathlib.Path'>, 'app': <module 'ipykernel.kernelapp' from '/home/ankit/Desktop/ml/InterviewPreparation/AI-ML-DS/practice_env/lib/python3.10/site-packages/ipykernel/kernelapp.py'>}}\n"
     ]
    }
   ],
   "source": [
    "import inspect\n",
    "\n",
    "def func_c(arg_c):\n",
    "    local_c = arg_c * 2\n",
    "    print(f\"Inside func_c: local_c = {local_c}\")\n",
    "    for frame_info in inspect.stack():\n",
    "        print(f\"  Frame: {frame_info.function}, Line: {frame_info.lineno}\")\n",
    "        if frame_info.function != '<module>':  # Exclude the global scope\n",
    "            print(f\"    Locals: {frame_info.frame.f_locals}\")\n",
    "\n",
    "def func_b(arg_b):\n",
    "    local_b = arg_b + 5\n",
    "    print(f\"Inside func_b: local_b = {local_b}\")\n",
    "    func_c(local_b)\n",
    "\n",
    "def func_a(arg_a):\n",
    "    local_a = arg_a - 1\n",
    "    print(f\"Inside func_a: local_a = {local_a}\")\n",
    "    func_b(local_a)\n",
    "\n",
    "func_a(10)"
   ]
  },
  {
   "cell_type": "code",
   "execution_count": 24,
   "id": "54342f99",
   "metadata": {},
   "outputs": [
    {
     "name": "stdout",
     "output_type": "stream",
     "text": [
      "Hello\n",
      "Hello\n"
     ]
    }
   ],
   "source": [
    "def print_twice(x):\n",
    "    print(x)\n",
    "    print(x)\n",
    "x=print_twice(\"Hello\")"
   ]
  },
  {
   "cell_type": "code",
   "execution_count": 27,
   "id": "8168650c",
   "metadata": {},
   "outputs": [
    {
     "name": "stdout",
     "output_type": "stream",
     "text": [
      "None\n"
     ]
    }
   ],
   "source": [
    "print(x)"
   ]
  },
  {
   "cell_type": "code",
   "execution_count": 25,
   "id": "abc6a099",
   "metadata": {},
   "outputs": [
    {
     "data": {
      "text/plain": [
       "NoneType"
      ]
     },
     "execution_count": 25,
     "metadata": {},
     "output_type": "execute_result"
    }
   ],
   "source": [
    "type(x)"
   ]
  },
  {
   "cell_type": "code",
   "execution_count": 26,
   "id": "9fbb1a8c",
   "metadata": {},
   "outputs": [
    {
     "data": {
      "text/plain": [
       "NoneType"
      ]
     },
     "execution_count": 26,
     "metadata": {},
     "output_type": "execute_result"
    }
   ],
   "source": [
    "type(None)"
   ]
  },
  {
   "cell_type": "code",
   "execution_count": 28,
   "id": "cb726462",
   "metadata": {},
   "outputs": [],
   "source": [
    "import turtle\n",
    "\n",
    "# Create a Turtle object\n",
    "my_turtle = turtle.Turtle()\n",
    "\n",
    "# Set the drawing speed (optional)\n",
    "my_turtle.speed(1) # 1 is slowest, 10 is fastest, 0 is no animation\n",
    "\n",
    "# Draw a square\n",
    "for _ in range(4):\n",
    "    my_turtle.forward(100)  # Move forward 100 units\n",
    "    my_turtle.right(90)     # Turn right 90 degrees\n",
    "\n",
    "# Keep the window open until it's closed manually\n",
    "turtle.done()"
   ]
  },
  {
   "cell_type": "markdown",
   "id": "5917effe",
   "metadata": {},
   "source": [
    "Encapsulation means hiding internal details of a class and only exposing what’s necessary. It helps to protect important data from being changed directly and keeps the code secure and organized."
   ]
  },
  {
   "cell_type": "markdown",
   "id": "7616b3e5",
   "metadata": {},
   "source": [
    "Python uses naming conventions rather than strict access modifiers:\n",
    "\n",
    "Public: No underscore prefix (e.g., variable_name)\n",
    "\n",
    "Protected: Single underscore prefix (e.g., _variable_name) - convention only\n",
    "\n",
    "Private: Double underscore prefix (e.g., __variable_name) - name mangling\n",
    "\n"
   ]
  },
  {
   "cell_type": "markdown",
   "id": "f4f888ab",
   "metadata": {},
   "source": [
    "**Example:** Employee Management System"
   ]
  },
  {
   "cell_type": "code",
   "execution_count": 32,
   "id": "cb4a58ef",
   "metadata": {},
   "outputs": [
    {
     "name": "stdout",
     "output_type": "stream",
     "text": [
      "Employee: Alice Smith - Developer\n",
      "Current Salary: $75000\n",
      "Salary update failed - requires manager approval\n",
      "Performance Bonus: $11250.00\n"
     ]
    }
   ],
   "source": [
    "class Employee:\n",
    "    def __init__(self, name, position, salary):\n",
    "        self.name = name  # Public\n",
    "        self.position = position  # Public\n",
    "        self.__salary = salary  # Private\n",
    "        self.__performance_rating = 0  # Private\n",
    "    \n",
    "    def get_salary(self):\n",
    "        \"\"\"Getter for salary\"\"\"\n",
    "        return self.__salary\n",
    "    \n",
    "    def set_salary(self, new_salary, manager_approval=False):\n",
    "        \"\"\"Setter for salary with validation\"\"\"\n",
    "        if manager_approval and new_salary > self.__salary:\n",
    "            self.__salary = new_salary\n",
    "            return True\n",
    "        return False\n",
    "    \n",
    "    def update_performance(self, rating):\n",
    "        \"\"\"Update performance rating with validation\"\"\"\n",
    "        if 1 <= rating <= 5:\n",
    "            self.__performance_rating = rating\n",
    "            return True\n",
    "        return False\n",
    "    \n",
    "    def calculate_bonus(self):\n",
    "        \"\"\"Calculate bonus based on performance\"\"\"\n",
    "        if self.__performance_rating >= 4:\n",
    "            return self.__salary * 0.15\n",
    "        elif self.__performance_rating >= 3:\n",
    "            return self.__salary * 0.10\n",
    "        else:\n",
    "            return self.__salary * 0.05\n",
    "    \n",
    "    def get_employee_details(self):\n",
    "        \"\"\"Public method to get employee details\"\"\"\n",
    "        return {\n",
    "            \"name\": self.name,\n",
    "            \"position\": self.position,\n",
    "            \"salary\": self.__salary,\n",
    "            \"performance\": self.__performance_rating,\n",
    "            \"bonus\": self.calculate_bonus()\n",
    "        }\n",
    "\n",
    "# Using the Employee class\n",
    "emp = Employee(\"Alice Smith\", \"Developer\", 75000)\n",
    "\n",
    "# Public access to name and position\n",
    "print(f\"Employee: {emp.name} - {emp.position}\")\n",
    "\n",
    "# Controlled access to salary\n",
    "print(f\"Current Salary: ${emp.get_salary()}\")\n",
    "\n",
    "# Trying to change salary without approval\n",
    "if emp.set_salary(80000):\n",
    "    print(\"Salary updated successfully\")\n",
    "else:\n",
    "    print(\"Salary update failed - requires manager approval\")\n",
    "\n",
    "# Update performance and calculate bonus\n",
    "emp.update_performance(4)\n",
    "details = emp.get_employee_details()\n",
    "print(f\"Performance Bonus: ${details['bonus']:.2f}\")"
   ]
  },
  {
   "cell_type": "markdown",
   "id": "bb1c0be4",
   "metadata": {},
   "source": [
    "**Generalization in Python:**"
   ]
  },
  {
   "cell_type": "markdown",
   "id": "96a55b48",
   "metadata": {},
   "source": [
    "Generalization is a fundamental concept in Object-Oriented Programming (OOP) that involves creating a general class (superclass) that defines common attributes and behaviors, which can then be inherited by more specific classes (subclasses). It's about identifying common characteristics among classes and moving them up the inheritance hierarchy.\n",
    "\n",
    "Types of Generalization:   \n",
    "\n",
    "1. Inheritance (IS-A relationship)\n",
    "\n",
    "2. Interface Implementation\n",
    "\n",
    "3. Abstract Classes"
   ]
  },
  {
   "cell_type": "code",
   "execution_count": 277,
   "id": "67d9bb1c",
   "metadata": {},
   "outputs": [
    {
     "name": "stdout",
     "output_type": "stream",
     "text": [
      "=== Animal Sounds ===\n",
      "Buddy (Canine): Woof! Woof!\n",
      "Whiskers (Feline): Meow! Meow!\n",
      "Tweety (Avian): Chirp! Chirp!\n",
      "\n",
      "=== Common Behaviors ===\n",
      "Buddy is eating food\n",
      "Buddy is sleeping\n",
      "\n",
      "Whiskers is eating food\n",
      "Whiskers is sleeping\n",
      "\n",
      "Tweety is eating food\n",
      "Tweety is sleeping\n",
      "\n",
      "Rex is fetching the ball\n",
      "Mittens is climbing a tree\n"
     ]
    }
   ],
   "source": [
    "# General class (Superclass)\n",
    "class Animal:\n",
    "    def __init__(self, name, species):\n",
    "        self.name = name\n",
    "        self.species = species\n",
    "    \n",
    "    def make_sound(self):\n",
    "        \"\"\"General method - to be overridden by subclasses\"\"\"\n",
    "        return \"Some generic animal sound\"\n",
    "    \n",
    "    def eat(self, food):\n",
    "        \"\"\"Common behavior for all animals\"\"\"\n",
    "        return f\"{self.name} is eating {food}\"\n",
    "    \n",
    "    def sleep(self):\n",
    "        \"\"\"Common behavior for all animals\"\"\"\n",
    "        return f\"{self.name} is sleeping\"\n",
    "\n",
    "# Specific classes (Subclasses)\n",
    "class Dog(Animal):\n",
    "    def __init__(self, name, breed):\n",
    "        super().__init__(name, \"Canine\")\n",
    "        self.breed = breed\n",
    "    \n",
    "    def make_sound(self):\n",
    "        \"\"\"Specialized behavior\"\"\"\n",
    "        return \"Woof! Woof!\"\n",
    "    \n",
    "    def fetch(self, item):\n",
    "        \"\"\"Dog-specific behavior\"\"\"\n",
    "        return f\"{self.name} is fetching the {item}\"\n",
    "\n",
    "class Cat(Animal):\n",
    "    def __init__(self, name, color):\n",
    "        super().__init__(name, \"Feline\")\n",
    "        self.color = color\n",
    "    \n",
    "    def make_sound(self):\n",
    "        \"\"\"Specialized behavior\"\"\"\n",
    "        return \"Meow! Meow!\"\n",
    "    \n",
    "    def climb(self):\n",
    "        \"\"\"Cat-specific behavior\"\"\"\n",
    "        return f\"{self.name} is climbing a tree\"\n",
    "\n",
    "class Bird(Animal):\n",
    "    def __init__(self, name, wing_span):\n",
    "        super().__init__(name, \"Avian\")\n",
    "        self.wing_span = wing_span\n",
    "    \n",
    "    def make_sound(self):\n",
    "        return \"Chirp! Chirp!\"\n",
    "    \n",
    "    def fly(self):\n",
    "        return f\"{self.name} is flying with {self.wing_span}cm wingspan\"\n",
    "\n",
    "# Using the classes\n",
    "animals = [\n",
    "    Dog(\"Buddy\", \"Golden Retriever\"),\n",
    "    Cat(\"Whiskers\", \"Orange\"),\n",
    "    Bird(\"Tweety\", 30)\n",
    "]\n",
    "\n",
    "print(\"=== Animal Sounds ===\")\n",
    "for animal in animals:\n",
    "    print(f\"{animal.name} ({animal.species}): {animal.make_sound()}\")\n",
    "\n",
    "print(\"\\n=== Common Behaviors ===\")\n",
    "for animal in animals:\n",
    "    print(animal.eat(\"food\"))\n",
    "    print(animal.sleep())\n",
    "    print()\n",
    "\n",
    "# Access specialized methods\n",
    "dog = Dog(\"Rex\", \"German Shepherd\")\n",
    "print(dog.fetch(\"ball\"))\n",
    "\n",
    "cat = Cat(\"Mittens\", \"Black\")\n",
    "print(cat.climb())"
   ]
  },
  {
   "cell_type": "code",
   "execution_count": null,
   "id": "cf39f895",
   "metadata": {},
   "outputs": [],
   "source": []
  },
  {
   "cell_type": "code",
   "execution_count": 33,
   "id": "045bb9b0",
   "metadata": {},
   "outputs": [
    {
     "data": {
      "text/plain": [
       "'ankit'"
      ]
     },
     "execution_count": 33,
     "metadata": {},
     "output_type": "execute_result"
    }
   ],
   "source": [
    "\"ankit\""
   ]
  },
  {
   "cell_type": "code",
   "execution_count": 34,
   "id": "490738ba",
   "metadata": {},
   "outputs": [
    {
     "data": {
      "text/plain": [
       "'ankit'"
      ]
     },
     "execution_count": 34,
     "metadata": {},
     "output_type": "execute_result"
    }
   ],
   "source": [
    "'ankit'"
   ]
  },
  {
   "cell_type": "code",
   "execution_count": 35,
   "id": "a31a5fae",
   "metadata": {},
   "outputs": [
    {
     "data": {
      "text/plain": [
       "' Ankit \\n    is a \\n    good boy\\n\\n'"
      ]
     },
     "execution_count": 35,
     "metadata": {},
     "output_type": "execute_result"
    }
   ],
   "source": [
    "\"\"\" Ankit \n",
    "    is a \n",
    "    good boy\n",
    "\n",
    "\"\"\""
   ]
  },
  {
   "cell_type": "code",
   "execution_count": 37,
   "id": "61dbbf49",
   "metadata": {},
   "outputs": [
    {
     "data": {
      "text/plain": [
       "2.5"
      ]
     },
     "execution_count": 37,
     "metadata": {},
     "output_type": "execute_result"
    }
   ],
   "source": [
    "5/2"
   ]
  },
  {
   "cell_type": "code",
   "execution_count": 38,
   "id": "273bf095",
   "metadata": {},
   "outputs": [
    {
     "data": {
      "text/plain": [
       "2"
      ]
     },
     "execution_count": 38,
     "metadata": {},
     "output_type": "execute_result"
    }
   ],
   "source": [
    "5//2"
   ]
  },
  {
   "cell_type": "code",
   "execution_count": 44,
   "id": "197518c9",
   "metadata": {},
   "outputs": [
    {
     "data": {
      "text/plain": [
       "2"
      ]
     },
     "execution_count": 44,
     "metadata": {},
     "output_type": "execute_result"
    }
   ],
   "source": [
    "import math\n",
    "math.floor(27/10)"
   ]
  },
  {
   "cell_type": "code",
   "execution_count": 49,
   "id": "f3e3e768",
   "metadata": {},
   "outputs": [
    {
     "name": "stdout",
     "output_type": "stream",
     "text": [
      "hi\n"
     ]
    }
   ],
   "source": [
    "x=2\n",
    "y=3\n",
    "if y==3:\n",
    "    print(\"hi\")\n",
    "elif x==2:\n",
    "    print(\"bye\")\n",
    "else:\n",
    "    print(\"hi-bye\")"
   ]
  },
  {
   "cell_type": "code",
   "execution_count": 53,
   "id": "fbd24e56",
   "metadata": {},
   "outputs": [],
   "source": [
    "# # infinite recursion\n",
    "# def infinite_recursion(x):\n",
    "#     if x==2:\n",
    "#         return 1\n",
    "#     return infinite_recursion(x//2)+x\n",
    "# infinite_recursion(7)"
   ]
  },
  {
   "cell_type": "code",
   "execution_count": 55,
   "id": "ecfcbe4c",
   "metadata": {},
   "outputs": [
    {
     "data": {
      "text/plain": [
       "False"
      ]
     },
     "execution_count": 55,
     "metadata": {},
     "output_type": "execute_result"
    }
   ],
   "source": [
    "# float equality\n",
    "0.33==1/3"
   ]
  },
  {
   "cell_type": "code",
   "execution_count": 56,
   "id": "3b250593",
   "metadata": {},
   "outputs": [
    {
     "ename": "TypeError",
     "evalue": "'str' object does not support item assignment",
     "output_type": "error",
     "traceback": [
      "\u001b[0;31m---------------------------------------------------------------------------\u001b[0m",
      "\u001b[0;31mTypeError\u001b[0m                                 Traceback (most recent call last)",
      "Cell \u001b[0;32mIn[56], line 3\u001b[0m\n\u001b[1;32m      1\u001b[0m \u001b[38;5;66;03m# we can't change the string object once defined in memory\u001b[39;00m\n\u001b[1;32m      2\u001b[0m s\u001b[38;5;241m=\u001b[39m\u001b[38;5;124m\"\u001b[39m\u001b[38;5;124mankit\u001b[39m\u001b[38;5;124m\"\u001b[39m\n\u001b[0;32m----> 3\u001b[0m \u001b[43ms\u001b[49m\u001b[43m[\u001b[49m\u001b[38;5;241;43m0\u001b[39;49m\u001b[43m]\u001b[49m\u001b[38;5;241m=\u001b[39m\u001b[38;5;124m'\u001b[39m\u001b[38;5;124mA\u001b[39m\u001b[38;5;124m'\u001b[39m\n\u001b[1;32m      4\u001b[0m \u001b[38;5;28mprint\u001b[39m(s)\n",
      "\u001b[0;31mTypeError\u001b[0m: 'str' object does not support item assignment"
     ]
    }
   ],
   "source": [
    "# we can't change the string object once defined in memory\n",
    "s=\"ankit\"\n",
    "s[0]='A'\n",
    "print(s)"
   ]
  },
  {
   "cell_type": "code",
   "execution_count": 57,
   "id": "43876130",
   "metadata": {},
   "outputs": [
    {
     "data": {
      "text/plain": [
       "'ANKIT'"
      ]
     },
     "execution_count": 57,
     "metadata": {},
     "output_type": "execute_result"
    }
   ],
   "source": [
    "\"ankit\".upper()"
   ]
  },
  {
   "cell_type": "code",
   "execution_count": 68,
   "id": "c035333e",
   "metadata": {},
   "outputs": [
    {
     "data": {
      "text/plain": [
       "'ankit\\\\t'"
      ]
     },
     "execution_count": 68,
     "metadata": {},
     "output_type": "execute_result"
    }
   ],
   "source": [
    "\"Ankit\\T\".casefold()"
   ]
  },
  {
   "cell_type": "code",
   "execution_count": 69,
   "id": "1386b4b7",
   "metadata": {},
   "outputs": [
    {
     "data": {
      "text/plain": [
       "False"
      ]
     },
     "execution_count": 69,
     "metadata": {},
     "output_type": "execute_result"
    }
   ],
   "source": [
    "'Kit' in 'ankit'"
   ]
  },
  {
   "cell_type": "code",
   "execution_count": 70,
   "id": "d090b8a0",
   "metadata": {},
   "outputs": [
    {
     "data": {
      "text/plain": [
       "True"
      ]
     },
     "execution_count": 70,
     "metadata": {},
     "output_type": "execute_result"
    }
   ],
   "source": [
    "'kit' in 'ankit'"
   ]
  },
  {
   "cell_type": "code",
   "execution_count": 71,
   "id": "329bc005",
   "metadata": {},
   "outputs": [],
   "source": [
    "f=open('sample.txt','w')\n",
    "f.write(\"This is a sample file.\\nIt contains multiple lines of text.\\nThis is the third line.\")\n",
    "f.close()"
   ]
  },
  {
   "cell_type": "code",
   "execution_count": 81,
   "id": "fd79cb30",
   "metadata": {},
   "outputs": [],
   "source": [
    "f=open('sample.txt','r')"
   ]
  },
  {
   "cell_type": "code",
   "execution_count": 73,
   "id": "f900fad0",
   "metadata": {},
   "outputs": [
    {
     "data": {
      "text/plain": [
       "'This is a sample file.\\nIt contains multiple lines of text.\\nThis is the third line.'"
      ]
     },
     "execution_count": 73,
     "metadata": {},
     "output_type": "execute_result"
    }
   ],
   "source": [
    "f.read()"
   ]
  },
  {
   "cell_type": "code",
   "execution_count": 76,
   "id": "cc8f8950",
   "metadata": {},
   "outputs": [
    {
     "data": {
      "text/plain": [
       "['This is a sample file.\\n',\n",
       " 'It contains multiple lines of text.\\n',\n",
       " 'This is the third line.']"
      ]
     },
     "execution_count": 76,
     "metadata": {},
     "output_type": "execute_result"
    }
   ],
   "source": [
    "f.readlines()"
   ]
  },
  {
   "cell_type": "code",
   "execution_count": 82,
   "id": "da508dce",
   "metadata": {},
   "outputs": [
    {
     "data": {
      "text/plain": [
       "'This is a sample file.\\n'"
      ]
     },
     "execution_count": 82,
     "metadata": {},
     "output_type": "execute_result"
    }
   ],
   "source": [
    "f.readline()"
   ]
  },
  {
   "cell_type": "code",
   "execution_count": 83,
   "id": "613724a8",
   "metadata": {},
   "outputs": [
    {
     "data": {
      "text/plain": [
       "'It contains multiple lines of text.\\n'"
      ]
     },
     "execution_count": 83,
     "metadata": {},
     "output_type": "execute_result"
    }
   ],
   "source": [
    "f.readline()"
   ]
  },
  {
   "cell_type": "code",
   "execution_count": 84,
   "id": "c85cef17",
   "metadata": {},
   "outputs": [
    {
     "data": {
      "text/plain": [
       "'This is the third line.'"
      ]
     },
     "execution_count": 84,
     "metadata": {},
     "output_type": "execute_result"
    }
   ],
   "source": [
    "f.readline()"
   ]
  },
  {
   "cell_type": "code",
   "execution_count": 85,
   "id": "11152e6b",
   "metadata": {},
   "outputs": [
    {
     "data": {
      "text/plain": [
       "''"
      ]
     },
     "execution_count": 85,
     "metadata": {},
     "output_type": "execute_result"
    }
   ],
   "source": [
    "f.readline()"
   ]
  },
  {
   "cell_type": "code",
   "execution_count": 86,
   "id": "fc65e96a",
   "metadata": {},
   "outputs": [],
   "source": [
    "for x in []:\n",
    "    print('This never happens.')"
   ]
  },
  {
   "cell_type": "code",
   "execution_count": 87,
   "id": "6c54bc44",
   "metadata": {},
   "outputs": [
    {
     "data": {
      "text/plain": [
       "6"
      ]
     },
     "execution_count": 87,
     "metadata": {},
     "output_type": "execute_result"
    }
   ],
   "source": [
    "# reduce\n",
    "t=[1,2,3]\n",
    "sum(t)"
   ]
  },
  {
   "cell_type": "code",
   "execution_count": 89,
   "id": "1cceba2d",
   "metadata": {},
   "outputs": [
    {
     "data": {
      "text/plain": [
       "6"
      ]
     },
     "execution_count": 89,
     "metadata": {},
     "output_type": "execute_result"
    }
   ],
   "source": [
    "y=(1,2,3)\n",
    "sum(y)"
   ]
  },
  {
   "cell_type": "code",
   "execution_count": 90,
   "id": "93d79a12",
   "metadata": {},
   "outputs": [
    {
     "data": {
      "text/plain": [
       "6"
      ]
     },
     "execution_count": 90,
     "metadata": {},
     "output_type": "execute_result"
    }
   ],
   "source": [
    "u={1,2,3}\n",
    "sum(u)"
   ]
  },
  {
   "cell_type": "code",
   "execution_count": 93,
   "id": "00aaa543",
   "metadata": {},
   "outputs": [
    {
     "data": {
      "text/plain": [
       "6"
      ]
     },
     "execution_count": 93,
     "metadata": {},
     "output_type": "execute_result"
    }
   ],
   "source": [
    "d={1:9,2:8,3:7}\n",
    "sum(d) # it will sum the keys of the dictionary"
   ]
  },
  {
   "cell_type": "code",
   "execution_count": 94,
   "id": "9e1b779f",
   "metadata": {},
   "outputs": [
    {
     "data": {
      "text/plain": [
       "['Ankit', 'Kiioo', 'Gupta']"
      ]
     },
     "execution_count": 94,
     "metadata": {},
     "output_type": "execute_result"
    }
   ],
   "source": [
    "# map\n",
    "\n",
    "def capitalize(words):\n",
    "    res=[]\n",
    "    for x in words:\n",
    "        res.append(x.capitalize())\n",
    "    return res\n",
    "capitalize(['anKit','kiioo','guPTA'])"
   ]
  },
  {
   "cell_type": "code",
   "execution_count": 95,
   "id": "7ed3f008",
   "metadata": {},
   "outputs": [
    {
     "data": {
      "text/plain": [
       "['ANKIT', 'KIIOO']"
      ]
     },
     "execution_count": 95,
     "metadata": {},
     "output_type": "execute_result"
    }
   ],
   "source": [
    "# reduce\n",
    "\n",
    "def filter_words(words):\n",
    "    res=[]\n",
    "    for x in words:\n",
    "        if x.isupper():\n",
    "            res.append(x)\n",
    "    return res\n",
    "filter_words(['ankit','ANKIT','Kiioo','KIIOO'])"
   ]
  },
  {
   "cell_type": "code",
   "execution_count": 96,
   "id": "582d232b",
   "metadata": {},
   "outputs": [
    {
     "data": {
      "text/plain": [
       "3"
      ]
     },
     "execution_count": 96,
     "metadata": {},
     "output_type": "execute_result"
    }
   ],
   "source": [
    "lst=[1,2,3]\n",
    "lst.pop()"
   ]
  },
  {
   "cell_type": "code",
   "execution_count": 97,
   "id": "be2bb0a7",
   "metadata": {},
   "outputs": [
    {
     "data": {
      "text/plain": [
       "[1, 2]"
      ]
     },
     "execution_count": 97,
     "metadata": {},
     "output_type": "execute_result"
    }
   ],
   "source": [
    "lst"
   ]
  },
  {
   "cell_type": "code",
   "execution_count": 98,
   "id": "a7c074a1",
   "metadata": {},
   "outputs": [
    {
     "data": {
      "text/plain": [
       "2"
      ]
     },
     "execution_count": 98,
     "metadata": {},
     "output_type": "execute_result"
    }
   ],
   "source": [
    "lst=[1,2,3]\n",
    "lst.pop(1)"
   ]
  },
  {
   "cell_type": "code",
   "execution_count": 99,
   "id": "22a9c6e6",
   "metadata": {},
   "outputs": [
    {
     "data": {
      "text/plain": [
       "[1, 3]"
      ]
     },
     "execution_count": 99,
     "metadata": {},
     "output_type": "execute_result"
    }
   ],
   "source": [
    "lst"
   ]
  },
  {
   "cell_type": "code",
   "execution_count": 100,
   "id": "f7ed9489",
   "metadata": {},
   "outputs": [],
   "source": [
    "lst=['ankit','kiioo','summi']\n",
    "lst.remove('kiioo')"
   ]
  },
  {
   "cell_type": "code",
   "execution_count": 101,
   "id": "5a1244c5",
   "metadata": {},
   "outputs": [
    {
     "data": {
      "text/plain": [
       "['ankit', 'summi']"
      ]
     },
     "execution_count": 101,
     "metadata": {},
     "output_type": "execute_result"
    }
   ],
   "source": [
    "lst"
   ]
  },
  {
   "cell_type": "code",
   "execution_count": 103,
   "id": "3401d7be",
   "metadata": {},
   "outputs": [
    {
     "name": "stdout",
     "output_type": "stream",
     "text": [
      "['I', 'like', 'kiioo']\n",
      "I@like@kiioo\n"
     ]
    }
   ],
   "source": [
    "sentence='I like kiioo'\n",
    "x=sentence.split()\n",
    "print(x)\n",
    "y='@'.join(x)\n",
    "print(y)"
   ]
  },
  {
   "cell_type": "code",
   "execution_count": null,
   "id": "a7052cb9",
   "metadata": {},
   "outputs": [
    {
     "data": {
      "text/plain": [
       "True"
      ]
     },
     "execution_count": 104,
     "metadata": {},
     "output_type": "execute_result"
    }
   ],
   "source": [
    "a='banana'\n",
    "b='banana'\n",
    "a is b # a and b are identical and equivalent"
   ]
  },
  {
   "cell_type": "code",
   "execution_count": 107,
   "id": "5f05ede5",
   "metadata": {},
   "outputs": [
    {
     "data": {
      "text/plain": [
       "False"
      ]
     },
     "execution_count": 107,
     "metadata": {},
     "output_type": "execute_result"
    }
   ],
   "source": [
    "a=[1,2,3]\n",
    "b=[1,2,3]\n",
    "a is b # a and  b are equivalent but not identical"
   ]
  },
  {
   "cell_type": "code",
   "execution_count": null,
   "id": "492afbb7",
   "metadata": {},
   "outputs": [
    {
     "data": {
      "text/plain": [
       "True"
      ]
     },
     "execution_count": 106,
     "metadata": {},
     "output_type": "execute_result"
    }
   ],
   "source": [
    "a=[1,2,3]\n",
    "b=a\n",
    "a is b # a and b are identical and equivalent. a and b refer to the same object."
   ]
  },
  {
   "cell_type": "markdown",
   "id": "5cab6e6b",
   "metadata": {},
   "source": [
    "An object with more than one reference has more than one name, so we say that the object is aliased. \n",
    "If the aliased object is mutable, changes made with one alias affect the other."
   ]
  },
  {
   "cell_type": "code",
   "execution_count": 113,
   "id": "5a3c802f",
   "metadata": {},
   "outputs": [],
   "source": [
    "a=[1,2,3]\n",
    "b=a\n",
    "x=a.extend([3,4,5])"
   ]
  },
  {
   "cell_type": "code",
   "execution_count": 114,
   "id": "b4310971",
   "metadata": {},
   "outputs": [
    {
     "data": {
      "text/plain": [
       "[1, 2, 3, 3, 4, 5]"
      ]
     },
     "execution_count": 114,
     "metadata": {},
     "output_type": "execute_result"
    }
   ],
   "source": [
    "b"
   ]
  },
  {
   "cell_type": "code",
   "execution_count": 115,
   "id": "8d111caa",
   "metadata": {},
   "outputs": [
    {
     "data": {
      "text/plain": [
       "[1, 2, 3, 3, 4, 5]"
      ]
     },
     "execution_count": 115,
     "metadata": {},
     "output_type": "execute_result"
    }
   ],
   "source": [
    "a"
   ]
  },
  {
   "cell_type": "code",
   "execution_count": 117,
   "id": "2857cd0a",
   "metadata": {},
   "outputs": [
    {
     "data": {
      "text/plain": [
       "NoneType"
      ]
     },
     "execution_count": 117,
     "metadata": {},
     "output_type": "execute_result"
    }
   ],
   "source": [
    "type(x)"
   ]
  },
  {
   "cell_type": "code",
   "execution_count": null,
   "id": "324633f0",
   "metadata": {},
   "outputs": [],
   "source": [
    "a=[1,2,3]\n",
    "b=a\n",
    "x=a+[3,4,5] # + creates a new list"
   ]
  },
  {
   "cell_type": "code",
   "execution_count": 119,
   "id": "248cab5c",
   "metadata": {},
   "outputs": [
    {
     "data": {
      "text/plain": [
       "[1, 2, 3]"
      ]
     },
     "execution_count": 119,
     "metadata": {},
     "output_type": "execute_result"
    }
   ],
   "source": [
    "a"
   ]
  },
  {
   "cell_type": "code",
   "execution_count": 120,
   "id": "3fd1a22b",
   "metadata": {},
   "outputs": [
    {
     "data": {
      "text/plain": [
       "[1, 2, 3]"
      ]
     },
     "execution_count": 120,
     "metadata": {},
     "output_type": "execute_result"
    }
   ],
   "source": [
    "b"
   ]
  },
  {
   "cell_type": "code",
   "execution_count": 121,
   "id": "168a9083",
   "metadata": {},
   "outputs": [
    {
     "data": {
      "text/plain": [
       "[1, 2, 3, 3, 4, 5]"
      ]
     },
     "execution_count": 121,
     "metadata": {},
     "output_type": "execute_result"
    }
   ],
   "source": [
    "x"
   ]
  },
  {
   "cell_type": "markdown",
   "id": "c6e14b20",
   "metadata": {},
   "source": [
    "A dictionary contains a collection of indices, which are called keys, and a collection of values.\n",
    "Each key is associated with a single value. The association of a key and a value is called a key-value pair or sometimes an item."
   ]
  },
  {
   "cell_type": "code",
   "execution_count": 122,
   "id": "b8467866",
   "metadata": {},
   "outputs": [
    {
     "data": {
      "text/plain": [
       "{'ankit': 'kiioo'}"
      ]
     },
     "execution_count": 122,
     "metadata": {},
     "output_type": "execute_result"
    }
   ],
   "source": [
    "d={}\n",
    "d['ankit']='kiioo'\n",
    "d"
   ]
  },
  {
   "cell_type": "code",
   "execution_count": 124,
   "id": "317acaf5",
   "metadata": {},
   "outputs": [],
   "source": [
    "d.update({\n",
    "    'gupta':'t'\n",
    "})"
   ]
  },
  {
   "cell_type": "code",
   "execution_count": 125,
   "id": "485998d5",
   "metadata": {},
   "outputs": [
    {
     "data": {
      "text/plain": [
       "{'ankit': 'kiioo', 'gupta': 't'}"
      ]
     },
     "execution_count": 125,
     "metadata": {},
     "output_type": "execute_result"
    }
   ],
   "source": [
    "d"
   ]
  },
  {
   "cell_type": "code",
   "execution_count": 126,
   "id": "5b1a3c85",
   "metadata": {},
   "outputs": [],
   "source": [
    "d.update({'ankit':'summi'})"
   ]
  },
  {
   "cell_type": "code",
   "execution_count": 127,
   "id": "2999bdc7",
   "metadata": {},
   "outputs": [
    {
     "data": {
      "text/plain": [
       "{'ankit': 'summi', 'gupta': 't'}"
      ]
     },
     "execution_count": 127,
     "metadata": {},
     "output_type": "execute_result"
    }
   ],
   "source": [
    "d"
   ]
  },
  {
   "cell_type": "code",
   "execution_count": 128,
   "id": "f91ffa4d",
   "metadata": {},
   "outputs": [
    {
     "data": {
      "text/plain": [
       "(dict_keys(['ankit', 'gupta']),\n",
       " dict_values(['summi', 't']),\n",
       " dict_items([('ankit', 'summi'), ('gupta', 't')]))"
      ]
     },
     "execution_count": 128,
     "metadata": {},
     "output_type": "execute_result"
    }
   ],
   "source": [
    "d.keys(),d.values(),d.items()"
   ]
  },
  {
   "cell_type": "markdown",
   "id": "4c126fa2",
   "metadata": {},
   "source": [
    "The order of the key-value pairs might not be the same. If you type the same example on your computer, you might get a different result. In general, the order of items in a dictionary is unpredictable."
   ]
  },
  {
   "cell_type": "markdown",
   "id": "ba0d9fee",
   "metadata": {},
   "source": [
    "Python dictionaries use a data structure called a hashtable that has a remarkable property:\n",
    "the in operator takes about the same amount of time no matter how many items are in the dictionary."
   ]
  },
  {
   "cell_type": "code",
   "execution_count": null,
   "id": "576e375f",
   "metadata": {},
   "outputs": [
    {
     "data": {
      "text/plain": [
       "['ankit', 'gupta']"
      ]
     },
     "execution_count": 132,
     "metadata": {},
     "output_type": "execute_result"
    }
   ],
   "source": [
    "sorted(d) # sort the keys"
   ]
  },
  {
   "cell_type": "code",
   "execution_count": 145,
   "id": "e840a602",
   "metadata": {},
   "outputs": [
    {
     "name": "stdout",
     "output_type": "stream",
     "text": [
      "ankit\n",
      "gupta\n"
     ]
    }
   ],
   "source": [
    "for x in d:\n",
    "    try:\n",
    "        print(x)\n",
    "    except:\n",
    "        LookupError('value is not in dictionary')"
   ]
  },
  {
   "cell_type": "markdown",
   "id": "cdec1911",
   "metadata": {},
   "source": [
    "Lists can be values in a dictionary, as this example shows, but they cannot be keys.\n",
    "\n",
    "The system works fine if the keys are immutable. But if the keys are mutable, like lists, bad things happen because a=[1,2,3] and b=[1,2,3] are different objects and stored in different locations."
   ]
  },
  {
   "cell_type": "code",
   "execution_count": 150,
   "id": "1bd12a22",
   "metadata": {},
   "outputs": [
    {
     "name": "stdout",
     "output_type": "stream",
     "text": [
      "False\n"
     ]
    }
   ],
   "source": [
    "x=True\n",
    "def local_function():\n",
    "    global x \n",
    "    x=False # local function is changing the value of global variable\n",
    "local_function()\n",
    "print(x)    "
   ]
  },
  {
   "cell_type": "code",
   "execution_count": 153,
   "id": "c15d34b9",
   "metadata": {},
   "outputs": [
    {
     "name": "stdout",
     "output_type": "stream",
     "text": [
      "[1, 2, 3]\n"
     ]
    }
   ],
   "source": [
    "lst=[1,2]\n",
    "def local_function():\n",
    "    lst.append(3)\n",
    "local_function()\n",
    "print(lst)"
   ]
  },
  {
   "cell_type": "code",
   "execution_count": 154,
   "id": "58e0df3b",
   "metadata": {},
   "outputs": [
    {
     "name": "stdout",
     "output_type": "stream",
     "text": [
      "[1, 2]\n"
     ]
    }
   ],
   "source": [
    "lst=[1,2]\n",
    "def local_function():\n",
    "    lst=[1]\n",
    "local_function()\n",
    "print(lst)"
   ]
  },
  {
   "cell_type": "code",
   "execution_count": 155,
   "id": "15bb2848",
   "metadata": {},
   "outputs": [
    {
     "name": "stdout",
     "output_type": "stream",
     "text": [
      "[1]\n"
     ]
    }
   ],
   "source": [
    "lst=[1,2]\n",
    "def local_function():\n",
    "    global lst\n",
    "    lst=[1]\n",
    "local_function()\n",
    "print(lst)"
   ]
  },
  {
   "cell_type": "markdown",
   "id": "1baade80",
   "metadata": {},
   "source": [
    "If a global variable refers to a mutable value, you can modify the value without declaring the variable.\n",
    "So you can add, remove and replace elements of a global list or dictionary, but if you want to reassign the variable, you have to declare it"
   ]
  },
  {
   "cell_type": "code",
   "execution_count": 156,
   "id": "6f894b25",
   "metadata": {},
   "outputs": [
    {
     "name": "stdout",
     "output_type": "stream",
     "text": [
      "<class 'str'> <class 'tuple'>\n"
     ]
    }
   ],
   "source": [
    "# tuples are immutable\n",
    "st=('a') # string\n",
    "t=('a',) # too-ple\n",
    "print(type(st),type(t))"
   ]
  },
  {
   "cell_type": "code",
   "execution_count": 158,
   "id": "f3bad845",
   "metadata": {},
   "outputs": [
    {
     "data": {
      "text/plain": [
       "(5, 2)"
      ]
     },
     "execution_count": 158,
     "metadata": {},
     "output_type": "execute_result"
    }
   ],
   "source": [
    "divmod(27,5) # function returing moe than one value in the form of tuple"
   ]
  },
  {
   "cell_type": "markdown",
   "id": "1ed07e0a",
   "metadata": {},
   "source": [
    "Functions can take a variable number of arguments. A parameter name that begins with \"*\" gathers arguments into a tuple."
   ]
  },
  {
   "cell_type": "code",
   "execution_count": null,
   "id": "3283ea3c",
   "metadata": {},
   "outputs": [
    {
     "name": "stdout",
     "output_type": "stream",
     "text": [
      "(1, 3, 5)\n"
     ]
    }
   ],
   "source": [
    "def func(*args): # *args can also work as gatherer.\n",
    "    print(args)\n",
    "func(1,3,5)"
   ]
  },
  {
   "cell_type": "code",
   "execution_count": 163,
   "id": "746cefdf",
   "metadata": {},
   "outputs": [
    {
     "name": "stdout",
     "output_type": "stream",
     "text": [
      "(1, 3)\n"
     ]
    }
   ],
   "source": [
    "func(1,3)"
   ]
  },
  {
   "cell_type": "code",
   "execution_count": null,
   "id": "228b6f7a",
   "metadata": {},
   "outputs": [
    {
     "name": "stdout",
     "output_type": "stream",
     "text": [
      "((1, 3, 5), (6, 8))\n"
     ]
    }
   ],
   "source": [
    "def func(*args): # *args is working as gatherer.\n",
    "    print(args)\n",
    "func((1,3,5),(6,8))"
   ]
  },
  {
   "cell_type": "code",
   "execution_count": 164,
   "id": "ea3d0cc4",
   "metadata": {},
   "outputs": [
    {
     "ename": "TypeError",
     "evalue": "divmod expected 2 arguments, got 1",
     "output_type": "error",
     "traceback": [
      "\u001b[0;31m---------------------------------------------------------------------------\u001b[0m",
      "\u001b[0;31mTypeError\u001b[0m                                 Traceback (most recent call last)",
      "Cell \u001b[0;32mIn[164], line 2\u001b[0m\n\u001b[1;32m      1\u001b[0m t\u001b[38;5;241m=\u001b[39m(\u001b[38;5;241m27\u001b[39m,\u001b[38;5;241m7\u001b[39m)\n\u001b[0;32m----> 2\u001b[0m \u001b[38;5;28;43mdivmod\u001b[39;49m\u001b[43m(\u001b[49m\u001b[43mt\u001b[49m\u001b[43m)\u001b[49m\n",
      "\u001b[0;31mTypeError\u001b[0m: divmod expected 2 arguments, got 1"
     ]
    }
   ],
   "source": [
    "t=(27,7)\n",
    "divmod(t)"
   ]
  },
  {
   "cell_type": "code",
   "execution_count": 166,
   "id": "4e3e81b4",
   "metadata": {},
   "outputs": [
    {
     "data": {
      "text/plain": [
       "(3, 6)"
      ]
     },
     "execution_count": 166,
     "metadata": {},
     "output_type": "execute_result"
    }
   ],
   "source": [
    "t=(27,7)\n",
    "divmod(*t) # *t is scattering the tuple"
   ]
  },
  {
   "cell_type": "markdown",
   "id": "bc4ee043",
   "metadata": {},
   "source": [
    "zip is a built-in function that takes two or more sequences and interleaves them. The name of the function refers to a zipper, which interleaves two rows of teeth."
   ]
  },
  {
   "cell_type": "code",
   "execution_count": 175,
   "id": "0b263a7d",
   "metadata": {},
   "outputs": [
    {
     "name": "stdout",
     "output_type": "stream",
     "text": [
      "1 9\n",
      "2 8\n",
      "7 7\n"
     ]
    }
   ],
   "source": [
    "for x,y in zip(sorted([1,2,7]),reversed((7,8,9))):\n",
    "    print(x,y)"
   ]
  },
  {
   "cell_type": "code",
   "execution_count": 177,
   "id": "bba8a515",
   "metadata": {},
   "outputs": [
    {
     "name": "stdout",
     "output_type": "stream",
     "text": [
      "(1, 9)\n",
      "(2, 8)\n",
      "(7, 7)\n"
     ]
    }
   ],
   "source": [
    "for pair in zip(sorted([1,2,7]),reversed((7,8,9))):\n",
    "    print(pair)"
   ]
  },
  {
   "cell_type": "code",
   "execution_count": 176,
   "id": "d6f18219",
   "metadata": {},
   "outputs": [
    {
     "name": "stdout",
     "output_type": "stream",
     "text": [
      "('a', 0)\n",
      "('b', 1)\n",
      "('c', 2)\n"
     ]
    }
   ],
   "source": [
    "s = 'abc'\n",
    "t = [0, 1, 2]\n",
    "for pair in zip(s, t):\n",
    "    print(pair)"
   ]
  },
  {
   "cell_type": "markdown",
   "id": "27a86b75",
   "metadata": {},
   "source": [
    "A zip object is a kind of iterator, which is any object that iterates through a sequence. \n",
    "Iterators are similar to lists in some ways, but unlike lists, you can’t use an index to select an element from an iterator."
   ]
  },
  {
   "cell_type": "code",
   "execution_count": 185,
   "id": "de97792f",
   "metadata": {},
   "outputs": [
    {
     "data": {
      "text/plain": [
       "'a'"
      ]
     },
     "execution_count": 185,
     "metadata": {},
     "output_type": "execute_result"
    }
   ],
   "source": [
    "iter('abc').__next__()"
   ]
  },
  {
   "cell_type": "code",
   "execution_count": 186,
   "id": "e01fd753",
   "metadata": {},
   "outputs": [
    {
     "name": "stdout",
     "output_type": "stream",
     "text": [
      "0 a\n",
      "1 b\n",
      "2 c\n"
     ]
    }
   ],
   "source": [
    "for index,value in enumerate('abc'):\n",
    "    print(index,value)"
   ]
  },
  {
   "cell_type": "code",
   "execution_count": 187,
   "id": "f950766d",
   "metadata": {},
   "outputs": [
    {
     "data": {
      "text/plain": [
       "{'a': 0, 'b': 1, 'c': 2}"
      ]
     },
     "execution_count": 187,
     "metadata": {},
     "output_type": "execute_result"
    }
   ],
   "source": [
    "dict(zip('abc',range(3)))"
   ]
  },
  {
   "cell_type": "markdown",
   "id": "9437dfa4",
   "metadata": {},
   "source": [
    "Pseudorandom numbers are not truly random because they are generated by a deterministic computation, but just by looking at the numbers it is all but impossible to distinguish them from random."
   ]
  },
  {
   "cell_type": "markdown",
   "id": "c5584545",
   "metadata": {},
   "source": [
    "The random module provides functions that generate pseudorandom numbers (which I will simply call “random” from here on). The function random returns a random float between 0.0 and 1.0 (including 0.0 but not 1.0)."
   ]
  },
  {
   "cell_type": "code",
   "execution_count": 188,
   "id": "d36ad609",
   "metadata": {},
   "outputs": [
    {
     "data": {
      "text/plain": [
       "0.07038231112825843"
      ]
     },
     "execution_count": 188,
     "metadata": {},
     "output_type": "execute_result"
    }
   ],
   "source": [
    "import random\n",
    "random.random() # it will give random float number between 0.0 to 1."
   ]
  },
  {
   "cell_type": "markdown",
   "id": "2a20f1ee",
   "metadata": {},
   "source": [
    "The function randint takes parameters low and high and returns an integer between low and high (including both)."
   ]
  },
  {
   "cell_type": "code",
   "execution_count": 190,
   "id": "9722073a",
   "metadata": {},
   "outputs": [
    {
     "data": {
      "text/plain": [
       "8"
      ]
     },
     "execution_count": 190,
     "metadata": {},
     "output_type": "execute_result"
    }
   ],
   "source": [
    "random.randint(1,10) # it will give random integer number between 1 to 10 (both inclusive)"
   ]
  },
  {
   "cell_type": "code",
   "execution_count": 196,
   "id": "0be52bae",
   "metadata": {},
   "outputs": [
    {
     "name": "stdout",
     "output_type": "stream",
     "text": [
      "[3, 1, 2]\n"
     ]
    }
   ],
   "source": [
    "lst=[1,2,3]\n",
    "x=random.shuffle(lst) # it will shuffle the list randomly\n",
    "print(lst)"
   ]
  },
  {
   "cell_type": "code",
   "execution_count": 197,
   "id": "c1b9728b",
   "metadata": {},
   "outputs": [
    {
     "data": {
      "text/plain": [
       "3"
      ]
     },
     "execution_count": 197,
     "metadata": {},
     "output_type": "execute_result"
    }
   ],
   "source": [
    "lst=[1,2,3]\n",
    "random.choice(lst)"
   ]
  },
  {
   "cell_type": "code",
   "execution_count": 201,
   "id": "561d5145",
   "metadata": {},
   "outputs": [
    {
     "data": {
      "text/plain": [
       "2.291758854236265"
      ]
     },
     "execution_count": 201,
     "metadata": {},
     "output_type": "execute_result"
    }
   ],
   "source": [
    "random.gauss(0,1) # it will give random float number based on normal distribution with mean 0 and standard deviation 1"
   ]
  },
  {
   "cell_type": "code",
   "execution_count": 202,
   "id": "45e43239",
   "metadata": {},
   "outputs": [
    {
     "data": {
      "text/plain": [
       "-0.35333772038946576"
      ]
     },
     "execution_count": 202,
     "metadata": {},
     "output_type": "execute_result"
    }
   ],
   "source": [
    "random.normalvariate(0,1) # it will give random float number based on normal distribution with mean 0 and standard deviation 1"
   ]
  },
  {
   "cell_type": "code",
   "execution_count": 203,
   "id": "7f4be855",
   "metadata": {},
   "outputs": [
    {
     "data": {
      "text/plain": [
       "0.6500581088913472"
      ]
     },
     "execution_count": 203,
     "metadata": {},
     "output_type": "execute_result"
    }
   ],
   "source": [
    "random.uniform(0,1) # it will give random float number between 0.0 to 1.0 (both inclusive)"
   ]
  },
  {
   "cell_type": "code",
   "execution_count": 208,
   "id": "fb2ee625",
   "metadata": {},
   "outputs": [
    {
     "data": {
      "text/plain": [
       "19"
      ]
     },
     "execution_count": 208,
     "metadata": {},
     "output_type": "execute_result"
    }
   ],
   "source": [
    "f=open('sample.txt','w')\n",
    "f.write(str(random.uniform(0,1)))"
   ]
  },
  {
   "cell_type": "code",
   "execution_count": 211,
   "id": "a455c182",
   "metadata": {},
   "outputs": [
    {
     "data": {
      "text/plain": [
       "6"
      ]
     },
     "execution_count": 211,
     "metadata": {},
     "output_type": "execute_result"
    }
   ],
   "source": [
    "f=open('sample.txt','a') # 'a' mode will append the content at the end of the file\n",
    "f.write(str(111.11))"
   ]
  },
  {
   "cell_type": "code",
   "execution_count": null,
   "id": "d87333c9",
   "metadata": {},
   "outputs": [
    {
     "data": {
      "text/plain": [
       "6"
      ]
     },
     "execution_count": 210,
     "metadata": {},
     "output_type": "execute_result"
    }
   ],
   "source": [
    "f=open('sample.txt','w+') # 'w+' mode will overwrite the existing content\n",
    "f.write(str(111.11))"
   ]
  },
  {
   "cell_type": "code",
   "execution_count": 212,
   "id": "9ec72b10",
   "metadata": {},
   "outputs": [
    {
     "data": {
      "text/plain": [
       "'my name is ankit and my age is 33 with height 5.4'"
      ]
     },
     "execution_count": 212,
     "metadata": {},
     "output_type": "execute_result"
    }
   ],
   "source": [
    "'my name is %s and my age is %d with height %g' % ('ankit',33,5.4)"
   ]
  },
  {
   "cell_type": "code",
   "execution_count": 213,
   "id": "274f1893",
   "metadata": {},
   "outputs": [
    {
     "data": {
      "text/plain": [
       "'/home/ankit/Desktop/ml/InterviewPreparation/AI-ML-DS/1.Python/sample.txt'"
      ]
     },
     "execution_count": 213,
     "metadata": {},
     "output_type": "execute_result"
    }
   ],
   "source": [
    "import os\n",
    "os.path.abspath('sample.txt')"
   ]
  },
  {
   "cell_type": "code",
   "execution_count": 214,
   "id": "d76e4d6f",
   "metadata": {},
   "outputs": [
    {
     "data": {
      "text/plain": [
       "'sample.txt'"
      ]
     },
     "execution_count": 214,
     "metadata": {},
     "output_type": "execute_result"
    }
   ],
   "source": [
    "os.path.relpath('sample.txt')"
   ]
  },
  {
   "cell_type": "code",
   "execution_count": 215,
   "id": "edf0d291",
   "metadata": {},
   "outputs": [
    {
     "data": {
      "text/plain": [
       "'/home/ankit/Desktop/ml/InterviewPreparation/AI-ML-DS/1.Python/sample.txt'"
      ]
     },
     "execution_count": 215,
     "metadata": {},
     "output_type": "execute_result"
    }
   ],
   "source": [
    "os.path.realpath('sample.txt')"
   ]
  },
  {
   "cell_type": "code",
   "execution_count": 218,
   "id": "9d651d6c",
   "metadata": {},
   "outputs": [
    {
     "data": {
      "text/plain": [
       "False"
      ]
     },
     "execution_count": 218,
     "metadata": {},
     "output_type": "execute_result"
    }
   ],
   "source": [
    "os.path.exists('./sample1.txt')"
   ]
  },
  {
   "cell_type": "code",
   "execution_count": 220,
   "id": "00a121d7",
   "metadata": {},
   "outputs": [
    {
     "data": {
      "text/plain": [
       "False"
      ]
     },
     "execution_count": 220,
     "metadata": {},
     "output_type": "execute_result"
    }
   ],
   "source": [
    "os.path.exists('./sample1/ws')"
   ]
  },
  {
   "cell_type": "code",
   "execution_count": 221,
   "id": "c1ada520",
   "metadata": {},
   "outputs": [
    {
     "data": {
      "text/plain": [
       "False"
      ]
     },
     "execution_count": 221,
     "metadata": {},
     "output_type": "execute_result"
    }
   ],
   "source": [
    "os.path.isdir('sample.txt')"
   ]
  },
  {
   "cell_type": "code",
   "execution_count": 223,
   "id": "b43d65d0",
   "metadata": {},
   "outputs": [
    {
     "data": {
      "text/plain": [
       "True"
      ]
     },
     "execution_count": 223,
     "metadata": {},
     "output_type": "execute_result"
    }
   ],
   "source": [
    "os.path.isfile('./sample.txt')"
   ]
  },
  {
   "cell_type": "code",
   "execution_count": 222,
   "id": "c5faa7d3",
   "metadata": {},
   "outputs": [
    {
     "data": {
      "text/plain": [
       "True"
      ]
     },
     "execution_count": 222,
     "metadata": {},
     "output_type": "execute_result"
    }
   ],
   "source": [
    "os.path.exists('.')"
   ]
  },
  {
   "cell_type": "code",
   "execution_count": 224,
   "id": "25c5334f",
   "metadata": {},
   "outputs": [
    {
     "data": {
      "text/plain": [
       "['sample.txt', 'Practice1.ipynb']"
      ]
     },
     "execution_count": 224,
     "metadata": {},
     "output_type": "execute_result"
    }
   ],
   "source": [
    "os.listdir('.')"
   ]
  },
  {
   "cell_type": "code",
   "execution_count": 225,
   "id": "60806d1c",
   "metadata": {},
   "outputs": [
    {
     "data": {
      "text/plain": [
       "['sample.txt', 'Practice1.ipynb']"
      ]
     },
     "execution_count": 225,
     "metadata": {},
     "output_type": "execute_result"
    }
   ],
   "source": [
    "os.listdir(os.getcwd())"
   ]
  },
  {
   "cell_type": "code",
   "execution_count": 229,
   "id": "80842abb",
   "metadata": {},
   "outputs": [
    {
     "data": {
      "text/plain": [
       "'/home/ankit/Desktop/ml/InterviewPreparation/AI-ML-DS/1.Python/sample2.txt'"
      ]
     },
     "execution_count": 229,
     "metadata": {},
     "output_type": "execute_result"
    }
   ],
   "source": [
    "os.path.join(os.getcwd(),'sample2.txt')"
   ]
  },
  {
   "cell_type": "markdown",
   "id": "e220b2b4",
   "metadata": {},
   "source": [
    "The pickle module can help. It translates almost any type of object into a string suitable for storage in a database, and then translates strings back into objects."
   ]
  },
  {
   "cell_type": "code",
   "execution_count": 230,
   "id": "9c1c427c",
   "metadata": {},
   "outputs": [],
   "source": [
    "import pickle\n",
    "t1=pickle.dumps([1,2,3])"
   ]
  },
  {
   "cell_type": "code",
   "execution_count": null,
   "id": "49af016b",
   "metadata": {},
   "outputs": [
    {
     "data": {
      "text/plain": [
       "b'\\x80\\x04\\x95\\x0b\\x00\\x00\\x00\\x00\\x00\\x00\\x00]\\x94(K\\x01K\\x02K\\x03e.'"
      ]
     },
     "execution_count": 231,
     "metadata": {},
     "output_type": "execute_result"
    }
   ],
   "source": [
    "t1"
   ]
  },
  {
   "cell_type": "code",
   "execution_count": 232,
   "id": "1c583b25",
   "metadata": {},
   "outputs": [
    {
     "data": {
      "text/plain": [
       "bytes"
      ]
     },
     "execution_count": 232,
     "metadata": {},
     "output_type": "execute_result"
    }
   ],
   "source": [
    "type(t1)"
   ]
  },
  {
   "cell_type": "code",
   "execution_count": 233,
   "id": "b64b25e8",
   "metadata": {},
   "outputs": [],
   "source": [
    "t2=pickle.loads(t1)"
   ]
  },
  {
   "cell_type": "code",
   "execution_count": 234,
   "id": "cde4f231",
   "metadata": {},
   "outputs": [
    {
     "data": {
      "text/plain": [
       "[1, 2, 3]"
      ]
     },
     "execution_count": 234,
     "metadata": {},
     "output_type": "execute_result"
    }
   ],
   "source": [
    "t2"
   ]
  },
  {
   "cell_type": "code",
   "execution_count": null,
   "id": "610b10ce",
   "metadata": {},
   "outputs": [
    {
     "data": {
      "text/plain": [
       "False"
      ]
     },
     "execution_count": 235,
     "metadata": {},
     "output_type": "execute_result"
    }
   ],
   "source": [
    "t1 is t2 # t1 and t2 are equivalent but not identical. \n",
    "# In other words, pickling and then unpickling has the same effect as copying the object."
   ]
  },
  {
   "cell_type": "markdown",
   "id": "2561cf9c",
   "metadata": {},
   "source": [
    "Any program that you can launch from the shell can also be launched from Python using a pipe object, which represents a running program.\n",
    "\n",
    "For example, the Unix command ls -l normally displays the contents of the current directory in long format. You can launch ls with os.popen:"
   ]
  },
  {
   "cell_type": "code",
   "execution_count": 236,
   "id": "a98a503d",
   "metadata": {},
   "outputs": [
    {
     "data": {
      "text/plain": [
       "'total 100\\n-rw-rw-r-- 1 ankit ankit 97739 Aug 25 23:52 Practice1.ipynb\\n-rw-rw-r-- 1 ankit ankit     6 Aug 25 23:36 sample.txt\\n'"
      ]
     },
     "execution_count": 236,
     "metadata": {},
     "output_type": "execute_result"
    }
   ],
   "source": [
    "import os\n",
    "os.popen('ls -l').read()"
   ]
  },
  {
   "cell_type": "markdown",
   "id": "7d62c142",
   "metadata": {},
   "source": [
    "The argument is a string that contains a shell command.The return value is an object that behaves like an open file. \n",
    "You can read the output from the ls process one line at a time with readline or get the whole thing at once with read\n"
   ]
  },
  {
   "cell_type": "code",
   "execution_count": 238,
   "id": "c48ea321",
   "metadata": {},
   "outputs": [
    {
     "data": {
      "text/plain": [
       "['total 104\\n',\n",
       " '-rw-rw-r-- 1 ankit ankit 99052 Aug 25 23:55 Practice1.ipynb\\n',\n",
       " '-rw-rw-r-- 1 ankit ankit     0 Aug 25 23:53 sample2.txt\\n',\n",
       " '-rw-rw-r-- 1 ankit ankit     6 Aug 25 23:36 sample.txt\\n']"
      ]
     },
     "execution_count": 238,
     "metadata": {},
     "output_type": "execute_result"
    }
   ],
   "source": [
    "os.popen('ls -l').readlines()"
   ]
  },
  {
   "cell_type": "code",
   "execution_count": 237,
   "id": "6051bcd6",
   "metadata": {},
   "outputs": [
    {
     "data": {
      "text/plain": [
       "''"
      ]
     },
     "execution_count": 237,
     "metadata": {},
     "output_type": "execute_result"
    }
   ],
   "source": [
    "os.popen('touch sample2.txt').read()"
   ]
  },
  {
   "cell_type": "code",
   "execution_count": 239,
   "id": "0b413fa8",
   "metadata": {},
   "outputs": [
    {
     "data": {
      "text/plain": [
       "''"
      ]
     },
     "execution_count": 239,
     "metadata": {},
     "output_type": "execute_result"
    }
   ],
   "source": [
    "os.popen('rm sample2.txt').read()"
   ]
  },
  {
   "cell_type": "markdown",
   "id": "1d215f10",
   "metadata": {},
   "source": [
    "if \\_\\_name__ == '\\_\\_main\\_\\_':\n",
    "\n",
    "\\_\\_name\\_\\_ is a built-in variable that is set when the program starts. \n",
    "\n",
    "If the program is running as a script,  \\_\\_name\\_\\_ has the value  \\_\\_main\\_\\_\n"
   ]
  },
  {
   "cell_type": "markdown",
   "id": "079be8b9",
   "metadata": {},
   "source": [
    "If you import a module that has already been imported, Python does nothing. It does not re-read the file, even if it has changed.\n",
    "\n",
    "If you want to reload a module, you can use the built-in function reload."
   ]
  },
  {
   "cell_type": "code",
   "execution_count": 242,
   "id": "ddc76c19",
   "metadata": {},
   "outputs": [
    {
     "name": "stdout",
     "output_type": "stream",
     "text": [
      "1 2\t 3\n",
      " 4\n",
      "'1 2\\t 3\\n 4'\n"
     ]
    }
   ],
   "source": [
    "s = '1 2\\t 3\\n 4'\n",
    "print(s)\n",
    "print(repr(s))"
   ]
  },
  {
   "cell_type": "markdown",
   "id": "dfbf9128",
   "metadata": {},
   "source": [
    "A programmer-defined type is also called a class. Defining a class named Point creates a class object.\n",
    "Because Point is defined at the top level, its “full name” is  __main__.Point.\n"
   ]
  },
  {
   "cell_type": "code",
   "execution_count": 243,
   "id": "541b117e",
   "metadata": {},
   "outputs": [],
   "source": [
    "class Point:\n",
    "    def __init__(self, x, y):\n",
    "        self.x = x\n",
    "        self.y = y"
   ]
  },
  {
   "cell_type": "code",
   "execution_count": 245,
   "id": "581de73a",
   "metadata": {},
   "outputs": [],
   "source": [
    "point=Point(2,3)"
   ]
  },
  {
   "cell_type": "code",
   "execution_count": 246,
   "id": "a7ecee6d",
   "metadata": {},
   "outputs": [
    {
     "data": {
      "text/plain": [
       "__main__.Point"
      ]
     },
     "execution_count": 246,
     "metadata": {},
     "output_type": "execute_result"
    }
   ],
   "source": [
    "type(point)"
   ]
  },
  {
   "cell_type": "markdown",
   "id": "6c17c386",
   "metadata": {},
   "source": [
    "point=Point()\n",
    "\n",
    "The return value is a reference to a Point object."
   ]
  },
  {
   "cell_type": "markdown",
   "id": "956fdf66",
   "metadata": {},
   "source": [
    "Creating a new object is called instantiation, and the object is an instance of the class.\n",
    "When you print an instance, Python tells you what class it belongs to and where it is stored in memory."
   ]
  },
  {
   "cell_type": "markdown",
   "id": "80e86149",
   "metadata": {},
   "source": [
    "Objects are mutable. You can change the state of an object by making an assignment to one of its attributes."
   ]
  },
  {
   "cell_type": "markdown",
   "id": "1171d25c",
   "metadata": {},
   "source": [
    "The copy module contains a function called copy that can duplicate any object"
   ]
  },
  {
   "cell_type": "code",
   "execution_count": 248,
   "id": "d3f2485b",
   "metadata": {},
   "outputs": [],
   "source": [
    "p1=Point(2,3)\n",
    "import copy\n",
    "p2=copy.copy(p1) # shallow copy\n",
    "p3=copy.deepcopy(p1) # deep copy    "
   ]
  },
  {
   "cell_type": "code",
   "execution_count": 252,
   "id": "b6f318cf",
   "metadata": {},
   "outputs": [
    {
     "data": {
      "text/plain": [
       "<__main__.Point at 0x70f792bd6bc0>"
      ]
     },
     "execution_count": 252,
     "metadata": {},
     "output_type": "execute_result"
    }
   ],
   "source": [
    "p1"
   ]
  },
  {
   "cell_type": "code",
   "execution_count": 251,
   "id": "417da464",
   "metadata": {},
   "outputs": [
    {
     "data": {
      "text/plain": [
       "<__main__.Point at 0x70f7917abbb0>"
      ]
     },
     "execution_count": 251,
     "metadata": {},
     "output_type": "execute_result"
    }
   ],
   "source": [
    "p2"
   ]
  },
  {
   "cell_type": "code",
   "execution_count": 253,
   "id": "7353c486",
   "metadata": {},
   "outputs": [
    {
     "data": {
      "text/plain": [
       "<__main__.Point at 0x70f7917a8370>"
      ]
     },
     "execution_count": 253,
     "metadata": {},
     "output_type": "execute_result"
    }
   ],
   "source": [
    "p3"
   ]
  },
  {
   "cell_type": "markdown",
   "id": "91de0584",
   "metadata": {},
   "source": [
    "p1 and p2 contain the same data, but they are not the same Point."
   ]
  },
  {
   "cell_type": "markdown",
   "id": "9c24ca61",
   "metadata": {},
   "source": [
    "If you use copy.copy to duplicate a Rectangle, you will find that it copies the Rectangle object but not the embedded Point.\n",
    "\n",
    "rect1 ---> Point <--- rect2\n",
    "\n",
    "This operation is called a shallow copy because it copies the object and any references it contains, but not the embedded objects.\n"
   ]
  },
  {
   "cell_type": "markdown",
   "id": "85d3a293",
   "metadata": {},
   "source": [
    " Fortunately, the copy module provides a method named deepcopy that copies not only the object but also the objects it refers to, and the objects they refer to, and so on. You will not be surprised to learn that this operation is called a deep copy.\n"
   ]
  },
  {
   "cell_type": "code",
   "execution_count": 255,
   "id": "45d39577",
   "metadata": {},
   "outputs": [],
   "source": [
    "class Time:\n",
    "    def print_time(time):\n",
    "        print('%.2d:%.2d:%.2d' % (time.hour, time.minute, time.second))"
   ]
  },
  {
   "cell_type": "markdown",
   "id": "33f23cd4",
   "metadata": {},
   "source": [
    "Now there are two ways to call print_time. The first (and less common) way is to use function syntax:\n",
    "\n",
    "start = Time()   \n",
    "Time.print_time(start)\n",
    "\n",
    "B. The second (and more concise) way is to use method syntax:\n",
    "\n",
    "start.print_time()"
   ]
  },
  {
   "cell_type": "code",
   "execution_count": 256,
   "id": "8d77e3ff",
   "metadata": {},
   "outputs": [
    {
     "name": "stdout",
     "output_type": "stream",
     "text": [
      "09:45:00\n"
     ]
    }
   ],
   "source": [
    "start=Time()\n",
    "start.hour=9\n",
    "start.minute=45\n",
    "start.second=0\n",
    "start.print_time()"
   ]
  },
  {
   "cell_type": "markdown",
   "id": "00a67193",
   "metadata": {},
   "source": [
    "By convention, the first parameter of a method is called self, so it would be more common to write print_time like this:"
   ]
  },
  {
   "cell_type": "code",
   "execution_count": 257,
   "id": "4e21659b",
   "metadata": {},
   "outputs": [],
   "source": [
    "class Time:\n",
    "    def print_time(self):\n",
    "        print('%.2d:%.2d:%.2d' % (self.hour, self.minute, self.second))"
   ]
  },
  {
   "cell_type": "code",
   "execution_count": 258,
   "id": "01300b1c",
   "metadata": {},
   "outputs": [
    {
     "name": "stdout",
     "output_type": "stream",
     "text": [
      "09:45:00\n"
     ]
    }
   ],
   "source": [
    "start=Time()\n",
    "start.hour=9\n",
    "start.minute=45\n",
    "start.second=0\n",
    "start.print_time()"
   ]
  },
  {
   "cell_type": "markdown",
   "id": "b1663316",
   "metadata": {},
   "source": [
    "a positional argument is an argument that doesn’t have a parameter name; that is, it is not a keyword argument.\n",
    "\n",
    "sketch(parrot, cage, dead=True)\n",
    "\n",
    "parrot and cage are positional, and dead is a keyword argument."
   ]
  },
  {
   "cell_type": "markdown",
   "id": "1cbc2ecd",
   "metadata": {},
   "source": [
    "The init method (short for “initialization”) is a special method that gets invoked when an object is instantiated. Its full name is  \\_\\_init\\_\\_."
   ]
  },
  {
   "cell_type": "code",
   "execution_count": 259,
   "id": "457400c8",
   "metadata": {},
   "outputs": [],
   "source": [
    "class Time:\n",
    "    def __init__(self, hour=0, minute=0, second=0):\n",
    "        self.hour = hour\n",
    "        self.minute = minute\n",
    "        self.second = second"
   ]
  },
  {
   "cell_type": "code",
   "execution_count": 260,
   "id": "2f620606",
   "metadata": {},
   "outputs": [
    {
     "data": {
      "text/plain": [
       "0"
      ]
     },
     "execution_count": 260,
     "metadata": {},
     "output_type": "execute_result"
    }
   ],
   "source": [
    "start=Time()\n",
    "start.hour"
   ]
  },
  {
   "cell_type": "markdown",
   "id": "7b392b88",
   "metadata": {},
   "source": [
    "\\_\\_str\\_\\_ is a special method, like \\_\\_init\\_\\_, that is supposed to return a string representation of an object."
   ]
  },
  {
   "cell_type": "code",
   "execution_count": 261,
   "id": "9a94da62",
   "metadata": {},
   "outputs": [],
   "source": [
    "class Time:\n",
    "    def __init__(self, hour=0, minute=0, second=0):\n",
    "        self.hour = hour\n",
    "        self.minute = minute\n",
    "        self.second = second\n",
    "    def __str__(self):\n",
    "        print('%.2d:%.2d:%.2d' % (self.hour, self.minute, self.second))\n",
    "    def print_time(self):\n",
    "        print('%.2d:%.2d:%.2d' % (self.hour, self.minute, self.second))"
   ]
  },
  {
   "cell_type": "code",
   "execution_count": 262,
   "id": "b4dc02f7",
   "metadata": {},
   "outputs": [
    {
     "name": "stdout",
     "output_type": "stream",
     "text": [
      "0 0 0\n"
     ]
    }
   ],
   "source": [
    "start=Time()\n",
    "print(start.hour, start.minute, start.second)"
   ]
  },
  {
   "cell_type": "code",
   "execution_count": 263,
   "id": "c169223a",
   "metadata": {},
   "outputs": [
    {
     "name": "stdout",
     "output_type": "stream",
     "text": [
      "00:00:00\n"
     ]
    }
   ],
   "source": [
    "start.print_time()"
   ]
  },
  {
   "cell_type": "code",
   "execution_count": 264,
   "id": "df98e347",
   "metadata": {},
   "outputs": [
    {
     "name": "stdout",
     "output_type": "stream",
     "text": [
      "00:00:00\n"
     ]
    }
   ],
   "source": [
    "start.__str__()"
   ]
  },
  {
   "cell_type": "code",
   "execution_count": 266,
   "id": "802c4e9a",
   "metadata": {},
   "outputs": [],
   "source": [
    "start.__init__()"
   ]
  },
  {
   "cell_type": "markdown",
   "id": "b6103882",
   "metadata": {},
   "source": [
    "Operator Overloading\n",
    "\n",
    "By defining other special methods, you can specify the behavior of operators on programmer-defined types. \n",
    "For example, if you define a method named  \\_\\_add\\_\\_ for the Time class, you can use the + operator on Time objects.\n",
    "\n",
    "**add it in time class**    \n",
    "```python\n",
    "def __add__(self, other):   \n",
    "    seconds = self.time_to_int() + other.time_to_int()   \n",
    "    return int_to_time(seconds)\n",
    "```    \n",
    "When you apply the + operator to Time objects, Python invokes  \\_\\_add\\_\\_.\n",
    "\n",
    "Changing the behavior of an operator so that it works with programmer-defined types is called operator overloading. \n",
    "For every operator in Python there is a corresponding special method, like  \\_\\_add\\_\\_.\n",
    "\n",
    "other example: \\_\\_lt\\_\\_ (less than)\n"
   ]
  },
  {
   "cell_type": "markdown",
   "id": "5b730777",
   "metadata": {},
   "source": [
    "Polymorphism\n",
    "\n",
    "Functions that work with several types are called polymorphic. Polymorphism can facilitate code reuse. \n",
    "For example, the built-in function sum, which adds the elements of a sequence, works as long as the elements of the sequence support addition."
   ]
  },
  {
   "cell_type": "code",
   "execution_count": 267,
   "id": "cad02e37",
   "metadata": {},
   "outputs": [
    {
     "data": {
      "text/plain": [
       "[1, 2, 4, 2, 3, 5]"
      ]
     },
     "execution_count": 267,
     "metadata": {},
     "output_type": "execute_result"
    }
   ],
   "source": [
    "[1,2,4]+[2,3,5]"
   ]
  },
  {
   "cell_type": "code",
   "execution_count": 268,
   "id": "1bfe8b79",
   "metadata": {},
   "outputs": [
    {
     "data": {
      "text/plain": [
       "17"
      ]
     },
     "execution_count": 268,
     "metadata": {},
     "output_type": "execute_result"
    }
   ],
   "source": [
    "sum([1,2,4]+[2,3,5]) "
   ]
  },
  {
   "cell_type": "code",
   "execution_count": 269,
   "id": "46545e0d",
   "metadata": {},
   "outputs": [
    {
     "data": {
      "text/plain": [
       "3"
      ]
     },
     "execution_count": 269,
     "metadata": {},
     "output_type": "execute_result"
    }
   ],
   "source": [
    "sum((1,2))"
   ]
  },
  {
   "cell_type": "markdown",
   "id": "80655a11",
   "metadata": {},
   "source": [
    "Inheritance is the ability to define a new class that is a modified version of an existing class"
   ]
  },
  {
   "cell_type": "markdown",
   "id": "9ddc618e",
   "metadata": {},
   "source": [
    "Variables which are defined inside a class but outside of any method, are called class attributes because they are associated with the class object.   \n",
    "Class_Name.class_attribute_name"
   ]
  },
  {
   "cell_type": "markdown",
   "id": "5caa40de",
   "metadata": {},
   "source": [
    "A class diagram is a more abstract representation of the structure of a program. \n",
    "Instead of showing individual objects, it shows classes and the relationships between them.\n",
    "\n",
    "Objects in one class might contain references to objects in another class. For example, each Rectangle contains a reference to a Point, and \n",
    "each Deck contains references to many Cards. This kind of relationship is called HAS-A, as in, “a Rectangle has a Point.”\n",
    "\n",
    "One class might inherit from another. This relationship is called IS-A, as in, “a Hand is a kind of a Deck.”\n",
    "\n",
    "The arrow with a hollow triangle head represents an IS-A relationship\n",
    "\n",
    "The standard arrow head represents a HAS-A relationship"
   ]
  },
  {
   "cell_type": "markdown",
   "id": "d9112e7b",
   "metadata": {},
   "source": [
    "Generator expressions are similar to list comprehensions, but with parentheses instead of square brackets:"
   ]
  },
  {
   "cell_type": "code",
   "execution_count": 270,
   "id": "54e31815",
   "metadata": {},
   "outputs": [
    {
     "data": {
      "text/plain": [
       "0"
      ]
     },
     "execution_count": 270,
     "metadata": {},
     "output_type": "execute_result"
    }
   ],
   "source": [
    "g = (x**2 for x in range(5))\n",
    "g.__next__()"
   ]
  },
  {
   "cell_type": "markdown",
   "id": "298b1c52",
   "metadata": {},
   "source": [
    "The result is a generator object that knows how to iterate through a sequence of values. \n",
    "But unlike a list comprehension, it does not compute the values all at once; it waits to be asked. \n",
    "The built-in function next gets the next value from the generator:"
   ]
  },
  {
   "cell_type": "code",
   "execution_count": 271,
   "id": "5b07c748",
   "metadata": {},
   "outputs": [
    {
     "data": {
      "text/plain": [
       "1"
      ]
     },
     "execution_count": 271,
     "metadata": {},
     "output_type": "execute_result"
    }
   ],
   "source": [
    "g.__next__()"
   ]
  },
  {
   "cell_type": "code",
   "execution_count": 272,
   "id": "5011f9c9",
   "metadata": {},
   "outputs": [
    {
     "data": {
      "text/plain": [
       "4"
      ]
     },
     "execution_count": 272,
     "metadata": {},
     "output_type": "execute_result"
    }
   ],
   "source": [
    "g.__next__()"
   ]
  },
  {
   "cell_type": "code",
   "execution_count": 273,
   "id": "b1f816c9",
   "metadata": {},
   "outputs": [
    {
     "data": {
      "text/plain": [
       "9"
      ]
     },
     "execution_count": 273,
     "metadata": {},
     "output_type": "execute_result"
    }
   ],
   "source": [
    "g.__next__()"
   ]
  },
  {
   "cell_type": "code",
   "execution_count": 274,
   "id": "9dd8a99a",
   "metadata": {},
   "outputs": [
    {
     "data": {
      "text/plain": [
       "16"
      ]
     },
     "execution_count": 274,
     "metadata": {},
     "output_type": "execute_result"
    }
   ],
   "source": [
    "next(g)"
   ]
  },
  {
   "cell_type": "code",
   "execution_count": 275,
   "id": "4dd57623",
   "metadata": {},
   "outputs": [
    {
     "ename": "StopIteration",
     "evalue": "",
     "output_type": "error",
     "traceback": [
      "\u001b[0;31m---------------------------------------------------------------------------\u001b[0m",
      "\u001b[0;31mStopIteration\u001b[0m                             Traceback (most recent call last)",
      "Cell \u001b[0;32mIn[275], line 1\u001b[0m\n\u001b[0;32m----> 1\u001b[0m \u001b[38;5;28;43mnext\u001b[39;49m\u001b[43m(\u001b[49m\u001b[43mg\u001b[49m\u001b[43m)\u001b[49m\n",
      "\u001b[0;31mStopIteration\u001b[0m: "
     ]
    }
   ],
   "source": [
    "next(g)"
   ]
  },
  {
   "cell_type": "markdown",
   "id": "62b44a21",
   "metadata": {},
   "source": [
    "The * operator doesn’t gather keyword arguments. To gather keyword arguments, you can use the ** operator."
   ]
  },
  {
   "cell_type": "code",
   "execution_count": 276,
   "id": "b1fa7063",
   "metadata": {},
   "outputs": [
    {
     "name": "stdout",
     "output_type": "stream",
     "text": [
      "(1, 2, 3) {'a': 4, 'b': 5}\n"
     ]
    }
   ],
   "source": [
    "def printall(*args, **kwargs):\n",
    "    print(args, kwargs)\n",
    "printall(1,2,3,a=4,b=5)"
   ]
  },
  {
   "cell_type": "code",
   "execution_count": null,
   "id": "b496c8b8",
   "metadata": {},
   "outputs": [],
   "source": []
  }
 ],
 "metadata": {
  "kernelspec": {
   "display_name": "Python 3",
   "language": "python",
   "name": "python3"
  },
  "language_info": {
   "codemirror_mode": {
    "name": "ipython",
    "version": 3
   },
   "file_extension": ".py",
   "mimetype": "text/x-python",
   "name": "python",
   "nbconvert_exporter": "python",
   "pygments_lexer": "ipython3",
   "version": "3.10.10"
  }
 },
 "nbformat": 4,
 "nbformat_minor": 5
}
